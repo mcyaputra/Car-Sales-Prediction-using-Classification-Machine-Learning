{
  "cells": [
    {
      "cell_type": "markdown",
      "source": [
        "# **Machine Learning Algorithms and Application**\n",
        "# **AT2 Part D**\n",
        "### **DecisionTree**\n",
        "\n",
        "1. Load dataset\n",
        "2. Exploring dataset\n",
        "3. Data Cleaning\n",
        "4. Preparing Dataset\n",
        "5. Assessing Baseline\n",
        "6. Training DecisionTree with min_samples_split\n",
        "7. Training DecisionTree with min_samples_split and max_depth\n",
        "8. DecisionTree with automated hyperparameter tuning (RandomSearch)"
      ],
      "metadata": {
        "id": "bdj6sSXYQs6t"
      }
    },
    {
      "cell_type": "markdown",
      "metadata": {
        "id": "2A7M20qZM8U2"
      },
      "source": [
        "## **1. Load dataset**"
      ]
    },
    {
      "cell_type": "markdown",
      "metadata": {
        "id": "DhqA0m4lPZvA"
      },
      "source": [
        "**1.1 Importing pandas and numpy packages**"
      ]
    },
    {
      "cell_type": "code",
      "execution_count": null,
      "metadata": {
        "id": "yvDXaQM7GSpe"
      },
      "outputs": [],
      "source": [
        "import pandas as pd\n",
        "import numpy as np"
      ]
    },
    {
      "cell_type": "markdown",
      "source": [
        "**1.2 Reading csv file**"
      ],
      "metadata": {
        "id": "eORfKXHRdmIj"
      }
    },
    {
      "cell_type": "code",
      "execution_count": null,
      "metadata": {
        "id": "afh6wkA1Gg8t"
      },
      "outputs": [],
      "source": [
        "df = pd.read_csv('https://raw.githubusercontent.com/mcyaputra/Files/main/repurchase_training.csv')"
      ]
    },
    {
      "cell_type": "markdown",
      "metadata": {
        "id": "QqT323ndNIX_"
      },
      "source": [
        "## **2. Exploring dataset**"
      ]
    },
    {
      "cell_type": "markdown",
      "source": [
        "**2.1 First 10 rows of the dataset**"
      ],
      "metadata": {
        "id": "vH25glDjdqsu"
      }
    },
    {
      "cell_type": "code",
      "execution_count": null,
      "metadata": {
        "id": "lSXURbbbIW5e",
        "colab": {
          "base_uri": "https://localhost:8080/",
          "height": 427
        },
        "outputId": "2b2fe44d-c649-4144-abba-bd932f8a8a99"
      },
      "outputs": [
        {
          "output_type": "execute_result",
          "data": {
            "text/plain": [
              "   ID  Target     age_band  gender car_model   car_segment  \\\n",
              "0   1       0  3. 35 to 44    Male   model_1           LCV   \n",
              "1   2       0          NaN     NaN   model_2  Small/Medium   \n",
              "2   3       0          NaN    Male   model_3     Large/SUV   \n",
              "3   5       0          NaN     NaN   model_3     Large/SUV   \n",
              "4   6       0          NaN  Female   model_2  Small/Medium   \n",
              "5   7       0          NaN    Male   model_5     Large/SUV   \n",
              "6   8       0       1. <25    Male   model_3     Large/SUV   \n",
              "7   9       0          NaN    Male   model_6  Small/Medium   \n",
              "8  10       0          NaN     NaN   model_4  Small/Medium   \n",
              "9  11       0          NaN     NaN   model_4  Small/Medium   \n",
              "\n",
              "   age_of_vehicle_years  sched_serv_warr  non_sched_serv_warr  \\\n",
              "0                     9                2                   10   \n",
              "1                     6               10                    3   \n",
              "2                     9               10                    9   \n",
              "3                     5                8                    5   \n",
              "4                     8                9                    4   \n",
              "5                     7                4                   10   \n",
              "6                     8                2                    8   \n",
              "7                     7                4                    9   \n",
              "8                     1                2                    1   \n",
              "9                     3                1                    1   \n",
              "\n",
              "   sched_serv_paid  non_sched_serv_paid  total_paid_services  total_services  \\\n",
              "0                3                    7                    5               6   \n",
              "1               10                    4                    9              10   \n",
              "2               10                    9                   10              10   \n",
              "3                8                    4                    5               6   \n",
              "4               10                    7                    9               8   \n",
              "5                5                    7                    6               8   \n",
              "6                2                    9                    9               4   \n",
              "7                6                    9                    8               6   \n",
              "8                1                    3                    1               2   \n",
              "9                2                    1                    2               1   \n",
              "\n",
              "   mth_since_last_serv  annualised_mileage  num_dealers_visited  \\\n",
              "0                    9                   8                   10   \n",
              "1                    6                  10                    7   \n",
              "2                    7                  10                    6   \n",
              "3                    4                  10                    9   \n",
              "4                    5                   4                    4   \n",
              "5                    8                   5                   10   \n",
              "6                    7                   6                   10   \n",
              "7                    9                   5                    5   \n",
              "8                    1                   1                    2   \n",
              "9                    1                   1                    1   \n",
              "\n",
              "   num_serv_dealer_purchased  \n",
              "0                          4  \n",
              "1                         10  \n",
              "2                         10  \n",
              "3                          7  \n",
              "4                          9  \n",
              "5                          4  \n",
              "6                          4  \n",
              "7                          8  \n",
              "8                          3  \n",
              "9                          1  "
            ],
            "text/html": [
              "\n",
              "  <div id=\"df-a45d5c1f-49e3-45cc-81d1-5173674c17c4\">\n",
              "    <div class=\"colab-df-container\">\n",
              "      <div>\n",
              "<style scoped>\n",
              "    .dataframe tbody tr th:only-of-type {\n",
              "        vertical-align: middle;\n",
              "    }\n",
              "\n",
              "    .dataframe tbody tr th {\n",
              "        vertical-align: top;\n",
              "    }\n",
              "\n",
              "    .dataframe thead th {\n",
              "        text-align: right;\n",
              "    }\n",
              "</style>\n",
              "<table border=\"1\" class=\"dataframe\">\n",
              "  <thead>\n",
              "    <tr style=\"text-align: right;\">\n",
              "      <th></th>\n",
              "      <th>ID</th>\n",
              "      <th>Target</th>\n",
              "      <th>age_band</th>\n",
              "      <th>gender</th>\n",
              "      <th>car_model</th>\n",
              "      <th>car_segment</th>\n",
              "      <th>age_of_vehicle_years</th>\n",
              "      <th>sched_serv_warr</th>\n",
              "      <th>non_sched_serv_warr</th>\n",
              "      <th>sched_serv_paid</th>\n",
              "      <th>non_sched_serv_paid</th>\n",
              "      <th>total_paid_services</th>\n",
              "      <th>total_services</th>\n",
              "      <th>mth_since_last_serv</th>\n",
              "      <th>annualised_mileage</th>\n",
              "      <th>num_dealers_visited</th>\n",
              "      <th>num_serv_dealer_purchased</th>\n",
              "    </tr>\n",
              "  </thead>\n",
              "  <tbody>\n",
              "    <tr>\n",
              "      <th>0</th>\n",
              "      <td>1</td>\n",
              "      <td>0</td>\n",
              "      <td>3. 35 to 44</td>\n",
              "      <td>Male</td>\n",
              "      <td>model_1</td>\n",
              "      <td>LCV</td>\n",
              "      <td>9</td>\n",
              "      <td>2</td>\n",
              "      <td>10</td>\n",
              "      <td>3</td>\n",
              "      <td>7</td>\n",
              "      <td>5</td>\n",
              "      <td>6</td>\n",
              "      <td>9</td>\n",
              "      <td>8</td>\n",
              "      <td>10</td>\n",
              "      <td>4</td>\n",
              "    </tr>\n",
              "    <tr>\n",
              "      <th>1</th>\n",
              "      <td>2</td>\n",
              "      <td>0</td>\n",
              "      <td>NaN</td>\n",
              "      <td>NaN</td>\n",
              "      <td>model_2</td>\n",
              "      <td>Small/Medium</td>\n",
              "      <td>6</td>\n",
              "      <td>10</td>\n",
              "      <td>3</td>\n",
              "      <td>10</td>\n",
              "      <td>4</td>\n",
              "      <td>9</td>\n",
              "      <td>10</td>\n",
              "      <td>6</td>\n",
              "      <td>10</td>\n",
              "      <td>7</td>\n",
              "      <td>10</td>\n",
              "    </tr>\n",
              "    <tr>\n",
              "      <th>2</th>\n",
              "      <td>3</td>\n",
              "      <td>0</td>\n",
              "      <td>NaN</td>\n",
              "      <td>Male</td>\n",
              "      <td>model_3</td>\n",
              "      <td>Large/SUV</td>\n",
              "      <td>9</td>\n",
              "      <td>10</td>\n",
              "      <td>9</td>\n",
              "      <td>10</td>\n",
              "      <td>9</td>\n",
              "      <td>10</td>\n",
              "      <td>10</td>\n",
              "      <td>7</td>\n",
              "      <td>10</td>\n",
              "      <td>6</td>\n",
              "      <td>10</td>\n",
              "    </tr>\n",
              "    <tr>\n",
              "      <th>3</th>\n",
              "      <td>5</td>\n",
              "      <td>0</td>\n",
              "      <td>NaN</td>\n",
              "      <td>NaN</td>\n",
              "      <td>model_3</td>\n",
              "      <td>Large/SUV</td>\n",
              "      <td>5</td>\n",
              "      <td>8</td>\n",
              "      <td>5</td>\n",
              "      <td>8</td>\n",
              "      <td>4</td>\n",
              "      <td>5</td>\n",
              "      <td>6</td>\n",
              "      <td>4</td>\n",
              "      <td>10</td>\n",
              "      <td>9</td>\n",
              "      <td>7</td>\n",
              "    </tr>\n",
              "    <tr>\n",
              "      <th>4</th>\n",
              "      <td>6</td>\n",
              "      <td>0</td>\n",
              "      <td>NaN</td>\n",
              "      <td>Female</td>\n",
              "      <td>model_2</td>\n",
              "      <td>Small/Medium</td>\n",
              "      <td>8</td>\n",
              "      <td>9</td>\n",
              "      <td>4</td>\n",
              "      <td>10</td>\n",
              "      <td>7</td>\n",
              "      <td>9</td>\n",
              "      <td>8</td>\n",
              "      <td>5</td>\n",
              "      <td>4</td>\n",
              "      <td>4</td>\n",
              "      <td>9</td>\n",
              "    </tr>\n",
              "    <tr>\n",
              "      <th>5</th>\n",
              "      <td>7</td>\n",
              "      <td>0</td>\n",
              "      <td>NaN</td>\n",
              "      <td>Male</td>\n",
              "      <td>model_5</td>\n",
              "      <td>Large/SUV</td>\n",
              "      <td>7</td>\n",
              "      <td>4</td>\n",
              "      <td>10</td>\n",
              "      <td>5</td>\n",
              "      <td>7</td>\n",
              "      <td>6</td>\n",
              "      <td>8</td>\n",
              "      <td>8</td>\n",
              "      <td>5</td>\n",
              "      <td>10</td>\n",
              "      <td>4</td>\n",
              "    </tr>\n",
              "    <tr>\n",
              "      <th>6</th>\n",
              "      <td>8</td>\n",
              "      <td>0</td>\n",
              "      <td>1. &lt;25</td>\n",
              "      <td>Male</td>\n",
              "      <td>model_3</td>\n",
              "      <td>Large/SUV</td>\n",
              "      <td>8</td>\n",
              "      <td>2</td>\n",
              "      <td>8</td>\n",
              "      <td>2</td>\n",
              "      <td>9</td>\n",
              "      <td>9</td>\n",
              "      <td>4</td>\n",
              "      <td>7</td>\n",
              "      <td>6</td>\n",
              "      <td>10</td>\n",
              "      <td>4</td>\n",
              "    </tr>\n",
              "    <tr>\n",
              "      <th>7</th>\n",
              "      <td>9</td>\n",
              "      <td>0</td>\n",
              "      <td>NaN</td>\n",
              "      <td>Male</td>\n",
              "      <td>model_6</td>\n",
              "      <td>Small/Medium</td>\n",
              "      <td>7</td>\n",
              "      <td>4</td>\n",
              "      <td>9</td>\n",
              "      <td>6</td>\n",
              "      <td>9</td>\n",
              "      <td>8</td>\n",
              "      <td>6</td>\n",
              "      <td>9</td>\n",
              "      <td>5</td>\n",
              "      <td>5</td>\n",
              "      <td>8</td>\n",
              "    </tr>\n",
              "    <tr>\n",
              "      <th>8</th>\n",
              "      <td>10</td>\n",
              "      <td>0</td>\n",
              "      <td>NaN</td>\n",
              "      <td>NaN</td>\n",
              "      <td>model_4</td>\n",
              "      <td>Small/Medium</td>\n",
              "      <td>1</td>\n",
              "      <td>2</td>\n",
              "      <td>1</td>\n",
              "      <td>1</td>\n",
              "      <td>3</td>\n",
              "      <td>1</td>\n",
              "      <td>2</td>\n",
              "      <td>1</td>\n",
              "      <td>1</td>\n",
              "      <td>2</td>\n",
              "      <td>3</td>\n",
              "    </tr>\n",
              "    <tr>\n",
              "      <th>9</th>\n",
              "      <td>11</td>\n",
              "      <td>0</td>\n",
              "      <td>NaN</td>\n",
              "      <td>NaN</td>\n",
              "      <td>model_4</td>\n",
              "      <td>Small/Medium</td>\n",
              "      <td>3</td>\n",
              "      <td>1</td>\n",
              "      <td>1</td>\n",
              "      <td>2</td>\n",
              "      <td>1</td>\n",
              "      <td>2</td>\n",
              "      <td>1</td>\n",
              "      <td>1</td>\n",
              "      <td>1</td>\n",
              "      <td>1</td>\n",
              "      <td>1</td>\n",
              "    </tr>\n",
              "  </tbody>\n",
              "</table>\n",
              "</div>\n",
              "      <button class=\"colab-df-convert\" onclick=\"convertToInteractive('df-a45d5c1f-49e3-45cc-81d1-5173674c17c4')\"\n",
              "              title=\"Convert this dataframe to an interactive table.\"\n",
              "              style=\"display:none;\">\n",
              "        \n",
              "  <svg xmlns=\"http://www.w3.org/2000/svg\" height=\"24px\"viewBox=\"0 0 24 24\"\n",
              "       width=\"24px\">\n",
              "    <path d=\"M0 0h24v24H0V0z\" fill=\"none\"/>\n",
              "    <path d=\"M18.56 5.44l.94 2.06.94-2.06 2.06-.94-2.06-.94-.94-2.06-.94 2.06-2.06.94zm-11 1L8.5 8.5l.94-2.06 2.06-.94-2.06-.94L8.5 2.5l-.94 2.06-2.06.94zm10 10l.94 2.06.94-2.06 2.06-.94-2.06-.94-.94-2.06-.94 2.06-2.06.94z\"/><path d=\"M17.41 7.96l-1.37-1.37c-.4-.4-.92-.59-1.43-.59-.52 0-1.04.2-1.43.59L10.3 9.45l-7.72 7.72c-.78.78-.78 2.05 0 2.83L4 21.41c.39.39.9.59 1.41.59.51 0 1.02-.2 1.41-.59l7.78-7.78 2.81-2.81c.8-.78.8-2.07 0-2.86zM5.41 20L4 18.59l7.72-7.72 1.47 1.35L5.41 20z\"/>\n",
              "  </svg>\n",
              "      </button>\n",
              "      \n",
              "  <style>\n",
              "    .colab-df-container {\n",
              "      display:flex;\n",
              "      flex-wrap:wrap;\n",
              "      gap: 12px;\n",
              "    }\n",
              "\n",
              "    .colab-df-convert {\n",
              "      background-color: #E8F0FE;\n",
              "      border: none;\n",
              "      border-radius: 50%;\n",
              "      cursor: pointer;\n",
              "      display: none;\n",
              "      fill: #1967D2;\n",
              "      height: 32px;\n",
              "      padding: 0 0 0 0;\n",
              "      width: 32px;\n",
              "    }\n",
              "\n",
              "    .colab-df-convert:hover {\n",
              "      background-color: #E2EBFA;\n",
              "      box-shadow: 0px 1px 2px rgba(60, 64, 67, 0.3), 0px 1px 3px 1px rgba(60, 64, 67, 0.15);\n",
              "      fill: #174EA6;\n",
              "    }\n",
              "\n",
              "    [theme=dark] .colab-df-convert {\n",
              "      background-color: #3B4455;\n",
              "      fill: #D2E3FC;\n",
              "    }\n",
              "\n",
              "    [theme=dark] .colab-df-convert:hover {\n",
              "      background-color: #434B5C;\n",
              "      box-shadow: 0px 1px 3px 1px rgba(0, 0, 0, 0.15);\n",
              "      filter: drop-shadow(0px 1px 2px rgba(0, 0, 0, 0.3));\n",
              "      fill: #FFFFFF;\n",
              "    }\n",
              "  </style>\n",
              "\n",
              "      <script>\n",
              "        const buttonEl =\n",
              "          document.querySelector('#df-a45d5c1f-49e3-45cc-81d1-5173674c17c4 button.colab-df-convert');\n",
              "        buttonEl.style.display =\n",
              "          google.colab.kernel.accessAllowed ? 'block' : 'none';\n",
              "\n",
              "        async function convertToInteractive(key) {\n",
              "          const element = document.querySelector('#df-a45d5c1f-49e3-45cc-81d1-5173674c17c4');\n",
              "          const dataTable =\n",
              "            await google.colab.kernel.invokeFunction('convertToInteractive',\n",
              "                                                     [key], {});\n",
              "          if (!dataTable) return;\n",
              "\n",
              "          const docLinkHtml = 'Like what you see? Visit the ' +\n",
              "            '<a target=\"_blank\" href=https://colab.research.google.com/notebooks/data_table.ipynb>data table notebook</a>'\n",
              "            + ' to learn more about interactive tables.';\n",
              "          element.innerHTML = '';\n",
              "          dataTable['output_type'] = 'display_data';\n",
              "          await google.colab.output.renderOutput(dataTable, element);\n",
              "          const docLink = document.createElement('div');\n",
              "          docLink.innerHTML = docLinkHtml;\n",
              "          element.appendChild(docLink);\n",
              "        }\n",
              "      </script>\n",
              "    </div>\n",
              "  </div>\n",
              "  "
            ]
          },
          "metadata": {},
          "execution_count": 9
        }
      ],
      "source": [
        "df.head(10)"
      ]
    },
    {
      "cell_type": "markdown",
      "source": [
        "**2.2 Showing information about dataset**"
      ],
      "metadata": {
        "id": "ggfYCtq7ecD2"
      }
    },
    {
      "cell_type": "code",
      "execution_count": null,
      "metadata": {
        "id": "ZP4nF0C7Ijh4",
        "colab": {
          "base_uri": "https://localhost:8080/"
        },
        "outputId": "6894c781-b78e-4b6b-e539-f2c666974cba"
      },
      "outputs": [
        {
          "output_type": "stream",
          "name": "stdout",
          "text": [
            "<class 'pandas.core.frame.DataFrame'>\n",
            "RangeIndex: 131337 entries, 0 to 131336\n",
            "Data columns (total 17 columns):\n",
            " #   Column                     Non-Null Count   Dtype \n",
            "---  ------                     --------------   ----- \n",
            " 0   ID                         131337 non-null  int64 \n",
            " 1   Target                     131337 non-null  int64 \n",
            " 2   age_band                   18962 non-null   object\n",
            " 3   gender                     62029 non-null   object\n",
            " 4   car_model                  131337 non-null  object\n",
            " 5   car_segment                131337 non-null  object\n",
            " 6   age_of_vehicle_years       131337 non-null  int64 \n",
            " 7   sched_serv_warr            131337 non-null  int64 \n",
            " 8   non_sched_serv_warr        131337 non-null  int64 \n",
            " 9   sched_serv_paid            131337 non-null  int64 \n",
            " 10  non_sched_serv_paid        131337 non-null  int64 \n",
            " 11  total_paid_services        131337 non-null  int64 \n",
            " 12  total_services             131337 non-null  int64 \n",
            " 13  mth_since_last_serv        131337 non-null  int64 \n",
            " 14  annualised_mileage         131337 non-null  int64 \n",
            " 15  num_dealers_visited        131337 non-null  int64 \n",
            " 16  num_serv_dealer_purchased  131337 non-null  int64 \n",
            "dtypes: int64(13), object(4)\n",
            "memory usage: 17.0+ MB\n"
          ]
        }
      ],
      "source": [
        "df.info()"
      ]
    },
    {
      "cell_type": "markdown",
      "source": [
        "Looks like 'age_band' and 'gender' columns have missing values"
      ],
      "metadata": {
        "id": "couhB0TOek3M"
      }
    },
    {
      "cell_type": "markdown",
      "source": [
        "**2.3 Number of rows and columns in the dataset**"
      ],
      "metadata": {
        "id": "HDpFF21UerMD"
      }
    },
    {
      "cell_type": "code",
      "execution_count": null,
      "metadata": {
        "id": "plZvQlyIL8D-",
        "colab": {
          "base_uri": "https://localhost:8080/"
        },
        "outputId": "800cdb29-5d69-473c-bf55-c6ff06992269"
      },
      "outputs": [
        {
          "output_type": "execute_result",
          "data": {
            "text/plain": [
              "(131337, 17)"
            ]
          },
          "metadata": {},
          "execution_count": 11
        }
      ],
      "source": [
        "df.shape"
      ]
    },
    {
      "cell_type": "markdown",
      "source": [
        "**2.4 Statistical information of the dataset**"
      ],
      "metadata": {
        "id": "MPZVc7z_e-sB"
      }
    },
    {
      "cell_type": "code",
      "execution_count": null,
      "metadata": {
        "id": "A_5y5j16MGSt",
        "colab": {
          "base_uri": "https://localhost:8080/",
          "height": 364
        },
        "outputId": "a1e8544e-b648-418a-a21f-a26f21df8749"
      },
      "outputs": [
        {
          "output_type": "execute_result",
          "data": {
            "text/plain": [
              "                  ID         Target  age_of_vehicle_years  sched_serv_warr  \\\n",
              "count  131337.000000  131337.000000         131337.000000    131337.000000   \n",
              "mean    77097.384180       0.026809              5.493022         5.452500   \n",
              "std     44501.636704       0.161525              2.843299         2.884328   \n",
              "min         1.000000       0.000000              1.000000         1.000000   \n",
              "25%     38563.000000       0.000000              3.000000         3.000000   \n",
              "50%     77132.000000       0.000000              5.000000         5.000000   \n",
              "75%    115668.000000       0.000000              8.000000         8.000000   \n",
              "max    154139.000000       1.000000             10.000000        10.000000   \n",
              "\n",
              "       non_sched_serv_warr  sched_serv_paid  non_sched_serv_paid  \\\n",
              "count        131337.000000    131337.000000        131337.000000   \n",
              "mean              5.472517         5.452287             5.497050   \n",
              "std               2.870665         2.886528             2.878699   \n",
              "min               1.000000         1.000000             1.000000   \n",
              "25%               3.000000         3.000000             3.000000   \n",
              "50%               5.000000         5.000000             5.000000   \n",
              "75%               8.000000         8.000000             8.000000   \n",
              "max              10.000000        10.000000            10.000000   \n",
              "\n",
              "       total_paid_services  total_services  mth_since_last_serv  \\\n",
              "count        131337.000000   131337.000000        131337.000000   \n",
              "mean              5.481692        5.454967             5.469807   \n",
              "std               2.880408        2.875961             2.859756   \n",
              "min               1.000000        1.000000             1.000000   \n",
              "25%               3.000000        3.000000             3.000000   \n",
              "50%               5.000000        5.000000             5.000000   \n",
              "75%               8.000000        8.000000             8.000000   \n",
              "max              10.000000       10.000000            10.000000   \n",
              "\n",
              "       annualised_mileage  num_dealers_visited  num_serv_dealer_purchased  \n",
              "count       131337.000000        131337.000000              131337.000000  \n",
              "mean             5.502836             5.485438                   5.480778  \n",
              "std              2.854896             2.876772                   2.867524  \n",
              "min              1.000000             1.000000                   1.000000  \n",
              "25%              3.000000             3.000000                   3.000000  \n",
              "50%              5.000000             5.000000                   5.000000  \n",
              "75%              8.000000             8.000000                   8.000000  \n",
              "max             10.000000            10.000000                  10.000000  "
            ],
            "text/html": [
              "\n",
              "  <div id=\"df-58e4d0c7-fe0c-49a0-b99e-911765fea02d\">\n",
              "    <div class=\"colab-df-container\">\n",
              "      <div>\n",
              "<style scoped>\n",
              "    .dataframe tbody tr th:only-of-type {\n",
              "        vertical-align: middle;\n",
              "    }\n",
              "\n",
              "    .dataframe tbody tr th {\n",
              "        vertical-align: top;\n",
              "    }\n",
              "\n",
              "    .dataframe thead th {\n",
              "        text-align: right;\n",
              "    }\n",
              "</style>\n",
              "<table border=\"1\" class=\"dataframe\">\n",
              "  <thead>\n",
              "    <tr style=\"text-align: right;\">\n",
              "      <th></th>\n",
              "      <th>ID</th>\n",
              "      <th>Target</th>\n",
              "      <th>age_of_vehicle_years</th>\n",
              "      <th>sched_serv_warr</th>\n",
              "      <th>non_sched_serv_warr</th>\n",
              "      <th>sched_serv_paid</th>\n",
              "      <th>non_sched_serv_paid</th>\n",
              "      <th>total_paid_services</th>\n",
              "      <th>total_services</th>\n",
              "      <th>mth_since_last_serv</th>\n",
              "      <th>annualised_mileage</th>\n",
              "      <th>num_dealers_visited</th>\n",
              "      <th>num_serv_dealer_purchased</th>\n",
              "    </tr>\n",
              "  </thead>\n",
              "  <tbody>\n",
              "    <tr>\n",
              "      <th>count</th>\n",
              "      <td>131337.000000</td>\n",
              "      <td>131337.000000</td>\n",
              "      <td>131337.000000</td>\n",
              "      <td>131337.000000</td>\n",
              "      <td>131337.000000</td>\n",
              "      <td>131337.000000</td>\n",
              "      <td>131337.000000</td>\n",
              "      <td>131337.000000</td>\n",
              "      <td>131337.000000</td>\n",
              "      <td>131337.000000</td>\n",
              "      <td>131337.000000</td>\n",
              "      <td>131337.000000</td>\n",
              "      <td>131337.000000</td>\n",
              "    </tr>\n",
              "    <tr>\n",
              "      <th>mean</th>\n",
              "      <td>77097.384180</td>\n",
              "      <td>0.026809</td>\n",
              "      <td>5.493022</td>\n",
              "      <td>5.452500</td>\n",
              "      <td>5.472517</td>\n",
              "      <td>5.452287</td>\n",
              "      <td>5.497050</td>\n",
              "      <td>5.481692</td>\n",
              "      <td>5.454967</td>\n",
              "      <td>5.469807</td>\n",
              "      <td>5.502836</td>\n",
              "      <td>5.485438</td>\n",
              "      <td>5.480778</td>\n",
              "    </tr>\n",
              "    <tr>\n",
              "      <th>std</th>\n",
              "      <td>44501.636704</td>\n",
              "      <td>0.161525</td>\n",
              "      <td>2.843299</td>\n",
              "      <td>2.884328</td>\n",
              "      <td>2.870665</td>\n",
              "      <td>2.886528</td>\n",
              "      <td>2.878699</td>\n",
              "      <td>2.880408</td>\n",
              "      <td>2.875961</td>\n",
              "      <td>2.859756</td>\n",
              "      <td>2.854896</td>\n",
              "      <td>2.876772</td>\n",
              "      <td>2.867524</td>\n",
              "    </tr>\n",
              "    <tr>\n",
              "      <th>min</th>\n",
              "      <td>1.000000</td>\n",
              "      <td>0.000000</td>\n",
              "      <td>1.000000</td>\n",
              "      <td>1.000000</td>\n",
              "      <td>1.000000</td>\n",
              "      <td>1.000000</td>\n",
              "      <td>1.000000</td>\n",
              "      <td>1.000000</td>\n",
              "      <td>1.000000</td>\n",
              "      <td>1.000000</td>\n",
              "      <td>1.000000</td>\n",
              "      <td>1.000000</td>\n",
              "      <td>1.000000</td>\n",
              "    </tr>\n",
              "    <tr>\n",
              "      <th>25%</th>\n",
              "      <td>38563.000000</td>\n",
              "      <td>0.000000</td>\n",
              "      <td>3.000000</td>\n",
              "      <td>3.000000</td>\n",
              "      <td>3.000000</td>\n",
              "      <td>3.000000</td>\n",
              "      <td>3.000000</td>\n",
              "      <td>3.000000</td>\n",
              "      <td>3.000000</td>\n",
              "      <td>3.000000</td>\n",
              "      <td>3.000000</td>\n",
              "      <td>3.000000</td>\n",
              "      <td>3.000000</td>\n",
              "    </tr>\n",
              "    <tr>\n",
              "      <th>50%</th>\n",
              "      <td>77132.000000</td>\n",
              "      <td>0.000000</td>\n",
              "      <td>5.000000</td>\n",
              "      <td>5.000000</td>\n",
              "      <td>5.000000</td>\n",
              "      <td>5.000000</td>\n",
              "      <td>5.000000</td>\n",
              "      <td>5.000000</td>\n",
              "      <td>5.000000</td>\n",
              "      <td>5.000000</td>\n",
              "      <td>5.000000</td>\n",
              "      <td>5.000000</td>\n",
              "      <td>5.000000</td>\n",
              "    </tr>\n",
              "    <tr>\n",
              "      <th>75%</th>\n",
              "      <td>115668.000000</td>\n",
              "      <td>0.000000</td>\n",
              "      <td>8.000000</td>\n",
              "      <td>8.000000</td>\n",
              "      <td>8.000000</td>\n",
              "      <td>8.000000</td>\n",
              "      <td>8.000000</td>\n",
              "      <td>8.000000</td>\n",
              "      <td>8.000000</td>\n",
              "      <td>8.000000</td>\n",
              "      <td>8.000000</td>\n",
              "      <td>8.000000</td>\n",
              "      <td>8.000000</td>\n",
              "    </tr>\n",
              "    <tr>\n",
              "      <th>max</th>\n",
              "      <td>154139.000000</td>\n",
              "      <td>1.000000</td>\n",
              "      <td>10.000000</td>\n",
              "      <td>10.000000</td>\n",
              "      <td>10.000000</td>\n",
              "      <td>10.000000</td>\n",
              "      <td>10.000000</td>\n",
              "      <td>10.000000</td>\n",
              "      <td>10.000000</td>\n",
              "      <td>10.000000</td>\n",
              "      <td>10.000000</td>\n",
              "      <td>10.000000</td>\n",
              "      <td>10.000000</td>\n",
              "    </tr>\n",
              "  </tbody>\n",
              "</table>\n",
              "</div>\n",
              "      <button class=\"colab-df-convert\" onclick=\"convertToInteractive('df-58e4d0c7-fe0c-49a0-b99e-911765fea02d')\"\n",
              "              title=\"Convert this dataframe to an interactive table.\"\n",
              "              style=\"display:none;\">\n",
              "        \n",
              "  <svg xmlns=\"http://www.w3.org/2000/svg\" height=\"24px\"viewBox=\"0 0 24 24\"\n",
              "       width=\"24px\">\n",
              "    <path d=\"M0 0h24v24H0V0z\" fill=\"none\"/>\n",
              "    <path d=\"M18.56 5.44l.94 2.06.94-2.06 2.06-.94-2.06-.94-.94-2.06-.94 2.06-2.06.94zm-11 1L8.5 8.5l.94-2.06 2.06-.94-2.06-.94L8.5 2.5l-.94 2.06-2.06.94zm10 10l.94 2.06.94-2.06 2.06-.94-2.06-.94-.94-2.06-.94 2.06-2.06.94z\"/><path d=\"M17.41 7.96l-1.37-1.37c-.4-.4-.92-.59-1.43-.59-.52 0-1.04.2-1.43.59L10.3 9.45l-7.72 7.72c-.78.78-.78 2.05 0 2.83L4 21.41c.39.39.9.59 1.41.59.51 0 1.02-.2 1.41-.59l7.78-7.78 2.81-2.81c.8-.78.8-2.07 0-2.86zM5.41 20L4 18.59l7.72-7.72 1.47 1.35L5.41 20z\"/>\n",
              "  </svg>\n",
              "      </button>\n",
              "      \n",
              "  <style>\n",
              "    .colab-df-container {\n",
              "      display:flex;\n",
              "      flex-wrap:wrap;\n",
              "      gap: 12px;\n",
              "    }\n",
              "\n",
              "    .colab-df-convert {\n",
              "      background-color: #E8F0FE;\n",
              "      border: none;\n",
              "      border-radius: 50%;\n",
              "      cursor: pointer;\n",
              "      display: none;\n",
              "      fill: #1967D2;\n",
              "      height: 32px;\n",
              "      padding: 0 0 0 0;\n",
              "      width: 32px;\n",
              "    }\n",
              "\n",
              "    .colab-df-convert:hover {\n",
              "      background-color: #E2EBFA;\n",
              "      box-shadow: 0px 1px 2px rgba(60, 64, 67, 0.3), 0px 1px 3px 1px rgba(60, 64, 67, 0.15);\n",
              "      fill: #174EA6;\n",
              "    }\n",
              "\n",
              "    [theme=dark] .colab-df-convert {\n",
              "      background-color: #3B4455;\n",
              "      fill: #D2E3FC;\n",
              "    }\n",
              "\n",
              "    [theme=dark] .colab-df-convert:hover {\n",
              "      background-color: #434B5C;\n",
              "      box-shadow: 0px 1px 3px 1px rgba(0, 0, 0, 0.15);\n",
              "      filter: drop-shadow(0px 1px 2px rgba(0, 0, 0, 0.3));\n",
              "      fill: #FFFFFF;\n",
              "    }\n",
              "  </style>\n",
              "\n",
              "      <script>\n",
              "        const buttonEl =\n",
              "          document.querySelector('#df-58e4d0c7-fe0c-49a0-b99e-911765fea02d button.colab-df-convert');\n",
              "        buttonEl.style.display =\n",
              "          google.colab.kernel.accessAllowed ? 'block' : 'none';\n",
              "\n",
              "        async function convertToInteractive(key) {\n",
              "          const element = document.querySelector('#df-58e4d0c7-fe0c-49a0-b99e-911765fea02d');\n",
              "          const dataTable =\n",
              "            await google.colab.kernel.invokeFunction('convertToInteractive',\n",
              "                                                     [key], {});\n",
              "          if (!dataTable) return;\n",
              "\n",
              "          const docLinkHtml = 'Like what you see? Visit the ' +\n",
              "            '<a target=\"_blank\" href=https://colab.research.google.com/notebooks/data_table.ipynb>data table notebook</a>'\n",
              "            + ' to learn more about interactive tables.';\n",
              "          element.innerHTML = '';\n",
              "          dataTable['output_type'] = 'display_data';\n",
              "          await google.colab.output.renderOutput(dataTable, element);\n",
              "          const docLink = document.createElement('div');\n",
              "          docLink.innerHTML = docLinkHtml;\n",
              "          element.appendChild(docLink);\n",
              "        }\n",
              "      </script>\n",
              "    </div>\n",
              "  </div>\n",
              "  "
            ]
          },
          "metadata": {},
          "execution_count": 12
        }
      ],
      "source": [
        "df.describe()"
      ]
    },
    {
      "cell_type": "markdown",
      "source": [
        "**2.5 Showing unique values of every columns**"
      ],
      "metadata": {
        "id": "UrjAUfZ6fEMR"
      }
    },
    {
      "cell_type": "code",
      "execution_count": null,
      "metadata": {
        "id": "vXtBhGl4Q0KI",
        "colab": {
          "base_uri": "https://localhost:8080/"
        },
        "outputId": "4b37896b-b382-464a-f8ba-7f639b48e752"
      },
      "outputs": [
        {
          "output_type": "stream",
          "name": "stdout",
          "text": [
            "ID\n",
            "[     1      2      3 ... 154137 154138 154139]\n",
            "Target\n",
            "[0 1]\n",
            "age_band\n",
            "['3. 35 to 44' nan '1. <25' '4. 45 to 54' '2. 25 to 34' '7. 75+'\n",
            " '5. 55 to 64' '6. 65 to 74']\n",
            "gender\n",
            "['Male' nan 'Female']\n",
            "car_model\n",
            "['model_1' 'model_2' 'model_3' 'model_5' 'model_6' 'model_4' 'model_7'\n",
            " 'model_8' 'model_9' 'model_10' 'model_11' 'model_13' 'model_12'\n",
            " 'model_14' 'model_15' 'model_16' 'model_17' 'model_18' 'model_19']\n",
            "car_segment\n",
            "['LCV' 'Small/Medium' 'Large/SUV' 'Other']\n",
            "age_of_vehicle_years\n",
            "[ 9  6  5  8  7  1  3  4 10  2]\n",
            "sched_serv_warr\n",
            "[ 2 10  8  9  4  1  3  7  5  6]\n",
            "non_sched_serv_warr\n",
            "[10  3  9  5  4  8  1  6  2  7]\n",
            "sched_serv_paid\n",
            "[ 3 10  8  5  2  6  1  4  9  7]\n",
            "non_sched_serv_paid\n",
            "[ 7  4  9  3  1  2  6  5 10  8]\n",
            "total_paid_services\n",
            "[ 5  9 10  6  8  1  2  7  3  4]\n",
            "total_services\n",
            "[ 6 10  8  4  2  1  3  5  9  7]\n",
            "mth_since_last_serv\n",
            "[ 9  6  7  4  5  8  1  3 10  2]\n",
            "annualised_mileage\n",
            "[ 8 10  4  5  6  1  7  3  9  2]\n",
            "num_dealers_visited\n",
            "[10  7  6  9  4  5  2  1  3  8]\n",
            "num_serv_dealer_purchased\n",
            "[ 4 10  7  9  8  3  1  6  2  5]\n"
          ]
        }
      ],
      "source": [
        "for col in df.columns:\n",
        "  print(col)\n",
        "  print(df[col].unique())"
      ]
    },
    {
      "cell_type": "markdown",
      "metadata": {
        "id": "hDssPGOINOJS"
      },
      "source": [
        "## **3. Data cleaning**"
      ]
    },
    {
      "cell_type": "markdown",
      "source": [
        "**3.1 Creating a copy of the dataset**"
      ],
      "metadata": {
        "id": "nPACVePYfTJF"
      }
    },
    {
      "cell_type": "code",
      "execution_count": null,
      "metadata": {
        "id": "_Ug3EznRMI_w"
      },
      "outputs": [],
      "source": [
        "df_cleaned = df.copy()"
      ]
    },
    {
      "cell_type": "markdown",
      "source": [
        "**3.2 Dropping 'age_band' and 'gender' (too many null values) and 'ID' (irrelevant to target variable)**"
      ],
      "metadata": {
        "id": "yuWuHbw8f-9c"
      }
    },
    {
      "cell_type": "code",
      "execution_count": null,
      "metadata": {
        "id": "5QnQieyENUBs"
      },
      "outputs": [],
      "source": [
        "df_cleaned.drop(columns=['age_band', 'gender', 'ID'], axis=1, inplace=True)"
      ]
    },
    {
      "cell_type": "markdown",
      "source": [
        "**3.3 Number of remaining columns**"
      ],
      "metadata": {
        "id": "53T7w3aWgaze"
      }
    },
    {
      "cell_type": "code",
      "execution_count": null,
      "metadata": {
        "id": "1D0zZjyVOtJr",
        "colab": {
          "base_uri": "https://localhost:8080/"
        },
        "outputId": "e3efd9b8-52b3-4d1d-a308-25d4f5c66498"
      },
      "outputs": [
        {
          "output_type": "execute_result",
          "data": {
            "text/plain": [
              "(131337, 14)"
            ]
          },
          "metadata": {},
          "execution_count": 16
        }
      ],
      "source": [
        "df_cleaned.shape"
      ]
    },
    {
      "cell_type": "markdown",
      "source": [
        "**3.4 Checking for null values**"
      ],
      "metadata": {
        "id": "HeexnQn3ls2G"
      }
    },
    {
      "cell_type": "code",
      "execution_count": null,
      "metadata": {
        "id": "ANbG2PKnPbGm",
        "colab": {
          "base_uri": "https://localhost:8080/"
        },
        "outputId": "ca32094f-f14d-4fd1-fc07-7faccafb433c"
      },
      "outputs": [
        {
          "output_type": "execute_result",
          "data": {
            "text/plain": [
              "Target                       0\n",
              "car_model                    0\n",
              "car_segment                  0\n",
              "age_of_vehicle_years         0\n",
              "sched_serv_warr              0\n",
              "non_sched_serv_warr          0\n",
              "sched_serv_paid              0\n",
              "non_sched_serv_paid          0\n",
              "total_paid_services          0\n",
              "total_services               0\n",
              "mth_since_last_serv          0\n",
              "annualised_mileage           0\n",
              "num_dealers_visited          0\n",
              "num_serv_dealer_purchased    0\n",
              "dtype: int64"
            ]
          },
          "metadata": {},
          "execution_count": 17
        }
      ],
      "source": [
        "df_cleaned.isna().sum()"
      ]
    },
    {
      "cell_type": "markdown",
      "metadata": {
        "id": "Zcynox2yRtJF"
      },
      "source": [
        "## **4. Preparing dataset**"
      ]
    },
    {
      "cell_type": "markdown",
      "source": [
        "**4.1 Showing unique values in 'car_model'**"
      ],
      "metadata": {
        "id": "PY_q8260l9yw"
      }
    },
    {
      "cell_type": "code",
      "execution_count": null,
      "metadata": {
        "id": "16phXljhU92o",
        "colab": {
          "base_uri": "https://localhost:8080/"
        },
        "outputId": "f9482d16-d414-43b7-8b6c-ffe02fceca67"
      },
      "outputs": [
        {
          "output_type": "execute_result",
          "data": {
            "text/plain": [
              "array(['model_1', 'model_2', 'model_3', 'model_5', 'model_6', 'model_4',\n",
              "       'model_7', 'model_8', 'model_9', 'model_10', 'model_11',\n",
              "       'model_13', 'model_12', 'model_14', 'model_15', 'model_16',\n",
              "       'model_17', 'model_18', 'model_19'], dtype=object)"
            ]
          },
          "metadata": {},
          "execution_count": 18
        }
      ],
      "source": [
        "df_cleaned.car_model.unique()"
      ]
    },
    {
      "cell_type": "markdown",
      "metadata": {
        "id": "ehQ6zwlCThgG"
      },
      "source": [
        "**4.2 Importing OrdinalEncoder from sklearn.preprocessing**"
      ]
    },
    {
      "cell_type": "code",
      "execution_count": null,
      "metadata": {
        "id": "2pwJekPnRYdE"
      },
      "outputs": [],
      "source": [
        "from sklearn.preprocessing import OrdinalEncoder"
      ]
    },
    {
      "cell_type": "markdown",
      "source": [
        "**4.3 Creating dictionary containing the values**"
      ],
      "metadata": {
        "id": "C-snyZV6tt01"
      }
    },
    {
      "cell_type": "code",
      "execution_count": null,
      "metadata": {
        "id": "mLYNdMouR3kh"
      },
      "outputs": [],
      "source": [
        "car_model_categories = [['model_1', 'model_2', 'model_3', 'model_5', 'model_6', 'model_4',\n",
        "       'model_7', 'model_8', 'model_9', 'model_10', 'model_11',\n",
        "       'model_13', 'model_12', 'model_14', 'model_15', 'model_16',\n",
        "       'model_17', 'model_18', 'model_19']]"
      ]
    },
    {
      "cell_type": "markdown",
      "source": [
        "**4.4 Instantiating OrdinalEncoder class and saving it to a variable**"
      ],
      "metadata": {
        "id": "xvVH44UivtYM"
      }
    },
    {
      "cell_type": "code",
      "execution_count": null,
      "metadata": {
        "id": "4f1c9CGuSBI-"
      },
      "outputs": [],
      "source": [
        "car_model_encoded = OrdinalEncoder(categories = car_model_categories)"
      ]
    },
    {
      "cell_type": "markdown",
      "source": [
        "**4.5 Using the encoder to transform the columm**"
      ],
      "metadata": {
        "id": "SZSdngiNwRpI"
      }
    },
    {
      "cell_type": "code",
      "execution_count": null,
      "metadata": {
        "id": "mYN9Vzi-SNFx"
      },
      "outputs": [],
      "source": [
        "df_cleaned['car_model_categories'] = car_model_encoded.fit_transform(df_cleaned[['car_model']])"
      ]
    },
    {
      "cell_type": "markdown",
      "source": [
        "**4.6 Removing the previous column**"
      ],
      "metadata": {
        "id": "hmAJRi5PxFzU"
      }
    },
    {
      "cell_type": "code",
      "execution_count": null,
      "metadata": {
        "id": "oa7kr-HYSxhV",
        "colab": {
          "base_uri": "https://localhost:8080/"
        },
        "outputId": "28f11486-3e38-4ce5-a3b0-0509a5ee4f52"
      },
      "outputs": [
        {
          "output_type": "execute_result",
          "data": {
            "text/plain": [
              "array([ 0.,  1.,  2.,  3.,  4.,  5.,  6.,  7.,  8.,  9., 10., 11., 12.,\n",
              "       13., 14., 15., 16., 17., 18.])"
            ]
          },
          "metadata": {},
          "execution_count": 23
        }
      ],
      "source": [
        "df_cleaned['car_model'] = df_cleaned['car_model_categories']\n",
        "df_cleaned.drop('car_model_categories', axis=1, inplace=True)\n",
        "\n",
        "df_cleaned['car_model'].unique()"
      ]
    },
    {
      "cell_type": "markdown",
      "source": [
        "**4.7 Creating dictionary containing 'car_segment' values**"
      ],
      "metadata": {
        "id": "zfNFPHFHz5Sj"
      }
    },
    {
      "cell_type": "code",
      "execution_count": null,
      "metadata": {
        "id": "Q_qTwZjiVMUS",
        "colab": {
          "base_uri": "https://localhost:8080/"
        },
        "outputId": "7983f8cb-9b24-4d15-9d80-938c8c57bc75"
      },
      "outputs": [
        {
          "output_type": "execute_result",
          "data": {
            "text/plain": [
              "array(['LCV', 'Small/Medium', 'Large/SUV', 'Other'], dtype=object)"
            ]
          },
          "metadata": {},
          "execution_count": 24
        }
      ],
      "source": [
        "df_cleaned['car_segment'].unique()"
      ]
    },
    {
      "cell_type": "code",
      "execution_count": null,
      "metadata": {
        "id": "IN1LfQGrWOBx"
      },
      "outputs": [],
      "source": [
        "df_cleaned.car_segment = df_cleaned.car_segment.map({'LCV':0, 'Small/Medium':1, 'Large/SUV':2, 'Other':3})"
      ]
    },
    {
      "cell_type": "code",
      "source": [
        "df_cleaned['car_segment'].unique()"
      ],
      "metadata": {
        "id": "n_T4Zxl_7cZW",
        "outputId": "c9434936-046f-4064-df4e-77d71b0c90e6",
        "colab": {
          "base_uri": "https://localhost:8080/"
        }
      },
      "execution_count": null,
      "outputs": [
        {
          "output_type": "execute_result",
          "data": {
            "text/plain": [
              "array([0, 1, 2, 3])"
            ]
          },
          "metadata": {},
          "execution_count": 26
        }
      ]
    },
    {
      "cell_type": "markdown",
      "source": [
        "**4.8 Assigning target variable to a variable**"
      ],
      "metadata": {
        "id": "xruFy8sl0DCg"
      }
    },
    {
      "cell_type": "code",
      "execution_count": null,
      "metadata": {
        "id": "PRbbA00kPpcw"
      },
      "outputs": [],
      "source": [
        "y = df_cleaned.pop('Target')"
      ]
    },
    {
      "cell_type": "markdown",
      "source": [
        "**4.9 Assigning features to a variable**"
      ],
      "metadata": {
        "id": "ph0lGUcN0L4U"
      }
    },
    {
      "cell_type": "code",
      "execution_count": null,
      "metadata": {
        "id": "5qDE-uPVSQGb"
      },
      "outputs": [],
      "source": [
        "X = df_cleaned"
      ]
    },
    {
      "cell_type": "markdown",
      "source": [
        "**4.10 Importing train_test_split from sklearn**"
      ],
      "metadata": {
        "id": "NpIZbl0z0ZqK"
      }
    },
    {
      "cell_type": "code",
      "execution_count": null,
      "metadata": {
        "id": "vp44G7ooSTkq"
      },
      "outputs": [],
      "source": [
        "from sklearn.model_selection import train_test_split"
      ]
    },
    {
      "cell_type": "markdown",
      "source": [
        "**4.11 Splitting target variable and features into training and testing datasets**"
      ],
      "metadata": {
        "id": "A5EMdjRL1qrw"
      }
    },
    {
      "cell_type": "code",
      "execution_count": null,
      "metadata": {
        "id": "sOcIv6xZSYz4"
      },
      "outputs": [],
      "source": [
        "X_data, X_test, y_data, y_test = train_test_split(X, y, test_size=0.2, random_state=3, stratify=y)"
      ]
    },
    {
      "cell_type": "markdown",
      "source": [
        "**4.12 Splitting target variable and features into training and validation datasets**"
      ],
      "metadata": {
        "id": "bKEDvmel1zIE"
      }
    },
    {
      "cell_type": "code",
      "execution_count": null,
      "metadata": {
        "id": "BoecXhTdSjUU"
      },
      "outputs": [],
      "source": [
        "X_train, X_val, y_train, y_val = train_test_split(X_data, y_data, test_size=0.2, random_state=3, stratify=y_data)"
      ]
    },
    {
      "cell_type": "markdown",
      "source": [
        "**4.13 Showing the distribution of target variable after splitting datasets**"
      ],
      "metadata": {
        "id": "RyLX3zRr13jD"
      }
    },
    {
      "cell_type": "code",
      "execution_count": null,
      "metadata": {
        "id": "8PH1_ZwZzI9Q",
        "colab": {
          "base_uri": "https://localhost:8080/"
        },
        "outputId": "26f02d22-b45a-40dd-edf6-c022dec408b7"
      },
      "outputs": [
        {
          "output_type": "stream",
          "name": "stdout",
          "text": [
            "0    0.973184\n",
            "1    0.026816\n",
            "Name: Target, dtype: float64\n",
            "0    0.973208\n",
            "1    0.026792\n",
            "Name: Target, dtype: float64\n",
            "0    0.973199\n",
            "1    0.026801\n",
            "Name: Target, dtype: float64\n"
          ]
        }
      ],
      "source": [
        "print(y_train.value_counts(normalize=True))\n",
        "print(y_val.value_counts(normalize=True))\n",
        "print(y_test.value_counts(normalize=True))"
      ]
    },
    {
      "cell_type": "markdown",
      "metadata": {
        "id": "QjNe6VzcS3si"
      },
      "source": [
        "## **5. Assessing baseline**"
      ]
    },
    {
      "cell_type": "markdown",
      "source": [
        "**5.1 Finding the mode of target variable**"
      ],
      "metadata": {
        "id": "gkWBRFSc2S2i"
      }
    },
    {
      "cell_type": "code",
      "execution_count": null,
      "metadata": {
        "id": "Y1IGEJVhS7Ng"
      },
      "outputs": [],
      "source": [
        "y_mode = y.mode()"
      ]
    },
    {
      "cell_type": "markdown",
      "source": [
        "**5.2 Creating a numpy array and assigning the value to a variable**"
      ],
      "metadata": {
        "id": "-6KXvr1s2clV"
      }
    },
    {
      "cell_type": "code",
      "execution_count": null,
      "metadata": {
        "id": "C2w0nVVkS8-k"
      },
      "outputs": [],
      "source": [
        "y_base = np.full(y_train.shape, y_mode)"
      ]
    },
    {
      "cell_type": "markdown",
      "source": [
        "**5.3 Importing accuracy, precision, recall and f1 scores from sklearn**"
      ],
      "metadata": {
        "id": "7kNoWJMvRkSv"
      }
    },
    {
      "cell_type": "code",
      "execution_count": null,
      "metadata": {
        "id": "2mtHvlhiTBtr"
      },
      "outputs": [],
      "source": [
        "from sklearn.metrics import accuracy_score, precision_score, recall_score, f1_score"
      ]
    },
    {
      "cell_type": "markdown",
      "source": [
        "**5.4 Calculating accuracy and f1 score**"
      ],
      "metadata": {
        "id": "4tSjk7FxRseo"
      }
    },
    {
      "cell_type": "code",
      "execution_count": null,
      "metadata": {
        "id": "ILr6jwzzTF_N",
        "colab": {
          "base_uri": "https://localhost:8080/"
        },
        "outputId": "10eb21fc-ae62-4564-f995-b33731127251"
      },
      "outputs": [
        {
          "output_type": "stream",
          "name": "stdout",
          "text": [
            "0.9731842246148356\n",
            "0.9599585514870511\n"
          ]
        }
      ],
      "source": [
        "print(accuracy_score(y_train, y_base))\n",
        "print(f1_score(y_train, y_base, average='weighted'))"
      ]
    },
    {
      "cell_type": "markdown",
      "source": [
        "## **6. Training Decision Tree**"
      ],
      "metadata": {
        "id": "Ye35ZlKFMKDe"
      }
    },
    {
      "cell_type": "markdown",
      "source": [
        "**6.1 Importing DecisionTree from sklearn**"
      ],
      "metadata": {
        "id": "XfQNY87RaFf2"
      }
    },
    {
      "cell_type": "code",
      "execution_count": null,
      "metadata": {
        "id": "wbDgetQtKVea"
      },
      "outputs": [],
      "source": [
        "from sklearn.tree import DecisionTreeClassifier"
      ]
    },
    {
      "cell_type": "markdown",
      "source": [
        "**6.2 Training DecisionTree with default hyperparameter**"
      ],
      "metadata": {
        "id": "o2txAnbebx2v"
      }
    },
    {
      "cell_type": "markdown",
      "source": [
        "Training the model using training set"
      ],
      "metadata": {
        "id": "20FxJERUaP6q"
      }
    },
    {
      "cell_type": "code",
      "source": [
        "tree_1 = DecisionTreeClassifier(random_state=3).fit(X_train, y_train)"
      ],
      "metadata": {
        "id": "HQdqDwMuMU41"
      },
      "execution_count": null,
      "outputs": []
    },
    {
      "cell_type": "markdown",
      "source": [
        "Predicting and calculating precision, recall and f1 scores"
      ],
      "metadata": {
        "id": "e0nPTM_eafM4"
      }
    },
    {
      "cell_type": "code",
      "source": [
        "y_train_preds = tree_1.predict(X_train)\n",
        "y_val_preds = tree_1.predict(X_val)\n",
        "y_test_preds = tree_1.predict(X_test)\n",
        "\n",
        "print('Accuracy:')\n",
        "print(f\"Training set: {round(accuracy_score(y_train, y_train_preds), 5)}\")\n",
        "print(f\"Validation set: {round(accuracy_score(y_val, y_val_preds), 5)}\")\n",
        "print(f\"Testing set: {round(accuracy_score(y_test, y_test_preds), 5)}\")\n",
        "\n",
        "print('')\n",
        "\n",
        "print('Precision:')\n",
        "print(f\"Training set: {round(precision_score(y_train, y_train_preds), 5)}\")\n",
        "print(f\"Validation set: {round(precision_score(y_val, y_val_preds), 5)}\")\n",
        "print(f\"Testing set: {round(precision_score(y_test, y_test_preds), 5)}\")\n",
        "\n",
        "print('')\n",
        "\n",
        "print('Recall:')\n",
        "print(f\"Training set: {round(recall_score(y_train, y_train_preds), 5)}\")\n",
        "print(f\"Validation set: {round(recall_score(y_val, y_val_preds), 5)}\")\n",
        "print(f\"Testing set: {round(recall_score(y_test, y_test_preds), 5)}\")\n",
        "\n",
        "print('')\n",
        "\n",
        "print('F1 score:')\n",
        "print(f\"Training set: {round(f1_score(y_train, y_train_preds), 5)}\")\n",
        "print(f\"Validation set: {round(f1_score(y_val, y_val_preds), 5)}\")\n",
        "print(f\"Testing set: {round(f1_score(y_test, y_test_preds), 5)}\")"
      ],
      "metadata": {
        "colab": {
          "base_uri": "https://localhost:8080/"
        },
        "id": "NDYnmVmdOxQi",
        "outputId": "411736b2-40a5-4e31-9229-4a09c8a52199"
      },
      "execution_count": null,
      "outputs": [
        {
          "output_type": "stream",
          "name": "stdout",
          "text": [
            "Accuracy:\n",
            "Training set: 0.99999\n",
            "Validation set: 0.98725\n",
            "Testing set: 0.98827\n",
            "\n",
            "Precision:\n",
            "Training set: 1.0\n",
            "Validation set: 0.75832\n",
            "Testing set: 0.78045\n",
            "\n",
            "Recall:\n",
            "Training set: 0.99956\n",
            "Validation set: 0.76909\n",
            "Testing set: 0.78267\n",
            "\n",
            "F1 score:\n",
            "Training set: 0.99978\n",
            "Validation set: 0.76367\n",
            "Testing set: 0.78156\n"
          ]
        }
      ]
    },
    {
      "cell_type": "markdown",
      "source": [
        "Accuracy score can misleading due to unbalanced dataset, we will drop accuracy score from now on"
      ],
      "metadata": {
        "id": "2sxPoSVlGBP-"
      }
    },
    {
      "cell_type": "markdown",
      "source": [
        "## **7. Training DecisionTree with min_samples_split**"
      ],
      "metadata": {
        "id": "Q2kthRYUc3Sx"
      }
    },
    {
      "cell_type": "markdown",
      "source": [
        "**7.1 Training DecisionTree with min_samples_split = 5**"
      ],
      "metadata": {
        "id": "yDNmyjODOPyt"
      }
    },
    {
      "cell_type": "markdown",
      "source": [
        "Training the model using training set"
      ],
      "metadata": {
        "id": "5jXSPsblcIUi"
      }
    },
    {
      "cell_type": "code",
      "source": [
        "tree_2 = DecisionTreeClassifier(random_state=3, min_samples_split=5).fit(X_train, y_train)"
      ],
      "metadata": {
        "id": "GszZ-nJtONYS"
      },
      "execution_count": null,
      "outputs": []
    },
    {
      "cell_type": "markdown",
      "source": [
        "Predicting and calculating precision, recall and f1 scores"
      ],
      "metadata": {
        "id": "uAugKeInchRE"
      }
    },
    {
      "cell_type": "code",
      "source": [
        "y_train_preds2 = tree_2.predict(X_train)\n",
        "y_val_preds2 = tree_2.predict(X_val)\n",
        "y_test_preds2 = tree_2.predict(X_test)\n",
        "\n",
        "print('Precision:')\n",
        "print(f\"Training set: {round(precision_score(y_train, y_train_preds2), 5)}\")\n",
        "print(f\"Validation set: {round(precision_score(y_val, y_val_preds2), 5)}\")\n",
        "print(f\"Testing set: {round(precision_score(y_test, y_test_preds2), 5)}\")\n",
        "\n",
        "print('')\n",
        "\n",
        "print('Recall:')\n",
        "print(f\"Training set: {round(recall_score(y_train, y_train_preds2), 5)}\")\n",
        "print(f\"Validation set: {round(recall_score(y_val, y_val_preds2), 5)}\")\n",
        "print(f\"Testing set: {round(recall_score(y_test, y_test_preds2), 5)}\")\n",
        "\n",
        "print('')\n",
        "\n",
        "print('F1 score:')\n",
        "print(f\"Training set: {round(f1_score(y_train, y_train_preds2), 5)}\")\n",
        "print(f\"Validation set: {round(f1_score(y_val, y_val_preds2), 5)}\")\n",
        "print(f\"Testing set: {round(f1_score(y_test, y_test_preds2), 5)}\")"
      ],
      "metadata": {
        "colab": {
          "base_uri": "https://localhost:8080/"
        },
        "id": "WG-DcylfvAUf",
        "outputId": "40e7f3fc-301e-4647-9f94-634aac907806"
      },
      "execution_count": null,
      "outputs": [
        {
          "output_type": "stream",
          "name": "stdout",
          "text": [
            "Precision:\n",
            "Training set: 0.98121\n",
            "Validation set: 0.77536\n",
            "Testing set: 0.81694\n",
            "\n",
            "Recall:\n",
            "Training set: 0.94987\n",
            "Validation set: 0.76021\n",
            "Testing set: 0.76705\n",
            "\n",
            "F1 score:\n",
            "Training set: 0.96528\n",
            "Validation set: 0.76771\n",
            "Testing set: 0.79121\n"
          ]
        }
      ]
    },
    {
      "cell_type": "markdown",
      "source": [
        "**7.2 Training DecisionTree with min_samples_split = 10**"
      ],
      "metadata": {
        "id": "eRB2PSJQdAIN"
      }
    },
    {
      "cell_type": "markdown",
      "source": [
        "Training the model using training set"
      ],
      "metadata": {
        "id": "e0l4sPQ5dEJG"
      }
    },
    {
      "cell_type": "code",
      "source": [
        "tree_3 = DecisionTreeClassifier(random_state=3, min_samples_split=10).fit(X_train, y_train)"
      ],
      "metadata": {
        "id": "cXfztTfORV2U"
      },
      "execution_count": null,
      "outputs": []
    },
    {
      "cell_type": "markdown",
      "source": [
        "Predicting and calculating precision, recall and f1 scores"
      ],
      "metadata": {
        "id": "5hN5UWaZdGjT"
      }
    },
    {
      "cell_type": "code",
      "source": [
        "y_train_preds3 = tree_3.predict(X_train)\n",
        "y_val_preds3 = tree_3.predict(X_val)\n",
        "y_test_preds3 = tree_3.predict(X_test)\n",
        "\n",
        "print('Precision:')\n",
        "print(f\"Training set: {round(precision_score(y_train, y_train_preds3), 5)}\")\n",
        "print(f\"Validation set: {round(precision_score(y_val, y_val_preds3), 5)}\")\n",
        "print(f\"Testing set: {round(precision_score(y_test, y_test_preds3), 5)}\")\n",
        "\n",
        "print('')\n",
        "\n",
        "print('Recall:')\n",
        "print(f\"Training set: {round(recall_score(y_train, y_train_preds3), 5)}\")\n",
        "print(f\"Validation set: {round(recall_score(y_val, y_val_preds3), 5)}\")\n",
        "print(f\"Testing set: {round(recall_score(y_test, y_test_preds3), 5)}\")\n",
        "\n",
        "print('')\n",
        "\n",
        "print('F1 score:')\n",
        "print(f\"Training set: {round(f1_score(y_train, y_train_preds3), 5)}\")\n",
        "print(f\"Validation set: {round(f1_score(y_val, y_val_preds3), 5)}\")\n",
        "print(f\"Testing set: {round(f1_score(y_test, y_test_preds3), 5)}\")"
      ],
      "metadata": {
        "colab": {
          "base_uri": "https://localhost:8080/"
        },
        "id": "52ESqOT-vH5n",
        "outputId": "b34ba1df-1122-4b5e-d59e-32fc62fbbfaf"
      },
      "execution_count": null,
      "outputs": [
        {
          "output_type": "stream",
          "name": "stdout",
          "text": [
            "Precision:\n",
            "Training set: 0.95455\n",
            "Validation set: 0.83037\n",
            "Testing set: 0.84087\n",
            "\n",
            "Recall:\n",
            "Training set: 0.89441\n",
            "Validation set: 0.74778\n",
            "Testing set: 0.76562\n",
            "\n",
            "F1 score:\n",
            "Training set: 0.9235\n",
            "Validation set: 0.78692\n",
            "Testing set: 0.80149\n"
          ]
        }
      ]
    },
    {
      "cell_type": "markdown",
      "source": [
        "**7.3 Training DecisionTree with min_samples_split = 15**"
      ],
      "metadata": {
        "id": "W283qnTAdaC7"
      }
    },
    {
      "cell_type": "markdown",
      "source": [
        "Training the model using training set"
      ],
      "metadata": {
        "id": "saHhV2atddk9"
      }
    },
    {
      "cell_type": "code",
      "source": [
        "tree_4 = DecisionTreeClassifier(random_state=3, min_samples_split=15).fit(X_train, y_train)"
      ],
      "metadata": {
        "id": "CKXtu7UJR0hG"
      },
      "execution_count": null,
      "outputs": []
    },
    {
      "cell_type": "markdown",
      "source": [
        "Predicting and calculating precision, recall and f1 scores"
      ],
      "metadata": {
        "id": "-aZtwxskdhVD"
      }
    },
    {
      "cell_type": "code",
      "source": [
        "y_train_preds4 = tree_4.predict(X_train)\n",
        "y_val_preds4 = tree_4.predict(X_val)\n",
        "y_test_preds4 = tree_4.predict(X_test)\n",
        "\n",
        "print('Precision:')\n",
        "print(f\"Training set: {round(precision_score(y_train, y_train_preds4), 5)}\")\n",
        "print(f\"Validation set: {round(precision_score(y_val, y_val_preds4), 5)}\")\n",
        "print(f\"Testing set: {round(precision_score(y_test, y_test_preds4), 5)}\")\n",
        "\n",
        "print('')\n",
        "\n",
        "print('Recall:')\n",
        "print(f\"Training set: {round(recall_score(y_train, y_train_preds4), 5)}\")\n",
        "print(f\"Validation set: {round(recall_score(y_val, y_val_preds4), 5)}\")\n",
        "print(f\"Testing set: {round(recall_score(y_test, y_test_preds4), 5)}\")\n",
        "\n",
        "print('')\n",
        "\n",
        "print('F1 score:')\n",
        "print(f\"Training set: {round(f1_score(y_train, y_train_preds4), 5)}\")\n",
        "print(f\"Validation set: {round(f1_score(y_val, y_val_preds4), 5)}\")\n",
        "print(f\"Testing set: {round(f1_score(y_test, y_test_preds4), 5)}\")"
      ],
      "metadata": {
        "colab": {
          "base_uri": "https://localhost:8080/"
        },
        "id": "Ed8zbBKIdi6p",
        "outputId": "51ad7c67-f11b-4d7f-b3c7-3b1dffa46020"
      },
      "execution_count": null,
      "outputs": [
        {
          "output_type": "stream",
          "name": "stdout",
          "text": [
            "Precision:\n",
            "Training set: 0.94033\n",
            "Validation set: 0.82738\n",
            "Testing set: 0.8464\n",
            "\n",
            "Recall:\n",
            "Training set: 0.8669\n",
            "Validation set: 0.74067\n",
            "Testing set: 0.75142\n",
            "\n",
            "F1 score:\n",
            "Training set: 0.90212\n",
            "Validation set: 0.78163\n",
            "Testing set: 0.79609\n"
          ]
        }
      ]
    },
    {
      "cell_type": "markdown",
      "source": [
        "Training the same model but adding class_weight='balanced'"
      ],
      "metadata": {
        "id": "GlV_6C8SzwuN"
      }
    },
    {
      "cell_type": "code",
      "source": [
        "tree_4_balanced = DecisionTreeClassifier(random_state=3, class_weight='balanced', min_samples_split=15).fit(X_train, y_train)"
      ],
      "metadata": {
        "id": "Yo02x0ASuYju"
      },
      "execution_count": null,
      "outputs": []
    },
    {
      "cell_type": "code",
      "source": [
        "y_train_preds4_balanced = tree_4_balanced.predict(X_train)\n",
        "y_val_preds4_balanced = tree_4_balanced.predict(X_val)\n",
        "y_test_preds4_balanced = tree_4_balanced.predict(X_test)\n",
        "\n",
        "print('Precision:')\n",
        "print(f\"Training set: {round(precision_score(y_train, y_train_preds4_balanced), 5)}\")\n",
        "print(f\"Validation set: {round(precision_score(y_val, y_val_preds4_balanced), 5)}\")\n",
        "print(f\"Testing set: {round(precision_score(y_test, y_test_preds4_balanced), 5)}\")\n",
        "\n",
        "print('')\n",
        "\n",
        "print('Recall:')\n",
        "print(f\"Training set: {round(recall_score(y_train, y_train_preds4_balanced), 5)}\")\n",
        "print(f\"Validation set: {round(recall_score(y_val, y_val_preds4_balanced), 5)}\")\n",
        "print(f\"Testing set: {round(recall_score(y_test, y_test_preds4_balanced), 5)}\")\n",
        "\n",
        "print('')\n",
        "\n",
        "print('F1 score:')\n",
        "print(f\"Training set: {round(f1_score(y_train, y_train_preds4_balanced), 5)}\")\n",
        "print(f\"Validation set: {round(f1_score(y_val, y_val_preds4_balanced), 5)}\")\n",
        "print(f\"Testing set: {round(f1_score(y_test, y_test_preds4_balanced), 5)}\")"
      ],
      "metadata": {
        "colab": {
          "base_uri": "https://localhost:8080/"
        },
        "id": "5XBTZ2Y4uIgO",
        "outputId": "9caf3cf1-3a2a-446e-9964-3d9df7372442"
      },
      "execution_count": null,
      "outputs": [
        {
          "output_type": "stream",
          "name": "stdout",
          "text": [
            "Precision:\n",
            "Training set: 0.68594\n",
            "Validation set: 0.54976\n",
            "Testing set: 0.58709\n",
            "\n",
            "Recall:\n",
            "Training set: 1.0\n",
            "Validation set: 0.82416\n",
            "Testing set: 0.81392\n",
            "\n",
            "F1 score:\n",
            "Training set: 0.81372\n",
            "Validation set: 0.65956\n",
            "Testing set: 0.68214\n"
          ]
        }
      ]
    },
    {
      "cell_type": "markdown",
      "source": [
        "**7.4 Training DecisionTree with min_samples_split = 20**"
      ],
      "metadata": {
        "id": "X1qBnq9BdHxC"
      }
    },
    {
      "cell_type": "markdown",
      "source": [
        "Training the model using training set"
      ],
      "metadata": {
        "id": "3ylIIl7-dLXy"
      }
    },
    {
      "cell_type": "code",
      "source": [
        "tree_5 = DecisionTreeClassifier(random_state=3, min_samples_split=20).fit(X_train, y_train)"
      ],
      "metadata": {
        "id": "A9Vv09lPb9bI"
      },
      "execution_count": null,
      "outputs": []
    },
    {
      "cell_type": "markdown",
      "source": [
        "Predicting and calculating precision, recall and f1 scores"
      ],
      "metadata": {
        "id": "qmF2Q33hdNLm"
      }
    },
    {
      "cell_type": "code",
      "source": [
        "y_train_preds5 = tree_5.predict(X_train)\n",
        "y_val_preds5 = tree_5.predict(X_val)\n",
        "y_test_preds5 = tree_5.predict(X_test)\n",
        "\n",
        "print('Precision:')\n",
        "print(f\"Training set: {round(precision_score(y_train, y_train_preds5), 5)}\")\n",
        "print(f\"Validation set: {round(precision_score(y_val, y_val_preds5), 5)}\")\n",
        "print(f\"Testing set: {round(precision_score(y_test, y_test_preds5), 5)}\")\n",
        "\n",
        "print('')\n",
        "\n",
        "print('Recall:')\n",
        "print(f\"Training set: {round(recall_score(y_train, y_train_preds5), 5)}\")\n",
        "print(f\"Validation set: {round(recall_score(y_val, y_val_preds5), 5)}\")\n",
        "print(f\"Testing set: {round(recall_score(y_test, y_test_preds5), 5)}\")\n",
        "\n",
        "print('')\n",
        "\n",
        "print('F1 score:')\n",
        "print(f\"Training set: {round(f1_score(y_train, y_train_preds5), 5)}\")\n",
        "print(f\"Validation set: {round(f1_score(y_val, y_val_preds5), 5)}\")\n",
        "print(f\"Testing set: {round(f1_score(y_test, y_test_preds5), 5)}\")"
      ],
      "metadata": {
        "colab": {
          "base_uri": "https://localhost:8080/"
        },
        "id": "M0oxEqo2b_Ht",
        "outputId": "163b6bc6-410d-48f1-ea14-f73110b03437"
      },
      "execution_count": null,
      "outputs": [
        {
          "output_type": "stream",
          "name": "stdout",
          "text": [
            "Precision:\n",
            "Training set: 0.92271\n",
            "Validation set: 0.81503\n",
            "Testing set: 0.84751\n",
            "\n",
            "Recall:\n",
            "Training set: 0.85803\n",
            "Validation set: 0.75133\n",
            "Testing set: 0.75\n",
            "\n",
            "F1 score:\n",
            "Training set: 0.8892\n",
            "Validation set: 0.78189\n",
            "Testing set: 0.79578\n"
          ]
        }
      ]
    },
    {
      "cell_type": "markdown",
      "source": [
        "**7.5 Training DecisionTree with min_samples_split = 25**"
      ],
      "metadata": {
        "id": "uq86CEvhdo1t"
      }
    },
    {
      "cell_type": "markdown",
      "source": [
        "Training the model using training set"
      ],
      "metadata": {
        "id": "ut1YAo2adwG9"
      }
    },
    {
      "cell_type": "code",
      "source": [
        "tree_6 = DecisionTreeClassifier(random_state=3, min_samples_split=25).fit(X_train, y_train)"
      ],
      "metadata": {
        "id": "WPI839TWcNNQ"
      },
      "execution_count": null,
      "outputs": []
    },
    {
      "cell_type": "markdown",
      "source": [
        "Predicting and calculating precision, recall and f1 scores"
      ],
      "metadata": {
        "id": "YUqJy3-Iduqn"
      }
    },
    {
      "cell_type": "code",
      "source": [
        "y_train_preds6 = tree_6.predict(X_train)\n",
        "y_val_preds6 = tree_6.predict(X_val)\n",
        "y_test_preds6 = tree_6.predict(X_test)\n",
        "\n",
        "print('Precision:')\n",
        "print(f\"Training set: {round(precision_score(y_train, y_train_preds6), 5)}\")\n",
        "print(f\"Validation set: {round(precision_score(y_val, y_val_preds6), 5)}\")\n",
        "print(f\"Testing set: {round(precision_score(y_test, y_test_preds6), 5)}\")\n",
        "\n",
        "print('')\n",
        "\n",
        "print('Recall:')\n",
        "print(f\"Training set: {round(recall_score(y_train, y_train_preds6), 5)}\")\n",
        "print(f\"Validation set: {round(recall_score(y_val, y_val_preds6), 5)}\")\n",
        "print(f\"Testing set: {round(recall_score(y_test, y_test_preds6), 5)}\")\n",
        "\n",
        "print('')\n",
        "\n",
        "print('F1 score:')\n",
        "print(f\"Training set: {round(f1_score(y_train, y_train_preds4), 5)}\")\n",
        "print(f\"Validation set: {round(f1_score(y_val, y_val_preds4), 5)}\")\n",
        "print(f\"Testing set: {round(f1_score(y_test, y_test_preds4), 5)}\")"
      ],
      "metadata": {
        "colab": {
          "base_uri": "https://localhost:8080/"
        },
        "id": "D0DgvYtQcO-D",
        "outputId": "4b4a5c89-8b43-4683-a068-52611347aeca"
      },
      "execution_count": null,
      "outputs": [
        {
          "output_type": "stream",
          "name": "stdout",
          "text": [
            "Precision:\n",
            "Training set: 0.92087\n",
            "Validation set: 0.8248\n",
            "Testing set: 0.86275\n",
            "\n",
            "Recall:\n",
            "Training set: 0.84161\n",
            "Validation set: 0.74423\n",
            "Testing set: 0.75\n",
            "\n",
            "F1 score:\n",
            "Training set: 0.90212\n",
            "Validation set: 0.78163\n",
            "Testing set: 0.79609\n"
          ]
        }
      ]
    },
    {
      "cell_type": "markdown",
      "source": [
        "## **8. Training DecisionTree with min_samples_split and max_depth**"
      ],
      "metadata": {
        "id": "HMF_j42PdzaW"
      }
    },
    {
      "cell_type": "code",
      "source": [
        "tree_5.tree_.max_depth"
      ],
      "metadata": {
        "colab": {
          "base_uri": "https://localhost:8080/"
        },
        "id": "1NZ-KQHjTsh0",
        "outputId": "ff782a2d-1e02-4446-f916-0f53024b8768"
      },
      "execution_count": null,
      "outputs": [
        {
          "output_type": "execute_result",
          "data": {
            "text/plain": [
              "23"
            ]
          },
          "metadata": {},
          "execution_count": 45
        }
      ]
    },
    {
      "cell_type": "markdown",
      "source": [
        "**8.1 Training DecisionTree with min_samples_split = 20, max depth = 3**"
      ],
      "metadata": {
        "id": "sWXEhC4KeS1T"
      }
    },
    {
      "cell_type": "markdown",
      "source": [
        "Training the model using training set"
      ],
      "metadata": {
        "id": "6-HD6xqyd6vt"
      }
    },
    {
      "cell_type": "code",
      "source": [
        "tree_7 = DecisionTreeClassifier(random_state=3, min_samples_split=20, max_depth=5).fit(X_train, y_train)"
      ],
      "metadata": {
        "id": "St-K_jLDcqB-"
      },
      "execution_count": null,
      "outputs": []
    },
    {
      "cell_type": "markdown",
      "source": [
        "Predicting and calculating precision, recall and f1 scores"
      ],
      "metadata": {
        "id": "Hr_hrUx1d-Dl"
      }
    },
    {
      "cell_type": "code",
      "source": [
        "y_train_preds7 = tree_7.predict(X_train)\n",
        "y_val_preds7 = tree_7.predict(X_val)\n",
        "y_test_preds7 = tree_7.predict(X_test)\n",
        "\n",
        "print('Precision:')\n",
        "print(f\"Training set: {round(precision_score(y_train, y_train_preds7), 5)}\")\n",
        "print(f\"Validation set: {round(precision_score(y_val, y_val_preds7), 5)}\")\n",
        "print(f\"Testing set: {round(precision_score(y_test, y_test_preds7), 5)}\")\n",
        "\n",
        "print('')\n",
        "\n",
        "print('Recall:')\n",
        "print(f\"Training set: {round(recall_score(y_train, y_train_preds7), 5)}\")\n",
        "print(f\"Validation set: {round(recall_score(y_val, y_val_preds7), 5)}\")\n",
        "print(f\"Testing set: {round(recall_score(y_test, y_test_preds7), 5)}\")\n",
        "\n",
        "print('')\n",
        "\n",
        "print('F1 score:')\n",
        "print(f\"Training set: {round(f1_score(y_train, y_train_preds7), 5)}\")\n",
        "print(f\"Validation set: {round(f1_score(y_val, y_val_preds7), 5)}\")\n",
        "print(f\"Testing set: {round(f1_score(y_test, y_test_preds7), 5)}\")"
      ],
      "metadata": {
        "colab": {
          "base_uri": "https://localhost:8080/"
        },
        "id": "zVCrtKjcwJxn",
        "outputId": "0cae3c99-0b6c-4f05-baac-8344970cc8c4"
      },
      "execution_count": null,
      "outputs": [
        {
          "output_type": "stream",
          "name": "stdout",
          "text": [
            "Precision:\n",
            "Training set: 0.83895\n",
            "Validation set: 0.79941\n",
            "Testing set: 0.83827\n",
            "\n",
            "Recall:\n",
            "Training set: 0.50843\n",
            "Validation set: 0.48135\n",
            "Testing set: 0.52273\n",
            "\n",
            "F1 score:\n",
            "Training set: 0.63315\n",
            "Validation set: 0.60089\n",
            "Testing set: 0.64392\n"
          ]
        }
      ]
    },
    {
      "cell_type": "markdown",
      "source": [
        "**8.2 Training DecisionTree with min_samples_split = 20, max depth = 8**"
      ],
      "metadata": {
        "id": "DCJQdBeBeQVY"
      }
    },
    {
      "cell_type": "markdown",
      "source": [
        "Training the model using training set"
      ],
      "metadata": {
        "id": "ymixuTQtfDff"
      }
    },
    {
      "cell_type": "code",
      "source": [
        "tree_8 = DecisionTreeClassifier(random_state=3, min_samples_split=20, max_depth=8).fit(X_train, y_train)"
      ],
      "metadata": {
        "id": "9igr382ZdhJX"
      },
      "execution_count": null,
      "outputs": []
    },
    {
      "cell_type": "markdown",
      "source": [
        "Predicting and calculating precision, recall and f1 scores"
      ],
      "metadata": {
        "id": "azfTp4H0fFCB"
      }
    },
    {
      "cell_type": "code",
      "source": [
        "y_train_preds8 = tree_8.predict(X_train)\n",
        "y_val_preds8 = tree_8.predict(X_val)\n",
        "y_test_preds8 = tree_8.predict(X_test)\n",
        "\n",
        "print('Precision:')\n",
        "print(f\"Training set: {round(precision_score(y_train, y_train_preds8), 5)}\")\n",
        "print(f\"Validation set: {round(precision_score(y_val, y_val_preds8), 5)}\")\n",
        "print(f\"Testing set: {round(precision_score(y_test, y_test_preds8), 5)}\")\n",
        "\n",
        "print('')\n",
        "\n",
        "print('Recall:')\n",
        "print(f\"Training set: {round(recall_score(y_train, y_train_preds8), 5)}\")\n",
        "print(f\"Validation set: {round(recall_score(y_val, y_val_preds8), 5)}\")\n",
        "print(f\"Testing set: {round(recall_score(y_test, y_test_preds8), 5)}\")\n",
        "\n",
        "print('')\n",
        "\n",
        "print('F1 score:')\n",
        "print(f\"Training set: {round(f1_score(y_train, y_train_preds8), 5)}\")\n",
        "print(f\"Validation set: {round(f1_score(y_val, y_val_preds8), 5)}\")\n",
        "print(f\"Testing set: {round(f1_score(y_test, y_test_preds8), 5)}\")"
      ],
      "metadata": {
        "colab": {
          "base_uri": "https://localhost:8080/"
        },
        "id": "ndsdusSLfG-i",
        "outputId": "a0cee4b8-89d8-41c9-e9a7-69395b7da819"
      },
      "execution_count": null,
      "outputs": [
        {
          "output_type": "stream",
          "name": "stdout",
          "text": [
            "Precision:\n",
            "Training set: 0.93076\n",
            "Validation set: 0.89385\n",
            "Testing set: 0.91068\n",
            "\n",
            "Recall:\n",
            "Training set: 0.62023\n",
            "Validation set: 0.56838\n",
            "Testing set: 0.59375\n",
            "\n",
            "F1 score:\n",
            "Training set: 0.74441\n",
            "Validation set: 0.6949\n",
            "Testing set: 0.71883\n"
          ]
        }
      ]
    },
    {
      "cell_type": "markdown",
      "source": [
        "**8.3 Training DecisionTree with min_samples_split = 20, max depth = 15**"
      ],
      "metadata": {
        "id": "ZOXx_boWfUcr"
      }
    },
    {
      "cell_type": "markdown",
      "source": [
        "Training the model using training set"
      ],
      "metadata": {
        "id": "ffEmGBhhfYVs"
      }
    },
    {
      "cell_type": "code",
      "source": [
        "tree_9 = DecisionTreeClassifier(random_state=3, min_samples_split=20, max_depth=15).fit(X_train, y_train)"
      ],
      "metadata": {
        "id": "bnQuKz7IetVB"
      },
      "execution_count": null,
      "outputs": []
    },
    {
      "cell_type": "markdown",
      "source": [
        "Predicting and calculating precision, recall and f1 scores"
      ],
      "metadata": {
        "id": "DMnZij-vfaee"
      }
    },
    {
      "cell_type": "code",
      "source": [
        "y_train_preds9 = tree_9.predict(X_train)\n",
        "y_val_preds9 = tree_9.predict(X_val)\n",
        "y_test_preds9 = tree_9.predict(X_test)\n",
        "\n",
        "print('Precision:')\n",
        "print(f\"Training set: {round(precision_score(y_train, y_train_preds9), 5)}\")\n",
        "print(f\"Validation set: {round(precision_score(y_val, y_val_preds9), 5)}\")\n",
        "print(f\"Testing set: {round(precision_score(y_test, y_test_preds9), 5)}\")\n",
        "\n",
        "print('')\n",
        "\n",
        "print('Recall:')\n",
        "print(f\"Training set: {round(recall_score(y_train, y_train_preds9), 5)}\")\n",
        "print(f\"Validation set: {round(recall_score(y_val, y_val_preds9), 5)}\")\n",
        "print(f\"Testing set: {round(recall_score(y_test, y_test_preds9), 5)}\")\n",
        "\n",
        "print('')\n",
        "\n",
        "print('F1 score:')\n",
        "print(f\"Training set: {round(f1_score(y_train, y_train_preds9), 5)}\")\n",
        "print(f\"Validation set: {round(f1_score(y_val, y_val_preds9), 5)}\")\n",
        "print(f\"Testing set: {round(f1_score(y_test, y_test_preds9), 5)}\")"
      ],
      "metadata": {
        "colab": {
          "base_uri": "https://localhost:8080/"
        },
        "id": "9HN2Qy0zwfxb",
        "outputId": "c88f8c62-45e4-4fc8-d8ec-608c660bb987"
      },
      "execution_count": null,
      "outputs": [
        {
          "output_type": "stream",
          "name": "stdout",
          "text": [
            "Precision:\n",
            "Training set: 0.9263\n",
            "Validation set: 0.82192\n",
            "Testing set: 0.85808\n",
            "\n",
            "Recall:\n",
            "Training set: 0.85315\n",
            "Validation set: 0.746\n",
            "Testing set: 0.74716\n",
            "\n",
            "F1 score:\n",
            "Training set: 0.88822\n",
            "Validation set: 0.78212\n",
            "Testing set: 0.79879\n"
          ]
        }
      ]
    },
    {
      "cell_type": "markdown",
      "source": [
        "**8.4 Training DecisionTree with min_samples_split = 20, max depth = 20**"
      ],
      "metadata": {
        "id": "5nVqlWzvo2jR"
      }
    },
    {
      "cell_type": "markdown",
      "source": [
        "Training the model using training set"
      ],
      "metadata": {
        "id": "wFKoJJjjo40q"
      }
    },
    {
      "cell_type": "code",
      "source": [
        "tree_10 = DecisionTreeClassifier(random_state=3, min_samples_split=20, max_depth=20).fit(X_train, y_train)"
      ],
      "metadata": {
        "id": "mYNRvjFePpbp"
      },
      "execution_count": null,
      "outputs": []
    },
    {
      "cell_type": "markdown",
      "source": [
        "Predicting and calculating precision, recall and f1 scores"
      ],
      "metadata": {
        "id": "InsT8sCao6et"
      }
    },
    {
      "cell_type": "code",
      "source": [
        "y_train_preds10 = tree_10.predict(X_train)\n",
        "y_val_preds10 = tree_10.predict(X_val)\n",
        "y_test_preds10 = tree_10.predict(X_test)\n",
        "\n",
        "print('Precision:')\n",
        "print(f\"Training set: {round(precision_score(y_train, y_train_preds10), 5)}\")\n",
        "print(f\"Validation set: {round(precision_score(y_val, y_val_preds10), 5)}\")\n",
        "print(f\"Testing set: {round(precision_score(y_test, y_test_preds10), 5)}\")\n",
        "\n",
        "print('')\n",
        "\n",
        "print('Recall:')\n",
        "print(f\"Training set: {round(recall_score(y_train, y_train_preds10), 5)}\")\n",
        "print(f\"Validation set: {round(recall_score(y_val, y_val_preds10), 5)}\")\n",
        "print(f\"Testing set: {round(recall_score(y_test, y_test_preds10), 5)}\")\n",
        "\n",
        "print('')\n",
        "\n",
        "print('F1 score:')\n",
        "print(f\"Training set: {round(f1_score(y_train, y_train_preds10), 5)}\")\n",
        "print(f\"Validation set: {round(f1_score(y_val, y_val_preds10), 5)}\")\n",
        "print(f\"Testing set: {round(f1_score(y_test, y_test_preds10), 5)}\")"
      ],
      "metadata": {
        "colab": {
          "base_uri": "https://localhost:8080/"
        },
        "id": "r5n2Dp-qwquH",
        "outputId": "b095eccd-70d5-441d-e7ec-79df4f8cb4b4"
      },
      "execution_count": null,
      "outputs": [
        {
          "output_type": "stream",
          "name": "stdout",
          "text": [
            "Precision:\n",
            "Training set: 0.92271\n",
            "Validation set: 0.81503\n",
            "Testing set: 0.84751\n",
            "\n",
            "Recall:\n",
            "Training set: 0.85803\n",
            "Validation set: 0.75133\n",
            "Testing set: 0.75\n",
            "\n",
            "F1 score:\n",
            "Training set: 0.8892\n",
            "Validation set: 0.78189\n",
            "Testing set: 0.79578\n"
          ]
        }
      ]
    },
    {
      "cell_type": "markdown",
      "source": [
        "**8.5 Training DecisionTree with min_samples_split = 20, max depth = 25**"
      ],
      "metadata": {
        "id": "Q2Dik1A9o8Sf"
      }
    },
    {
      "cell_type": "markdown",
      "source": [
        "Training the model using training set"
      ],
      "metadata": {
        "id": "yakfTWUBo-7E"
      }
    },
    {
      "cell_type": "code",
      "source": [
        "tree_11 = DecisionTreeClassifier(random_state=3, min_samples_split=20, max_depth=25).fit(X_train, y_train)"
      ],
      "metadata": {
        "id": "-MIBpWpiacpM"
      },
      "execution_count": null,
      "outputs": []
    },
    {
      "cell_type": "markdown",
      "source": [
        "Predicting and calculating precision, recall and f1 scores"
      ],
      "metadata": {
        "id": "7Ny2wWG1pAVn"
      }
    },
    {
      "cell_type": "code",
      "source": [
        "y_train_preds11 = tree_11.predict(X_train)\n",
        "y_val_preds11 = tree_11.predict(X_val)\n",
        "y_test_preds11 = tree_11.predict(X_test)\n",
        "\n",
        "print('Precision:')\n",
        "print(f\"Training set: {round(precision_score(y_train, y_train_preds11), 5)}\")\n",
        "print(f\"Validation set: {round(precision_score(y_val, y_val_preds11), 5)}\")\n",
        "print(f\"Testing set: {round(precision_score(y_test, y_test_preds11), 5)}\")\n",
        "\n",
        "print('')\n",
        "\n",
        "print('Recall:')\n",
        "print(f\"Training set: {round(recall_score(y_train, y_train_preds11), 5)}\")\n",
        "print(f\"Validation set: {round(recall_score(y_val, y_val_preds11), 5)}\")\n",
        "print(f\"Testing set: {round(recall_score(y_test, y_test_preds11), 5)}\")\n",
        "\n",
        "print('')\n",
        "\n",
        "print('F1 score:')\n",
        "print(f\"Training set: {round(f1_score(y_train, y_train_preds11), 5)}\")\n",
        "print(f\"Validation set: {round(f1_score(y_val, y_val_preds11), 5)}\")\n",
        "print(f\"Testing set: {round(f1_score(y_test, y_test_preds11), 5)}\")"
      ],
      "metadata": {
        "colab": {
          "base_uri": "https://localhost:8080/"
        },
        "id": "7RZKh_8Zwx6_",
        "outputId": "4cfdc0e1-87d5-42b7-be02-d09b4dae2e35"
      },
      "execution_count": null,
      "outputs": [
        {
          "output_type": "stream",
          "name": "stdout",
          "text": [
            "Precision:\n",
            "Training set: 0.92271\n",
            "Validation set: 0.81503\n",
            "Testing set: 0.84751\n",
            "\n",
            "Recall:\n",
            "Training set: 0.85803\n",
            "Validation set: 0.75133\n",
            "Testing set: 0.75\n",
            "\n",
            "F1 score:\n",
            "Training set: 0.8892\n",
            "Validation set: 0.78189\n",
            "Testing set: 0.79578\n"
          ]
        }
      ]
    },
    {
      "cell_type": "markdown",
      "source": [
        "## **9. DecisionTree with automated hyperparameter tuning (RandomSearch)**"
      ],
      "metadata": {
        "id": "kpqwnBFzf1Uj"
      }
    },
    {
      "cell_type": "markdown",
      "source": [
        "**9.1 Importing RandomizedSearchCV and StratifiedKFold libraries**"
      ],
      "metadata": {
        "id": "HVi6AFNDpCjM"
      }
    },
    {
      "cell_type": "code",
      "source": [
        "from sklearn.model_selection import RandomizedSearchCV, StratifiedKFold\n",
        "from scipy.stats import randint"
      ],
      "metadata": {
        "id": "u9XKjppClc8w"
      },
      "execution_count": null,
      "outputs": []
    },
    {
      "cell_type": "markdown",
      "source": [
        "**9.2 Instantiating DecisionTree**"
      ],
      "metadata": {
        "id": "rcQNkbM3pP2T"
      }
    },
    {
      "cell_type": "code",
      "source": [
        "DT = DecisionTreeClassifier(random_state=3)"
      ],
      "metadata": {
        "id": "fQvKUGLDleso"
      },
      "execution_count": null,
      "outputs": []
    },
    {
      "cell_type": "markdown",
      "source": [
        "**9.3 Defining hyperparameter range**"
      ],
      "metadata": {
        "id": "o8q1Q1W9pTgv"
      }
    },
    {
      "cell_type": "code",
      "source": [
        "hyperparams_dist = {\n",
        "    'min_samples_split': randint(10,25),\n",
        "    'max_depth' : randint(15,25)\n",
        "}"
      ],
      "metadata": {
        "id": "269uYl9Kl95D"
      },
      "execution_count": null,
      "outputs": []
    },
    {
      "cell_type": "markdown",
      "source": [
        "**9.4 Training DecisionTree using training set**"
      ],
      "metadata": {
        "id": "rMeMHJ1mpWt1"
      }
    },
    {
      "cell_type": "code",
      "source": [
        "skf = StratifiedKFold(n_splits=5)\n",
        "random_search_DT = RandomizedSearchCV(DT, hyperparams_dist, random_state=3, cv=skf, verbose=1)\n",
        "random_search_DT.fit(X_train, y_train)"
      ],
      "metadata": {
        "colab": {
          "base_uri": "https://localhost:8080/"
        },
        "id": "gMZiks8YmnO-",
        "outputId": "83756205-6bc2-40ec-e9ba-143135efd7d7"
      },
      "execution_count": null,
      "outputs": [
        {
          "output_type": "stream",
          "name": "stdout",
          "text": [
            "Fitting 5 folds for each of 10 candidates, totalling 50 fits\n"
          ]
        },
        {
          "output_type": "execute_result",
          "data": {
            "text/plain": [
              "RandomizedSearchCV(cv=StratifiedKFold(n_splits=5, random_state=None, shuffle=False),\n",
              "                   estimator=DecisionTreeClassifier(random_state=3),\n",
              "                   param_distributions={'max_depth': <scipy.stats._distn_infrastructure.rv_discrete_frozen object at 0x7fe0e02a76d0>,\n",
              "                                        'min_samples_split': <scipy.stats._distn_infrastructure.rv_discrete_frozen object at 0x7fe0e0307790>},\n",
              "                   random_state=3, verbose=1)"
            ],
            "text/html": [
              "<style>#sk-container-id-1 {color: black;background-color: white;}#sk-container-id-1 pre{padding: 0;}#sk-container-id-1 div.sk-toggleable {background-color: white;}#sk-container-id-1 label.sk-toggleable__label {cursor: pointer;display: block;width: 100%;margin-bottom: 0;padding: 0.3em;box-sizing: border-box;text-align: center;}#sk-container-id-1 label.sk-toggleable__label-arrow:before {content: \"▸\";float: left;margin-right: 0.25em;color: #696969;}#sk-container-id-1 label.sk-toggleable__label-arrow:hover:before {color: black;}#sk-container-id-1 div.sk-estimator:hover label.sk-toggleable__label-arrow:before {color: black;}#sk-container-id-1 div.sk-toggleable__content {max-height: 0;max-width: 0;overflow: hidden;text-align: left;background-color: #f0f8ff;}#sk-container-id-1 div.sk-toggleable__content pre {margin: 0.2em;color: black;border-radius: 0.25em;background-color: #f0f8ff;}#sk-container-id-1 input.sk-toggleable__control:checked~div.sk-toggleable__content {max-height: 200px;max-width: 100%;overflow: auto;}#sk-container-id-1 input.sk-toggleable__control:checked~label.sk-toggleable__label-arrow:before {content: \"▾\";}#sk-container-id-1 div.sk-estimator input.sk-toggleable__control:checked~label.sk-toggleable__label {background-color: #d4ebff;}#sk-container-id-1 div.sk-label input.sk-toggleable__control:checked~label.sk-toggleable__label {background-color: #d4ebff;}#sk-container-id-1 input.sk-hidden--visually {border: 0;clip: rect(1px 1px 1px 1px);clip: rect(1px, 1px, 1px, 1px);height: 1px;margin: -1px;overflow: hidden;padding: 0;position: absolute;width: 1px;}#sk-container-id-1 div.sk-estimator {font-family: monospace;background-color: #f0f8ff;border: 1px dotted black;border-radius: 0.25em;box-sizing: border-box;margin-bottom: 0.5em;}#sk-container-id-1 div.sk-estimator:hover {background-color: #d4ebff;}#sk-container-id-1 div.sk-parallel-item::after {content: \"\";width: 100%;border-bottom: 1px solid gray;flex-grow: 1;}#sk-container-id-1 div.sk-label:hover label.sk-toggleable__label {background-color: #d4ebff;}#sk-container-id-1 div.sk-serial::before {content: \"\";position: absolute;border-left: 1px solid gray;box-sizing: border-box;top: 0;bottom: 0;left: 50%;z-index: 0;}#sk-container-id-1 div.sk-serial {display: flex;flex-direction: column;align-items: center;background-color: white;padding-right: 0.2em;padding-left: 0.2em;position: relative;}#sk-container-id-1 div.sk-item {position: relative;z-index: 1;}#sk-container-id-1 div.sk-parallel {display: flex;align-items: stretch;justify-content: center;background-color: white;position: relative;}#sk-container-id-1 div.sk-item::before, #sk-container-id-1 div.sk-parallel-item::before {content: \"\";position: absolute;border-left: 1px solid gray;box-sizing: border-box;top: 0;bottom: 0;left: 50%;z-index: -1;}#sk-container-id-1 div.sk-parallel-item {display: flex;flex-direction: column;z-index: 1;position: relative;background-color: white;}#sk-container-id-1 div.sk-parallel-item:first-child::after {align-self: flex-end;width: 50%;}#sk-container-id-1 div.sk-parallel-item:last-child::after {align-self: flex-start;width: 50%;}#sk-container-id-1 div.sk-parallel-item:only-child::after {width: 0;}#sk-container-id-1 div.sk-dashed-wrapped {border: 1px dashed gray;margin: 0 0.4em 0.5em 0.4em;box-sizing: border-box;padding-bottom: 0.4em;background-color: white;}#sk-container-id-1 div.sk-label label {font-family: monospace;font-weight: bold;display: inline-block;line-height: 1.2em;}#sk-container-id-1 div.sk-label-container {text-align: center;}#sk-container-id-1 div.sk-container {/* jupyter's `normalize.less` sets `[hidden] { display: none; }` but bootstrap.min.css set `[hidden] { display: none !important; }` so we also need the `!important` here to be able to override the default hidden behavior on the sphinx rendered scikit-learn.org. See: https://github.com/scikit-learn/scikit-learn/issues/21755 */display: inline-block !important;position: relative;}#sk-container-id-1 div.sk-text-repr-fallback {display: none;}</style><div id=\"sk-container-id-1\" class=\"sk-top-container\"><div class=\"sk-text-repr-fallback\"><pre>RandomizedSearchCV(cv=StratifiedKFold(n_splits=5, random_state=None, shuffle=False),\n",
              "                   estimator=DecisionTreeClassifier(random_state=3),\n",
              "                   param_distributions={&#x27;max_depth&#x27;: &lt;scipy.stats._distn_infrastructure.rv_discrete_frozen object at 0x7fe0e02a76d0&gt;,\n",
              "                                        &#x27;min_samples_split&#x27;: &lt;scipy.stats._distn_infrastructure.rv_discrete_frozen object at 0x7fe0e0307790&gt;},\n",
              "                   random_state=3, verbose=1)</pre><b>In a Jupyter environment, please rerun this cell to show the HTML representation or trust the notebook. <br />On GitHub, the HTML representation is unable to render, please try loading this page with nbviewer.org.</b></div><div class=\"sk-container\" hidden><div class=\"sk-item sk-dashed-wrapped\"><div class=\"sk-label-container\"><div class=\"sk-label sk-toggleable\"><input class=\"sk-toggleable__control sk-hidden--visually\" id=\"sk-estimator-id-1\" type=\"checkbox\" ><label for=\"sk-estimator-id-1\" class=\"sk-toggleable__label sk-toggleable__label-arrow\">RandomizedSearchCV</label><div class=\"sk-toggleable__content\"><pre>RandomizedSearchCV(cv=StratifiedKFold(n_splits=5, random_state=None, shuffle=False),\n",
              "                   estimator=DecisionTreeClassifier(random_state=3),\n",
              "                   param_distributions={&#x27;max_depth&#x27;: &lt;scipy.stats._distn_infrastructure.rv_discrete_frozen object at 0x7fe0e02a76d0&gt;,\n",
              "                                        &#x27;min_samples_split&#x27;: &lt;scipy.stats._distn_infrastructure.rv_discrete_frozen object at 0x7fe0e0307790&gt;},\n",
              "                   random_state=3, verbose=1)</pre></div></div></div><div class=\"sk-parallel\"><div class=\"sk-parallel-item\"><div class=\"sk-item\"><div class=\"sk-label-container\"><div class=\"sk-label sk-toggleable\"><input class=\"sk-toggleable__control sk-hidden--visually\" id=\"sk-estimator-id-2\" type=\"checkbox\" ><label for=\"sk-estimator-id-2\" class=\"sk-toggleable__label sk-toggleable__label-arrow\">estimator: DecisionTreeClassifier</label><div class=\"sk-toggleable__content\"><pre>DecisionTreeClassifier(random_state=3)</pre></div></div></div><div class=\"sk-serial\"><div class=\"sk-item\"><div class=\"sk-estimator sk-toggleable\"><input class=\"sk-toggleable__control sk-hidden--visually\" id=\"sk-estimator-id-3\" type=\"checkbox\" ><label for=\"sk-estimator-id-3\" class=\"sk-toggleable__label sk-toggleable__label-arrow\">DecisionTreeClassifier</label><div class=\"sk-toggleable__content\"><pre>DecisionTreeClassifier(random_state=3)</pre></div></div></div></div></div></div></div></div></div></div>"
            ]
          },
          "metadata": {},
          "execution_count": 59
        }
      ]
    },
    {
      "cell_type": "markdown",
      "source": [
        "**9.5 Showing the best hyperparameter**"
      ],
      "metadata": {
        "id": "cUu_2trApcWD"
      }
    },
    {
      "cell_type": "code",
      "source": [
        "random_search_DT.best_params_"
      ],
      "metadata": {
        "colab": {
          "base_uri": "https://localhost:8080/"
        },
        "id": "APAuaknFmv5j",
        "outputId": "6526a0a7-27e5-4cd8-c0dd-c46522351279"
      },
      "execution_count": null,
      "outputs": [
        {
          "output_type": "execute_result",
          "data": {
            "text/plain": [
              "{'max_depth': 20, 'min_samples_split': 23}"
            ]
          },
          "metadata": {},
          "execution_count": 60
        }
      ]
    },
    {
      "cell_type": "markdown",
      "source": [
        "**9.6 Predicting and calculating precision, recall and f1 scores**"
      ],
      "metadata": {
        "id": "z52HfvqBpfNj"
      }
    },
    {
      "cell_type": "code",
      "source": [
        "y_train_random_preds = random_search_DT.predict(X_train)\n",
        "y_val_random_preds = random_search_DT.predict(X_val)\n",
        "y_test_random_preds = random_search_DT.predict(X_test)\n",
        "\n",
        "print('Precision:')\n",
        "print(f\"Training set: {round(precision_score(y_train, y_train_random_preds), 5)}\")\n",
        "print(f\"Validation set: {round(precision_score(y_val, y_val_random_preds), 5)}\")\n",
        "print(f\"Testing set: {round(precision_score(y_test, y_test_random_preds), 5)}\")\n",
        "\n",
        "print('')\n",
        "\n",
        "print('Recall:')\n",
        "print(f\"Training set: {round(recall_score(y_train, y_train_random_preds), 5)}\")\n",
        "print(f\"Validation set: {round(recall_score(y_val, y_val_random_preds), 5)}\")\n",
        "print(f\"Testing set: {round(recall_score(y_test, y_test_random_preds), 5)}\")\n",
        "\n",
        "print('')\n",
        "\n",
        "print('F1 score:')\n",
        "print(f\"Training set: {round(f1_score(y_train, y_train_random_preds), 5)}\")\n",
        "print(f\"Validation set: {round(f1_score(y_val, y_val_random_preds), 5)}\")\n",
        "print(f\"Testing set: {round(f1_score(y_test, y_test_random_preds), 5)}\")"
      ],
      "metadata": {
        "colab": {
          "base_uri": "https://localhost:8080/"
        },
        "id": "_LzUH3xAoRZ4",
        "outputId": "c70665f2-9872-41fb-a890-93427f81db45"
      },
      "execution_count": null,
      "outputs": [
        {
          "output_type": "stream",
          "name": "stdout",
          "text": [
            "Precision:\n",
            "Training set: 0.92363\n",
            "Validation set: 0.82515\n",
            "Testing set: 0.86557\n",
            "\n",
            "Recall:\n",
            "Training set: 0.84783\n",
            "Validation set: 0.746\n",
            "Testing set: 0.75\n",
            "\n",
            "F1 score:\n",
            "Training set: 0.88411\n",
            "Validation set: 0.78358\n",
            "Testing set: 0.80365\n"
          ]
        }
      ]
    },
    {
      "cell_type": "markdown",
      "source": [
        "**9.7 Training the same model but adding class_weight='balanced'**"
      ],
      "metadata": {
        "id": "xRTs_D-70D7p"
      }
    },
    {
      "cell_type": "code",
      "source": [
        "random_search_DT2 = DecisionTreeClassifier(random_state=3, class_weight='balanced', min_samples_split=23, max_depth=20).fit(X_train, y_train)"
      ],
      "metadata": {
        "id": "Pil4OMtvtLNR"
      },
      "execution_count": null,
      "outputs": []
    },
    {
      "cell_type": "code",
      "source": [
        "y_train_random_preds2 = random_search_DT2.predict(X_train)\n",
        "y_val_random_preds2 = random_search_DT2.predict(X_val)\n",
        "y_test_random_preds2 = random_search_DT2.predict(X_test)\n",
        "\n",
        "print('Precision:')\n",
        "print(f\"Training set: {round(precision_score(y_train, y_train_random_preds2), 5)}\")\n",
        "print(f\"Validation set: {round(precision_score(y_val, y_val_random_preds2), 5)}\")\n",
        "print(f\"Testing set: {round(precision_score(y_test, y_test_random_preds2), 5)}\")\n",
        "\n",
        "print('')\n",
        "\n",
        "print('Recall:')\n",
        "print(f\"Training set: {round(recall_score(y_train, y_train_random_preds2), 5)}\")\n",
        "print(f\"Validation set: {round(recall_score(y_val, y_val_random_preds2), 5)}\")\n",
        "print(f\"Testing set: {round(recall_score(y_test, y_test_random_preds2), 5)}\")\n",
        "\n",
        "print('')\n",
        "\n",
        "print('F1 score:')\n",
        "print(f\"Training set: {round(f1_score(y_train, y_train_random_preds2), 5)}\")\n",
        "print(f\"Validation set: {round(f1_score(y_val, y_val_random_preds2), 5)}\")\n",
        "print(f\"Testing set: {round(f1_score(y_test, y_test_random_preds2), 5)}\")"
      ],
      "metadata": {
        "colab": {
          "base_uri": "https://localhost:8080/"
        },
        "id": "1JVl7EeatSjW",
        "outputId": "0ae24e83-dbae-42a3-dcf4-50ad5f43b112"
      },
      "execution_count": null,
      "outputs": [
        {
          "output_type": "stream",
          "name": "stdout",
          "text": [
            "Precision:\n",
            "Training set: 0.59176\n",
            "Validation set: 0.4959\n",
            "Testing set: 0.518\n",
            "\n",
            "Recall:\n",
            "Training set: 1.0\n",
            "Validation set: 0.85968\n",
            "Testing set: 0.83807\n",
            "\n",
            "F1 score:\n",
            "Training set: 0.74353\n",
            "Validation set: 0.62898\n",
            "Testing set: 0.64026\n"
          ]
        }
      ]
    },
    {
      "cell_type": "markdown",
      "source": [
        "**9.8 Confusion Matrix**"
      ],
      "metadata": {
        "id": "ZzRZbsHHpjl1"
      }
    },
    {
      "cell_type": "code",
      "source": [
        "from sklearn.metrics import ConfusionMatrixDisplay\n",
        "ConfusionMatrixDisplay.from_estimator(random_search_DT, X_test, y_test, normalize='true')"
      ],
      "metadata": {
        "colab": {
          "base_uri": "https://localhost:8080/"
        },
        "id": "pdu3PkNdgRKQ",
        "outputId": "3ccca274-99e9-4f2e-dc92-db4ee1dd9179"
      },
      "execution_count": null,
      "outputs": [
        {
          "output_type": "execute_result",
          "data": {
            "text/plain": [
              "<sklearn.metrics._plot.confusion_matrix.ConfusionMatrixDisplay at 0x7fe0e02a70a0>"
            ]
          },
          "metadata": {},
          "execution_count": 64
        },
        {
          "output_type": "display_data",
          "data": {
            "text/plain": [
              "<Figure size 640x480 with 2 Axes>"
            ],
            "image/png": "[encoded data removed]"
          },
          "metadata": {}
        }
      ]
    }
  ],
  "metadata": {
    "colab": {
      "provenance": [],
      "collapsed_sections": [
        "2A7M20qZM8U2",
        "QqT323ndNIX_",
        "hDssPGOINOJS",
        "Zcynox2yRtJF"
      ]
    },
    "gpuClass": "standard",
    "kernelspec": {
      "display_name": "Python 3",
      "name": "python3"
    },
    "language_info": {
      "name": "python"
    }
  },
  "nbformat": 4,
  "nbformat_minor": 0
}