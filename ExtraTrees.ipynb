{
  "cells": [
    {
      "cell_type": "markdown",
      "metadata": {
        "id": "bn8uvg3HRezu"
      },
      "source": [
        "### **ExtraTrees**\n",
        "\n",
        "1. Load dataset\n",
        "2. Exploring dataset\n",
        "3. Data Cleaning\n",
        "4. Preparing Dataset\n",
        "5. Assessing Baseline\n",
        "6. Training ExtraTrees\n",
        "7. ExtraTrees with automated hyperparameter tuning (Random Search)\n",
        "8. Features Importance"
      ]
    },
    {
      "cell_type": "markdown",
      "metadata": {
        "id": "2A7M20qZM8U2"
      },
      "source": [
        "## **1. Load dataset**"
      ]
    },
    {
      "cell_type": "markdown",
      "metadata": {
        "id": "DhqA0m4lPZvA"
      },
      "source": [
        "**1.1 Importing pandas and numpy packages**"
      ]
    },
    {
      "cell_type": "code",
      "execution_count": null,
      "metadata": {
        "id": "yvDXaQM7GSpe"
      },
      "outputs": [],
      "source": [
        "import pandas as pd\n",
        "import numpy as np"
      ]
    },
    {
      "cell_type": "markdown",
      "metadata": {
        "id": "eORfKXHRdmIj"
      },
      "source": [
        "**1.2 Reading csv file**"
      ]
    },
    {
      "cell_type": "code",
      "execution_count": null,
      "metadata": {
        "id": "afh6wkA1Gg8t"
      },
      "outputs": [],
      "source": [
        "df = pd.read_csv('https://raw.githubusercontent.com/mcyaputra/Files/main/repurchase_training.csv')"
      ]
    },
    {
      "cell_type": "markdown",
      "metadata": {
        "id": "QqT323ndNIX_"
      },
      "source": [
        "## **2. Exploring dataset**"
      ]
    },
    {
      "cell_type": "markdown",
      "metadata": {
        "id": "vH25glDjdqsu"
      },
      "source": [
        "**2.1 First 10 rows of the dataset**"
      ]
    },
    {
      "cell_type": "code",
      "execution_count": null,
      "metadata": {
        "colab": {
          "base_uri": "https://localhost:8080/"
        },
        "id": "lSXURbbbIW5e",
        "outputId": "f7cdc7d0-f899-4081-a8c2-63e79cc7c0a9"
      },
      "outputs": [
        {
          "data": {
            "text/html": [
              "\n",
              "  <div id=\"df-c4c94a17-36dd-4a84-8037-aef7c1b44baa\">\n",
              "    <div class=\"colab-df-container\">\n",
              "      <div>\n",
              "<style scoped>\n",
              "    .dataframe tbody tr th:only-of-type {\n",
              "        vertical-align: middle;\n",
              "    }\n",
              "\n",
              "    .dataframe tbody tr th {\n",
              "        vertical-align: top;\n",
              "    }\n",
              "\n",
              "    .dataframe thead th {\n",
              "        text-align: right;\n",
              "    }\n",
              "</style>\n",
              "<table border=\"1\" class=\"dataframe\">\n",
              "  <thead>\n",
              "    <tr style=\"text-align: right;\">\n",
              "      <th></th>\n",
              "      <th>ID</th>\n",
              "      <th>Target</th>\n",
              "      <th>age_band</th>\n",
              "      <th>gender</th>\n",
              "      <th>car_model</th>\n",
              "      <th>car_segment</th>\n",
              "      <th>age_of_vehicle_years</th>\n",
              "      <th>sched_serv_warr</th>\n",
              "      <th>non_sched_serv_warr</th>\n",
              "      <th>sched_serv_paid</th>\n",
              "      <th>non_sched_serv_paid</th>\n",
              "      <th>total_paid_services</th>\n",
              "      <th>total_services</th>\n",
              "      <th>mth_since_last_serv</th>\n",
              "      <th>annualised_mileage</th>\n",
              "      <th>num_dealers_visited</th>\n",
              "      <th>num_serv_dealer_purchased</th>\n",
              "    </tr>\n",
              "  </thead>\n",
              "  <tbody>\n",
              "    <tr>\n",
              "      <th>0</th>\n",
              "      <td>1</td>\n",
              "      <td>0</td>\n",
              "      <td>3. 35 to 44</td>\n",
              "      <td>Male</td>\n",
              "      <td>model_1</td>\n",
              "      <td>LCV</td>\n",
              "      <td>9</td>\n",
              "      <td>2</td>\n",
              "      <td>10</td>\n",
              "      <td>3</td>\n",
              "      <td>7</td>\n",
              "      <td>5</td>\n",
              "      <td>6</td>\n",
              "      <td>9</td>\n",
              "      <td>8</td>\n",
              "      <td>10</td>\n",
              "      <td>4</td>\n",
              "    </tr>\n",
              "    <tr>\n",
              "      <th>1</th>\n",
              "      <td>2</td>\n",
              "      <td>0</td>\n",
              "      <td>NaN</td>\n",
              "      <td>NaN</td>\n",
              "      <td>model_2</td>\n",
              "      <td>Small/Medium</td>\n",
              "      <td>6</td>\n",
              "      <td>10</td>\n",
              "      <td>3</td>\n",
              "      <td>10</td>\n",
              "      <td>4</td>\n",
              "      <td>9</td>\n",
              "      <td>10</td>\n",
              "      <td>6</td>\n",
              "      <td>10</td>\n",
              "      <td>7</td>\n",
              "      <td>10</td>\n",
              "    </tr>\n",
              "    <tr>\n",
              "      <th>2</th>\n",
              "      <td>3</td>\n",
              "      <td>0</td>\n",
              "      <td>NaN</td>\n",
              "      <td>Male</td>\n",
              "      <td>model_3</td>\n",
              "      <td>Large/SUV</td>\n",
              "      <td>9</td>\n",
              "      <td>10</td>\n",
              "      <td>9</td>\n",
              "      <td>10</td>\n",
              "      <td>9</td>\n",
              "      <td>10</td>\n",
              "      <td>10</td>\n",
              "      <td>7</td>\n",
              "      <td>10</td>\n",
              "      <td>6</td>\n",
              "      <td>10</td>\n",
              "    </tr>\n",
              "    <tr>\n",
              "      <th>3</th>\n",
              "      <td>5</td>\n",
              "      <td>0</td>\n",
              "      <td>NaN</td>\n",
              "      <td>NaN</td>\n",
              "      <td>model_3</td>\n",
              "      <td>Large/SUV</td>\n",
              "      <td>5</td>\n",
              "      <td>8</td>\n",
              "      <td>5</td>\n",
              "      <td>8</td>\n",
              "      <td>4</td>\n",
              "      <td>5</td>\n",
              "      <td>6</td>\n",
              "      <td>4</td>\n",
              "      <td>10</td>\n",
              "      <td>9</td>\n",
              "      <td>7</td>\n",
              "    </tr>\n",
              "    <tr>\n",
              "      <th>4</th>\n",
              "      <td>6</td>\n",
              "      <td>0</td>\n",
              "      <td>NaN</td>\n",
              "      <td>Female</td>\n",
              "      <td>model_2</td>\n",
              "      <td>Small/Medium</td>\n",
              "      <td>8</td>\n",
              "      <td>9</td>\n",
              "      <td>4</td>\n",
              "      <td>10</td>\n",
              "      <td>7</td>\n",
              "      <td>9</td>\n",
              "      <td>8</td>\n",
              "      <td>5</td>\n",
              "      <td>4</td>\n",
              "      <td>4</td>\n",
              "      <td>9</td>\n",
              "    </tr>\n",
              "    <tr>\n",
              "      <th>5</th>\n",
              "      <td>7</td>\n",
              "      <td>0</td>\n",
              "      <td>NaN</td>\n",
              "      <td>Male</td>\n",
              "      <td>model_5</td>\n",
              "      <td>Large/SUV</td>\n",
              "      <td>7</td>\n",
              "      <td>4</td>\n",
              "      <td>10</td>\n",
              "      <td>5</td>\n",
              "      <td>7</td>\n",
              "      <td>6</td>\n",
              "      <td>8</td>\n",
              "      <td>8</td>\n",
              "      <td>5</td>\n",
              "      <td>10</td>\n",
              "      <td>4</td>\n",
              "    </tr>\n",
              "    <tr>\n",
              "      <th>6</th>\n",
              "      <td>8</td>\n",
              "      <td>0</td>\n",
              "      <td>1. &lt;25</td>\n",
              "      <td>Male</td>\n",
              "      <td>model_3</td>\n",
              "      <td>Large/SUV</td>\n",
              "      <td>8</td>\n",
              "      <td>2</td>\n",
              "      <td>8</td>\n",
              "      <td>2</td>\n",
              "      <td>9</td>\n",
              "      <td>9</td>\n",
              "      <td>4</td>\n",
              "      <td>7</td>\n",
              "      <td>6</td>\n",
              "      <td>10</td>\n",
              "      <td>4</td>\n",
              "    </tr>\n",
              "    <tr>\n",
              "      <th>7</th>\n",
              "      <td>9</td>\n",
              "      <td>0</td>\n",
              "      <td>NaN</td>\n",
              "      <td>Male</td>\n",
              "      <td>model_6</td>\n",
              "      <td>Small/Medium</td>\n",
              "      <td>7</td>\n",
              "      <td>4</td>\n",
              "      <td>9</td>\n",
              "      <td>6</td>\n",
              "      <td>9</td>\n",
              "      <td>8</td>\n",
              "      <td>6</td>\n",
              "      <td>9</td>\n",
              "      <td>5</td>\n",
              "      <td>5</td>\n",
              "      <td>8</td>\n",
              "    </tr>\n",
              "    <tr>\n",
              "      <th>8</th>\n",
              "      <td>10</td>\n",
              "      <td>0</td>\n",
              "      <td>NaN</td>\n",
              "      <td>NaN</td>\n",
              "      <td>model_4</td>\n",
              "      <td>Small/Medium</td>\n",
              "      <td>1</td>\n",
              "      <td>2</td>\n",
              "      <td>1</td>\n",
              "      <td>1</td>\n",
              "      <td>3</td>\n",
              "      <td>1</td>\n",
              "      <td>2</td>\n",
              "      <td>1</td>\n",
              "      <td>1</td>\n",
              "      <td>2</td>\n",
              "      <td>3</td>\n",
              "    </tr>\n",
              "    <tr>\n",
              "      <th>9</th>\n",
              "      <td>11</td>\n",
              "      <td>0</td>\n",
              "      <td>NaN</td>\n",
              "      <td>NaN</td>\n",
              "      <td>model_4</td>\n",
              "      <td>Small/Medium</td>\n",
              "      <td>3</td>\n",
              "      <td>1</td>\n",
              "      <td>1</td>\n",
              "      <td>2</td>\n",
              "      <td>1</td>\n",
              "      <td>2</td>\n",
              "      <td>1</td>\n",
              "      <td>1</td>\n",
              "      <td>1</td>\n",
              "      <td>1</td>\n",
              "      <td>1</td>\n",
              "    </tr>\n",
              "  </tbody>\n",
              "</table>\n",
              "</div>\n",
              "      <button class=\"colab-df-convert\" onclick=\"convertToInteractive('df-c4c94a17-36dd-4a84-8037-aef7c1b44baa')\"\n",
              "              title=\"Convert this dataframe to an interactive table.\"\n",
              "              style=\"display:none;\">\n",
              "        \n",
              "  <svg xmlns=\"http://www.w3.org/2000/svg\" height=\"24px\"viewBox=\"0 0 24 24\"\n",
              "       width=\"24px\">\n",
              "    <path d=\"M0 0h24v24H0V0z\" fill=\"none\"/>\n",
              "    <path d=\"M18.56 5.44l.94 2.06.94-2.06 2.06-.94-2.06-.94-.94-2.06-.94 2.06-2.06.94zm-11 1L8.5 8.5l.94-2.06 2.06-.94-2.06-.94L8.5 2.5l-.94 2.06-2.06.94zm10 10l.94 2.06.94-2.06 2.06-.94-2.06-.94-.94-2.06-.94 2.06-2.06.94z\"/><path d=\"M17.41 7.96l-1.37-1.37c-.4-.4-.92-.59-1.43-.59-.52 0-1.04.2-1.43.59L10.3 9.45l-7.72 7.72c-.78.78-.78 2.05 0 2.83L4 21.41c.39.39.9.59 1.41.59.51 0 1.02-.2 1.41-.59l7.78-7.78 2.81-2.81c.8-.78.8-2.07 0-2.86zM5.41 20L4 18.59l7.72-7.72 1.47 1.35L5.41 20z\"/>\n",
              "  </svg>\n",
              "      </button>\n",
              "      \n",
              "  <style>\n",
              "    .colab-df-container {\n",
              "      display:flex;\n",
              "      flex-wrap:wrap;\n",
              "      gap: 12px;\n",
              "    }\n",
              "\n",
              "    .colab-df-convert {\n",
              "      background-color: #E8F0FE;\n",
              "      border: none;\n",
              "      border-radius: 50%;\n",
              "      cursor: pointer;\n",
              "      display: none;\n",
              "      fill: #1967D2;\n",
              "      height: 32px;\n",
              "      padding: 0 0 0 0;\n",
              "      width: 32px;\n",
              "    }\n",
              "\n",
              "    .colab-df-convert:hover {\n",
              "      background-color: #E2EBFA;\n",
              "      box-shadow: 0px 1px 2px rgba(60, 64, 67, 0.3), 0px 1px 3px 1px rgba(60, 64, 67, 0.15);\n",
              "      fill: #174EA6;\n",
              "    }\n",
              "\n",
              "    [theme=dark] .colab-df-convert {\n",
              "      background-color: #3B4455;\n",
              "      fill: #D2E3FC;\n",
              "    }\n",
              "\n",
              "    [theme=dark] .colab-df-convert:hover {\n",
              "      background-color: #434B5C;\n",
              "      box-shadow: 0px 1px 3px 1px rgba(0, 0, 0, 0.15);\n",
              "      filter: drop-shadow(0px 1px 2px rgba(0, 0, 0, 0.3));\n",
              "      fill: #FFFFFF;\n",
              "    }\n",
              "  </style>\n",
              "\n",
              "      <script>\n",
              "        const buttonEl =\n",
              "          document.querySelector('#df-c4c94a17-36dd-4a84-8037-aef7c1b44baa button.colab-df-convert');\n",
              "        buttonEl.style.display =\n",
              "          google.colab.kernel.accessAllowed ? 'block' : 'none';\n",
              "\n",
              "        async function convertToInteractive(key) {\n",
              "          const element = document.querySelector('#df-c4c94a17-36dd-4a84-8037-aef7c1b44baa');\n",
              "          const dataTable =\n",
              "            await google.colab.kernel.invokeFunction('convertToInteractive',\n",
              "                                                     [key], {});\n",
              "          if (!dataTable) return;\n",
              "\n",
              "          const docLinkHtml = 'Like what you see? Visit the ' +\n",
              "            '<a target=\"_blank\" href=https://colab.research.google.com/notebooks/data_table.ipynb>data table notebook</a>'\n",
              "            + ' to learn more about interactive tables.';\n",
              "          element.innerHTML = '';\n",
              "          dataTable['output_type'] = 'display_data';\n",
              "          await google.colab.output.renderOutput(dataTable, element);\n",
              "          const docLink = document.createElement('div');\n",
              "          docLink.innerHTML = docLinkHtml;\n",
              "          element.appendChild(docLink);\n",
              "        }\n",
              "      </script>\n",
              "    </div>\n",
              "  </div>\n",
              "  "
            ],
            "text/plain": [
              "   ID  Target     age_band  gender car_model   car_segment  \\\n",
              "0   1       0  3. 35 to 44    Male   model_1           LCV   \n",
              "1   2       0          NaN     NaN   model_2  Small/Medium   \n",
              "2   3       0          NaN    Male   model_3     Large/SUV   \n",
              "3   5       0          NaN     NaN   model_3     Large/SUV   \n",
              "4   6       0          NaN  Female   model_2  Small/Medium   \n",
              "5   7       0          NaN    Male   model_5     Large/SUV   \n",
              "6   8       0       1. <25    Male   model_3     Large/SUV   \n",
              "7   9       0          NaN    Male   model_6  Small/Medium   \n",
              "8  10       0          NaN     NaN   model_4  Small/Medium   \n",
              "9  11       0          NaN     NaN   model_4  Small/Medium   \n",
              "\n",
              "   age_of_vehicle_years  sched_serv_warr  non_sched_serv_warr  \\\n",
              "0                     9                2                   10   \n",
              "1                     6               10                    3   \n",
              "2                     9               10                    9   \n",
              "3                     5                8                    5   \n",
              "4                     8                9                    4   \n",
              "5                     7                4                   10   \n",
              "6                     8                2                    8   \n",
              "7                     7                4                    9   \n",
              "8                     1                2                    1   \n",
              "9                     3                1                    1   \n",
              "\n",
              "   sched_serv_paid  non_sched_serv_paid  total_paid_services  total_services  \\\n",
              "0                3                    7                    5               6   \n",
              "1               10                    4                    9              10   \n",
              "2               10                    9                   10              10   \n",
              "3                8                    4                    5               6   \n",
              "4               10                    7                    9               8   \n",
              "5                5                    7                    6               8   \n",
              "6                2                    9                    9               4   \n",
              "7                6                    9                    8               6   \n",
              "8                1                    3                    1               2   \n",
              "9                2                    1                    2               1   \n",
              "\n",
              "   mth_since_last_serv  annualised_mileage  num_dealers_visited  \\\n",
              "0                    9                   8                   10   \n",
              "1                    6                  10                    7   \n",
              "2                    7                  10                    6   \n",
              "3                    4                  10                    9   \n",
              "4                    5                   4                    4   \n",
              "5                    8                   5                   10   \n",
              "6                    7                   6                   10   \n",
              "7                    9                   5                    5   \n",
              "8                    1                   1                    2   \n",
              "9                    1                   1                    1   \n",
              "\n",
              "   num_serv_dealer_purchased  \n",
              "0                          4  \n",
              "1                         10  \n",
              "2                         10  \n",
              "3                          7  \n",
              "4                          9  \n",
              "5                          4  \n",
              "6                          4  \n",
              "7                          8  \n",
              "8                          3  \n",
              "9                          1  "
            ]
          },
          "execution_count": 3,
          "metadata": {},
          "output_type": "execute_result"
        }
      ],
      "source": [
        "df.head(10)"
      ]
    },
    {
      "cell_type": "markdown",
      "metadata": {
        "id": "ggfYCtq7ecD2"
      },
      "source": [
        "**2.2 Showing information about dataset**"
      ]
    },
    {
      "cell_type": "code",
      "execution_count": null,
      "metadata": {
        "colab": {
          "base_uri": "https://localhost:8080/"
        },
        "id": "ZP4nF0C7Ijh4",
        "outputId": "5bd35c1a-7b9a-4cc8-9ab9-c383caa7b323"
      },
      "outputs": [
        {
          "name": "stdout",
          "output_type": "stream",
          "text": [
            "<class 'pandas.core.frame.DataFrame'>\n",
            "RangeIndex: 131337 entries, 0 to 131336\n",
            "Data columns (total 17 columns):\n",
            " #   Column                     Non-Null Count   Dtype \n",
            "---  ------                     --------------   ----- \n",
            " 0   ID                         131337 non-null  int64 \n",
            " 1   Target                     131337 non-null  int64 \n",
            " 2   age_band                   18962 non-null   object\n",
            " 3   gender                     62029 non-null   object\n",
            " 4   car_model                  131337 non-null  object\n",
            " 5   car_segment                131337 non-null  object\n",
            " 6   age_of_vehicle_years       131337 non-null  int64 \n",
            " 7   sched_serv_warr            131337 non-null  int64 \n",
            " 8   non_sched_serv_warr        131337 non-null  int64 \n",
            " 9   sched_serv_paid            131337 non-null  int64 \n",
            " 10  non_sched_serv_paid        131337 non-null  int64 \n",
            " 11  total_paid_services        131337 non-null  int64 \n",
            " 12  total_services             131337 non-null  int64 \n",
            " 13  mth_since_last_serv        131337 non-null  int64 \n",
            " 14  annualised_mileage         131337 non-null  int64 \n",
            " 15  num_dealers_visited        131337 non-null  int64 \n",
            " 16  num_serv_dealer_purchased  131337 non-null  int64 \n",
            "dtypes: int64(13), object(4)\n",
            "memory usage: 17.0+ MB\n"
          ]
        }
      ],
      "source": [
        "df.info()"
      ]
    },
    {
      "cell_type": "markdown",
      "metadata": {
        "id": "couhB0TOek3M"
      },
      "source": [
        "Looks like 'age_band' and 'gender' columns have missing values"
      ]
    },
    {
      "cell_type": "markdown",
      "metadata": {
        "id": "HDpFF21UerMD"
      },
      "source": [
        "**2.3 Number of rows and columns in the dataset**"
      ]
    },
    {
      "cell_type": "code",
      "execution_count": null,
      "metadata": {
        "colab": {
          "base_uri": "https://localhost:8080/"
        },
        "id": "plZvQlyIL8D-",
        "outputId": "0dd906d0-7ffc-4421-9759-6fd950359f81"
      },
      "outputs": [
        {
          "data": {
            "text/plain": [
              "(131337, 17)"
            ]
          },
          "execution_count": 5,
          "metadata": {},
          "output_type": "execute_result"
        }
      ],
      "source": [
        "df.shape"
      ]
    },
    {
      "cell_type": "markdown",
      "metadata": {
        "id": "MPZVc7z_e-sB"
      },
      "source": [
        "**2.4 Statistical information of the dataset**"
      ]
    },
    {
      "cell_type": "code",
      "execution_count": null,
      "metadata": {
        "colab": {
          "base_uri": "https://localhost:8080/"
        },
        "id": "A_5y5j16MGSt",
        "outputId": "221bb9b0-d5aa-4cf9-c43f-5d9338a2510b"
      },
      "outputs": [
        {
          "data": {
            "text/html": [
              "\n",
              "  <div id=\"df-a9f72c30-a352-4fea-b59b-fd20ca8b4952\">\n",
              "    <div class=\"colab-df-container\">\n",
              "      <div>\n",
              "<style scoped>\n",
              "    .dataframe tbody tr th:only-of-type {\n",
              "        vertical-align: middle;\n",
              "    }\n",
              "\n",
              "    .dataframe tbody tr th {\n",
              "        vertical-align: top;\n",
              "    }\n",
              "\n",
              "    .dataframe thead th {\n",
              "        text-align: right;\n",
              "    }\n",
              "</style>\n",
              "<table border=\"1\" class=\"dataframe\">\n",
              "  <thead>\n",
              "    <tr style=\"text-align: right;\">\n",
              "      <th></th>\n",
              "      <th>ID</th>\n",
              "      <th>Target</th>\n",
              "      <th>age_of_vehicle_years</th>\n",
              "      <th>sched_serv_warr</th>\n",
              "      <th>non_sched_serv_warr</th>\n",
              "      <th>sched_serv_paid</th>\n",
              "      <th>non_sched_serv_paid</th>\n",
              "      <th>total_paid_services</th>\n",
              "      <th>total_services</th>\n",
              "      <th>mth_since_last_serv</th>\n",
              "      <th>annualised_mileage</th>\n",
              "      <th>num_dealers_visited</th>\n",
              "      <th>num_serv_dealer_purchased</th>\n",
              "    </tr>\n",
              "  </thead>\n",
              "  <tbody>\n",
              "    <tr>\n",
              "      <th>count</th>\n",
              "      <td>131337.000000</td>\n",
              "      <td>131337.000000</td>\n",
              "      <td>131337.000000</td>\n",
              "      <td>131337.000000</td>\n",
              "      <td>131337.000000</td>\n",
              "      <td>131337.000000</td>\n",
              "      <td>131337.000000</td>\n",
              "      <td>131337.000000</td>\n",
              "      <td>131337.000000</td>\n",
              "      <td>131337.000000</td>\n",
              "      <td>131337.000000</td>\n",
              "      <td>131337.000000</td>\n",
              "      <td>131337.000000</td>\n",
              "    </tr>\n",
              "    <tr>\n",
              "      <th>mean</th>\n",
              "      <td>77097.384180</td>\n",
              "      <td>0.026809</td>\n",
              "      <td>5.493022</td>\n",
              "      <td>5.452500</td>\n",
              "      <td>5.472517</td>\n",
              "      <td>5.452287</td>\n",
              "      <td>5.497050</td>\n",
              "      <td>5.481692</td>\n",
              "      <td>5.454967</td>\n",
              "      <td>5.469807</td>\n",
              "      <td>5.502836</td>\n",
              "      <td>5.485438</td>\n",
              "      <td>5.480778</td>\n",
              "    </tr>\n",
              "    <tr>\n",
              "      <th>std</th>\n",
              "      <td>44501.636704</td>\n",
              "      <td>0.161525</td>\n",
              "      <td>2.843299</td>\n",
              "      <td>2.884328</td>\n",
              "      <td>2.870665</td>\n",
              "      <td>2.886528</td>\n",
              "      <td>2.878699</td>\n",
              "      <td>2.880408</td>\n",
              "      <td>2.875961</td>\n",
              "      <td>2.859756</td>\n",
              "      <td>2.854896</td>\n",
              "      <td>2.876772</td>\n",
              "      <td>2.867524</td>\n",
              "    </tr>\n",
              "    <tr>\n",
              "      <th>min</th>\n",
              "      <td>1.000000</td>\n",
              "      <td>0.000000</td>\n",
              "      <td>1.000000</td>\n",
              "      <td>1.000000</td>\n",
              "      <td>1.000000</td>\n",
              "      <td>1.000000</td>\n",
              "      <td>1.000000</td>\n",
              "      <td>1.000000</td>\n",
              "      <td>1.000000</td>\n",
              "      <td>1.000000</td>\n",
              "      <td>1.000000</td>\n",
              "      <td>1.000000</td>\n",
              "      <td>1.000000</td>\n",
              "    </tr>\n",
              "    <tr>\n",
              "      <th>25%</th>\n",
              "      <td>38563.000000</td>\n",
              "      <td>0.000000</td>\n",
              "      <td>3.000000</td>\n",
              "      <td>3.000000</td>\n",
              "      <td>3.000000</td>\n",
              "      <td>3.000000</td>\n",
              "      <td>3.000000</td>\n",
              "      <td>3.000000</td>\n",
              "      <td>3.000000</td>\n",
              "      <td>3.000000</td>\n",
              "      <td>3.000000</td>\n",
              "      <td>3.000000</td>\n",
              "      <td>3.000000</td>\n",
              "    </tr>\n",
              "    <tr>\n",
              "      <th>50%</th>\n",
              "      <td>77132.000000</td>\n",
              "      <td>0.000000</td>\n",
              "      <td>5.000000</td>\n",
              "      <td>5.000000</td>\n",
              "      <td>5.000000</td>\n",
              "      <td>5.000000</td>\n",
              "      <td>5.000000</td>\n",
              "      <td>5.000000</td>\n",
              "      <td>5.000000</td>\n",
              "      <td>5.000000</td>\n",
              "      <td>5.000000</td>\n",
              "      <td>5.000000</td>\n",
              "      <td>5.000000</td>\n",
              "    </tr>\n",
              "    <tr>\n",
              "      <th>75%</th>\n",
              "      <td>115668.000000</td>\n",
              "      <td>0.000000</td>\n",
              "      <td>8.000000</td>\n",
              "      <td>8.000000</td>\n",
              "      <td>8.000000</td>\n",
              "      <td>8.000000</td>\n",
              "      <td>8.000000</td>\n",
              "      <td>8.000000</td>\n",
              "      <td>8.000000</td>\n",
              "      <td>8.000000</td>\n",
              "      <td>8.000000</td>\n",
              "      <td>8.000000</td>\n",
              "      <td>8.000000</td>\n",
              "    </tr>\n",
              "    <tr>\n",
              "      <th>max</th>\n",
              "      <td>154139.000000</td>\n",
              "      <td>1.000000</td>\n",
              "      <td>10.000000</td>\n",
              "      <td>10.000000</td>\n",
              "      <td>10.000000</td>\n",
              "      <td>10.000000</td>\n",
              "      <td>10.000000</td>\n",
              "      <td>10.000000</td>\n",
              "      <td>10.000000</td>\n",
              "      <td>10.000000</td>\n",
              "      <td>10.000000</td>\n",
              "      <td>10.000000</td>\n",
              "      <td>10.000000</td>\n",
              "    </tr>\n",
              "  </tbody>\n",
              "</table>\n",
              "</div>\n",
              "      <button class=\"colab-df-convert\" onclick=\"convertToInteractive('df-a9f72c30-a352-4fea-b59b-fd20ca8b4952')\"\n",
              "              title=\"Convert this dataframe to an interactive table.\"\n",
              "              style=\"display:none;\">\n",
              "        \n",
              "  <svg xmlns=\"http://www.w3.org/2000/svg\" height=\"24px\"viewBox=\"0 0 24 24\"\n",
              "       width=\"24px\">\n",
              "    <path d=\"M0 0h24v24H0V0z\" fill=\"none\"/>\n",
              "    <path d=\"M18.56 5.44l.94 2.06.94-2.06 2.06-.94-2.06-.94-.94-2.06-.94 2.06-2.06.94zm-11 1L8.5 8.5l.94-2.06 2.06-.94-2.06-.94L8.5 2.5l-.94 2.06-2.06.94zm10 10l.94 2.06.94-2.06 2.06-.94-2.06-.94-.94-2.06-.94 2.06-2.06.94z\"/><path d=\"M17.41 7.96l-1.37-1.37c-.4-.4-.92-.59-1.43-.59-.52 0-1.04.2-1.43.59L10.3 9.45l-7.72 7.72c-.78.78-.78 2.05 0 2.83L4 21.41c.39.39.9.59 1.41.59.51 0 1.02-.2 1.41-.59l7.78-7.78 2.81-2.81c.8-.78.8-2.07 0-2.86zM5.41 20L4 18.59l7.72-7.72 1.47 1.35L5.41 20z\"/>\n",
              "  </svg>\n",
              "      </button>\n",
              "      \n",
              "  <style>\n",
              "    .colab-df-container {\n",
              "      display:flex;\n",
              "      flex-wrap:wrap;\n",
              "      gap: 12px;\n",
              "    }\n",
              "\n",
              "    .colab-df-convert {\n",
              "      background-color: #E8F0FE;\n",
              "      border: none;\n",
              "      border-radius: 50%;\n",
              "      cursor: pointer;\n",
              "      display: none;\n",
              "      fill: #1967D2;\n",
              "      height: 32px;\n",
              "      padding: 0 0 0 0;\n",
              "      width: 32px;\n",
              "    }\n",
              "\n",
              "    .colab-df-convert:hover {\n",
              "      background-color: #E2EBFA;\n",
              "      box-shadow: 0px 1px 2px rgba(60, 64, 67, 0.3), 0px 1px 3px 1px rgba(60, 64, 67, 0.15);\n",
              "      fill: #174EA6;\n",
              "    }\n",
              "\n",
              "    [theme=dark] .colab-df-convert {\n",
              "      background-color: #3B4455;\n",
              "      fill: #D2E3FC;\n",
              "    }\n",
              "\n",
              "    [theme=dark] .colab-df-convert:hover {\n",
              "      background-color: #434B5C;\n",
              "      box-shadow: 0px 1px 3px 1px rgba(0, 0, 0, 0.15);\n",
              "      filter: drop-shadow(0px 1px 2px rgba(0, 0, 0, 0.3));\n",
              "      fill: #FFFFFF;\n",
              "    }\n",
              "  </style>\n",
              "\n",
              "      <script>\n",
              "        const buttonEl =\n",
              "          document.querySelector('#df-a9f72c30-a352-4fea-b59b-fd20ca8b4952 button.colab-df-convert');\n",
              "        buttonEl.style.display =\n",
              "          google.colab.kernel.accessAllowed ? 'block' : 'none';\n",
              "\n",
              "        async function convertToInteractive(key) {\n",
              "          const element = document.querySelector('#df-a9f72c30-a352-4fea-b59b-fd20ca8b4952');\n",
              "          const dataTable =\n",
              "            await google.colab.kernel.invokeFunction('convertToInteractive',\n",
              "                                                     [key], {});\n",
              "          if (!dataTable) return;\n",
              "\n",
              "          const docLinkHtml = 'Like what you see? Visit the ' +\n",
              "            '<a target=\"_blank\" href=https://colab.research.google.com/notebooks/data_table.ipynb>data table notebook</a>'\n",
              "            + ' to learn more about interactive tables.';\n",
              "          element.innerHTML = '';\n",
              "          dataTable['output_type'] = 'display_data';\n",
              "          await google.colab.output.renderOutput(dataTable, element);\n",
              "          const docLink = document.createElement('div');\n",
              "          docLink.innerHTML = docLinkHtml;\n",
              "          element.appendChild(docLink);\n",
              "        }\n",
              "      </script>\n",
              "    </div>\n",
              "  </div>\n",
              "  "
            ],
            "text/plain": [
              "                  ID         Target  age_of_vehicle_years  sched_serv_warr  \\\n",
              "count  131337.000000  131337.000000         131337.000000    131337.000000   \n",
              "mean    77097.384180       0.026809              5.493022         5.452500   \n",
              "std     44501.636704       0.161525              2.843299         2.884328   \n",
              "min         1.000000       0.000000              1.000000         1.000000   \n",
              "25%     38563.000000       0.000000              3.000000         3.000000   \n",
              "50%     77132.000000       0.000000              5.000000         5.000000   \n",
              "75%    115668.000000       0.000000              8.000000         8.000000   \n",
              "max    154139.000000       1.000000             10.000000        10.000000   \n",
              "\n",
              "       non_sched_serv_warr  sched_serv_paid  non_sched_serv_paid  \\\n",
              "count        131337.000000    131337.000000        131337.000000   \n",
              "mean              5.472517         5.452287             5.497050   \n",
              "std               2.870665         2.886528             2.878699   \n",
              "min               1.000000         1.000000             1.000000   \n",
              "25%               3.000000         3.000000             3.000000   \n",
              "50%               5.000000         5.000000             5.000000   \n",
              "75%               8.000000         8.000000             8.000000   \n",
              "max              10.000000        10.000000            10.000000   \n",
              "\n",
              "       total_paid_services  total_services  mth_since_last_serv  \\\n",
              "count        131337.000000   131337.000000        131337.000000   \n",
              "mean              5.481692        5.454967             5.469807   \n",
              "std               2.880408        2.875961             2.859756   \n",
              "min               1.000000        1.000000             1.000000   \n",
              "25%               3.000000        3.000000             3.000000   \n",
              "50%               5.000000        5.000000             5.000000   \n",
              "75%               8.000000        8.000000             8.000000   \n",
              "max              10.000000       10.000000            10.000000   \n",
              "\n",
              "       annualised_mileage  num_dealers_visited  num_serv_dealer_purchased  \n",
              "count       131337.000000        131337.000000              131337.000000  \n",
              "mean             5.502836             5.485438                   5.480778  \n",
              "std              2.854896             2.876772                   2.867524  \n",
              "min              1.000000             1.000000                   1.000000  \n",
              "25%              3.000000             3.000000                   3.000000  \n",
              "50%              5.000000             5.000000                   5.000000  \n",
              "75%              8.000000             8.000000                   8.000000  \n",
              "max             10.000000            10.000000                  10.000000  "
            ]
          },
          "execution_count": 6,
          "metadata": {},
          "output_type": "execute_result"
        }
      ],
      "source": [
        "df.describe()"
      ]
    },
    {
      "cell_type": "markdown",
      "metadata": {
        "id": "UrjAUfZ6fEMR"
      },
      "source": [
        "**2.5 Showing unique values of every columns**"
      ]
    },
    {
      "cell_type": "code",
      "execution_count": null,
      "metadata": {
        "colab": {
          "base_uri": "https://localhost:8080/"
        },
        "id": "vXtBhGl4Q0KI",
        "outputId": "2805ac2c-69b1-4934-f6c3-351d273f0588"
      },
      "outputs": [
        {
          "name": "stdout",
          "output_type": "stream",
          "text": [
            "ID\n",
            "[     1      2      3 ... 154137 154138 154139]\n",
            "Target\n",
            "[0 1]\n",
            "age_band\n",
            "['3. 35 to 44' nan '1. <25' '4. 45 to 54' '2. 25 to 34' '7. 75+'\n",
            " '5. 55 to 64' '6. 65 to 74']\n",
            "gender\n",
            "['Male' nan 'Female']\n",
            "car_model\n",
            "['model_1' 'model_2' 'model_3' 'model_5' 'model_6' 'model_4' 'model_7'\n",
            " 'model_8' 'model_9' 'model_10' 'model_11' 'model_13' 'model_12'\n",
            " 'model_14' 'model_15' 'model_16' 'model_17' 'model_18' 'model_19']\n",
            "car_segment\n",
            "['LCV' 'Small/Medium' 'Large/SUV' 'Other']\n",
            "age_of_vehicle_years\n",
            "[ 9  6  5  8  7  1  3  4 10  2]\n",
            "sched_serv_warr\n",
            "[ 2 10  8  9  4  1  3  7  5  6]\n",
            "non_sched_serv_warr\n",
            "[10  3  9  5  4  8  1  6  2  7]\n",
            "sched_serv_paid\n",
            "[ 3 10  8  5  2  6  1  4  9  7]\n",
            "non_sched_serv_paid\n",
            "[ 7  4  9  3  1  2  6  5 10  8]\n",
            "total_paid_services\n",
            "[ 5  9 10  6  8  1  2  7  3  4]\n",
            "total_services\n",
            "[ 6 10  8  4  2  1  3  5  9  7]\n",
            "mth_since_last_serv\n",
            "[ 9  6  7  4  5  8  1  3 10  2]\n",
            "annualised_mileage\n",
            "[ 8 10  4  5  6  1  7  3  9  2]\n",
            "num_dealers_visited\n",
            "[10  7  6  9  4  5  2  1  3  8]\n",
            "num_serv_dealer_purchased\n",
            "[ 4 10  7  9  8  3  1  6  2  5]\n"
          ]
        }
      ],
      "source": [
        "for col in df.columns:\n",
        "  print(col)\n",
        "  print(df[col].unique())"
      ]
    },
    {
      "cell_type": "markdown",
      "metadata": {
        "id": "hDssPGOINOJS"
      },
      "source": [
        "## **3. Data cleaning**"
      ]
    },
    {
      "cell_type": "markdown",
      "metadata": {
        "id": "nPACVePYfTJF"
      },
      "source": [
        "**3.1 Creating a copy of the dataset**"
      ]
    },
    {
      "cell_type": "code",
      "execution_count": null,
      "metadata": {
        "id": "_Ug3EznRMI_w"
      },
      "outputs": [],
      "source": [
        "df_cleaned = df.copy()"
      ]
    },
    {
      "cell_type": "markdown",
      "metadata": {
        "id": "yuWuHbw8f-9c"
      },
      "source": [
        "**3.2 Dropping 'age_band' and 'gender' (too many null values) and 'ID' (irrelevant to target variable)**"
      ]
    },
    {
      "cell_type": "code",
      "execution_count": null,
      "metadata": {
        "id": "5QnQieyENUBs"
      },
      "outputs": [],
      "source": [
        "df_cleaned.drop(columns=['age_band', 'gender', 'ID'], axis=1, inplace=True)"
      ]
    },
    {
      "cell_type": "markdown",
      "metadata": {
        "id": "53T7w3aWgaze"
      },
      "source": [
        "**3.3 Number of remaining columns**"
      ]
    },
    {
      "cell_type": "code",
      "execution_count": null,
      "metadata": {
        "colab": {
          "base_uri": "https://localhost:8080/"
        },
        "id": "1D0zZjyVOtJr",
        "outputId": "dee81af1-50d5-49b2-f86c-315a07aaba00"
      },
      "outputs": [
        {
          "data": {
            "text/plain": [
              "(131337, 14)"
            ]
          },
          "execution_count": 10,
          "metadata": {},
          "output_type": "execute_result"
        }
      ],
      "source": [
        "df_cleaned.shape"
      ]
    },
    {
      "cell_type": "markdown",
      "metadata": {
        "id": "HeexnQn3ls2G"
      },
      "source": [
        "**3.4 Checking for null values**"
      ]
    },
    {
      "cell_type": "code",
      "execution_count": null,
      "metadata": {
        "colab": {
          "base_uri": "https://localhost:8080/"
        },
        "id": "ANbG2PKnPbGm",
        "outputId": "bd99532a-43d6-445b-a39d-d30e4558f60b"
      },
      "outputs": [
        {
          "data": {
            "text/plain": [
              "Target                       0\n",
              "car_model                    0\n",
              "car_segment                  0\n",
              "age_of_vehicle_years         0\n",
              "sched_serv_warr              0\n",
              "non_sched_serv_warr          0\n",
              "sched_serv_paid              0\n",
              "non_sched_serv_paid          0\n",
              "total_paid_services          0\n",
              "total_services               0\n",
              "mth_since_last_serv          0\n",
              "annualised_mileage           0\n",
              "num_dealers_visited          0\n",
              "num_serv_dealer_purchased    0\n",
              "dtype: int64"
            ]
          },
          "execution_count": 11,
          "metadata": {},
          "output_type": "execute_result"
        }
      ],
      "source": [
        "df_cleaned.isna().sum()"
      ]
    },
    {
      "cell_type": "markdown",
      "metadata": {
        "id": "Zcynox2yRtJF"
      },
      "source": [
        "## **4. Preparing dataset**"
      ]
    },
    {
      "cell_type": "markdown",
      "metadata": {
        "id": "PY_q8260l9yw"
      },
      "source": [
        "**4.1 Showing unique values in 'car_model'**"
      ]
    },
    {
      "cell_type": "code",
      "execution_count": null,
      "metadata": {
        "colab": {
          "base_uri": "https://localhost:8080/"
        },
        "id": "16phXljhU92o",
        "outputId": "13d6a531-f053-4343-a7f2-b673c14933fd"
      },
      "outputs": [
        {
          "data": {
            "text/plain": [
              "array(['model_1', 'model_2', 'model_3', 'model_5', 'model_6', 'model_4',\n",
              "       'model_7', 'model_8', 'model_9', 'model_10', 'model_11',\n",
              "       'model_13', 'model_12', 'model_14', 'model_15', 'model_16',\n",
              "       'model_17', 'model_18', 'model_19'], dtype=object)"
            ]
          },
          "execution_count": 12,
          "metadata": {},
          "output_type": "execute_result"
        }
      ],
      "source": [
        "df_cleaned.car_model.unique()"
      ]
    },
    {
      "cell_type": "markdown",
      "metadata": {
        "id": "ehQ6zwlCThgG"
      },
      "source": [
        "**4.2 Importing OrdinalEncoder from sklearn.preprocessing**"
      ]
    },
    {
      "cell_type": "code",
      "execution_count": null,
      "metadata": {
        "id": "2pwJekPnRYdE"
      },
      "outputs": [],
      "source": [
        "from sklearn.preprocessing import OrdinalEncoder"
      ]
    },
    {
      "cell_type": "markdown",
      "metadata": {
        "id": "C-snyZV6tt01"
      },
      "source": [
        "**4.3 Creating dictionary containing the values**"
      ]
    },
    {
      "cell_type": "code",
      "execution_count": null,
      "metadata": {
        "id": "mLYNdMouR3kh"
      },
      "outputs": [],
      "source": [
        "car_model_categories = [['model_1', 'model_2', 'model_3', 'model_5', 'model_6', 'model_4',\n",
        "       'model_7', 'model_8', 'model_9', 'model_10', 'model_11',\n",
        "       'model_13', 'model_12', 'model_14', 'model_15', 'model_16',\n",
        "       'model_17', 'model_18', 'model_19']]"
      ]
    },
    {
      "cell_type": "markdown",
      "metadata": {
        "id": "xvVH44UivtYM"
      },
      "source": [
        "**4.4 Instantiating OrdinalEncoder class and saving it to a variable**"
      ]
    },
    {
      "cell_type": "code",
      "execution_count": null,
      "metadata": {
        "id": "4f1c9CGuSBI-"
      },
      "outputs": [],
      "source": [
        "car_model_encoded = OrdinalEncoder(categories = car_model_categories)"
      ]
    },
    {
      "cell_type": "markdown",
      "metadata": {
        "id": "SZSdngiNwRpI"
      },
      "source": [
        "**4.5 Using the encoder to transform the columm**"
      ]
    },
    {
      "cell_type": "code",
      "execution_count": null,
      "metadata": {
        "id": "mYN9Vzi-SNFx"
      },
      "outputs": [],
      "source": [
        "df_cleaned['car_model_categories'] = car_model_encoded.fit_transform(df_cleaned[['car_model']])"
      ]
    },
    {
      "cell_type": "markdown",
      "metadata": {
        "id": "hmAJRi5PxFzU"
      },
      "source": [
        "**4.6 Removing the previous column**"
      ]
    },
    {
      "cell_type": "code",
      "execution_count": null,
      "metadata": {
        "colab": {
          "base_uri": "https://localhost:8080/"
        },
        "id": "oa7kr-HYSxhV",
        "outputId": "86d1762a-e063-4bed-fd48-bafb0b86cc4d"
      },
      "outputs": [
        {
          "data": {
            "text/plain": [
              "array([ 0.,  1.,  2.,  3.,  4.,  5.,  6.,  7.,  8.,  9., 10., 11., 12.,\n",
              "       13., 14., 15., 16., 17., 18.])"
            ]
          },
          "execution_count": 17,
          "metadata": {},
          "output_type": "execute_result"
        }
      ],
      "source": [
        "df_cleaned['car_model'] = df_cleaned['car_model_categories']\n",
        "df_cleaned.drop('car_model_categories', axis=1, inplace=True)\n",
        "\n",
        "df_cleaned['car_model'].unique()"
      ]
    },
    {
      "cell_type": "markdown",
      "metadata": {
        "id": "zfNFPHFHz5Sj"
      },
      "source": [
        "**4.7 Creating dictionary containing 'car_segment' values**"
      ]
    },
    {
      "cell_type": "code",
      "execution_count": null,
      "metadata": {
        "colab": {
          "base_uri": "https://localhost:8080/"
        },
        "id": "Q_qTwZjiVMUS",
        "outputId": "ce71a56a-79fc-4bbe-8c11-2ffb069a417f"
      },
      "outputs": [
        {
          "data": {
            "text/plain": [
              "array(['LCV', 'Small/Medium', 'Large/SUV', 'Other'], dtype=object)"
            ]
          },
          "execution_count": 18,
          "metadata": {},
          "output_type": "execute_result"
        }
      ],
      "source": [
        "df_cleaned['car_segment'].unique()"
      ]
    },
    {
      "cell_type": "code",
      "execution_count": null,
      "metadata": {
        "id": "IN1LfQGrWOBx"
      },
      "outputs": [],
      "source": [
        "df_cleaned.car_segment = df_cleaned.car_segment.map({'LCV':0, 'Small/Medium':1, 'Large/SUV':2, 'Other':3})"
      ]
    },
    {
      "cell_type": "markdown",
      "metadata": {
        "id": "xruFy8sl0DCg"
      },
      "source": [
        "**4.8 Assigning target variable to a variable**"
      ]
    },
    {
      "cell_type": "code",
      "execution_count": null,
      "metadata": {
        "id": "PRbbA00kPpcw"
      },
      "outputs": [],
      "source": [
        "y = df_cleaned.pop('Target')"
      ]
    },
    {
      "cell_type": "markdown",
      "metadata": {
        "id": "ph0lGUcN0L4U"
      },
      "source": [
        "**4.9 Assigning features to a variable**"
      ]
    },
    {
      "cell_type": "code",
      "execution_count": null,
      "metadata": {
        "id": "5qDE-uPVSQGb"
      },
      "outputs": [],
      "source": [
        "X = df_cleaned"
      ]
    },
    {
      "cell_type": "markdown",
      "metadata": {
        "id": "NpIZbl0z0ZqK"
      },
      "source": [
        "**4.10 Importing train_test_split from sklearn**"
      ]
    },
    {
      "cell_type": "code",
      "execution_count": null,
      "metadata": {
        "id": "vp44G7ooSTkq"
      },
      "outputs": [],
      "source": [
        "from sklearn.model_selection import train_test_split"
      ]
    },
    {
      "cell_type": "markdown",
      "metadata": {
        "id": "A5EMdjRL1qrw"
      },
      "source": [
        "**4.11 Splitting target variable and features into training and testing datasets**"
      ]
    },
    {
      "cell_type": "code",
      "execution_count": null,
      "metadata": {
        "id": "sOcIv6xZSYz4"
      },
      "outputs": [],
      "source": [
        "X_data, X_test, y_data, y_test = train_test_split(X, y, test_size=0.2, random_state=3, stratify=y)"
      ]
    },
    {
      "cell_type": "markdown",
      "metadata": {
        "id": "bKEDvmel1zIE"
      },
      "source": [
        "**4.12 Splitting target variable and features into training and validation datasets**"
      ]
    },
    {
      "cell_type": "code",
      "execution_count": null,
      "metadata": {
        "id": "BoecXhTdSjUU"
      },
      "outputs": [],
      "source": [
        "X_train, X_val, y_train, y_val = train_test_split(X_data, y_data, test_size=0.2, random_state=3, stratify=y_data)"
      ]
    },
    {
      "cell_type": "markdown",
      "metadata": {
        "id": "RyLX3zRr13jD"
      },
      "source": [
        "**4.13 Showing the distribution of target variable after splitting datasets**"
      ]
    },
    {
      "cell_type": "code",
      "execution_count": null,
      "metadata": {
        "colab": {
          "base_uri": "https://localhost:8080/"
        },
        "id": "8PH1_ZwZzI9Q",
        "outputId": "8838eba8-1e01-44df-e311-42151997e9fb"
      },
      "outputs": [
        {
          "name": "stdout",
          "output_type": "stream",
          "text": [
            "0    0.973184\n",
            "1    0.026816\n",
            "Name: Target, dtype: float64\n",
            "0    0.973208\n",
            "1    0.026792\n",
            "Name: Target, dtype: float64\n",
            "0    0.973199\n",
            "1    0.026801\n",
            "Name: Target, dtype: float64\n"
          ]
        }
      ],
      "source": [
        "print(y_train.value_counts(normalize=True))\n",
        "print(y_val.value_counts(normalize=True))\n",
        "print(y_test.value_counts(normalize=True))"
      ]
    },
    {
      "cell_type": "markdown",
      "metadata": {
        "id": "QjNe6VzcS3si"
      },
      "source": [
        "## **5. Assessing baseline**"
      ]
    },
    {
      "cell_type": "markdown",
      "metadata": {
        "id": "gkWBRFSc2S2i"
      },
      "source": [
        "**5.1 Finding the mode of target variable**"
      ]
    },
    {
      "cell_type": "code",
      "execution_count": null,
      "metadata": {
        "id": "Y1IGEJVhS7Ng"
      },
      "outputs": [],
      "source": [
        "y_mode = y.mode()"
      ]
    },
    {
      "cell_type": "markdown",
      "metadata": {
        "id": "-6KXvr1s2clV"
      },
      "source": [
        "**5.2 Creating a numpy array and assigning the value to a variable**"
      ]
    },
    {
      "cell_type": "code",
      "execution_count": null,
      "metadata": {
        "id": "C2w0nVVkS8-k"
      },
      "outputs": [],
      "source": [
        "y_base = np.full(y_train.shape, y_mode)"
      ]
    },
    {
      "cell_type": "markdown",
      "metadata": {
        "id": "7kNoWJMvRkSv"
      },
      "source": [
        "**5.3 Importing accuracy, precision, recall and f1 scores from sklearn**"
      ]
    },
    {
      "cell_type": "code",
      "execution_count": null,
      "metadata": {
        "id": "2mtHvlhiTBtr"
      },
      "outputs": [],
      "source": [
        "from sklearn.metrics import accuracy_score, precision_score, recall_score, f1_score"
      ]
    },
    {
      "cell_type": "markdown",
      "metadata": {
        "id": "4tSjk7FxRseo"
      },
      "source": [
        "**5.4 Calculating accuracy and f1 score**"
      ]
    },
    {
      "cell_type": "code",
      "execution_count": null,
      "metadata": {
        "colab": {
          "base_uri": "https://localhost:8080/"
        },
        "id": "ILr6jwzzTF_N",
        "outputId": "ee8907b9-96a8-41fc-e3a2-e4a40cf8e8d5"
      },
      "outputs": [
        {
          "name": "stdout",
          "output_type": "stream",
          "text": [
            "0.9731842246148356\n",
            "0.9599585514870511\n"
          ]
        }
      ],
      "source": [
        "print(accuracy_score(y_train, y_base))\n",
        "print(f1_score(y_train, y_base, average='weighted'))"
      ]
    },
    {
      "cell_type": "markdown",
      "metadata": {
        "id": "3Vb6WjRXFN0C"
      },
      "source": [
        "## **6. Training ExtraTrees**"
      ]
    },
    {
      "cell_type": "markdown",
      "metadata": {
        "id": "sxO-GQdqGYDx"
      },
      "source": [
        "**6.1 Importing ExtraTrees from sklearn**"
      ]
    },
    {
      "cell_type": "code",
      "execution_count": null,
      "metadata": {
        "id": "4ba6DwwGGVzj"
      },
      "outputs": [],
      "source": [
        "from sklearn.ensemble import ExtraTreesClassifier"
      ]
    },
    {
      "cell_type": "markdown",
      "metadata": {
        "id": "NB7PYV7VM_nB"
      },
      "source": [
        "**6.2 Training ExtraTrees with default hyperparameter**"
      ]
    },
    {
      "cell_type": "code",
      "execution_count": null,
      "metadata": {
        "id": "qFqxdBdYG5MX"
      },
      "outputs": [],
      "source": [
        "et = ExtraTreesClassifier(random_state=3).fit(X_train, y_train)"
      ]
    },
    {
      "cell_type": "markdown",
      "metadata": {
        "id": "6yz4KFtZNKX6"
      },
      "source": [
        "**6.3 Predicting and calculating precision, recall and f1 scores**"
      ]
    },
    {
      "cell_type": "code",
      "execution_count": null,
      "metadata": {
        "colab": {
          "base_uri": "https://localhost:8080/"
        },
        "id": "uUCwetkYG-Ss",
        "outputId": "6beb9e89-b996-416a-cf0c-918ce350fdc9"
      },
      "outputs": [
        {
          "name": "stdout",
          "output_type": "stream",
          "text": [
            "Precision:\n",
            "Training set: 1.0\n",
            "Validation set: 0.95332\n",
            "Testing set: 0.95318\n",
            "\n",
            "Recall:\n",
            "Training set: 0.99956\n",
            "Validation set: 0.68917\n",
            "Testing set: 0.72301\n",
            "\n",
            "F1 score:\n",
            "Training set: 0.99978\n",
            "Validation set: 0.8\n",
            "Testing set: 0.82229\n"
          ]
        }
      ],
      "source": [
        "y_train_preds = et.predict(X_train)\n",
        "y_val_preds = et.predict(X_val)\n",
        "y_test_preds = et.predict(X_test)\n",
        "\n",
        "print('Precision:')\n",
        "print(f\"Training set: {round(precision_score(y_train, y_train_preds), 5)}\")\n",
        "print(f\"Validation set: {round(precision_score(y_val, y_val_preds), 5)}\")\n",
        "print(f\"Testing set: {round(precision_score(y_test, y_test_preds), 5)}\")\n",
        "\n",
        "print('')\n",
        "\n",
        "print('Recall:')\n",
        "print(f\"Training set: {round(recall_score(y_train, y_train_preds), 5)}\")\n",
        "print(f\"Validation set: {round(recall_score(y_val, y_val_preds), 5)}\")\n",
        "print(f\"Testing set: {round(recall_score(y_test, y_test_preds), 5)}\")\n",
        "\n",
        "print('')\n",
        "\n",
        "print('F1 score:')\n",
        "print(f\"Training set: {round(f1_score(y_train, y_train_preds), 5)}\")\n",
        "print(f\"Validation set: {round(f1_score(y_val, y_val_preds), 5)}\")\n",
        "print(f\"Testing set: {round(f1_score(y_test, y_test_preds), 5)}\")"
      ]
    },
    {
      "cell_type": "markdown",
      "metadata": {
        "id": "Cg4GaE1GRuG-"
      },
      "source": [
        "## **7. ExtraTrees with automated hyperparameter tuning (Random Search)**"
      ]
    },
    {
      "cell_type": "markdown",
      "metadata": {
        "id": "5QhSoanzNN_H"
      },
      "source": [
        "**7.1 Importing RandomizedSearchCV, StratifiedKFold and randint from scipy**"
      ]
    },
    {
      "cell_type": "code",
      "execution_count": null,
      "metadata": {
        "id": "ma2cdNDIHVgh"
      },
      "outputs": [],
      "source": [
        "from sklearn.model_selection import RandomizedSearchCV, StratifiedKFold\n",
        "from scipy.stats import randint"
      ]
    },
    {
      "cell_type": "markdown",
      "metadata": {
        "id": "x8KLgzRjNcKt"
      },
      "source": [
        "**7.2 Setting up random hyperparameters values**"
      ]
    },
    {
      "cell_type": "code",
      "execution_count": null,
      "metadata": {
        "id": "4joBMaBdHdYO"
      },
      "outputs": [],
      "source": [
        "hyperparams_dist = {\n",
        "    'n_estimators': randint(10,100),\n",
        "    'max_depth': randint(10, 25),\n",
        "    'min_samples_leaf': randint(2, 15),\n",
        "    'max_features': randint(2, 10)\n",
        "}"
      ]
    },
    {
      "cell_type": "markdown",
      "metadata": {
        "id": "gBltmmwyNfea"
      },
      "source": [
        "**7.3  Instantiating ExtraTrees**"
      ]
    },
    {
      "cell_type": "code",
      "execution_count": null,
      "metadata": {
        "id": "20MXTFK7HqxE"
      },
      "outputs": [],
      "source": [
        "et_random = ExtraTreesClassifier(random_state=3)"
      ]
    },
    {
      "cell_type": "markdown",
      "metadata": {
        "id": "vb4ujYO4NkYx"
      },
      "source": [
        "**7.4 Training the model using training set**"
      ]
    },
    {
      "cell_type": "code",
      "execution_count": null,
      "metadata": {
        "colab": {
          "base_uri": "https://localhost:8080/",
          "height": 135
        },
        "id": "XZLfMryXIAyA",
        "outputId": "55c09689-d43a-453c-d148-0032b81f8453"
      },
      "outputs": [
        {
          "name": "stdout",
          "output_type": "stream",
          "text": [
            "Fitting 5 folds for each of 10 candidates, totalling 50 fits\n"
          ]
        },
        {
          "data": {
            "text/html": [
              "<style>#sk-container-id-1 {color: black;background-color: white;}#sk-container-id-1 pre{padding: 0;}#sk-container-id-1 div.sk-toggleable {background-color: white;}#sk-container-id-1 label.sk-toggleable__label {cursor: pointer;display: block;width: 100%;margin-bottom: 0;padding: 0.3em;box-sizing: border-box;text-align: center;}#sk-container-id-1 label.sk-toggleable__label-arrow:before {content: \"▸\";float: left;margin-right: 0.25em;color: #696969;}#sk-container-id-1 label.sk-toggleable__label-arrow:hover:before {color: black;}#sk-container-id-1 div.sk-estimator:hover label.sk-toggleable__label-arrow:before {color: black;}#sk-container-id-1 div.sk-toggleable__content {max-height: 0;max-width: 0;overflow: hidden;text-align: left;background-color: #f0f8ff;}#sk-container-id-1 div.sk-toggleable__content pre {margin: 0.2em;color: black;border-radius: 0.25em;background-color: #f0f8ff;}#sk-container-id-1 input.sk-toggleable__control:checked~div.sk-toggleable__content {max-height: 200px;max-width: 100%;overflow: auto;}#sk-container-id-1 input.sk-toggleable__control:checked~label.sk-toggleable__label-arrow:before {content: \"▾\";}#sk-container-id-1 div.sk-estimator input.sk-toggleable__control:checked~label.sk-toggleable__label {background-color: #d4ebff;}#sk-container-id-1 div.sk-label input.sk-toggleable__control:checked~label.sk-toggleable__label {background-color: #d4ebff;}#sk-container-id-1 input.sk-hidden--visually {border: 0;clip: rect(1px 1px 1px 1px);clip: rect(1px, 1px, 1px, 1px);height: 1px;margin: -1px;overflow: hidden;padding: 0;position: absolute;width: 1px;}#sk-container-id-1 div.sk-estimator {font-family: monospace;background-color: #f0f8ff;border: 1px dotted black;border-radius: 0.25em;box-sizing: border-box;margin-bottom: 0.5em;}#sk-container-id-1 div.sk-estimator:hover {background-color: #d4ebff;}#sk-container-id-1 div.sk-parallel-item::after {content: \"\";width: 100%;border-bottom: 1px solid gray;flex-grow: 1;}#sk-container-id-1 div.sk-label:hover label.sk-toggleable__label {background-color: #d4ebff;}#sk-container-id-1 div.sk-serial::before {content: \"\";position: absolute;border-left: 1px solid gray;box-sizing: border-box;top: 0;bottom: 0;left: 50%;z-index: 0;}#sk-container-id-1 div.sk-serial {display: flex;flex-direction: column;align-items: center;background-color: white;padding-right: 0.2em;padding-left: 0.2em;position: relative;}#sk-container-id-1 div.sk-item {position: relative;z-index: 1;}#sk-container-id-1 div.sk-parallel {display: flex;align-items: stretch;justify-content: center;background-color: white;position: relative;}#sk-container-id-1 div.sk-item::before, #sk-container-id-1 div.sk-parallel-item::before {content: \"\";position: absolute;border-left: 1px solid gray;box-sizing: border-box;top: 0;bottom: 0;left: 50%;z-index: -1;}#sk-container-id-1 div.sk-parallel-item {display: flex;flex-direction: column;z-index: 1;position: relative;background-color: white;}#sk-container-id-1 div.sk-parallel-item:first-child::after {align-self: flex-end;width: 50%;}#sk-container-id-1 div.sk-parallel-item:last-child::after {align-self: flex-start;width: 50%;}#sk-container-id-1 div.sk-parallel-item:only-child::after {width: 0;}#sk-container-id-1 div.sk-dashed-wrapped {border: 1px dashed gray;margin: 0 0.4em 0.5em 0.4em;box-sizing: border-box;padding-bottom: 0.4em;background-color: white;}#sk-container-id-1 div.sk-label label {font-family: monospace;font-weight: bold;display: inline-block;line-height: 1.2em;}#sk-container-id-1 div.sk-label-container {text-align: center;}#sk-container-id-1 div.sk-container {/* jupyter's `normalize.less` sets `[hidden] { display: none; }` but bootstrap.min.css set `[hidden] { display: none !important; }` so we also need the `!important` here to be able to override the default hidden behavior on the sphinx rendered scikit-learn.org. See: https://github.com/scikit-learn/scikit-learn/issues/21755 */display: inline-block !important;position: relative;}#sk-container-id-1 div.sk-text-repr-fallback {display: none;}</style><div id=\"sk-container-id-1\" class=\"sk-top-container\"><div class=\"sk-text-repr-fallback\"><pre>RandomizedSearchCV(cv=StratifiedKFold(n_splits=5, random_state=None, shuffle=False),\n",
              "                   estimator=ExtraTreesClassifier(random_state=3),\n",
              "                   param_distributions={&#x27;max_depth&#x27;: &lt;scipy.stats._distn_infrastructure.rv_discrete_frozen object at 0x7f2e21891810&gt;,\n",
              "                                        &#x27;max_features&#x27;: &lt;scipy.stats._distn_infrastructure.rv_discrete_frozen object at 0x7f2e218900a0&gt;,\n",
              "                                        &#x27;min_samples_leaf&#x27;: &lt;scipy.stats._distn_infrastructure.rv_discrete_frozen object at 0x7f2e21891180&gt;,\n",
              "                                        &#x27;n_estimators&#x27;: &lt;scipy.stats._distn_infrastructure.rv_discrete_frozen object at 0x7f2e21891c30&gt;},\n",
              "                   random_state=3, verbose=1)</pre><b>In a Jupyter environment, please rerun this cell to show the HTML representation or trust the notebook. <br />On GitHub, the HTML representation is unable to render, please try loading this page with nbviewer.org.</b></div><div class=\"sk-container\" hidden><div class=\"sk-item sk-dashed-wrapped\"><div class=\"sk-label-container\"><div class=\"sk-label sk-toggleable\"><input class=\"sk-toggleable__control sk-hidden--visually\" id=\"sk-estimator-id-1\" type=\"checkbox\" ><label for=\"sk-estimator-id-1\" class=\"sk-toggleable__label sk-toggleable__label-arrow\">RandomizedSearchCV</label><div class=\"sk-toggleable__content\"><pre>RandomizedSearchCV(cv=StratifiedKFold(n_splits=5, random_state=None, shuffle=False),\n",
              "                   estimator=ExtraTreesClassifier(random_state=3),\n",
              "                   param_distributions={&#x27;max_depth&#x27;: &lt;scipy.stats._distn_infrastructure.rv_discrete_frozen object at 0x7f2e21891810&gt;,\n",
              "                                        &#x27;max_features&#x27;: &lt;scipy.stats._distn_infrastructure.rv_discrete_frozen object at 0x7f2e218900a0&gt;,\n",
              "                                        &#x27;min_samples_leaf&#x27;: &lt;scipy.stats._distn_infrastructure.rv_discrete_frozen object at 0x7f2e21891180&gt;,\n",
              "                                        &#x27;n_estimators&#x27;: &lt;scipy.stats._distn_infrastructure.rv_discrete_frozen object at 0x7f2e21891c30&gt;},\n",
              "                   random_state=3, verbose=1)</pre></div></div></div><div class=\"sk-parallel\"><div class=\"sk-parallel-item\"><div class=\"sk-item\"><div class=\"sk-label-container\"><div class=\"sk-label sk-toggleable\"><input class=\"sk-toggleable__control sk-hidden--visually\" id=\"sk-estimator-id-2\" type=\"checkbox\" ><label for=\"sk-estimator-id-2\" class=\"sk-toggleable__label sk-toggleable__label-arrow\">estimator: ExtraTreesClassifier</label><div class=\"sk-toggleable__content\"><pre>ExtraTreesClassifier(random_state=3)</pre></div></div></div><div class=\"sk-serial\"><div class=\"sk-item\"><div class=\"sk-estimator sk-toggleable\"><input class=\"sk-toggleable__control sk-hidden--visually\" id=\"sk-estimator-id-3\" type=\"checkbox\" ><label for=\"sk-estimator-id-3\" class=\"sk-toggleable__label sk-toggleable__label-arrow\">ExtraTreesClassifier</label><div class=\"sk-toggleable__content\"><pre>ExtraTreesClassifier(random_state=3)</pre></div></div></div></div></div></div></div></div></div></div>"
            ],
            "text/plain": [
              "RandomizedSearchCV(cv=StratifiedKFold(n_splits=5, random_state=None, shuffle=False),\n",
              "                   estimator=ExtraTreesClassifier(random_state=3),\n",
              "                   param_distributions={'max_depth': <scipy.stats._distn_infrastructure.rv_discrete_frozen object at 0x7f2e21891810>,\n",
              "                                        'max_features': <scipy.stats._distn_infrastructure.rv_discrete_frozen object at 0x7f2e218900a0>,\n",
              "                                        'min_samples_leaf': <scipy.stats._distn_infrastructure.rv_discrete_frozen object at 0x7f2e21891180>,\n",
              "                                        'n_estimators': <scipy.stats._distn_infrastructure.rv_discrete_frozen object at 0x7f2e21891c30>},\n",
              "                   random_state=3, verbose=1)"
            ]
          },
          "execution_count": 36,
          "metadata": {},
          "output_type": "execute_result"
        }
      ],
      "source": [
        "skf = StratifiedKFold(n_splits=5)\n",
        "random_search_et = RandomizedSearchCV(et_random, hyperparams_dist, random_state=3, cv=skf, verbose=1)\n",
        "random_search_et.fit(X_train, y_train)"
      ]
    },
    {
      "cell_type": "markdown",
      "metadata": {
        "id": "2F9t5WeBNoEZ"
      },
      "source": [
        "**7.5 Showing the best hyperparameters**"
      ]
    },
    {
      "cell_type": "code",
      "execution_count": null,
      "metadata": {
        "colab": {
          "base_uri": "https://localhost:8080/"
        },
        "id": "5B9DOQNxC-ZF",
        "outputId": "4b4ef0c6-f2fd-456b-8f50-f1378f81421e"
      },
      "outputs": [
        {
          "data": {
            "text/plain": [
              "{'max_depth': 18, 'max_features': 8, 'min_samples_leaf': 3, 'n_estimators': 39}"
            ]
          },
          "execution_count": 37,
          "metadata": {},
          "output_type": "execute_result"
        }
      ],
      "source": [
        "random_search_et.best_params_"
      ]
    },
    {
      "cell_type": "markdown",
      "metadata": {
        "id": "rKOIFm8rNris"
      },
      "source": [
        "**7.6 Predicting and calculating precision, recall and f1 scores**"
      ]
    },
    {
      "cell_type": "code",
      "execution_count": null,
      "metadata": {
        "colab": {
          "base_uri": "https://localhost:8080/"
        },
        "id": "K_fMHMyxBaa5",
        "outputId": "d9ee3bdb-3102-483c-9857-e162461b3ca4"
      },
      "outputs": [
        {
          "name": "stdout",
          "output_type": "stream",
          "text": [
            "Precision:\n",
            "Training set: 0.99805\n",
            "Validation set: 0.93822\n",
            "Testing set: 0.94794\n",
            "\n",
            "Recall:\n",
            "Training set: 0.90994\n",
            "Validation set: 0.72824\n",
            "Testing set: 0.75\n",
            "\n",
            "F1 score:\n",
            "Training set: 0.95196\n",
            "Validation set: 0.82\n",
            "Testing set: 0.83743\n"
          ]
        }
      ],
      "source": [
        "y_train_preds_random = random_search_et.predict(X_train)\n",
        "y_val_preds_random = random_search_et.predict(X_val)\n",
        "y_test_preds_random = random_search_et.predict(X_test)\n",
        "\n",
        "print('Precision:')\n",
        "print(f\"Training set: {round(precision_score(y_train, y_train_preds_random), 5)}\")\n",
        "print(f\"Validation set: {round(precision_score(y_val, y_val_preds_random), 5)}\")\n",
        "print(f\"Testing set: {round(precision_score(y_test, y_test_preds_random), 5)}\")\n",
        "\n",
        "print('')\n",
        "\n",
        "print('Recall:')\n",
        "print(f\"Training set: {round(recall_score(y_train, y_train_preds_random), 5)}\")\n",
        "print(f\"Validation set: {round(recall_score(y_val, y_val_preds_random), 5)}\")\n",
        "print(f\"Testing set: {round(recall_score(y_test, y_test_preds_random), 5)}\")\n",
        "\n",
        "print('')\n",
        "\n",
        "print('F1 score:')\n",
        "print(f\"Training set: {round(f1_score(y_train, y_train_preds_random), 5)}\")\n",
        "print(f\"Validation set: {round(f1_score(y_val, y_val_preds_random), 5)}\")\n",
        "print(f\"Testing set: {round(f1_score(y_test, y_test_preds_random), 5)}\")"
      ]
    },
    {
      "cell_type": "markdown",
      "metadata": {
        "id": "I7Gw1DM6N1S3"
      },
      "source": [
        "**7.7 Confusion Matrix**"
      ]
    },
    {
      "cell_type": "code",
      "execution_count": null,
      "metadata": {
        "colab": {
          "base_uri": "https://localhost:8080/",
          "height": 1000
        },
        "id": "3eLxVrGKN3HL",
        "outputId": "f46bba9a-023d-4bf4-ddaf-0ae444284694"
      },
      "outputs": [
        {
          "data": {
            "text/plain": [
              "<sklearn.metrics._plot.confusion_matrix.ConfusionMatrixDisplay at 0x7f2e21891cc0>"
            ]
          },
          "execution_count": 39,
          "metadata": {},
          "output_type": "execute_result"
        },
        {
          "data": {
            "image/png": "[encoded data removed]",
            "text/plain": [
              "<Figure size 640x480 with 2 Axes>"
            ]
          },
          "metadata": {},
          "output_type": "display_data"
        },
        {
          "data": {
            "image/png": "[encoded data removed]",
            "text/plain": [
              "<Figure size 640x480 with 2 Axes>"
            ]
          },
          "metadata": {},
          "output_type": "display_data"
        },
        {
          "data": {
            "image/png": "[encoded data removed]",
            "text/plain": [
              "<Figure size 640x480 with 2 Axes>"
            ]
          },
          "metadata": {},
          "output_type": "display_data"
        }
      ],
      "source": [
        "from sklearn.metrics import confusion_matrix, ConfusionMatrixDisplay\n",
        "import matplotlib.pyplot as plt\n",
        "\n",
        "ConfusionMatrixDisplay.from_estimator(random_search_et, X_train, y_train, normalize='true')\n",
        "ConfusionMatrixDisplay.from_estimator(random_search_et, X_val, y_val, normalize='true')\n",
        "ConfusionMatrixDisplay.from_estimator(random_search_et, X_test, y_test, normalize='true')"
      ]
    },
    {
      "cell_type": "markdown",
      "metadata": {
        "id": "o5E2T0X6IO9C"
      },
      "source": [
        "## **8. Features Importance**"
      ]
    },
    {
      "cell_type": "markdown",
      "metadata": {
        "id": "LDyFbD2LN-0v"
      },
      "source": [
        "**8.1 Assigning ExtraTrees with the best hyperparameters to a variable**"
      ]
    },
    {
      "cell_type": "code",
      "execution_count": null,
      "metadata": {
        "id": "OMHKAo5LOFPn"
      },
      "outputs": [],
      "source": [
        "et1 = ExtraTreesClassifier(random_state=3, n_estimators=39, max_depth=18, min_samples_leaf=3, max_features=8)"
      ]
    },
    {
      "cell_type": "markdown",
      "metadata": {
        "id": "WtPPobZlOPXs"
      },
      "source": [
        "**8.2 Training the model using training set**"
      ]
    },
    {
      "cell_type": "code",
      "execution_count": null,
      "metadata": {
        "colab": {
          "base_uri": "https://localhost:8080/"
        },
        "id": "hkf4uSQhOSPk",
        "outputId": "7e365fa8-55c2-466f-ff4d-604ee9cbf5ae"
      },
      "outputs": [
        {
          "data": {
            "text/html": [
              "<style>#sk-container-id-2 {color: black;background-color: white;}#sk-container-id-2 pre{padding: 0;}#sk-container-id-2 div.sk-toggleable {background-color: white;}#sk-container-id-2 label.sk-toggleable__label {cursor: pointer;display: block;width: 100%;margin-bottom: 0;padding: 0.3em;box-sizing: border-box;text-align: center;}#sk-container-id-2 label.sk-toggleable__label-arrow:before {content: \"▸\";float: left;margin-right: 0.25em;color: #696969;}#sk-container-id-2 label.sk-toggleable__label-arrow:hover:before {color: black;}#sk-container-id-2 div.sk-estimator:hover label.sk-toggleable__label-arrow:before {color: black;}#sk-container-id-2 div.sk-toggleable__content {max-height: 0;max-width: 0;overflow: hidden;text-align: left;background-color: #f0f8ff;}#sk-container-id-2 div.sk-toggleable__content pre {margin: 0.2em;color: black;border-radius: 0.25em;background-color: #f0f8ff;}#sk-container-id-2 input.sk-toggleable__control:checked~div.sk-toggleable__content {max-height: 200px;max-width: 100%;overflow: auto;}#sk-container-id-2 input.sk-toggleable__control:checked~label.sk-toggleable__label-arrow:before {content: \"▾\";}#sk-container-id-2 div.sk-estimator input.sk-toggleable__control:checked~label.sk-toggleable__label {background-color: #d4ebff;}#sk-container-id-2 div.sk-label input.sk-toggleable__control:checked~label.sk-toggleable__label {background-color: #d4ebff;}#sk-container-id-2 input.sk-hidden--visually {border: 0;clip: rect(1px 1px 1px 1px);clip: rect(1px, 1px, 1px, 1px);height: 1px;margin: -1px;overflow: hidden;padding: 0;position: absolute;width: 1px;}#sk-container-id-2 div.sk-estimator {font-family: monospace;background-color: #f0f8ff;border: 1px dotted black;border-radius: 0.25em;box-sizing: border-box;margin-bottom: 0.5em;}#sk-container-id-2 div.sk-estimator:hover {background-color: #d4ebff;}#sk-container-id-2 div.sk-parallel-item::after {content: \"\";width: 100%;border-bottom: 1px solid gray;flex-grow: 1;}#sk-container-id-2 div.sk-label:hover label.sk-toggleable__label {background-color: #d4ebff;}#sk-container-id-2 div.sk-serial::before {content: \"\";position: absolute;border-left: 1px solid gray;box-sizing: border-box;top: 0;bottom: 0;left: 50%;z-index: 0;}#sk-container-id-2 div.sk-serial {display: flex;flex-direction: column;align-items: center;background-color: white;padding-right: 0.2em;padding-left: 0.2em;position: relative;}#sk-container-id-2 div.sk-item {position: relative;z-index: 1;}#sk-container-id-2 div.sk-parallel {display: flex;align-items: stretch;justify-content: center;background-color: white;position: relative;}#sk-container-id-2 div.sk-item::before, #sk-container-id-2 div.sk-parallel-item::before {content: \"\";position: absolute;border-left: 1px solid gray;box-sizing: border-box;top: 0;bottom: 0;left: 50%;z-index: -1;}#sk-container-id-2 div.sk-parallel-item {display: flex;flex-direction: column;z-index: 1;position: relative;background-color: white;}#sk-container-id-2 div.sk-parallel-item:first-child::after {align-self: flex-end;width: 50%;}#sk-container-id-2 div.sk-parallel-item:last-child::after {align-self: flex-start;width: 50%;}#sk-container-id-2 div.sk-parallel-item:only-child::after {width: 0;}#sk-container-id-2 div.sk-dashed-wrapped {border: 1px dashed gray;margin: 0 0.4em 0.5em 0.4em;box-sizing: border-box;padding-bottom: 0.4em;background-color: white;}#sk-container-id-2 div.sk-label label {font-family: monospace;font-weight: bold;display: inline-block;line-height: 1.2em;}#sk-container-id-2 div.sk-label-container {text-align: center;}#sk-container-id-2 div.sk-container {/* jupyter's `normalize.less` sets `[hidden] { display: none; }` but bootstrap.min.css set `[hidden] { display: none !important; }` so we also need the `!important` here to be able to override the default hidden behavior on the sphinx rendered scikit-learn.org. See: https://github.com/scikit-learn/scikit-learn/issues/21755 */display: inline-block !important;position: relative;}#sk-container-id-2 div.sk-text-repr-fallback {display: none;}</style><div id=\"sk-container-id-2\" class=\"sk-top-container\"><div class=\"sk-text-repr-fallback\"><pre>ExtraTreesClassifier(max_depth=18, max_features=8, min_samples_leaf=3,\n",
              "                     n_estimators=39, random_state=3)</pre><b>In a Jupyter environment, please rerun this cell to show the HTML representation or trust the notebook. <br />On GitHub, the HTML representation is unable to render, please try loading this page with nbviewer.org.</b></div><div class=\"sk-container\" hidden><div class=\"sk-item\"><div class=\"sk-estimator sk-toggleable\"><input class=\"sk-toggleable__control sk-hidden--visually\" id=\"sk-estimator-id-4\" type=\"checkbox\" checked><label for=\"sk-estimator-id-4\" class=\"sk-toggleable__label sk-toggleable__label-arrow\">ExtraTreesClassifier</label><div class=\"sk-toggleable__content\"><pre>ExtraTreesClassifier(max_depth=18, max_features=8, min_samples_leaf=3,\n",
              "                     n_estimators=39, random_state=3)</pre></div></div></div></div></div>"
            ],
            "text/plain": [
              "ExtraTreesClassifier(max_depth=18, max_features=8, min_samples_leaf=3,\n",
              "                     n_estimators=39, random_state=3)"
            ]
          },
          "execution_count": 41,
          "metadata": {},
          "output_type": "execute_result"
        }
      ],
      "source": [
        "et1.fit(X_train, y_train)"
      ]
    },
    {
      "cell_type": "markdown",
      "metadata": {
        "id": "BPl10DS3OVWZ"
      },
      "source": [
        "**8.3 Creating a pandas dataframe containing every feature's importance**"
      ]
    },
    {
      "cell_type": "code",
      "execution_count": null,
      "metadata": {
        "id": "a96KFRLSOYOw"
      },
      "outputs": [],
      "source": [
        "feat_imp_et = pd.DataFrame({'feature': X_train.columns,\n",
        "    'feature_importance':et1.feature_importances_\n",
        "})"
      ]
    },
    {
      "cell_type": "markdown",
      "metadata": {
        "id": "zi6hsR_TOlWm"
      },
      "source": [
        "**8.4 Sorting the importance values**"
      ]
    },
    {
      "cell_type": "code",
      "execution_count": null,
      "metadata": {
        "id": "4G2m4Be8On0_"
      },
      "outputs": [],
      "source": [
        "feat_imp_et = feat_imp_et.sort_values('feature_importance', ascending=False).reset_index(drop=True)"
      ]
    },
    {
      "cell_type": "markdown",
      "metadata": {
        "id": "mcBvcWMtOt7w"
      },
      "source": [
        "**8.5 Plotting the importance values in a bar graph**"
      ]
    },
    {
      "cell_type": "code",
      "execution_count": null,
      "metadata": {
        "colab": {
          "base_uri": "https://localhost:8080/",
          "height": 323
        },
        "id": "xk_J6YITOwjv",
        "outputId": "b2c44028-8d1b-49c8-b969-4c4e89b6a281"
      },
      "outputs": [
        {
          "data": {
            "text/html": [
              "\n",
              "<div id=\"altair-viz-55e3d87f792a4e41ad93bc350e0144ed\"></div>\n",
              "<script type=\"text/javascript\">\n",
              "  var VEGA_DEBUG = (typeof VEGA_DEBUG == \"undefined\") ? {} : VEGA_DEBUG;\n",
              "  (function(spec, embedOpt){\n",
              "    let outputDiv = document.currentScript.previousElementSibling;\n",
              "    if (outputDiv.id !== \"altair-viz-55e3d87f792a4e41ad93bc350e0144ed\") {\n",
              "      outputDiv = document.getElementById(\"altair-viz-55e3d87f792a4e41ad93bc350e0144ed\");\n",
              "    }\n",
              "    const paths = {\n",
              "      \"vega\": \"https://cdn.jsdelivr.net/npm//vega@5?noext\",\n",
              "      \"vega-lib\": \"https://cdn.jsdelivr.net/npm//vega-lib?noext\",\n",
              "      \"vega-lite\": \"https://cdn.jsdelivr.net/npm//vega-lite@4.17.0?noext\",\n",
              "      \"vega-embed\": \"https://cdn.jsdelivr.net/npm//vega-embed@6?noext\",\n",
              "    };\n",
              "\n",
              "    function maybeLoadScript(lib, version) {\n",
              "      var key = `${lib.replace(\"-\", \"\")}_version`;\n",
              "      return (VEGA_DEBUG[key] == version) ?\n",
              "        Promise.resolve(paths[lib]) :\n",
              "        new Promise(function(resolve, reject) {\n",
              "          var s = document.createElement('script');\n",
              "          document.getElementsByTagName(\"head\")[0].appendChild(s);\n",
              "          s.async = true;\n",
              "          s.onload = () => {\n",
              "            VEGA_DEBUG[key] = version;\n",
              "            return resolve(paths[lib]);\n",
              "          };\n",
              "          s.onerror = () => reject(`Error loading script: ${paths[lib]}`);\n",
              "          s.src = paths[lib];\n",
              "        });\n",
              "    }\n",
              "\n",
              "    function showError(err) {\n",
              "      outputDiv.innerHTML = `<div class=\"error\" style=\"color:red;\">${err}</div>`;\n",
              "      throw err;\n",
              "    }\n",
              "\n",
              "    function displayChart(vegaEmbed) {\n",
              "      vegaEmbed(outputDiv, spec, embedOpt)\n",
              "        .catch(err => showError(`Javascript Error: ${err.message}<br>This usually means there's a typo in your chart specification. See the javascript console for the full traceback.`));\n",
              "    }\n",
              "\n",
              "    if(typeof define === \"function\" && define.amd) {\n",
              "      requirejs.config({paths});\n",
              "      require([\"vega-embed\"], displayChart, err => showError(`Error loading script: ${err.message}`));\n",
              "    } else {\n",
              "      maybeLoadScript(\"vega\", \"5\")\n",
              "        .then(() => maybeLoadScript(\"vega-lite\", \"4.17.0\"))\n",
              "        .then(() => maybeLoadScript(\"vega-embed\", \"6\"))\n",
              "        .catch(showError)\n",
              "        .then(() => displayChart(vegaEmbed));\n",
              "    }\n",
              "  })({\"config\": {\"view\": {\"continuousWidth\": 400, \"continuousHeight\": 300}}, \"data\": {\"name\": \"data-9bdbfe6b646a588c95ffe65fc61937e7\"}, \"mark\": \"bar\", \"encoding\": {\"tooltip\": [{\"field\": \"feature\", \"type\": \"nominal\"}, {\"field\": \"feature_importance\", \"type\": \"quantitative\"}], \"x\": {\"field\": \"feature_importance\", \"type\": \"quantitative\"}, \"y\": {\"field\": \"feature\", \"sort\": \"-x\", \"type\": \"nominal\"}}, \"$schema\": \"https://vega.github.io/schema/vega-lite/v4.17.0.json\", \"datasets\": {\"data-9bdbfe6b646a588c95ffe65fc61937e7\": [{\"feature\": \"mth_since_last_serv\", \"feature_importance\": 0.18653122761031973}, {\"feature\": \"num_serv_dealer_purchased\", \"feature_importance\": 0.1360092863369132}, {\"feature\": \"annualised_mileage\", \"feature_importance\": 0.1295793449723756}, {\"feature\": \"total_services\", \"feature_importance\": 0.10948236847300606}, {\"feature\": \"age_of_vehicle_years\", \"feature_importance\": 0.08025479578687272}, {\"feature\": \"sched_serv_warr\", \"feature_importance\": 0.0735056267969534}, {\"feature\": \"non_sched_serv_warr\", \"feature_importance\": 0.06406585262305069}, {\"feature\": \"num_dealers_visited\", \"feature_importance\": 0.057414855052574994}, {\"feature\": \"sched_serv_paid\", \"feature_importance\": 0.05439764388336067}, {\"feature\": \"total_paid_services\", \"feature_importance\": 0.04862667279546086}, {\"feature\": \"non_sched_serv_paid\", \"feature_importance\": 0.03698051811899856}, {\"feature\": \"car_model\", \"feature_importance\": 0.012281376967888799}, {\"feature\": \"car_segment\", \"feature_importance\": 0.010870430582224729}]}}, {\"mode\": \"vega-lite\"});\n",
              "</script>"
            ],
            "text/plain": [
              "alt.Chart(...)"
            ]
          },
          "execution_count": 44,
          "metadata": {},
          "output_type": "execute_result"
        }
      ],
      "source": [
        "import altair as alt\n",
        "\n",
        "alt.Chart(feat_imp_et).mark_bar().encode(\n",
        "    x='feature_importance',\n",
        "    y=alt.Y('feature', sort='-x'),\n",
        "    tooltip=['feature','feature_importance']\n",
        ")"
      ]
    }
  ],
  "metadata": {
    "colab": {
      "collapsed_sections": [
        "2A7M20qZM8U2",
        "QqT323ndNIX_",
        "hDssPGOINOJS",
        "Zcynox2yRtJF",
        "TwxxrFVFUinQ",
        "Ew6rjA4hdA0Q"
      ],
      "provenance": []
    },
    "gpuClass": "standard",
    "kernelspec": {
      "display_name": "Python 3",
      "name": "python3"
    },
    "language_info": {
      "name": "python"
    }
  },
  "nbformat": 4,
  "nbformat_minor": 0
}
