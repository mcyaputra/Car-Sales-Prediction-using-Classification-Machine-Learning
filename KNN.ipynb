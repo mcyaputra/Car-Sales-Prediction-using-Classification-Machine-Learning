{
  "cells": [
    {
      "cell_type": "markdown",
      "source": [
        "# **Machine Learning Algorithms and Application**\n",
        "# **AT2 Part B**\n",
        "### **KNN**\n",
        "\n",
        "1. Load dataset\n",
        "2. Exploring dataset\n",
        "3. Data Cleaning\n",
        "4. Preparing Dataset\n",
        "5. Assessing Baseline\n",
        "6. Training KNN Classifer\n",
        "7. KNN with automated hyperparameter tuning (RandomSearch)"
      ],
      "metadata": {
        "id": "hRGUs6UhQFI_"
      }
    },
    {
      "cell_type": "markdown",
      "metadata": {
        "id": "2A7M20qZM8U2"
      },
      "source": [
        "## **1. Load dataset**"
      ]
    },
    {
      "cell_type": "markdown",
      "metadata": {
        "id": "DhqA0m4lPZvA"
      },
      "source": [
        "**1.1 Importing pandas and numpy packages**"
      ]
    },
    {
      "cell_type": "code",
      "execution_count": null,
      "metadata": {
        "id": "yvDXaQM7GSpe"
      },
      "outputs": [],
      "source": [
        "import pandas as pd\n",
        "import numpy as np"
      ]
    },
    {
      "cell_type": "markdown",
      "source": [
        "**1.2 Reading csv file**"
      ],
      "metadata": {
        "id": "eORfKXHRdmIj"
      }
    },
    {
      "cell_type": "code",
      "execution_count": null,
      "metadata": {
        "id": "afh6wkA1Gg8t"
      },
      "outputs": [],
      "source": [
        "df = pd.read_csv('https://raw.githubusercontent.com/mcyaputra/Files/main/repurchase_training.csv')"
      ]
    },
    {
      "cell_type": "markdown",
      "metadata": {
        "id": "QqT323ndNIX_"
      },
      "source": [
        "## **2. Exploring dataset**"
      ]
    },
    {
      "cell_type": "markdown",
      "source": [
        "**2.1 First 10 rows of the dataset**"
      ],
      "metadata": {
        "id": "vH25glDjdqsu"
      }
    },
    {
      "cell_type": "code",
      "execution_count": null,
      "metadata": {
        "id": "lSXURbbbIW5e",
        "colab": {
          "base_uri": "https://localhost:8080/"
        },
        "outputId": "b38ed4b6-9119-42b7-9da1-05798b78ce49"
      },
      "outputs": [
        {
          "output_type": "execute_result",
          "data": {
            "text/plain": [
              "   ID  Target     age_band  gender car_model   car_segment  \\\n",
              "0   1       0  3. 35 to 44    Male   model_1           LCV   \n",
              "1   2       0          NaN     NaN   model_2  Small/Medium   \n",
              "2   3       0          NaN    Male   model_3     Large/SUV   \n",
              "3   5       0          NaN     NaN   model_3     Large/SUV   \n",
              "4   6       0          NaN  Female   model_2  Small/Medium   \n",
              "5   7       0          NaN    Male   model_5     Large/SUV   \n",
              "6   8       0       1. <25    Male   model_3     Large/SUV   \n",
              "7   9       0          NaN    Male   model_6  Small/Medium   \n",
              "8  10       0          NaN     NaN   model_4  Small/Medium   \n",
              "9  11       0          NaN     NaN   model_4  Small/Medium   \n",
              "\n",
              "   age_of_vehicle_years  sched_serv_warr  non_sched_serv_warr  \\\n",
              "0                     9                2                   10   \n",
              "1                     6               10                    3   \n",
              "2                     9               10                    9   \n",
              "3                     5                8                    5   \n",
              "4                     8                9                    4   \n",
              "5                     7                4                   10   \n",
              "6                     8                2                    8   \n",
              "7                     7                4                    9   \n",
              "8                     1                2                    1   \n",
              "9                     3                1                    1   \n",
              "\n",
              "   sched_serv_paid  non_sched_serv_paid  total_paid_services  total_services  \\\n",
              "0                3                    7                    5               6   \n",
              "1               10                    4                    9              10   \n",
              "2               10                    9                   10              10   \n",
              "3                8                    4                    5               6   \n",
              "4               10                    7                    9               8   \n",
              "5                5                    7                    6               8   \n",
              "6                2                    9                    9               4   \n",
              "7                6                    9                    8               6   \n",
              "8                1                    3                    1               2   \n",
              "9                2                    1                    2               1   \n",
              "\n",
              "   mth_since_last_serv  annualised_mileage  num_dealers_visited  \\\n",
              "0                    9                   8                   10   \n",
              "1                    6                  10                    7   \n",
              "2                    7                  10                    6   \n",
              "3                    4                  10                    9   \n",
              "4                    5                   4                    4   \n",
              "5                    8                   5                   10   \n",
              "6                    7                   6                   10   \n",
              "7                    9                   5                    5   \n",
              "8                    1                   1                    2   \n",
              "9                    1                   1                    1   \n",
              "\n",
              "   num_serv_dealer_purchased  \n",
              "0                          4  \n",
              "1                         10  \n",
              "2                         10  \n",
              "3                          7  \n",
              "4                          9  \n",
              "5                          4  \n",
              "6                          4  \n",
              "7                          8  \n",
              "8                          3  \n",
              "9                          1  "
            ],
            "text/html": [
              "\n",
              "  <div id=\"df-ca3b96df-35c1-4135-b467-15ceeba494c8\">\n",
              "    <div class=\"colab-df-container\">\n",
              "      <div>\n",
              "<style scoped>\n",
              "    .dataframe tbody tr th:only-of-type {\n",
              "        vertical-align: middle;\n",
              "    }\n",
              "\n",
              "    .dataframe tbody tr th {\n",
              "        vertical-align: top;\n",
              "    }\n",
              "\n",
              "    .dataframe thead th {\n",
              "        text-align: right;\n",
              "    }\n",
              "</style>\n",
              "<table border=\"1\" class=\"dataframe\">\n",
              "  <thead>\n",
              "    <tr style=\"text-align: right;\">\n",
              "      <th></th>\n",
              "      <th>ID</th>\n",
              "      <th>Target</th>\n",
              "      <th>age_band</th>\n",
              "      <th>gender</th>\n",
              "      <th>car_model</th>\n",
              "      <th>car_segment</th>\n",
              "      <th>age_of_vehicle_years</th>\n",
              "      <th>sched_serv_warr</th>\n",
              "      <th>non_sched_serv_warr</th>\n",
              "      <th>sched_serv_paid</th>\n",
              "      <th>non_sched_serv_paid</th>\n",
              "      <th>total_paid_services</th>\n",
              "      <th>total_services</th>\n",
              "      <th>mth_since_last_serv</th>\n",
              "      <th>annualised_mileage</th>\n",
              "      <th>num_dealers_visited</th>\n",
              "      <th>num_serv_dealer_purchased</th>\n",
              "    </tr>\n",
              "  </thead>\n",
              "  <tbody>\n",
              "    <tr>\n",
              "      <th>0</th>\n",
              "      <td>1</td>\n",
              "      <td>0</td>\n",
              "      <td>3. 35 to 44</td>\n",
              "      <td>Male</td>\n",
              "      <td>model_1</td>\n",
              "      <td>LCV</td>\n",
              "      <td>9</td>\n",
              "      <td>2</td>\n",
              "      <td>10</td>\n",
              "      <td>3</td>\n",
              "      <td>7</td>\n",
              "      <td>5</td>\n",
              "      <td>6</td>\n",
              "      <td>9</td>\n",
              "      <td>8</td>\n",
              "      <td>10</td>\n",
              "      <td>4</td>\n",
              "    </tr>\n",
              "    <tr>\n",
              "      <th>1</th>\n",
              "      <td>2</td>\n",
              "      <td>0</td>\n",
              "      <td>NaN</td>\n",
              "      <td>NaN</td>\n",
              "      <td>model_2</td>\n",
              "      <td>Small/Medium</td>\n",
              "      <td>6</td>\n",
              "      <td>10</td>\n",
              "      <td>3</td>\n",
              "      <td>10</td>\n",
              "      <td>4</td>\n",
              "      <td>9</td>\n",
              "      <td>10</td>\n",
              "      <td>6</td>\n",
              "      <td>10</td>\n",
              "      <td>7</td>\n",
              "      <td>10</td>\n",
              "    </tr>\n",
              "    <tr>\n",
              "      <th>2</th>\n",
              "      <td>3</td>\n",
              "      <td>0</td>\n",
              "      <td>NaN</td>\n",
              "      <td>Male</td>\n",
              "      <td>model_3</td>\n",
              "      <td>Large/SUV</td>\n",
              "      <td>9</td>\n",
              "      <td>10</td>\n",
              "      <td>9</td>\n",
              "      <td>10</td>\n",
              "      <td>9</td>\n",
              "      <td>10</td>\n",
              "      <td>10</td>\n",
              "      <td>7</td>\n",
              "      <td>10</td>\n",
              "      <td>6</td>\n",
              "      <td>10</td>\n",
              "    </tr>\n",
              "    <tr>\n",
              "      <th>3</th>\n",
              "      <td>5</td>\n",
              "      <td>0</td>\n",
              "      <td>NaN</td>\n",
              "      <td>NaN</td>\n",
              "      <td>model_3</td>\n",
              "      <td>Large/SUV</td>\n",
              "      <td>5</td>\n",
              "      <td>8</td>\n",
              "      <td>5</td>\n",
              "      <td>8</td>\n",
              "      <td>4</td>\n",
              "      <td>5</td>\n",
              "      <td>6</td>\n",
              "      <td>4</td>\n",
              "      <td>10</td>\n",
              "      <td>9</td>\n",
              "      <td>7</td>\n",
              "    </tr>\n",
              "    <tr>\n",
              "      <th>4</th>\n",
              "      <td>6</td>\n",
              "      <td>0</td>\n",
              "      <td>NaN</td>\n",
              "      <td>Female</td>\n",
              "      <td>model_2</td>\n",
              "      <td>Small/Medium</td>\n",
              "      <td>8</td>\n",
              "      <td>9</td>\n",
              "      <td>4</td>\n",
              "      <td>10</td>\n",
              "      <td>7</td>\n",
              "      <td>9</td>\n",
              "      <td>8</td>\n",
              "      <td>5</td>\n",
              "      <td>4</td>\n",
              "      <td>4</td>\n",
              "      <td>9</td>\n",
              "    </tr>\n",
              "    <tr>\n",
              "      <th>5</th>\n",
              "      <td>7</td>\n",
              "      <td>0</td>\n",
              "      <td>NaN</td>\n",
              "      <td>Male</td>\n",
              "      <td>model_5</td>\n",
              "      <td>Large/SUV</td>\n",
              "      <td>7</td>\n",
              "      <td>4</td>\n",
              "      <td>10</td>\n",
              "      <td>5</td>\n",
              "      <td>7</td>\n",
              "      <td>6</td>\n",
              "      <td>8</td>\n",
              "      <td>8</td>\n",
              "      <td>5</td>\n",
              "      <td>10</td>\n",
              "      <td>4</td>\n",
              "    </tr>\n",
              "    <tr>\n",
              "      <th>6</th>\n",
              "      <td>8</td>\n",
              "      <td>0</td>\n",
              "      <td>1. &lt;25</td>\n",
              "      <td>Male</td>\n",
              "      <td>model_3</td>\n",
              "      <td>Large/SUV</td>\n",
              "      <td>8</td>\n",
              "      <td>2</td>\n",
              "      <td>8</td>\n",
              "      <td>2</td>\n",
              "      <td>9</td>\n",
              "      <td>9</td>\n",
              "      <td>4</td>\n",
              "      <td>7</td>\n",
              "      <td>6</td>\n",
              "      <td>10</td>\n",
              "      <td>4</td>\n",
              "    </tr>\n",
              "    <tr>\n",
              "      <th>7</th>\n",
              "      <td>9</td>\n",
              "      <td>0</td>\n",
              "      <td>NaN</td>\n",
              "      <td>Male</td>\n",
              "      <td>model_6</td>\n",
              "      <td>Small/Medium</td>\n",
              "      <td>7</td>\n",
              "      <td>4</td>\n",
              "      <td>9</td>\n",
              "      <td>6</td>\n",
              "      <td>9</td>\n",
              "      <td>8</td>\n",
              "      <td>6</td>\n",
              "      <td>9</td>\n",
              "      <td>5</td>\n",
              "      <td>5</td>\n",
              "      <td>8</td>\n",
              "    </tr>\n",
              "    <tr>\n",
              "      <th>8</th>\n",
              "      <td>10</td>\n",
              "      <td>0</td>\n",
              "      <td>NaN</td>\n",
              "      <td>NaN</td>\n",
              "      <td>model_4</td>\n",
              "      <td>Small/Medium</td>\n",
              "      <td>1</td>\n",
              "      <td>2</td>\n",
              "      <td>1</td>\n",
              "      <td>1</td>\n",
              "      <td>3</td>\n",
              "      <td>1</td>\n",
              "      <td>2</td>\n",
              "      <td>1</td>\n",
              "      <td>1</td>\n",
              "      <td>2</td>\n",
              "      <td>3</td>\n",
              "    </tr>\n",
              "    <tr>\n",
              "      <th>9</th>\n",
              "      <td>11</td>\n",
              "      <td>0</td>\n",
              "      <td>NaN</td>\n",
              "      <td>NaN</td>\n",
              "      <td>model_4</td>\n",
              "      <td>Small/Medium</td>\n",
              "      <td>3</td>\n",
              "      <td>1</td>\n",
              "      <td>1</td>\n",
              "      <td>2</td>\n",
              "      <td>1</td>\n",
              "      <td>2</td>\n",
              "      <td>1</td>\n",
              "      <td>1</td>\n",
              "      <td>1</td>\n",
              "      <td>1</td>\n",
              "      <td>1</td>\n",
              "    </tr>\n",
              "  </tbody>\n",
              "</table>\n",
              "</div>\n",
              "      <button class=\"colab-df-convert\" onclick=\"convertToInteractive('df-ca3b96df-35c1-4135-b467-15ceeba494c8')\"\n",
              "              title=\"Convert this dataframe to an interactive table.\"\n",
              "              style=\"display:none;\">\n",
              "        \n",
              "  <svg xmlns=\"http://www.w3.org/2000/svg\" height=\"24px\"viewBox=\"0 0 24 24\"\n",
              "       width=\"24px\">\n",
              "    <path d=\"M0 0h24v24H0V0z\" fill=\"none\"/>\n",
              "    <path d=\"M18.56 5.44l.94 2.06.94-2.06 2.06-.94-2.06-.94-.94-2.06-.94 2.06-2.06.94zm-11 1L8.5 8.5l.94-2.06 2.06-.94-2.06-.94L8.5 2.5l-.94 2.06-2.06.94zm10 10l.94 2.06.94-2.06 2.06-.94-2.06-.94-.94-2.06-.94 2.06-2.06.94z\"/><path d=\"M17.41 7.96l-1.37-1.37c-.4-.4-.92-.59-1.43-.59-.52 0-1.04.2-1.43.59L10.3 9.45l-7.72 7.72c-.78.78-.78 2.05 0 2.83L4 21.41c.39.39.9.59 1.41.59.51 0 1.02-.2 1.41-.59l7.78-7.78 2.81-2.81c.8-.78.8-2.07 0-2.86zM5.41 20L4 18.59l7.72-7.72 1.47 1.35L5.41 20z\"/>\n",
              "  </svg>\n",
              "      </button>\n",
              "      \n",
              "  <style>\n",
              "    .colab-df-container {\n",
              "      display:flex;\n",
              "      flex-wrap:wrap;\n",
              "      gap: 12px;\n",
              "    }\n",
              "\n",
              "    .colab-df-convert {\n",
              "      background-color: #E8F0FE;\n",
              "      border: none;\n",
              "      border-radius: 50%;\n",
              "      cursor: pointer;\n",
              "      display: none;\n",
              "      fill: #1967D2;\n",
              "      height: 32px;\n",
              "      padding: 0 0 0 0;\n",
              "      width: 32px;\n",
              "    }\n",
              "\n",
              "    .colab-df-convert:hover {\n",
              "      background-color: #E2EBFA;\n",
              "      box-shadow: 0px 1px 2px rgba(60, 64, 67, 0.3), 0px 1px 3px 1px rgba(60, 64, 67, 0.15);\n",
              "      fill: #174EA6;\n",
              "    }\n",
              "\n",
              "    [theme=dark] .colab-df-convert {\n",
              "      background-color: #3B4455;\n",
              "      fill: #D2E3FC;\n",
              "    }\n",
              "\n",
              "    [theme=dark] .colab-df-convert:hover {\n",
              "      background-color: #434B5C;\n",
              "      box-shadow: 0px 1px 3px 1px rgba(0, 0, 0, 0.15);\n",
              "      filter: drop-shadow(0px 1px 2px rgba(0, 0, 0, 0.3));\n",
              "      fill: #FFFFFF;\n",
              "    }\n",
              "  </style>\n",
              "\n",
              "      <script>\n",
              "        const buttonEl =\n",
              "          document.querySelector('#df-ca3b96df-35c1-4135-b467-15ceeba494c8 button.colab-df-convert');\n",
              "        buttonEl.style.display =\n",
              "          google.colab.kernel.accessAllowed ? 'block' : 'none';\n",
              "\n",
              "        async function convertToInteractive(key) {\n",
              "          const element = document.querySelector('#df-ca3b96df-35c1-4135-b467-15ceeba494c8');\n",
              "          const dataTable =\n",
              "            await google.colab.kernel.invokeFunction('convertToInteractive',\n",
              "                                                     [key], {});\n",
              "          if (!dataTable) return;\n",
              "\n",
              "          const docLinkHtml = 'Like what you see? Visit the ' +\n",
              "            '<a target=\"_blank\" href=https://colab.research.google.com/notebooks/data_table.ipynb>data table notebook</a>'\n",
              "            + ' to learn more about interactive tables.';\n",
              "          element.innerHTML = '';\n",
              "          dataTable['output_type'] = 'display_data';\n",
              "          await google.colab.output.renderOutput(dataTable, element);\n",
              "          const docLink = document.createElement('div');\n",
              "          docLink.innerHTML = docLinkHtml;\n",
              "          element.appendChild(docLink);\n",
              "        }\n",
              "      </script>\n",
              "    </div>\n",
              "  </div>\n",
              "  "
            ]
          },
          "metadata": {},
          "execution_count": 3
        }
      ],
      "source": [
        "df.head(10)"
      ]
    },
    {
      "cell_type": "markdown",
      "source": [
        "**2.2 Showing information about dataset**"
      ],
      "metadata": {
        "id": "ggfYCtq7ecD2"
      }
    },
    {
      "cell_type": "code",
      "execution_count": null,
      "metadata": {
        "id": "ZP4nF0C7Ijh4",
        "colab": {
          "base_uri": "https://localhost:8080/"
        },
        "outputId": "3034a813-63bb-4323-f62b-a6f4d0f5b017"
      },
      "outputs": [
        {
          "output_type": "stream",
          "name": "stdout",
          "text": [
            "<class 'pandas.core.frame.DataFrame'>\n",
            "RangeIndex: 131337 entries, 0 to 131336\n",
            "Data columns (total 17 columns):\n",
            " #   Column                     Non-Null Count   Dtype \n",
            "---  ------                     --------------   ----- \n",
            " 0   ID                         131337 non-null  int64 \n",
            " 1   Target                     131337 non-null  int64 \n",
            " 2   age_band                   18962 non-null   object\n",
            " 3   gender                     62029 non-null   object\n",
            " 4   car_model                  131337 non-null  object\n",
            " 5   car_segment                131337 non-null  object\n",
            " 6   age_of_vehicle_years       131337 non-null  int64 \n",
            " 7   sched_serv_warr            131337 non-null  int64 \n",
            " 8   non_sched_serv_warr        131337 non-null  int64 \n",
            " 9   sched_serv_paid            131337 non-null  int64 \n",
            " 10  non_sched_serv_paid        131337 non-null  int64 \n",
            " 11  total_paid_services        131337 non-null  int64 \n",
            " 12  total_services             131337 non-null  int64 \n",
            " 13  mth_since_last_serv        131337 non-null  int64 \n",
            " 14  annualised_mileage         131337 non-null  int64 \n",
            " 15  num_dealers_visited        131337 non-null  int64 \n",
            " 16  num_serv_dealer_purchased  131337 non-null  int64 \n",
            "dtypes: int64(13), object(4)\n",
            "memory usage: 17.0+ MB\n"
          ]
        }
      ],
      "source": [
        "df.info()"
      ]
    },
    {
      "cell_type": "markdown",
      "source": [
        "Looks like 'age_band' and 'gender' columns have missing values"
      ],
      "metadata": {
        "id": "couhB0TOek3M"
      }
    },
    {
      "cell_type": "markdown",
      "source": [
        "**2.3 Number of rows and columns in the dataset**"
      ],
      "metadata": {
        "id": "HDpFF21UerMD"
      }
    },
    {
      "cell_type": "code",
      "execution_count": null,
      "metadata": {
        "id": "plZvQlyIL8D-",
        "colab": {
          "base_uri": "https://localhost:8080/"
        },
        "outputId": "45844cfe-2cbf-4f86-d0c7-33b02da15597"
      },
      "outputs": [
        {
          "output_type": "execute_result",
          "data": {
            "text/plain": [
              "(131337, 17)"
            ]
          },
          "metadata": {},
          "execution_count": 5
        }
      ],
      "source": [
        "df.shape"
      ]
    },
    {
      "cell_type": "markdown",
      "source": [
        "**2.4 Statistical information of the dataset**"
      ],
      "metadata": {
        "id": "MPZVc7z_e-sB"
      }
    },
    {
      "cell_type": "code",
      "execution_count": null,
      "metadata": {
        "id": "A_5y5j16MGSt",
        "colab": {
          "base_uri": "https://localhost:8080/"
        },
        "outputId": "3107935e-e3d2-4767-808c-28d5607a1caa"
      },
      "outputs": [
        {
          "output_type": "execute_result",
          "data": {
            "text/plain": [
              "                  ID         Target  age_of_vehicle_years  sched_serv_warr  \\\n",
              "count  131337.000000  131337.000000         131337.000000    131337.000000   \n",
              "mean    77097.384180       0.026809              5.493022         5.452500   \n",
              "std     44501.636704       0.161525              2.843299         2.884328   \n",
              "min         1.000000       0.000000              1.000000         1.000000   \n",
              "25%     38563.000000       0.000000              3.000000         3.000000   \n",
              "50%     77132.000000       0.000000              5.000000         5.000000   \n",
              "75%    115668.000000       0.000000              8.000000         8.000000   \n",
              "max    154139.000000       1.000000             10.000000        10.000000   \n",
              "\n",
              "       non_sched_serv_warr  sched_serv_paid  non_sched_serv_paid  \\\n",
              "count        131337.000000    131337.000000        131337.000000   \n",
              "mean              5.472517         5.452287             5.497050   \n",
              "std               2.870665         2.886528             2.878699   \n",
              "min               1.000000         1.000000             1.000000   \n",
              "25%               3.000000         3.000000             3.000000   \n",
              "50%               5.000000         5.000000             5.000000   \n",
              "75%               8.000000         8.000000             8.000000   \n",
              "max              10.000000        10.000000            10.000000   \n",
              "\n",
              "       total_paid_services  total_services  mth_since_last_serv  \\\n",
              "count        131337.000000   131337.000000        131337.000000   \n",
              "mean              5.481692        5.454967             5.469807   \n",
              "std               2.880408        2.875961             2.859756   \n",
              "min               1.000000        1.000000             1.000000   \n",
              "25%               3.000000        3.000000             3.000000   \n",
              "50%               5.000000        5.000000             5.000000   \n",
              "75%               8.000000        8.000000             8.000000   \n",
              "max              10.000000       10.000000            10.000000   \n",
              "\n",
              "       annualised_mileage  num_dealers_visited  num_serv_dealer_purchased  \n",
              "count       131337.000000        131337.000000              131337.000000  \n",
              "mean             5.502836             5.485438                   5.480778  \n",
              "std              2.854896             2.876772                   2.867524  \n",
              "min              1.000000             1.000000                   1.000000  \n",
              "25%              3.000000             3.000000                   3.000000  \n",
              "50%              5.000000             5.000000                   5.000000  \n",
              "75%              8.000000             8.000000                   8.000000  \n",
              "max             10.000000            10.000000                  10.000000  "
            ],
            "text/html": [
              "\n",
              "  <div id=\"df-9611049a-fbde-46f9-8b32-90b7214e5400\">\n",
              "    <div class=\"colab-df-container\">\n",
              "      <div>\n",
              "<style scoped>\n",
              "    .dataframe tbody tr th:only-of-type {\n",
              "        vertical-align: middle;\n",
              "    }\n",
              "\n",
              "    .dataframe tbody tr th {\n",
              "        vertical-align: top;\n",
              "    }\n",
              "\n",
              "    .dataframe thead th {\n",
              "        text-align: right;\n",
              "    }\n",
              "</style>\n",
              "<table border=\"1\" class=\"dataframe\">\n",
              "  <thead>\n",
              "    <tr style=\"text-align: right;\">\n",
              "      <th></th>\n",
              "      <th>ID</th>\n",
              "      <th>Target</th>\n",
              "      <th>age_of_vehicle_years</th>\n",
              "      <th>sched_serv_warr</th>\n",
              "      <th>non_sched_serv_warr</th>\n",
              "      <th>sched_serv_paid</th>\n",
              "      <th>non_sched_serv_paid</th>\n",
              "      <th>total_paid_services</th>\n",
              "      <th>total_services</th>\n",
              "      <th>mth_since_last_serv</th>\n",
              "      <th>annualised_mileage</th>\n",
              "      <th>num_dealers_visited</th>\n",
              "      <th>num_serv_dealer_purchased</th>\n",
              "    </tr>\n",
              "  </thead>\n",
              "  <tbody>\n",
              "    <tr>\n",
              "      <th>count</th>\n",
              "      <td>131337.000000</td>\n",
              "      <td>131337.000000</td>\n",
              "      <td>131337.000000</td>\n",
              "      <td>131337.000000</td>\n",
              "      <td>131337.000000</td>\n",
              "      <td>131337.000000</td>\n",
              "      <td>131337.000000</td>\n",
              "      <td>131337.000000</td>\n",
              "      <td>131337.000000</td>\n",
              "      <td>131337.000000</td>\n",
              "      <td>131337.000000</td>\n",
              "      <td>131337.000000</td>\n",
              "      <td>131337.000000</td>\n",
              "    </tr>\n",
              "    <tr>\n",
              "      <th>mean</th>\n",
              "      <td>77097.384180</td>\n",
              "      <td>0.026809</td>\n",
              "      <td>5.493022</td>\n",
              "      <td>5.452500</td>\n",
              "      <td>5.472517</td>\n",
              "      <td>5.452287</td>\n",
              "      <td>5.497050</td>\n",
              "      <td>5.481692</td>\n",
              "      <td>5.454967</td>\n",
              "      <td>5.469807</td>\n",
              "      <td>5.502836</td>\n",
              "      <td>5.485438</td>\n",
              "      <td>5.480778</td>\n",
              "    </tr>\n",
              "    <tr>\n",
              "      <th>std</th>\n",
              "      <td>44501.636704</td>\n",
              "      <td>0.161525</td>\n",
              "      <td>2.843299</td>\n",
              "      <td>2.884328</td>\n",
              "      <td>2.870665</td>\n",
              "      <td>2.886528</td>\n",
              "      <td>2.878699</td>\n",
              "      <td>2.880408</td>\n",
              "      <td>2.875961</td>\n",
              "      <td>2.859756</td>\n",
              "      <td>2.854896</td>\n",
              "      <td>2.876772</td>\n",
              "      <td>2.867524</td>\n",
              "    </tr>\n",
              "    <tr>\n",
              "      <th>min</th>\n",
              "      <td>1.000000</td>\n",
              "      <td>0.000000</td>\n",
              "      <td>1.000000</td>\n",
              "      <td>1.000000</td>\n",
              "      <td>1.000000</td>\n",
              "      <td>1.000000</td>\n",
              "      <td>1.000000</td>\n",
              "      <td>1.000000</td>\n",
              "      <td>1.000000</td>\n",
              "      <td>1.000000</td>\n",
              "      <td>1.000000</td>\n",
              "      <td>1.000000</td>\n",
              "      <td>1.000000</td>\n",
              "    </tr>\n",
              "    <tr>\n",
              "      <th>25%</th>\n",
              "      <td>38563.000000</td>\n",
              "      <td>0.000000</td>\n",
              "      <td>3.000000</td>\n",
              "      <td>3.000000</td>\n",
              "      <td>3.000000</td>\n",
              "      <td>3.000000</td>\n",
              "      <td>3.000000</td>\n",
              "      <td>3.000000</td>\n",
              "      <td>3.000000</td>\n",
              "      <td>3.000000</td>\n",
              "      <td>3.000000</td>\n",
              "      <td>3.000000</td>\n",
              "      <td>3.000000</td>\n",
              "    </tr>\n",
              "    <tr>\n",
              "      <th>50%</th>\n",
              "      <td>77132.000000</td>\n",
              "      <td>0.000000</td>\n",
              "      <td>5.000000</td>\n",
              "      <td>5.000000</td>\n",
              "      <td>5.000000</td>\n",
              "      <td>5.000000</td>\n",
              "      <td>5.000000</td>\n",
              "      <td>5.000000</td>\n",
              "      <td>5.000000</td>\n",
              "      <td>5.000000</td>\n",
              "      <td>5.000000</td>\n",
              "      <td>5.000000</td>\n",
              "      <td>5.000000</td>\n",
              "    </tr>\n",
              "    <tr>\n",
              "      <th>75%</th>\n",
              "      <td>115668.000000</td>\n",
              "      <td>0.000000</td>\n",
              "      <td>8.000000</td>\n",
              "      <td>8.000000</td>\n",
              "      <td>8.000000</td>\n",
              "      <td>8.000000</td>\n",
              "      <td>8.000000</td>\n",
              "      <td>8.000000</td>\n",
              "      <td>8.000000</td>\n",
              "      <td>8.000000</td>\n",
              "      <td>8.000000</td>\n",
              "      <td>8.000000</td>\n",
              "      <td>8.000000</td>\n",
              "    </tr>\n",
              "    <tr>\n",
              "      <th>max</th>\n",
              "      <td>154139.000000</td>\n",
              "      <td>1.000000</td>\n",
              "      <td>10.000000</td>\n",
              "      <td>10.000000</td>\n",
              "      <td>10.000000</td>\n",
              "      <td>10.000000</td>\n",
              "      <td>10.000000</td>\n",
              "      <td>10.000000</td>\n",
              "      <td>10.000000</td>\n",
              "      <td>10.000000</td>\n",
              "      <td>10.000000</td>\n",
              "      <td>10.000000</td>\n",
              "      <td>10.000000</td>\n",
              "    </tr>\n",
              "  </tbody>\n",
              "</table>\n",
              "</div>\n",
              "      <button class=\"colab-df-convert\" onclick=\"convertToInteractive('df-9611049a-fbde-46f9-8b32-90b7214e5400')\"\n",
              "              title=\"Convert this dataframe to an interactive table.\"\n",
              "              style=\"display:none;\">\n",
              "        \n",
              "  <svg xmlns=\"http://www.w3.org/2000/svg\" height=\"24px\"viewBox=\"0 0 24 24\"\n",
              "       width=\"24px\">\n",
              "    <path d=\"M0 0h24v24H0V0z\" fill=\"none\"/>\n",
              "    <path d=\"M18.56 5.44l.94 2.06.94-2.06 2.06-.94-2.06-.94-.94-2.06-.94 2.06-2.06.94zm-11 1L8.5 8.5l.94-2.06 2.06-.94-2.06-.94L8.5 2.5l-.94 2.06-2.06.94zm10 10l.94 2.06.94-2.06 2.06-.94-2.06-.94-.94-2.06-.94 2.06-2.06.94z\"/><path d=\"M17.41 7.96l-1.37-1.37c-.4-.4-.92-.59-1.43-.59-.52 0-1.04.2-1.43.59L10.3 9.45l-7.72 7.72c-.78.78-.78 2.05 0 2.83L4 21.41c.39.39.9.59 1.41.59.51 0 1.02-.2 1.41-.59l7.78-7.78 2.81-2.81c.8-.78.8-2.07 0-2.86zM5.41 20L4 18.59l7.72-7.72 1.47 1.35L5.41 20z\"/>\n",
              "  </svg>\n",
              "      </button>\n",
              "      \n",
              "  <style>\n",
              "    .colab-df-container {\n",
              "      display:flex;\n",
              "      flex-wrap:wrap;\n",
              "      gap: 12px;\n",
              "    }\n",
              "\n",
              "    .colab-df-convert {\n",
              "      background-color: #E8F0FE;\n",
              "      border: none;\n",
              "      border-radius: 50%;\n",
              "      cursor: pointer;\n",
              "      display: none;\n",
              "      fill: #1967D2;\n",
              "      height: 32px;\n",
              "      padding: 0 0 0 0;\n",
              "      width: 32px;\n",
              "    }\n",
              "\n",
              "    .colab-df-convert:hover {\n",
              "      background-color: #E2EBFA;\n",
              "      box-shadow: 0px 1px 2px rgba(60, 64, 67, 0.3), 0px 1px 3px 1px rgba(60, 64, 67, 0.15);\n",
              "      fill: #174EA6;\n",
              "    }\n",
              "\n",
              "    [theme=dark] .colab-df-convert {\n",
              "      background-color: #3B4455;\n",
              "      fill: #D2E3FC;\n",
              "    }\n",
              "\n",
              "    [theme=dark] .colab-df-convert:hover {\n",
              "      background-color: #434B5C;\n",
              "      box-shadow: 0px 1px 3px 1px rgba(0, 0, 0, 0.15);\n",
              "      filter: drop-shadow(0px 1px 2px rgba(0, 0, 0, 0.3));\n",
              "      fill: #FFFFFF;\n",
              "    }\n",
              "  </style>\n",
              "\n",
              "      <script>\n",
              "        const buttonEl =\n",
              "          document.querySelector('#df-9611049a-fbde-46f9-8b32-90b7214e5400 button.colab-df-convert');\n",
              "        buttonEl.style.display =\n",
              "          google.colab.kernel.accessAllowed ? 'block' : 'none';\n",
              "\n",
              "        async function convertToInteractive(key) {\n",
              "          const element = document.querySelector('#df-9611049a-fbde-46f9-8b32-90b7214e5400');\n",
              "          const dataTable =\n",
              "            await google.colab.kernel.invokeFunction('convertToInteractive',\n",
              "                                                     [key], {});\n",
              "          if (!dataTable) return;\n",
              "\n",
              "          const docLinkHtml = 'Like what you see? Visit the ' +\n",
              "            '<a target=\"_blank\" href=https://colab.research.google.com/notebooks/data_table.ipynb>data table notebook</a>'\n",
              "            + ' to learn more about interactive tables.';\n",
              "          element.innerHTML = '';\n",
              "          dataTable['output_type'] = 'display_data';\n",
              "          await google.colab.output.renderOutput(dataTable, element);\n",
              "          const docLink = document.createElement('div');\n",
              "          docLink.innerHTML = docLinkHtml;\n",
              "          element.appendChild(docLink);\n",
              "        }\n",
              "      </script>\n",
              "    </div>\n",
              "  </div>\n",
              "  "
            ]
          },
          "metadata": {},
          "execution_count": 6
        }
      ],
      "source": [
        "df.describe()"
      ]
    },
    {
      "cell_type": "markdown",
      "source": [
        "**2.5 Showing unique values of every columns**"
      ],
      "metadata": {
        "id": "UrjAUfZ6fEMR"
      }
    },
    {
      "cell_type": "code",
      "execution_count": null,
      "metadata": {
        "id": "vXtBhGl4Q0KI",
        "colab": {
          "base_uri": "https://localhost:8080/"
        },
        "outputId": "866afa3e-1bce-401b-c07f-3220e3f22c55"
      },
      "outputs": [
        {
          "output_type": "stream",
          "name": "stdout",
          "text": [
            "ID\n",
            "[     1      2      3 ... 154137 154138 154139]\n",
            "Target\n",
            "[0 1]\n",
            "age_band\n",
            "['3. 35 to 44' nan '1. <25' '4. 45 to 54' '2. 25 to 34' '7. 75+'\n",
            " '5. 55 to 64' '6. 65 to 74']\n",
            "gender\n",
            "['Male' nan 'Female']\n",
            "car_model\n",
            "['model_1' 'model_2' 'model_3' 'model_5' 'model_6' 'model_4' 'model_7'\n",
            " 'model_8' 'model_9' 'model_10' 'model_11' 'model_13' 'model_12'\n",
            " 'model_14' 'model_15' 'model_16' 'model_17' 'model_18' 'model_19']\n",
            "car_segment\n",
            "['LCV' 'Small/Medium' 'Large/SUV' 'Other']\n",
            "age_of_vehicle_years\n",
            "[ 9  6  5  8  7  1  3  4 10  2]\n",
            "sched_serv_warr\n",
            "[ 2 10  8  9  4  1  3  7  5  6]\n",
            "non_sched_serv_warr\n",
            "[10  3  9  5  4  8  1  6  2  7]\n",
            "sched_serv_paid\n",
            "[ 3 10  8  5  2  6  1  4  9  7]\n",
            "non_sched_serv_paid\n",
            "[ 7  4  9  3  1  2  6  5 10  8]\n",
            "total_paid_services\n",
            "[ 5  9 10  6  8  1  2  7  3  4]\n",
            "total_services\n",
            "[ 6 10  8  4  2  1  3  5  9  7]\n",
            "mth_since_last_serv\n",
            "[ 9  6  7  4  5  8  1  3 10  2]\n",
            "annualised_mileage\n",
            "[ 8 10  4  5  6  1  7  3  9  2]\n",
            "num_dealers_visited\n",
            "[10  7  6  9  4  5  2  1  3  8]\n",
            "num_serv_dealer_purchased\n",
            "[ 4 10  7  9  8  3  1  6  2  5]\n"
          ]
        }
      ],
      "source": [
        "for col in df.columns:\n",
        "  print(col)\n",
        "  print(df[col].unique())"
      ]
    },
    {
      "cell_type": "markdown",
      "metadata": {
        "id": "hDssPGOINOJS"
      },
      "source": [
        "## **3. Data cleaning**"
      ]
    },
    {
      "cell_type": "markdown",
      "source": [
        "**3.1 Creating a copy of the dataset**"
      ],
      "metadata": {
        "id": "nPACVePYfTJF"
      }
    },
    {
      "cell_type": "code",
      "execution_count": null,
      "metadata": {
        "id": "_Ug3EznRMI_w"
      },
      "outputs": [],
      "source": [
        "df_cleaned = df.copy()"
      ]
    },
    {
      "cell_type": "markdown",
      "source": [
        "**3.2 Dropping 'age_band' and 'gender' (too many null values) and 'ID' (irrelevant to target variable)**"
      ],
      "metadata": {
        "id": "yuWuHbw8f-9c"
      }
    },
    {
      "cell_type": "code",
      "execution_count": null,
      "metadata": {
        "id": "5QnQieyENUBs"
      },
      "outputs": [],
      "source": [
        "df_cleaned.drop(columns=['age_band', 'gender', 'ID'], axis=1, inplace=True)"
      ]
    },
    {
      "cell_type": "markdown",
      "source": [
        "**3.3 Number of remaining columns**"
      ],
      "metadata": {
        "id": "53T7w3aWgaze"
      }
    },
    {
      "cell_type": "code",
      "execution_count": null,
      "metadata": {
        "id": "1D0zZjyVOtJr",
        "colab": {
          "base_uri": "https://localhost:8080/"
        },
        "outputId": "b6cafcbe-0108-40c3-8572-0932a362b9c4"
      },
      "outputs": [
        {
          "output_type": "execute_result",
          "data": {
            "text/plain": [
              "(131337, 14)"
            ]
          },
          "metadata": {},
          "execution_count": 10
        }
      ],
      "source": [
        "df_cleaned.shape"
      ]
    },
    {
      "cell_type": "markdown",
      "source": [
        "**3.4 Checking for null values**"
      ],
      "metadata": {
        "id": "HeexnQn3ls2G"
      }
    },
    {
      "cell_type": "code",
      "execution_count": null,
      "metadata": {
        "id": "ANbG2PKnPbGm",
        "colab": {
          "base_uri": "https://localhost:8080/"
        },
        "outputId": "6d67adac-aa4b-4272-db20-a57ea2df7939"
      },
      "outputs": [
        {
          "output_type": "execute_result",
          "data": {
            "text/plain": [
              "Target                       0\n",
              "car_model                    0\n",
              "car_segment                  0\n",
              "age_of_vehicle_years         0\n",
              "sched_serv_warr              0\n",
              "non_sched_serv_warr          0\n",
              "sched_serv_paid              0\n",
              "non_sched_serv_paid          0\n",
              "total_paid_services          0\n",
              "total_services               0\n",
              "mth_since_last_serv          0\n",
              "annualised_mileage           0\n",
              "num_dealers_visited          0\n",
              "num_serv_dealer_purchased    0\n",
              "dtype: int64"
            ]
          },
          "metadata": {},
          "execution_count": 11
        }
      ],
      "source": [
        "df_cleaned.isna().sum()"
      ]
    },
    {
      "cell_type": "markdown",
      "metadata": {
        "id": "Zcynox2yRtJF"
      },
      "source": [
        "## **4. Preparing dataset**"
      ]
    },
    {
      "cell_type": "markdown",
      "source": [
        "**4.1 Showing unique values in 'car_model'**"
      ],
      "metadata": {
        "id": "PY_q8260l9yw"
      }
    },
    {
      "cell_type": "code",
      "execution_count": null,
      "metadata": {
        "id": "16phXljhU92o",
        "colab": {
          "base_uri": "https://localhost:8080/"
        },
        "outputId": "2d9c8c42-972d-488c-c8f1-57f453e609a2"
      },
      "outputs": [
        {
          "output_type": "execute_result",
          "data": {
            "text/plain": [
              "array(['model_1', 'model_2', 'model_3', 'model_5', 'model_6', 'model_4',\n",
              "       'model_7', 'model_8', 'model_9', 'model_10', 'model_11',\n",
              "       'model_13', 'model_12', 'model_14', 'model_15', 'model_16',\n",
              "       'model_17', 'model_18', 'model_19'], dtype=object)"
            ]
          },
          "metadata": {},
          "execution_count": 12
        }
      ],
      "source": [
        "df_cleaned.car_model.unique()"
      ]
    },
    {
      "cell_type": "markdown",
      "metadata": {
        "id": "ehQ6zwlCThgG"
      },
      "source": [
        "**4.2 Importing OrdinalEncoder from sklearn.preprocessing**"
      ]
    },
    {
      "cell_type": "code",
      "execution_count": null,
      "metadata": {
        "id": "2pwJekPnRYdE"
      },
      "outputs": [],
      "source": [
        "from sklearn.preprocessing import OrdinalEncoder"
      ]
    },
    {
      "cell_type": "markdown",
      "source": [
        "**4.3 Creating dictionary containing the values**"
      ],
      "metadata": {
        "id": "C-snyZV6tt01"
      }
    },
    {
      "cell_type": "code",
      "execution_count": null,
      "metadata": {
        "id": "mLYNdMouR3kh"
      },
      "outputs": [],
      "source": [
        "car_model_categories = [['model_1', 'model_2', 'model_3', 'model_5', 'model_6', 'model_4',\n",
        "       'model_7', 'model_8', 'model_9', 'model_10', 'model_11',\n",
        "       'model_13', 'model_12', 'model_14', 'model_15', 'model_16',\n",
        "       'model_17', 'model_18', 'model_19']]"
      ]
    },
    {
      "cell_type": "markdown",
      "source": [
        "**4.4 Instantiating OrdinalEncoder class and saving it to a variable**"
      ],
      "metadata": {
        "id": "xvVH44UivtYM"
      }
    },
    {
      "cell_type": "code",
      "execution_count": null,
      "metadata": {
        "id": "4f1c9CGuSBI-"
      },
      "outputs": [],
      "source": [
        "car_model_encoded = OrdinalEncoder(categories = car_model_categories)"
      ]
    },
    {
      "cell_type": "markdown",
      "source": [
        "**4.5 Using the encoder to transform the columm**"
      ],
      "metadata": {
        "id": "SZSdngiNwRpI"
      }
    },
    {
      "cell_type": "code",
      "execution_count": null,
      "metadata": {
        "id": "mYN9Vzi-SNFx"
      },
      "outputs": [],
      "source": [
        "df_cleaned['car_model_categories'] = car_model_encoded.fit_transform(df_cleaned[['car_model']])"
      ]
    },
    {
      "cell_type": "markdown",
      "source": [
        "**4.6 Removing the previous column**"
      ],
      "metadata": {
        "id": "hmAJRi5PxFzU"
      }
    },
    {
      "cell_type": "code",
      "execution_count": null,
      "metadata": {
        "id": "oa7kr-HYSxhV",
        "colab": {
          "base_uri": "https://localhost:8080/"
        },
        "outputId": "e9575cef-f5d1-4c1b-f082-f2bd698fc2cf"
      },
      "outputs": [
        {
          "output_type": "execute_result",
          "data": {
            "text/plain": [
              "array([ 0.,  1.,  2.,  3.,  4.,  5.,  6.,  7.,  8.,  9., 10., 11., 12.,\n",
              "       13., 14., 15., 16., 17., 18.])"
            ]
          },
          "metadata": {},
          "execution_count": 17
        }
      ],
      "source": [
        "df_cleaned['car_model'] = df_cleaned['car_model_categories']\n",
        "df_cleaned.drop('car_model_categories', axis=1, inplace=True)\n",
        "\n",
        "df_cleaned['car_model'].unique()"
      ]
    },
    {
      "cell_type": "markdown",
      "source": [
        "**4.7 Creating dictionary containing 'car_segment' values**"
      ],
      "metadata": {
        "id": "zfNFPHFHz5Sj"
      }
    },
    {
      "cell_type": "code",
      "execution_count": null,
      "metadata": {
        "id": "Q_qTwZjiVMUS",
        "colab": {
          "base_uri": "https://localhost:8080/"
        },
        "outputId": "73420d3a-5704-4b5c-8258-d0ccfd0cad13"
      },
      "outputs": [
        {
          "output_type": "execute_result",
          "data": {
            "text/plain": [
              "array(['LCV', 'Small/Medium', 'Large/SUV', 'Other'], dtype=object)"
            ]
          },
          "metadata": {},
          "execution_count": 18
        }
      ],
      "source": [
        "df_cleaned['car_segment'].unique()"
      ]
    },
    {
      "cell_type": "code",
      "execution_count": null,
      "metadata": {
        "id": "IN1LfQGrWOBx"
      },
      "outputs": [],
      "source": [
        "df_cleaned.car_segment = df_cleaned.car_segment.map({'LCV':0, 'Small/Medium':1, 'Large/SUV':2, 'Other':3})"
      ]
    },
    {
      "cell_type": "markdown",
      "source": [
        "**4.8 Assigning target variable to a variable**"
      ],
      "metadata": {
        "id": "xruFy8sl0DCg"
      }
    },
    {
      "cell_type": "code",
      "execution_count": null,
      "metadata": {
        "id": "PRbbA00kPpcw"
      },
      "outputs": [],
      "source": [
        "y = df_cleaned.pop('Target')"
      ]
    },
    {
      "cell_type": "markdown",
      "source": [
        "**4.9 Assigning features to a variable**"
      ],
      "metadata": {
        "id": "ph0lGUcN0L4U"
      }
    },
    {
      "cell_type": "code",
      "execution_count": null,
      "metadata": {
        "id": "5qDE-uPVSQGb"
      },
      "outputs": [],
      "source": [
        "X = df_cleaned"
      ]
    },
    {
      "cell_type": "markdown",
      "source": [
        "**4.10 Importing train_test_split from sklearn**"
      ],
      "metadata": {
        "id": "NpIZbl0z0ZqK"
      }
    },
    {
      "cell_type": "code",
      "execution_count": null,
      "metadata": {
        "id": "vp44G7ooSTkq"
      },
      "outputs": [],
      "source": [
        "from sklearn.model_selection import train_test_split"
      ]
    },
    {
      "cell_type": "markdown",
      "source": [
        "**4.11 Splitting target variable and features into training and testing datasets**"
      ],
      "metadata": {
        "id": "A5EMdjRL1qrw"
      }
    },
    {
      "cell_type": "code",
      "execution_count": null,
      "metadata": {
        "id": "sOcIv6xZSYz4"
      },
      "outputs": [],
      "source": [
        "X_data, X_test, y_data, y_test = train_test_split(X, y, test_size=0.2, random_state=3, stratify=y)"
      ]
    },
    {
      "cell_type": "markdown",
      "source": [
        "**4.12 Splitting target variable and features into training and validation datasets**"
      ],
      "metadata": {
        "id": "bKEDvmel1zIE"
      }
    },
    {
      "cell_type": "code",
      "execution_count": null,
      "metadata": {
        "id": "BoecXhTdSjUU"
      },
      "outputs": [],
      "source": [
        "X_train, X_val, y_train, y_val = train_test_split(X_data, y_data, test_size=0.2, random_state=3, stratify=y_data)"
      ]
    },
    {
      "cell_type": "markdown",
      "source": [
        "**4.13 Showing the distribution of target variable after splitting datasets**"
      ],
      "metadata": {
        "id": "RyLX3zRr13jD"
      }
    },
    {
      "cell_type": "code",
      "execution_count": null,
      "metadata": {
        "id": "8PH1_ZwZzI9Q",
        "colab": {
          "base_uri": "https://localhost:8080/"
        },
        "outputId": "cfc68bf5-d778-4044-d5df-77b529bd179d"
      },
      "outputs": [
        {
          "output_type": "stream",
          "name": "stdout",
          "text": [
            "0    0.973184\n",
            "1    0.026816\n",
            "Name: Target, dtype: float64\n",
            "0    0.973208\n",
            "1    0.026792\n",
            "Name: Target, dtype: float64\n",
            "0    0.973199\n",
            "1    0.026801\n",
            "Name: Target, dtype: float64\n"
          ]
        }
      ],
      "source": [
        "print(y_train.value_counts(normalize=True))\n",
        "print(y_val.value_counts(normalize=True))\n",
        "print(y_test.value_counts(normalize=True))"
      ]
    },
    {
      "cell_type": "markdown",
      "metadata": {
        "id": "QjNe6VzcS3si"
      },
      "source": [
        "## **5. Assessing baseline**"
      ]
    },
    {
      "cell_type": "markdown",
      "source": [
        "**5.1 Finding the mode of target variable**"
      ],
      "metadata": {
        "id": "gkWBRFSc2S2i"
      }
    },
    {
      "cell_type": "code",
      "execution_count": null,
      "metadata": {
        "id": "Y1IGEJVhS7Ng"
      },
      "outputs": [],
      "source": [
        "y_mode = y.mode()"
      ]
    },
    {
      "cell_type": "markdown",
      "source": [
        "**5.2 Creating a numpy array and assigning the value to a variable**"
      ],
      "metadata": {
        "id": "-6KXvr1s2clV"
      }
    },
    {
      "cell_type": "code",
      "execution_count": null,
      "metadata": {
        "id": "C2w0nVVkS8-k"
      },
      "outputs": [],
      "source": [
        "y_base = np.full(y_train.shape, y_mode)"
      ]
    },
    {
      "cell_type": "markdown",
      "source": [
        "**5.3 Importing accuracy, precision, recall and f1 scores from sklearn**"
      ],
      "metadata": {
        "id": "7kNoWJMvRkSv"
      }
    },
    {
      "cell_type": "code",
      "execution_count": null,
      "metadata": {
        "id": "2mtHvlhiTBtr"
      },
      "outputs": [],
      "source": [
        "from sklearn.metrics import accuracy_score, precision_score, recall_score, f1_score"
      ]
    },
    {
      "cell_type": "markdown",
      "source": [
        "**5.4 Calculating accuracy and f1 score**"
      ],
      "metadata": {
        "id": "4tSjk7FxRseo"
      }
    },
    {
      "cell_type": "code",
      "execution_count": null,
      "metadata": {
        "id": "ILr6jwzzTF_N",
        "colab": {
          "base_uri": "https://localhost:8080/"
        },
        "outputId": "ab66db0e-18ee-4c36-d78e-2e5efdd0d537"
      },
      "outputs": [
        {
          "output_type": "stream",
          "name": "stdout",
          "text": [
            "0.9731842246148356\n",
            "0.9599585514870511\n"
          ]
        }
      ],
      "source": [
        "print(accuracy_score(y_train, y_base))\n",
        "print(f1_score(y_train, y_base, average='weighted'))"
      ]
    },
    {
      "cell_type": "markdown",
      "metadata": {
        "id": "Ew6rjA4hdA0Q"
      },
      "source": [
        "## **6. Training KNN classifier**"
      ]
    },
    {
      "cell_type": "markdown",
      "source": [
        "**6.1 Importing KNN from sklearn**"
      ],
      "metadata": {
        "id": "pWrLMg82B8Uc"
      }
    },
    {
      "cell_type": "code",
      "execution_count": null,
      "metadata": {
        "id": "FkPuta29cpls"
      },
      "outputs": [],
      "source": [
        "from sklearn.neighbors import KNeighborsClassifier"
      ]
    },
    {
      "cell_type": "markdown",
      "source": [
        "**6.2 Training KNN with n_neighbors = 3**"
      ],
      "metadata": {
        "id": "k9kYrJ731b8T"
      }
    },
    {
      "cell_type": "markdown",
      "source": [
        "Training the model using training set"
      ],
      "metadata": {
        "id": "JSd_f4Tk1ff2"
      }
    },
    {
      "cell_type": "code",
      "source": [
        "knn_3 = KNeighborsClassifier(n_neighbors=3, metric='euclidean')\n",
        "knn_3.fit(X_train, y_train)"
      ],
      "metadata": {
        "colab": {
          "base_uri": "https://localhost:8080/",
          "height": 75
        },
        "id": "-J8pQDIf1ioU",
        "outputId": "7064b106-db91-4c7c-b671-267ab68bce8f"
      },
      "execution_count": null,
      "outputs": [
        {
          "output_type": "execute_result",
          "data": {
            "text/plain": [
              "KNeighborsClassifier(metric='euclidean', n_neighbors=3)"
            ],
            "text/html": [
              "<style>#sk-container-id-1 {color: black;background-color: white;}#sk-container-id-1 pre{padding: 0;}#sk-container-id-1 div.sk-toggleable {background-color: white;}#sk-container-id-1 label.sk-toggleable__label {cursor: pointer;display: block;width: 100%;margin-bottom: 0;padding: 0.3em;box-sizing: border-box;text-align: center;}#sk-container-id-1 label.sk-toggleable__label-arrow:before {content: \"▸\";float: left;margin-right: 0.25em;color: #696969;}#sk-container-id-1 label.sk-toggleable__label-arrow:hover:before {color: black;}#sk-container-id-1 div.sk-estimator:hover label.sk-toggleable__label-arrow:before {color: black;}#sk-container-id-1 div.sk-toggleable__content {max-height: 0;max-width: 0;overflow: hidden;text-align: left;background-color: #f0f8ff;}#sk-container-id-1 div.sk-toggleable__content pre {margin: 0.2em;color: black;border-radius: 0.25em;background-color: #f0f8ff;}#sk-container-id-1 input.sk-toggleable__control:checked~div.sk-toggleable__content {max-height: 200px;max-width: 100%;overflow: auto;}#sk-container-id-1 input.sk-toggleable__control:checked~label.sk-toggleable__label-arrow:before {content: \"▾\";}#sk-container-id-1 div.sk-estimator input.sk-toggleable__control:checked~label.sk-toggleable__label {background-color: #d4ebff;}#sk-container-id-1 div.sk-label input.sk-toggleable__control:checked~label.sk-toggleable__label {background-color: #d4ebff;}#sk-container-id-1 input.sk-hidden--visually {border: 0;clip: rect(1px 1px 1px 1px);clip: rect(1px, 1px, 1px, 1px);height: 1px;margin: -1px;overflow: hidden;padding: 0;position: absolute;width: 1px;}#sk-container-id-1 div.sk-estimator {font-family: monospace;background-color: #f0f8ff;border: 1px dotted black;border-radius: 0.25em;box-sizing: border-box;margin-bottom: 0.5em;}#sk-container-id-1 div.sk-estimator:hover {background-color: #d4ebff;}#sk-container-id-1 div.sk-parallel-item::after {content: \"\";width: 100%;border-bottom: 1px solid gray;flex-grow: 1;}#sk-container-id-1 div.sk-label:hover label.sk-toggleable__label {background-color: #d4ebff;}#sk-container-id-1 div.sk-serial::before {content: \"\";position: absolute;border-left: 1px solid gray;box-sizing: border-box;top: 0;bottom: 0;left: 50%;z-index: 0;}#sk-container-id-1 div.sk-serial {display: flex;flex-direction: column;align-items: center;background-color: white;padding-right: 0.2em;padding-left: 0.2em;position: relative;}#sk-container-id-1 div.sk-item {position: relative;z-index: 1;}#sk-container-id-1 div.sk-parallel {display: flex;align-items: stretch;justify-content: center;background-color: white;position: relative;}#sk-container-id-1 div.sk-item::before, #sk-container-id-1 div.sk-parallel-item::before {content: \"\";position: absolute;border-left: 1px solid gray;box-sizing: border-box;top: 0;bottom: 0;left: 50%;z-index: -1;}#sk-container-id-1 div.sk-parallel-item {display: flex;flex-direction: column;z-index: 1;position: relative;background-color: white;}#sk-container-id-1 div.sk-parallel-item:first-child::after {align-self: flex-end;width: 50%;}#sk-container-id-1 div.sk-parallel-item:last-child::after {align-self: flex-start;width: 50%;}#sk-container-id-1 div.sk-parallel-item:only-child::after {width: 0;}#sk-container-id-1 div.sk-dashed-wrapped {border: 1px dashed gray;margin: 0 0.4em 0.5em 0.4em;box-sizing: border-box;padding-bottom: 0.4em;background-color: white;}#sk-container-id-1 div.sk-label label {font-family: monospace;font-weight: bold;display: inline-block;line-height: 1.2em;}#sk-container-id-1 div.sk-label-container {text-align: center;}#sk-container-id-1 div.sk-container {/* jupyter's `normalize.less` sets `[hidden] { display: none; }` but bootstrap.min.css set `[hidden] { display: none !important; }` so we also need the `!important` here to be able to override the default hidden behavior on the sphinx rendered scikit-learn.org. See: https://github.com/scikit-learn/scikit-learn/issues/21755 */display: inline-block !important;position: relative;}#sk-container-id-1 div.sk-text-repr-fallback {display: none;}</style><div id=\"sk-container-id-1\" class=\"sk-top-container\"><div class=\"sk-text-repr-fallback\"><pre>KNeighborsClassifier(metric=&#x27;euclidean&#x27;, n_neighbors=3)</pre><b>In a Jupyter environment, please rerun this cell to show the HTML representation or trust the notebook. <br />On GitHub, the HTML representation is unable to render, please try loading this page with nbviewer.org.</b></div><div class=\"sk-container\" hidden><div class=\"sk-item\"><div class=\"sk-estimator sk-toggleable\"><input class=\"sk-toggleable__control sk-hidden--visually\" id=\"sk-estimator-id-1\" type=\"checkbox\" checked><label for=\"sk-estimator-id-1\" class=\"sk-toggleable__label sk-toggleable__label-arrow\">KNeighborsClassifier</label><div class=\"sk-toggleable__content\"><pre>KNeighborsClassifier(metric=&#x27;euclidean&#x27;, n_neighbors=3)</pre></div></div></div></div></div>"
            ]
          },
          "metadata": {},
          "execution_count": 31
        }
      ]
    },
    {
      "cell_type": "markdown",
      "source": [
        "Predicting and calculating accuracy, precision, recall and f1 scores"
      ],
      "metadata": {
        "id": "WGZoA81c1pVC"
      }
    },
    {
      "cell_type": "code",
      "source": [
        "y_train_knn3_preds = knn_3.predict(X_train)\n",
        "y_val_knn3_preds = knn_3.predict(X_val)\n",
        "y_test_knn3_preds = knn_3.predict(X_test)\n",
        "\n",
        "print('Accuracy score:')\n",
        "print(f\"Training set: {round(accuracy_score(y_train, y_train_knn3_preds), 5)}\")\n",
        "print(f\"Validation set: {round(accuracy_score(y_val, y_val_knn3_preds), 5)}\")\n",
        "print(f\"Testing set: {round(accuracy_score(y_test, y_test_knn3_preds), 5)}\")\n",
        "\n",
        "print('')\n",
        "\n",
        "print('Precision:')\n",
        "print(f\"Training set: {round(precision_score(y_train, y_train_knn3_preds), 5)}\")\n",
        "print(f\"Validation set: {round(precision_score(y_val, y_val_knn3_preds), 5)}\")\n",
        "print(f\"Testing set: {round(precision_score(y_test, y_test_knn3_preds), 5)}\")\n",
        "\n",
        "print('')\n",
        "\n",
        "print('Recall:')\n",
        "print(f\"Training set: {round(recall_score(y_train, y_train_knn3_preds), 5)}\")\n",
        "print(f\"Validation set: {round(recall_score(y_val, y_val_knn3_preds), 5)}\")\n",
        "print(f\"Testing set: {round(recall_score(y_test, y_test_knn3_preds), 5)}\")\n",
        "\n",
        "print('')\n",
        "\n",
        "print('F1 score:')\n",
        "print(f\"Training set: {round(f1_score(y_train, y_train_knn3_preds), 5)}\")\n",
        "print(f\"Validation set: {round(f1_score(y_val, y_val_knn3_preds), 5)}\")\n",
        "print(f\"Testing set: {round(f1_score(y_test, y_test_knn3_preds), 5)}\")"
      ],
      "metadata": {
        "colab": {
          "base_uri": "https://localhost:8080/"
        },
        "id": "t9QGnkZe1rlx",
        "outputId": "ce124f6f-fdb3-40f5-bcc8-9d8da2c74592"
      },
      "execution_count": null,
      "outputs": [
        {
          "output_type": "stream",
          "name": "stdout",
          "text": [
            "Accuracy score:\n",
            "Training set: 0.99155\n",
            "Validation set: 0.98658\n",
            "Testing set: 0.98637\n",
            "\n",
            "Precision:\n",
            "Training set: 0.95465\n",
            "Validation set: 0.89802\n",
            "Testing set: 0.8914\n",
            "\n",
            "Recall:\n",
            "Training set: 0.71917\n",
            "Validation set: 0.56306\n",
            "Testing set: 0.55966\n",
            "\n",
            "F1 score:\n",
            "Training set: 0.82034\n",
            "Validation set: 0.69214\n",
            "Testing set: 0.68761\n"
          ]
        }
      ]
    },
    {
      "cell_type": "markdown",
      "source": [
        "Accuracy score can be misleading due to unbalanced dataset, we will drop accuracy score from now on"
      ],
      "metadata": {
        "id": "L_I7DUMXWJvq"
      }
    },
    {
      "cell_type": "markdown",
      "source": [
        "**6.3 Training KNN with n_neighbors = 11**"
      ],
      "metadata": {
        "id": "0pbT_TSICFx9"
      }
    },
    {
      "cell_type": "markdown",
      "source": [
        "Training the model using training set"
      ],
      "metadata": {
        "id": "TdhHh-vg0thG"
      }
    },
    {
      "cell_type": "code",
      "execution_count": null,
      "metadata": {
        "id": "Xu8cFiZ5dyHu",
        "colab": {
          "base_uri": "https://localhost:8080/",
          "height": 75
        },
        "outputId": "7b969c5d-9630-458e-9dc5-5dca061e9f9d"
      },
      "outputs": [
        {
          "output_type": "execute_result",
          "data": {
            "text/plain": [
              "KNeighborsClassifier(metric='euclidean', n_neighbors=11)"
            ],
            "text/html": [
              "<style>#sk-container-id-2 {color: black;background-color: white;}#sk-container-id-2 pre{padding: 0;}#sk-container-id-2 div.sk-toggleable {background-color: white;}#sk-container-id-2 label.sk-toggleable__label {cursor: pointer;display: block;width: 100%;margin-bottom: 0;padding: 0.3em;box-sizing: border-box;text-align: center;}#sk-container-id-2 label.sk-toggleable__label-arrow:before {content: \"▸\";float: left;margin-right: 0.25em;color: #696969;}#sk-container-id-2 label.sk-toggleable__label-arrow:hover:before {color: black;}#sk-container-id-2 div.sk-estimator:hover label.sk-toggleable__label-arrow:before {color: black;}#sk-container-id-2 div.sk-toggleable__content {max-height: 0;max-width: 0;overflow: hidden;text-align: left;background-color: #f0f8ff;}#sk-container-id-2 div.sk-toggleable__content pre {margin: 0.2em;color: black;border-radius: 0.25em;background-color: #f0f8ff;}#sk-container-id-2 input.sk-toggleable__control:checked~div.sk-toggleable__content {max-height: 200px;max-width: 100%;overflow: auto;}#sk-container-id-2 input.sk-toggleable__control:checked~label.sk-toggleable__label-arrow:before {content: \"▾\";}#sk-container-id-2 div.sk-estimator input.sk-toggleable__control:checked~label.sk-toggleable__label {background-color: #d4ebff;}#sk-container-id-2 div.sk-label input.sk-toggleable__control:checked~label.sk-toggleable__label {background-color: #d4ebff;}#sk-container-id-2 input.sk-hidden--visually {border: 0;clip: rect(1px 1px 1px 1px);clip: rect(1px, 1px, 1px, 1px);height: 1px;margin: -1px;overflow: hidden;padding: 0;position: absolute;width: 1px;}#sk-container-id-2 div.sk-estimator {font-family: monospace;background-color: #f0f8ff;border: 1px dotted black;border-radius: 0.25em;box-sizing: border-box;margin-bottom: 0.5em;}#sk-container-id-2 div.sk-estimator:hover {background-color: #d4ebff;}#sk-container-id-2 div.sk-parallel-item::after {content: \"\";width: 100%;border-bottom: 1px solid gray;flex-grow: 1;}#sk-container-id-2 div.sk-label:hover label.sk-toggleable__label {background-color: #d4ebff;}#sk-container-id-2 div.sk-serial::before {content: \"\";position: absolute;border-left: 1px solid gray;box-sizing: border-box;top: 0;bottom: 0;left: 50%;z-index: 0;}#sk-container-id-2 div.sk-serial {display: flex;flex-direction: column;align-items: center;background-color: white;padding-right: 0.2em;padding-left: 0.2em;position: relative;}#sk-container-id-2 div.sk-item {position: relative;z-index: 1;}#sk-container-id-2 div.sk-parallel {display: flex;align-items: stretch;justify-content: center;background-color: white;position: relative;}#sk-container-id-2 div.sk-item::before, #sk-container-id-2 div.sk-parallel-item::before {content: \"\";position: absolute;border-left: 1px solid gray;box-sizing: border-box;top: 0;bottom: 0;left: 50%;z-index: -1;}#sk-container-id-2 div.sk-parallel-item {display: flex;flex-direction: column;z-index: 1;position: relative;background-color: white;}#sk-container-id-2 div.sk-parallel-item:first-child::after {align-self: flex-end;width: 50%;}#sk-container-id-2 div.sk-parallel-item:last-child::after {align-self: flex-start;width: 50%;}#sk-container-id-2 div.sk-parallel-item:only-child::after {width: 0;}#sk-container-id-2 div.sk-dashed-wrapped {border: 1px dashed gray;margin: 0 0.4em 0.5em 0.4em;box-sizing: border-box;padding-bottom: 0.4em;background-color: white;}#sk-container-id-2 div.sk-label label {font-family: monospace;font-weight: bold;display: inline-block;line-height: 1.2em;}#sk-container-id-2 div.sk-label-container {text-align: center;}#sk-container-id-2 div.sk-container {/* jupyter's `normalize.less` sets `[hidden] { display: none; }` but bootstrap.min.css set `[hidden] { display: none !important; }` so we also need the `!important` here to be able to override the default hidden behavior on the sphinx rendered scikit-learn.org. See: https://github.com/scikit-learn/scikit-learn/issues/21755 */display: inline-block !important;position: relative;}#sk-container-id-2 div.sk-text-repr-fallback {display: none;}</style><div id=\"sk-container-id-2\" class=\"sk-top-container\"><div class=\"sk-text-repr-fallback\"><pre>KNeighborsClassifier(metric=&#x27;euclidean&#x27;, n_neighbors=11)</pre><b>In a Jupyter environment, please rerun this cell to show the HTML representation or trust the notebook. <br />On GitHub, the HTML representation is unable to render, please try loading this page with nbviewer.org.</b></div><div class=\"sk-container\" hidden><div class=\"sk-item\"><div class=\"sk-estimator sk-toggleable\"><input class=\"sk-toggleable__control sk-hidden--visually\" id=\"sk-estimator-id-2\" type=\"checkbox\" checked><label for=\"sk-estimator-id-2\" class=\"sk-toggleable__label sk-toggleable__label-arrow\">KNeighborsClassifier</label><div class=\"sk-toggleable__content\"><pre>KNeighborsClassifier(metric=&#x27;euclidean&#x27;, n_neighbors=11)</pre></div></div></div></div></div>"
            ]
          },
          "metadata": {},
          "execution_count": 33
        }
      ],
      "source": [
        "knn_11 = KNeighborsClassifier(n_neighbors=11, metric='euclidean')\n",
        "knn_11.fit(X_train, y_train)"
      ]
    },
    {
      "cell_type": "markdown",
      "source": [
        "Predicting and calculating precision, recall and f1 scores"
      ],
      "metadata": {
        "id": "hvw28SyJCR51"
      }
    },
    {
      "cell_type": "code",
      "source": [
        "y_train_knn11_preds = knn_11.predict(X_train)\n",
        "y_val_knn11_preds = knn_11.predict(X_val)\n",
        "y_test_knn11_preds = knn_11.predict(X_test)\n",
        "\n",
        "print('Precision:')\n",
        "print(f\"Training set: {round(precision_score(y_train, y_train_knn11_preds), 5)}\")\n",
        "print(f\"Validation set: {round(precision_score(y_val, y_val_knn11_preds), 5)}\")\n",
        "print(f\"Testing set: {round(precision_score(y_test, y_test_knn11_preds), 5)}\")\n",
        "\n",
        "print('')\n",
        "\n",
        "print('Recall:')\n",
        "print(f\"Training set: {round(recall_score(y_train, y_train_knn11_preds), 5)}\")\n",
        "print(f\"Validation set: {round(recall_score(y_val, y_val_knn11_preds), 5)}\")\n",
        "print(f\"Testing set: {round(recall_score(y_test, y_test_knn11_preds), 5)}\")\n",
        "\n",
        "print('')\n",
        "\n",
        "print('F1 score:')\n",
        "print(f\"Training set: {round(f1_score(y_train, y_train_knn11_preds), 5)}\")\n",
        "print(f\"Validation set: {round(f1_score(y_val, y_val_knn11_preds), 5)}\")\n",
        "print(f\"Testing set: {round(f1_score(y_test, y_test_knn11_preds), 5)}\")"
      ],
      "metadata": {
        "colab": {
          "base_uri": "https://localhost:8080/"
        },
        "id": "brCpOVCLwPR3",
        "outputId": "33cfb42a-1a43-4312-985a-5f4bf6a06002"
      },
      "execution_count": null,
      "outputs": [
        {
          "output_type": "stream",
          "name": "stdout",
          "text": [
            "Precision:\n",
            "Training set: 0.95593\n",
            "Validation set: 0.92333\n",
            "Testing set: 0.92468\n",
            "\n",
            "Recall:\n",
            "Training set: 0.55812\n",
            "Validation set: 0.49201\n",
            "Testing set: 0.50568\n",
            "\n",
            "F1 score:\n",
            "Training set: 0.70476\n",
            "Validation set: 0.64195\n",
            "Testing set: 0.65381\n"
          ]
        }
      ]
    },
    {
      "cell_type": "markdown",
      "metadata": {
        "id": "x-YG_C4be-lr"
      },
      "source": [
        "**6.4 Training KNN with n_neighbors = 21**"
      ]
    },
    {
      "cell_type": "markdown",
      "source": [
        "Training the model using training set"
      ],
      "metadata": {
        "id": "4mwZSNuC2MgR"
      }
    },
    {
      "cell_type": "code",
      "source": [
        "knn_21 = KNeighborsClassifier(n_neighbors=21, metric='euclidean')\n",
        "knn_21.fit(X_train, y_train)"
      ],
      "metadata": {
        "colab": {
          "base_uri": "https://localhost:8080/",
          "height": 75
        },
        "id": "3mLl8Jnf2KQX",
        "outputId": "c37a5d35-f165-4209-f399-8dc09d27b2d8"
      },
      "execution_count": null,
      "outputs": [
        {
          "output_type": "execute_result",
          "data": {
            "text/plain": [
              "KNeighborsClassifier(metric='euclidean', n_neighbors=21)"
            ],
            "text/html": [
              "<style>#sk-container-id-3 {color: black;background-color: white;}#sk-container-id-3 pre{padding: 0;}#sk-container-id-3 div.sk-toggleable {background-color: white;}#sk-container-id-3 label.sk-toggleable__label {cursor: pointer;display: block;width: 100%;margin-bottom: 0;padding: 0.3em;box-sizing: border-box;text-align: center;}#sk-container-id-3 label.sk-toggleable__label-arrow:before {content: \"▸\";float: left;margin-right: 0.25em;color: #696969;}#sk-container-id-3 label.sk-toggleable__label-arrow:hover:before {color: black;}#sk-container-id-3 div.sk-estimator:hover label.sk-toggleable__label-arrow:before {color: black;}#sk-container-id-3 div.sk-toggleable__content {max-height: 0;max-width: 0;overflow: hidden;text-align: left;background-color: #f0f8ff;}#sk-container-id-3 div.sk-toggleable__content pre {margin: 0.2em;color: black;border-radius: 0.25em;background-color: #f0f8ff;}#sk-container-id-3 input.sk-toggleable__control:checked~div.sk-toggleable__content {max-height: 200px;max-width: 100%;overflow: auto;}#sk-container-id-3 input.sk-toggleable__control:checked~label.sk-toggleable__label-arrow:before {content: \"▾\";}#sk-container-id-3 div.sk-estimator input.sk-toggleable__control:checked~label.sk-toggleable__label {background-color: #d4ebff;}#sk-container-id-3 div.sk-label input.sk-toggleable__control:checked~label.sk-toggleable__label {background-color: #d4ebff;}#sk-container-id-3 input.sk-hidden--visually {border: 0;clip: rect(1px 1px 1px 1px);clip: rect(1px, 1px, 1px, 1px);height: 1px;margin: -1px;overflow: hidden;padding: 0;position: absolute;width: 1px;}#sk-container-id-3 div.sk-estimator {font-family: monospace;background-color: #f0f8ff;border: 1px dotted black;border-radius: 0.25em;box-sizing: border-box;margin-bottom: 0.5em;}#sk-container-id-3 div.sk-estimator:hover {background-color: #d4ebff;}#sk-container-id-3 div.sk-parallel-item::after {content: \"\";width: 100%;border-bottom: 1px solid gray;flex-grow: 1;}#sk-container-id-3 div.sk-label:hover label.sk-toggleable__label {background-color: #d4ebff;}#sk-container-id-3 div.sk-serial::before {content: \"\";position: absolute;border-left: 1px solid gray;box-sizing: border-box;top: 0;bottom: 0;left: 50%;z-index: 0;}#sk-container-id-3 div.sk-serial {display: flex;flex-direction: column;align-items: center;background-color: white;padding-right: 0.2em;padding-left: 0.2em;position: relative;}#sk-container-id-3 div.sk-item {position: relative;z-index: 1;}#sk-container-id-3 div.sk-parallel {display: flex;align-items: stretch;justify-content: center;background-color: white;position: relative;}#sk-container-id-3 div.sk-item::before, #sk-container-id-3 div.sk-parallel-item::before {content: \"\";position: absolute;border-left: 1px solid gray;box-sizing: border-box;top: 0;bottom: 0;left: 50%;z-index: -1;}#sk-container-id-3 div.sk-parallel-item {display: flex;flex-direction: column;z-index: 1;position: relative;background-color: white;}#sk-container-id-3 div.sk-parallel-item:first-child::after {align-self: flex-end;width: 50%;}#sk-container-id-3 div.sk-parallel-item:last-child::after {align-self: flex-start;width: 50%;}#sk-container-id-3 div.sk-parallel-item:only-child::after {width: 0;}#sk-container-id-3 div.sk-dashed-wrapped {border: 1px dashed gray;margin: 0 0.4em 0.5em 0.4em;box-sizing: border-box;padding-bottom: 0.4em;background-color: white;}#sk-container-id-3 div.sk-label label {font-family: monospace;font-weight: bold;display: inline-block;line-height: 1.2em;}#sk-container-id-3 div.sk-label-container {text-align: center;}#sk-container-id-3 div.sk-container {/* jupyter's `normalize.less` sets `[hidden] { display: none; }` but bootstrap.min.css set `[hidden] { display: none !important; }` so we also need the `!important` here to be able to override the default hidden behavior on the sphinx rendered scikit-learn.org. See: https://github.com/scikit-learn/scikit-learn/issues/21755 */display: inline-block !important;position: relative;}#sk-container-id-3 div.sk-text-repr-fallback {display: none;}</style><div id=\"sk-container-id-3\" class=\"sk-top-container\"><div class=\"sk-text-repr-fallback\"><pre>KNeighborsClassifier(metric=&#x27;euclidean&#x27;, n_neighbors=21)</pre><b>In a Jupyter environment, please rerun this cell to show the HTML representation or trust the notebook. <br />On GitHub, the HTML representation is unable to render, please try loading this page with nbviewer.org.</b></div><div class=\"sk-container\" hidden><div class=\"sk-item\"><div class=\"sk-estimator sk-toggleable\"><input class=\"sk-toggleable__control sk-hidden--visually\" id=\"sk-estimator-id-3\" type=\"checkbox\" checked><label for=\"sk-estimator-id-3\" class=\"sk-toggleable__label sk-toggleable__label-arrow\">KNeighborsClassifier</label><div class=\"sk-toggleable__content\"><pre>KNeighborsClassifier(metric=&#x27;euclidean&#x27;, n_neighbors=21)</pre></div></div></div></div></div>"
            ]
          },
          "metadata": {},
          "execution_count": 35
        }
      ]
    },
    {
      "cell_type": "markdown",
      "source": [
        "Predicting and calculating precision, recall and f1 scores"
      ],
      "metadata": {
        "id": "mabbVxa52P8t"
      }
    },
    {
      "cell_type": "code",
      "source": [
        "y_train_knn21_preds = knn_21.predict(X_train)\n",
        "y_val_knn21_preds = knn_21.predict(X_val)\n",
        "y_test_knn21_preds = knn_21.predict(X_test)\n",
        "\n",
        "print('Precision:')\n",
        "print(f\"Training set: {round(precision_score(y_train, y_train_knn21_preds), 5)}\")\n",
        "print(f\"Validation set: {round(precision_score(y_val, y_val_knn21_preds), 5)}\")\n",
        "print(f\"Testing set: {round(precision_score(y_test, y_test_knn21_preds), 5)}\")\n",
        "\n",
        "print('')\n",
        "\n",
        "print('Recall:')\n",
        "print(f\"Training set: {round(recall_score(y_train, y_train_knn21_preds), 5)}\")\n",
        "print(f\"Validation set: {round(recall_score(y_val, y_val_knn21_preds), 5)}\")\n",
        "print(f\"Testing set: {round(recall_score(y_test, y_test_knn21_preds), 5)}\")\n",
        "\n",
        "print('')\n",
        "\n",
        "print('F1 score:')\n",
        "print(f\"Training set: {round(f1_score(y_train, y_train_knn21_preds), 5)}\")\n",
        "print(f\"Validation set: {round(f1_score(y_val, y_val_knn21_preds), 5)}\")\n",
        "print(f\"Testing set: {round(f1_score(y_test, y_test_knn21_preds), 5)}\")"
      ],
      "metadata": {
        "colab": {
          "base_uri": "https://localhost:8080/"
        },
        "id": "U69FWQxb2Ryj",
        "outputId": "40b54cfc-33bf-4060-b8f5-13607c37ddc7"
      },
      "execution_count": null,
      "outputs": [
        {
          "output_type": "stream",
          "name": "stdout",
          "text": [
            "Precision:\n",
            "Training set: 0.94774\n",
            "Validation set: 0.92395\n",
            "Testing set: 0.94833\n",
            "\n",
            "Recall:\n",
            "Training set: 0.4827\n",
            "Validation set: 0.43162\n",
            "Testing set: 0.44318\n",
            "\n",
            "F1 score:\n",
            "Training set: 0.63962\n",
            "Validation set: 0.58838\n",
            "Testing set: 0.60407\n"
          ]
        }
      ]
    },
    {
      "cell_type": "markdown",
      "source": [
        "**6.5 Training KNN with n_neighbors = 35**"
      ],
      "metadata": {
        "id": "ylBTh75X3KU4"
      }
    },
    {
      "cell_type": "markdown",
      "source": [
        "Training the model using training set"
      ],
      "metadata": {
        "id": "wsYHScjw3MZN"
      }
    },
    {
      "cell_type": "code",
      "source": [
        "knn_35 = KNeighborsClassifier(n_neighbors=35, metric='euclidean')\n",
        "knn_35.fit(X_train, y_train)"
      ],
      "metadata": {
        "colab": {
          "base_uri": "https://localhost:8080/",
          "height": 75
        },
        "id": "sJOiV3De3ObU",
        "outputId": "9c3cad50-8032-40d5-f29c-bd725f6fd770"
      },
      "execution_count": null,
      "outputs": [
        {
          "output_type": "execute_result",
          "data": {
            "text/plain": [
              "KNeighborsClassifier(metric='euclidean', n_neighbors=35)"
            ],
            "text/html": [
              "<style>#sk-container-id-4 {color: black;background-color: white;}#sk-container-id-4 pre{padding: 0;}#sk-container-id-4 div.sk-toggleable {background-color: white;}#sk-container-id-4 label.sk-toggleable__label {cursor: pointer;display: block;width: 100%;margin-bottom: 0;padding: 0.3em;box-sizing: border-box;text-align: center;}#sk-container-id-4 label.sk-toggleable__label-arrow:before {content: \"▸\";float: left;margin-right: 0.25em;color: #696969;}#sk-container-id-4 label.sk-toggleable__label-arrow:hover:before {color: black;}#sk-container-id-4 div.sk-estimator:hover label.sk-toggleable__label-arrow:before {color: black;}#sk-container-id-4 div.sk-toggleable__content {max-height: 0;max-width: 0;overflow: hidden;text-align: left;background-color: #f0f8ff;}#sk-container-id-4 div.sk-toggleable__content pre {margin: 0.2em;color: black;border-radius: 0.25em;background-color: #f0f8ff;}#sk-container-id-4 input.sk-toggleable__control:checked~div.sk-toggleable__content {max-height: 200px;max-width: 100%;overflow: auto;}#sk-container-id-4 input.sk-toggleable__control:checked~label.sk-toggleable__label-arrow:before {content: \"▾\";}#sk-container-id-4 div.sk-estimator input.sk-toggleable__control:checked~label.sk-toggleable__label {background-color: #d4ebff;}#sk-container-id-4 div.sk-label input.sk-toggleable__control:checked~label.sk-toggleable__label {background-color: #d4ebff;}#sk-container-id-4 input.sk-hidden--visually {border: 0;clip: rect(1px 1px 1px 1px);clip: rect(1px, 1px, 1px, 1px);height: 1px;margin: -1px;overflow: hidden;padding: 0;position: absolute;width: 1px;}#sk-container-id-4 div.sk-estimator {font-family: monospace;background-color: #f0f8ff;border: 1px dotted black;border-radius: 0.25em;box-sizing: border-box;margin-bottom: 0.5em;}#sk-container-id-4 div.sk-estimator:hover {background-color: #d4ebff;}#sk-container-id-4 div.sk-parallel-item::after {content: \"\";width: 100%;border-bottom: 1px solid gray;flex-grow: 1;}#sk-container-id-4 div.sk-label:hover label.sk-toggleable__label {background-color: #d4ebff;}#sk-container-id-4 div.sk-serial::before {content: \"\";position: absolute;border-left: 1px solid gray;box-sizing: border-box;top: 0;bottom: 0;left: 50%;z-index: 0;}#sk-container-id-4 div.sk-serial {display: flex;flex-direction: column;align-items: center;background-color: white;padding-right: 0.2em;padding-left: 0.2em;position: relative;}#sk-container-id-4 div.sk-item {position: relative;z-index: 1;}#sk-container-id-4 div.sk-parallel {display: flex;align-items: stretch;justify-content: center;background-color: white;position: relative;}#sk-container-id-4 div.sk-item::before, #sk-container-id-4 div.sk-parallel-item::before {content: \"\";position: absolute;border-left: 1px solid gray;box-sizing: border-box;top: 0;bottom: 0;left: 50%;z-index: -1;}#sk-container-id-4 div.sk-parallel-item {display: flex;flex-direction: column;z-index: 1;position: relative;background-color: white;}#sk-container-id-4 div.sk-parallel-item:first-child::after {align-self: flex-end;width: 50%;}#sk-container-id-4 div.sk-parallel-item:last-child::after {align-self: flex-start;width: 50%;}#sk-container-id-4 div.sk-parallel-item:only-child::after {width: 0;}#sk-container-id-4 div.sk-dashed-wrapped {border: 1px dashed gray;margin: 0 0.4em 0.5em 0.4em;box-sizing: border-box;padding-bottom: 0.4em;background-color: white;}#sk-container-id-4 div.sk-label label {font-family: monospace;font-weight: bold;display: inline-block;line-height: 1.2em;}#sk-container-id-4 div.sk-label-container {text-align: center;}#sk-container-id-4 div.sk-container {/* jupyter's `normalize.less` sets `[hidden] { display: none; }` but bootstrap.min.css set `[hidden] { display: none !important; }` so we also need the `!important` here to be able to override the default hidden behavior on the sphinx rendered scikit-learn.org. See: https://github.com/scikit-learn/scikit-learn/issues/21755 */display: inline-block !important;position: relative;}#sk-container-id-4 div.sk-text-repr-fallback {display: none;}</style><div id=\"sk-container-id-4\" class=\"sk-top-container\"><div class=\"sk-text-repr-fallback\"><pre>KNeighborsClassifier(metric=&#x27;euclidean&#x27;, n_neighbors=35)</pre><b>In a Jupyter environment, please rerun this cell to show the HTML representation or trust the notebook. <br />On GitHub, the HTML representation is unable to render, please try loading this page with nbviewer.org.</b></div><div class=\"sk-container\" hidden><div class=\"sk-item\"><div class=\"sk-estimator sk-toggleable\"><input class=\"sk-toggleable__control sk-hidden--visually\" id=\"sk-estimator-id-4\" type=\"checkbox\" checked><label for=\"sk-estimator-id-4\" class=\"sk-toggleable__label sk-toggleable__label-arrow\">KNeighborsClassifier</label><div class=\"sk-toggleable__content\"><pre>KNeighborsClassifier(metric=&#x27;euclidean&#x27;, n_neighbors=35)</pre></div></div></div></div></div>"
            ]
          },
          "metadata": {},
          "execution_count": 37
        }
      ]
    },
    {
      "cell_type": "markdown",
      "source": [
        "Predicting and calculating precision, recall and f1 scores"
      ],
      "metadata": {
        "id": "u5Egi2o73SAO"
      }
    },
    {
      "cell_type": "code",
      "source": [
        "y_train_knn35_preds = knn_35.predict(X_train)\n",
        "y_val_knn35_preds = knn_35.predict(X_val)\n",
        "y_test_knn35_preds = knn_35.predict(X_test)\n",
        "\n",
        "print('Precision:')\n",
        "print(f\"Training set: {round(precision_score(y_train, y_train_knn35_preds), 5)}\")\n",
        "print(f\"Validation set: {round(precision_score(y_val, y_val_knn35_preds), 5)}\")\n",
        "print(f\"Testing set: {round(precision_score(y_test, y_test_knn35_preds), 5)}\")\n",
        "\n",
        "print('')\n",
        "\n",
        "print('Recall:')\n",
        "print(f\"Training set: {round(recall_score(y_train, y_train_knn35_preds), 5)}\")\n",
        "print(f\"Validation set: {round(recall_score(y_val, y_val_knn35_preds), 5)}\")\n",
        "print(f\"Testing set: {round(recall_score(y_test, y_test_knn35_preds), 5)}\")\n",
        "\n",
        "print('')\n",
        "\n",
        "print('F1 score:')\n",
        "print(f\"Training set: {round(f1_score(y_train, y_train_knn35_preds), 5)}\")\n",
        "print(f\"Validation set: {round(f1_score(y_val, y_val_knn35_preds), 5)}\")\n",
        "print(f\"Testing set: {round(f1_score(y_test, y_test_knn35_preds), 5)}\")"
      ],
      "metadata": {
        "colab": {
          "base_uri": "https://localhost:8080/"
        },
        "id": "51rTyoVX3UkG",
        "outputId": "8c865cde-e456-4c7a-b9d0-e145055f4a1d"
      },
      "execution_count": null,
      "outputs": [
        {
          "output_type": "stream",
          "name": "stdout",
          "text": [
            "Precision:\n",
            "Training set: 0.94214\n",
            "Validation set: 0.92576\n",
            "Testing set: 0.95423\n",
            "\n",
            "Recall:\n",
            "Training set: 0.43345\n",
            "Validation set: 0.37655\n",
            "Testing set: 0.38494\n",
            "\n",
            "F1 score:\n",
            "Training set: 0.59374\n",
            "Validation set: 0.53535\n",
            "Testing set: 0.54858\n"
          ]
        }
      ]
    },
    {
      "cell_type": "markdown",
      "source": [
        "**6.6 Training KNN with n_neighbors = 55**"
      ],
      "metadata": {
        "id": "J_GNwqhc3jp5"
      }
    },
    {
      "cell_type": "markdown",
      "source": [
        "Training the model using training set"
      ],
      "metadata": {
        "id": "qw-uAkS63m9U"
      }
    },
    {
      "cell_type": "code",
      "source": [
        "knn_55 = KNeighborsClassifier(n_neighbors=55, metric='euclidean')\n",
        "knn_55.fit(X_train, y_train)"
      ],
      "metadata": {
        "colab": {
          "base_uri": "https://localhost:8080/"
        },
        "id": "RTjD7IL23o9V",
        "outputId": "2a9cf838-26f0-446f-8fad-50bcc8817e74"
      },
      "execution_count": null,
      "outputs": [
        {
          "output_type": "execute_result",
          "data": {
            "text/plain": [
              "KNeighborsClassifier(metric='euclidean', n_neighbors=55)"
            ],
            "text/html": [
              "<style>#sk-container-id-5 {color: black;background-color: white;}#sk-container-id-5 pre{padding: 0;}#sk-container-id-5 div.sk-toggleable {background-color: white;}#sk-container-id-5 label.sk-toggleable__label {cursor: pointer;display: block;width: 100%;margin-bottom: 0;padding: 0.3em;box-sizing: border-box;text-align: center;}#sk-container-id-5 label.sk-toggleable__label-arrow:before {content: \"▸\";float: left;margin-right: 0.25em;color: #696969;}#sk-container-id-5 label.sk-toggleable__label-arrow:hover:before {color: black;}#sk-container-id-5 div.sk-estimator:hover label.sk-toggleable__label-arrow:before {color: black;}#sk-container-id-5 div.sk-toggleable__content {max-height: 0;max-width: 0;overflow: hidden;text-align: left;background-color: #f0f8ff;}#sk-container-id-5 div.sk-toggleable__content pre {margin: 0.2em;color: black;border-radius: 0.25em;background-color: #f0f8ff;}#sk-container-id-5 input.sk-toggleable__control:checked~div.sk-toggleable__content {max-height: 200px;max-width: 100%;overflow: auto;}#sk-container-id-5 input.sk-toggleable__control:checked~label.sk-toggleable__label-arrow:before {content: \"▾\";}#sk-container-id-5 div.sk-estimator input.sk-toggleable__control:checked~label.sk-toggleable__label {background-color: #d4ebff;}#sk-container-id-5 div.sk-label input.sk-toggleable__control:checked~label.sk-toggleable__label {background-color: #d4ebff;}#sk-container-id-5 input.sk-hidden--visually {border: 0;clip: rect(1px 1px 1px 1px);clip: rect(1px, 1px, 1px, 1px);height: 1px;margin: -1px;overflow: hidden;padding: 0;position: absolute;width: 1px;}#sk-container-id-5 div.sk-estimator {font-family: monospace;background-color: #f0f8ff;border: 1px dotted black;border-radius: 0.25em;box-sizing: border-box;margin-bottom: 0.5em;}#sk-container-id-5 div.sk-estimator:hover {background-color: #d4ebff;}#sk-container-id-5 div.sk-parallel-item::after {content: \"\";width: 100%;border-bottom: 1px solid gray;flex-grow: 1;}#sk-container-id-5 div.sk-label:hover label.sk-toggleable__label {background-color: #d4ebff;}#sk-container-id-5 div.sk-serial::before {content: \"\";position: absolute;border-left: 1px solid gray;box-sizing: border-box;top: 0;bottom: 0;left: 50%;z-index: 0;}#sk-container-id-5 div.sk-serial {display: flex;flex-direction: column;align-items: center;background-color: white;padding-right: 0.2em;padding-left: 0.2em;position: relative;}#sk-container-id-5 div.sk-item {position: relative;z-index: 1;}#sk-container-id-5 div.sk-parallel {display: flex;align-items: stretch;justify-content: center;background-color: white;position: relative;}#sk-container-id-5 div.sk-item::before, #sk-container-id-5 div.sk-parallel-item::before {content: \"\";position: absolute;border-left: 1px solid gray;box-sizing: border-box;top: 0;bottom: 0;left: 50%;z-index: -1;}#sk-container-id-5 div.sk-parallel-item {display: flex;flex-direction: column;z-index: 1;position: relative;background-color: white;}#sk-container-id-5 div.sk-parallel-item:first-child::after {align-self: flex-end;width: 50%;}#sk-container-id-5 div.sk-parallel-item:last-child::after {align-self: flex-start;width: 50%;}#sk-container-id-5 div.sk-parallel-item:only-child::after {width: 0;}#sk-container-id-5 div.sk-dashed-wrapped {border: 1px dashed gray;margin: 0 0.4em 0.5em 0.4em;box-sizing: border-box;padding-bottom: 0.4em;background-color: white;}#sk-container-id-5 div.sk-label label {font-family: monospace;font-weight: bold;display: inline-block;line-height: 1.2em;}#sk-container-id-5 div.sk-label-container {text-align: center;}#sk-container-id-5 div.sk-container {/* jupyter's `normalize.less` sets `[hidden] { display: none; }` but bootstrap.min.css set `[hidden] { display: none !important; }` so we also need the `!important` here to be able to override the default hidden behavior on the sphinx rendered scikit-learn.org. See: https://github.com/scikit-learn/scikit-learn/issues/21755 */display: inline-block !important;position: relative;}#sk-container-id-5 div.sk-text-repr-fallback {display: none;}</style><div id=\"sk-container-id-5\" class=\"sk-top-container\"><div class=\"sk-text-repr-fallback\"><pre>KNeighborsClassifier(metric=&#x27;euclidean&#x27;, n_neighbors=55)</pre><b>In a Jupyter environment, please rerun this cell to show the HTML representation or trust the notebook. <br />On GitHub, the HTML representation is unable to render, please try loading this page with nbviewer.org.</b></div><div class=\"sk-container\" hidden><div class=\"sk-item\"><div class=\"sk-estimator sk-toggleable\"><input class=\"sk-toggleable__control sk-hidden--visually\" id=\"sk-estimator-id-5\" type=\"checkbox\" checked><label for=\"sk-estimator-id-5\" class=\"sk-toggleable__label sk-toggleable__label-arrow\">KNeighborsClassifier</label><div class=\"sk-toggleable__content\"><pre>KNeighborsClassifier(metric=&#x27;euclidean&#x27;, n_neighbors=55)</pre></div></div></div></div></div>"
            ]
          },
          "metadata": {},
          "execution_count": 39
        }
      ]
    },
    {
      "cell_type": "markdown",
      "source": [
        "Predicting and calculating precision, recall and f1 scores"
      ],
      "metadata": {
        "id": "1DyLItDu3vy3"
      }
    },
    {
      "cell_type": "code",
      "source": [
        "y_train_knn55_preds = knn_55.predict(X_train)\n",
        "y_val_knn55_preds = knn_55.predict(X_val)\n",
        "y_test_knn55_preds = knn_55.predict(X_test)\n",
        "\n",
        "print('Precision:')\n",
        "print(f\"Training set: {round(precision_score(y_train, y_train_knn55_preds), 5)}\")\n",
        "print(f\"Validation set: {round(precision_score(y_val, y_val_knn55_preds), 5)}\")\n",
        "print(f\"Testing set: {round(precision_score(y_test, y_test_knn55_preds), 5)}\")\n",
        "\n",
        "print('')\n",
        "\n",
        "print('Recall:')\n",
        "print(f\"Training set: {round(recall_score(y_train, y_train_knn55_preds), 5)}\")\n",
        "print(f\"Validation set: {round(recall_score(y_val, y_val_knn55_preds), 5)}\")\n",
        "print(f\"Testing set: {round(recall_score(y_test, y_test_knn55_preds), 5)}\")\n",
        "\n",
        "print('')\n",
        "\n",
        "print('F1 score:')\n",
        "print(f\"Training set: {round(f1_score(y_train, y_train_knn55_preds), 5)}\")\n",
        "print(f\"Validation set: {round(f1_score(y_val, y_val_knn55_preds), 5)}\")\n",
        "print(f\"Testing set: {round(f1_score(y_test, y_test_knn55_preds), 5)}\")"
      ],
      "metadata": {
        "colab": {
          "base_uri": "https://localhost:8080/"
        },
        "id": "PjhYrO1d3wS0",
        "outputId": "2092dee0-600a-4dac-806b-58892142a251"
      },
      "execution_count": null,
      "outputs": [
        {
          "output_type": "stream",
          "name": "stdout",
          "text": [
            "Precision:\n",
            "Training set: 0.94494\n",
            "Validation set: 0.92118\n",
            "Testing set: 0.952\n",
            "\n",
            "Recall:\n",
            "Training set: 0.37311\n",
            "Validation set: 0.33215\n",
            "Testing set: 0.33807\n",
            "\n",
            "F1 score:\n",
            "Training set: 0.53499\n",
            "Validation set: 0.48825\n",
            "Testing set: 0.49895\n"
          ]
        }
      ]
    },
    {
      "cell_type": "markdown",
      "source": [
        "## **7. KNN with automated hyperparameter tuning (RandomSearch)**"
      ],
      "metadata": {
        "id": "PhHog3qHnYin"
      }
    },
    {
      "cell_type": "markdown",
      "source": [
        "**7.1 Importing RandomizedSearchCV and StratifiedKFold libraries**"
      ],
      "metadata": {
        "id": "viBHWBkI58Tc"
      }
    },
    {
      "cell_type": "code",
      "source": [
        "from sklearn.model_selection import RandomizedSearchCV, StratifiedKFold\n",
        "from scipy.stats import randint"
      ],
      "metadata": {
        "id": "D1iCRnBtmTMV"
      },
      "execution_count": null,
      "outputs": []
    },
    {
      "cell_type": "markdown",
      "source": [
        "**7.2 Instantiating KNN**"
      ],
      "metadata": {
        "id": "lGkNTvqB6JAh"
      }
    },
    {
      "cell_type": "code",
      "source": [
        "knn = KNeighborsClassifier(metric='euclidean')"
      ],
      "metadata": {
        "id": "6JuzJA3BnyT6"
      },
      "execution_count": null,
      "outputs": []
    },
    {
      "cell_type": "markdown",
      "source": [
        "**7.3 Defining hyperparameter range**"
      ],
      "metadata": {
        "id": "D5Eh0-RL6N5E"
      }
    },
    {
      "cell_type": "code",
      "source": [
        "hyperparams_dist = {\n",
        "    'n_neighbors': randint(2,15)\n",
        "}"
      ],
      "metadata": {
        "id": "xtL0Qv1Qnf59"
      },
      "execution_count": null,
      "outputs": []
    },
    {
      "cell_type": "markdown",
      "source": [
        "**7.4 Training KNN using training set**"
      ],
      "metadata": {
        "id": "Sjys5o686VQu"
      }
    },
    {
      "cell_type": "code",
      "source": [
        "skf = StratifiedKFold(n_splits=5)\n",
        "random_search_knn = RandomizedSearchCV(knn, hyperparams_dist, random_state=3, cv=skf, verbose=1)\n",
        "random_search_knn.fit(X_train, y_train)"
      ],
      "metadata": {
        "colab": {
          "base_uri": "https://localhost:8080/",
          "height": 135
        },
        "id": "tSMK-4vRnsb-",
        "outputId": "ea86db0e-daad-41d9-c209-1b28054ef111"
      },
      "execution_count": null,
      "outputs": [
        {
          "output_type": "stream",
          "name": "stdout",
          "text": [
            "Fitting 5 folds for each of 10 candidates, totalling 50 fits\n"
          ]
        },
        {
          "output_type": "execute_result",
          "data": {
            "text/plain": [
              "RandomizedSearchCV(cv=StratifiedKFold(n_splits=5, random_state=None, shuffle=False),\n",
              "                   estimator=KNeighborsClassifier(metric='euclidean'),\n",
              "                   param_distributions={'n_neighbors': <scipy.stats._distn_infrastructure.rv_discrete_frozen object at 0x7fde8a417400>},\n",
              "                   random_state=3, verbose=1)"
            ],
            "text/html": [
              "<style>#sk-container-id-6 {color: black;background-color: white;}#sk-container-id-6 pre{padding: 0;}#sk-container-id-6 div.sk-toggleable {background-color: white;}#sk-container-id-6 label.sk-toggleable__label {cursor: pointer;display: block;width: 100%;margin-bottom: 0;padding: 0.3em;box-sizing: border-box;text-align: center;}#sk-container-id-6 label.sk-toggleable__label-arrow:before {content: \"▸\";float: left;margin-right: 0.25em;color: #696969;}#sk-container-id-6 label.sk-toggleable__label-arrow:hover:before {color: black;}#sk-container-id-6 div.sk-estimator:hover label.sk-toggleable__label-arrow:before {color: black;}#sk-container-id-6 div.sk-toggleable__content {max-height: 0;max-width: 0;overflow: hidden;text-align: left;background-color: #f0f8ff;}#sk-container-id-6 div.sk-toggleable__content pre {margin: 0.2em;color: black;border-radius: 0.25em;background-color: #f0f8ff;}#sk-container-id-6 input.sk-toggleable__control:checked~div.sk-toggleable__content {max-height: 200px;max-width: 100%;overflow: auto;}#sk-container-id-6 input.sk-toggleable__control:checked~label.sk-toggleable__label-arrow:before {content: \"▾\";}#sk-container-id-6 div.sk-estimator input.sk-toggleable__control:checked~label.sk-toggleable__label {background-color: #d4ebff;}#sk-container-id-6 div.sk-label input.sk-toggleable__control:checked~label.sk-toggleable__label {background-color: #d4ebff;}#sk-container-id-6 input.sk-hidden--visually {border: 0;clip: rect(1px 1px 1px 1px);clip: rect(1px, 1px, 1px, 1px);height: 1px;margin: -1px;overflow: hidden;padding: 0;position: absolute;width: 1px;}#sk-container-id-6 div.sk-estimator {font-family: monospace;background-color: #f0f8ff;border: 1px dotted black;border-radius: 0.25em;box-sizing: border-box;margin-bottom: 0.5em;}#sk-container-id-6 div.sk-estimator:hover {background-color: #d4ebff;}#sk-container-id-6 div.sk-parallel-item::after {content: \"\";width: 100%;border-bottom: 1px solid gray;flex-grow: 1;}#sk-container-id-6 div.sk-label:hover label.sk-toggleable__label {background-color: #d4ebff;}#sk-container-id-6 div.sk-serial::before {content: \"\";position: absolute;border-left: 1px solid gray;box-sizing: border-box;top: 0;bottom: 0;left: 50%;z-index: 0;}#sk-container-id-6 div.sk-serial {display: flex;flex-direction: column;align-items: center;background-color: white;padding-right: 0.2em;padding-left: 0.2em;position: relative;}#sk-container-id-6 div.sk-item {position: relative;z-index: 1;}#sk-container-id-6 div.sk-parallel {display: flex;align-items: stretch;justify-content: center;background-color: white;position: relative;}#sk-container-id-6 div.sk-item::before, #sk-container-id-6 div.sk-parallel-item::before {content: \"\";position: absolute;border-left: 1px solid gray;box-sizing: border-box;top: 0;bottom: 0;left: 50%;z-index: -1;}#sk-container-id-6 div.sk-parallel-item {display: flex;flex-direction: column;z-index: 1;position: relative;background-color: white;}#sk-container-id-6 div.sk-parallel-item:first-child::after {align-self: flex-end;width: 50%;}#sk-container-id-6 div.sk-parallel-item:last-child::after {align-self: flex-start;width: 50%;}#sk-container-id-6 div.sk-parallel-item:only-child::after {width: 0;}#sk-container-id-6 div.sk-dashed-wrapped {border: 1px dashed gray;margin: 0 0.4em 0.5em 0.4em;box-sizing: border-box;padding-bottom: 0.4em;background-color: white;}#sk-container-id-6 div.sk-label label {font-family: monospace;font-weight: bold;display: inline-block;line-height: 1.2em;}#sk-container-id-6 div.sk-label-container {text-align: center;}#sk-container-id-6 div.sk-container {/* jupyter's `normalize.less` sets `[hidden] { display: none; }` but bootstrap.min.css set `[hidden] { display: none !important; }` so we also need the `!important` here to be able to override the default hidden behavior on the sphinx rendered scikit-learn.org. See: https://github.com/scikit-learn/scikit-learn/issues/21755 */display: inline-block !important;position: relative;}#sk-container-id-6 div.sk-text-repr-fallback {display: none;}</style><div id=\"sk-container-id-6\" class=\"sk-top-container\"><div class=\"sk-text-repr-fallback\"><pre>RandomizedSearchCV(cv=StratifiedKFold(n_splits=5, random_state=None, shuffle=False),\n",
              "                   estimator=KNeighborsClassifier(metric=&#x27;euclidean&#x27;),\n",
              "                   param_distributions={&#x27;n_neighbors&#x27;: &lt;scipy.stats._distn_infrastructure.rv_discrete_frozen object at 0x7fde8a417400&gt;},\n",
              "                   random_state=3, verbose=1)</pre><b>In a Jupyter environment, please rerun this cell to show the HTML representation or trust the notebook. <br />On GitHub, the HTML representation is unable to render, please try loading this page with nbviewer.org.</b></div><div class=\"sk-container\" hidden><div class=\"sk-item sk-dashed-wrapped\"><div class=\"sk-label-container\"><div class=\"sk-label sk-toggleable\"><input class=\"sk-toggleable__control sk-hidden--visually\" id=\"sk-estimator-id-6\" type=\"checkbox\" ><label for=\"sk-estimator-id-6\" class=\"sk-toggleable__label sk-toggleable__label-arrow\">RandomizedSearchCV</label><div class=\"sk-toggleable__content\"><pre>RandomizedSearchCV(cv=StratifiedKFold(n_splits=5, random_state=None, shuffle=False),\n",
              "                   estimator=KNeighborsClassifier(metric=&#x27;euclidean&#x27;),\n",
              "                   param_distributions={&#x27;n_neighbors&#x27;: &lt;scipy.stats._distn_infrastructure.rv_discrete_frozen object at 0x7fde8a417400&gt;},\n",
              "                   random_state=3, verbose=1)</pre></div></div></div><div class=\"sk-parallel\"><div class=\"sk-parallel-item\"><div class=\"sk-item\"><div class=\"sk-label-container\"><div class=\"sk-label sk-toggleable\"><input class=\"sk-toggleable__control sk-hidden--visually\" id=\"sk-estimator-id-7\" type=\"checkbox\" ><label for=\"sk-estimator-id-7\" class=\"sk-toggleable__label sk-toggleable__label-arrow\">estimator: KNeighborsClassifier</label><div class=\"sk-toggleable__content\"><pre>KNeighborsClassifier(metric=&#x27;euclidean&#x27;)</pre></div></div></div><div class=\"sk-serial\"><div class=\"sk-item\"><div class=\"sk-estimator sk-toggleable\"><input class=\"sk-toggleable__control sk-hidden--visually\" id=\"sk-estimator-id-8\" type=\"checkbox\" ><label for=\"sk-estimator-id-8\" class=\"sk-toggleable__label sk-toggleable__label-arrow\">KNeighborsClassifier</label><div class=\"sk-toggleable__content\"><pre>KNeighborsClassifier(metric=&#x27;euclidean&#x27;)</pre></div></div></div></div></div></div></div></div></div></div>"
            ]
          },
          "metadata": {},
          "execution_count": 44
        }
      ]
    },
    {
      "cell_type": "markdown",
      "source": [
        "**7.5 Showing the best hyperparameter**"
      ],
      "metadata": {
        "id": "wv_RKCs-7MzI"
      }
    },
    {
      "cell_type": "code",
      "source": [
        "random_search_knn.best_params_"
      ],
      "metadata": {
        "colab": {
          "base_uri": "https://localhost:8080/"
        },
        "id": "mEybYdDHpqbS",
        "outputId": "4fad75b7-99b4-4803-d814-2bc10ef83b94"
      },
      "execution_count": null,
      "outputs": [
        {
          "output_type": "execute_result",
          "data": {
            "text/plain": [
              "{'n_neighbors': 5}"
            ]
          },
          "metadata": {},
          "execution_count": 45
        }
      ]
    },
    {
      "cell_type": "markdown",
      "source": [
        "**7.6 Predicting and calculating precision, recall and f1 scores**"
      ],
      "metadata": {
        "id": "HXS3rY3X7QUd"
      }
    },
    {
      "cell_type": "code",
      "source": [
        "y_train_knn_random_preds = random_search_knn.predict(X_train)\n",
        "y_val_knn_random_preds = random_search_knn.predict(X_val)\n",
        "y_test_knn_random_preds = random_search_knn.predict(X_test)\n",
        "\n",
        "print('Precision:')\n",
        "print(f\"Training set: {round(precision_score(y_train, y_train_knn_random_preds), 5)}\")\n",
        "print(f\"Validation set: {round(precision_score(y_val, y_val_knn_random_preds), 5)}\")\n",
        "print(f\"Testing set: {round(precision_score(y_test, y_test_knn_random_preds), 5)}\")\n",
        "\n",
        "print('')\n",
        "\n",
        "print('Recall:')\n",
        "print(f\"Training set: {round(recall_score(y_train, y_train_knn_random_preds), 5)}\")\n",
        "print(f\"Validation set: {round(recall_score(y_val, y_val_knn_random_preds), 5)}\")\n",
        "print(f\"Testing set: {round(recall_score(y_test, y_test_knn_random_preds), 5)}\")\n",
        "\n",
        "print('')\n",
        "\n",
        "print('F1 score:')\n",
        "print(f\"Training set: {round(f1_score(y_train, y_train_knn_random_preds), 5)}\")\n",
        "print(f\"Validation set: {round(f1_score(y_val, y_val_knn_random_preds), 5)}\")\n",
        "print(f\"Testing set: {round(f1_score(y_test, y_test_knn_random_preds), 5)}\")"
      ],
      "metadata": {
        "colab": {
          "base_uri": "https://localhost:8080/"
        },
        "id": "dZXmYUcu6rbF",
        "outputId": "fb5208b3-ee6d-42ad-a0f9-0d2245bd457f"
      },
      "execution_count": null,
      "outputs": [
        {
          "output_type": "stream",
          "name": "stdout",
          "text": [
            "Precision:\n",
            "Training set: 0.95144\n",
            "Validation set: 0.90881\n",
            "Testing set: 0.91686\n",
            "\n",
            "Recall:\n",
            "Training set: 0.6433\n",
            "Validation set: 0.53108\n",
            "Testing set: 0.5483\n",
            "\n",
            "F1 score:\n",
            "Training set: 0.7676\n",
            "Validation set: 0.6704\n",
            "Testing set: 0.68622\n"
          ]
        }
      ]
    },
    {
      "cell_type": "markdown",
      "source": [
        "**7.7 Confusion Matrix**"
      ],
      "metadata": {
        "id": "thtEx83d8zLQ"
      }
    },
    {
      "cell_type": "code",
      "source": [
        "from sklearn.metrics import ConfusionMatrixDisplay\n",
        "ConfusionMatrixDisplay.from_estimator(random_search_knn, X_train, y_train, normalize='true')"
      ],
      "metadata": {
        "colab": {
          "base_uri": "https://localhost:8080/"
        },
        "id": "1LkWPt7l8mYw",
        "outputId": "68853dd4-b384-4651-f179-fd4829859db9"
      },
      "execution_count": null,
      "outputs": [
        {
          "output_type": "execute_result",
          "data": {
            "text/plain": [
              "<sklearn.metrics._plot.confusion_matrix.ConfusionMatrixDisplay at 0x7fde8a417280>"
            ]
          },
          "metadata": {},
          "execution_count": 47
        },
        {
          "output_type": "display_data",
          "data": {
            "text/plain": [
              "<Figure size 640x480 with 2 Axes>"
            ],
            "image/png": "[encoded data removed]"
          },
          "metadata": {}
        }
      ]
    }
  ],
  "metadata": {
    "colab": {
      "provenance": [],
      "collapsed_sections": [
        "2A7M20qZM8U2",
        "QqT323ndNIX_",
        "hDssPGOINOJS",
        "Zcynox2yRtJF",
        "TwxxrFVFUinQ",
        "Ew6rjA4hdA0Q"
      ]
    },
    "gpuClass": "standard",
    "kernelspec": {
      "display_name": "Python 3",
      "name": "python3"
    },
    "language_info": {
      "name": "python"
    }
  },
  "nbformat": 4,
  "nbformat_minor": 0
}