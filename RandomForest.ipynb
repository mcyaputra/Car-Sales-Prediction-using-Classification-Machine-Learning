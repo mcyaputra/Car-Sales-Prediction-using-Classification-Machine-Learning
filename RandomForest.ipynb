{
  "cells": [
    {
      "cell_type": "markdown",
      "source": [
        "# **Machine Learning Algorithms and Application**\n",
        "# **AT2 Part E**\n",
        "### **RandomForest**\n",
        "\n",
        "1. Load dataset\n",
        "2. Exploring dataset\n",
        "3. Data Cleaning\n",
        "4. Preparing Dataset\n",
        "5. Assessing Baseline\n",
        "6. Training RandomForest with n_estimators\n",
        "7. Training RandomForest with n_estimators, max_depth\n",
        "8. Training RandomForest with n_estimators, max_depth, min_samples_leaf\n",
        "9. Training RandomForest with n_estimators, max_depth, min_samples_leaf, max_features\n",
        "10. RandomForest with automated hyperparameter tuning (Random Search)\n",
        "11. Features Importance"
      ],
      "metadata": {
        "id": "LGlyi3PYRE76"
      }
    },
    {
      "cell_type": "markdown",
      "metadata": {
        "id": "2A7M20qZM8U2"
      },
      "source": [
        "## **1. Load dataset**"
      ]
    },
    {
      "cell_type": "markdown",
      "metadata": {
        "id": "DhqA0m4lPZvA"
      },
      "source": [
        "**1.1 Importing pandas and numpy packages**"
      ]
    },
    {
      "cell_type": "code",
      "execution_count": null,
      "metadata": {
        "id": "yvDXaQM7GSpe"
      },
      "outputs": [],
      "source": [
        "import pandas as pd\n",
        "import numpy as np"
      ]
    },
    {
      "cell_type": "markdown",
      "source": [
        "**1.2 Reading csv file**"
      ],
      "metadata": {
        "id": "eORfKXHRdmIj"
      }
    },
    {
      "cell_type": "code",
      "execution_count": null,
      "metadata": {
        "id": "afh6wkA1Gg8t"
      },
      "outputs": [],
      "source": [
        "df = pd.read_csv('https://raw.githubusercontent.com/mcyaputra/Files/main/repurchase_training.csv')"
      ]
    },
    {
      "cell_type": "markdown",
      "metadata": {
        "id": "QqT323ndNIX_"
      },
      "source": [
        "## **2. Exploring dataset**"
      ]
    },
    {
      "cell_type": "markdown",
      "source": [
        "**2.1 First 10 rows of the dataset**"
      ],
      "metadata": {
        "id": "vH25glDjdqsu"
      }
    },
    {
      "cell_type": "code",
      "execution_count": null,
      "metadata": {
        "id": "lSXURbbbIW5e",
        "colab": {
          "base_uri": "https://localhost:8080/"
        },
        "outputId": "1f3b66ec-510c-4d5a-d598-960726771276"
      },
      "outputs": [
        {
          "output_type": "execute_result",
          "data": {
            "text/plain": [
              "   ID  Target     age_band  gender car_model   car_segment  \\\n",
              "0   1       0  3. 35 to 44    Male   model_1           LCV   \n",
              "1   2       0          NaN     NaN   model_2  Small/Medium   \n",
              "2   3       0          NaN    Male   model_3     Large/SUV   \n",
              "3   5       0          NaN     NaN   model_3     Large/SUV   \n",
              "4   6       0          NaN  Female   model_2  Small/Medium   \n",
              "5   7       0          NaN    Male   model_5     Large/SUV   \n",
              "6   8       0       1. <25    Male   model_3     Large/SUV   \n",
              "7   9       0          NaN    Male   model_6  Small/Medium   \n",
              "8  10       0          NaN     NaN   model_4  Small/Medium   \n",
              "9  11       0          NaN     NaN   model_4  Small/Medium   \n",
              "\n",
              "   age_of_vehicle_years  sched_serv_warr  non_sched_serv_warr  \\\n",
              "0                     9                2                   10   \n",
              "1                     6               10                    3   \n",
              "2                     9               10                    9   \n",
              "3                     5                8                    5   \n",
              "4                     8                9                    4   \n",
              "5                     7                4                   10   \n",
              "6                     8                2                    8   \n",
              "7                     7                4                    9   \n",
              "8                     1                2                    1   \n",
              "9                     3                1                    1   \n",
              "\n",
              "   sched_serv_paid  non_sched_serv_paid  total_paid_services  total_services  \\\n",
              "0                3                    7                    5               6   \n",
              "1               10                    4                    9              10   \n",
              "2               10                    9                   10              10   \n",
              "3                8                    4                    5               6   \n",
              "4               10                    7                    9               8   \n",
              "5                5                    7                    6               8   \n",
              "6                2                    9                    9               4   \n",
              "7                6                    9                    8               6   \n",
              "8                1                    3                    1               2   \n",
              "9                2                    1                    2               1   \n",
              "\n",
              "   mth_since_last_serv  annualised_mileage  num_dealers_visited  \\\n",
              "0                    9                   8                   10   \n",
              "1                    6                  10                    7   \n",
              "2                    7                  10                    6   \n",
              "3                    4                  10                    9   \n",
              "4                    5                   4                    4   \n",
              "5                    8                   5                   10   \n",
              "6                    7                   6                   10   \n",
              "7                    9                   5                    5   \n",
              "8                    1                   1                    2   \n",
              "9                    1                   1                    1   \n",
              "\n",
              "   num_serv_dealer_purchased  \n",
              "0                          4  \n",
              "1                         10  \n",
              "2                         10  \n",
              "3                          7  \n",
              "4                          9  \n",
              "5                          4  \n",
              "6                          4  \n",
              "7                          8  \n",
              "8                          3  \n",
              "9                          1  "
            ],
            "text/html": [
              "\n",
              "  <div id=\"df-4d9dc37b-c024-4a11-9090-fa537067147d\">\n",
              "    <div class=\"colab-df-container\">\n",
              "      <div>\n",
              "<style scoped>\n",
              "    .dataframe tbody tr th:only-of-type {\n",
              "        vertical-align: middle;\n",
              "    }\n",
              "\n",
              "    .dataframe tbody tr th {\n",
              "        vertical-align: top;\n",
              "    }\n",
              "\n",
              "    .dataframe thead th {\n",
              "        text-align: right;\n",
              "    }\n",
              "</style>\n",
              "<table border=\"1\" class=\"dataframe\">\n",
              "  <thead>\n",
              "    <tr style=\"text-align: right;\">\n",
              "      <th></th>\n",
              "      <th>ID</th>\n",
              "      <th>Target</th>\n",
              "      <th>age_band</th>\n",
              "      <th>gender</th>\n",
              "      <th>car_model</th>\n",
              "      <th>car_segment</th>\n",
              "      <th>age_of_vehicle_years</th>\n",
              "      <th>sched_serv_warr</th>\n",
              "      <th>non_sched_serv_warr</th>\n",
              "      <th>sched_serv_paid</th>\n",
              "      <th>non_sched_serv_paid</th>\n",
              "      <th>total_paid_services</th>\n",
              "      <th>total_services</th>\n",
              "      <th>mth_since_last_serv</th>\n",
              "      <th>annualised_mileage</th>\n",
              "      <th>num_dealers_visited</th>\n",
              "      <th>num_serv_dealer_purchased</th>\n",
              "    </tr>\n",
              "  </thead>\n",
              "  <tbody>\n",
              "    <tr>\n",
              "      <th>0</th>\n",
              "      <td>1</td>\n",
              "      <td>0</td>\n",
              "      <td>3. 35 to 44</td>\n",
              "      <td>Male</td>\n",
              "      <td>model_1</td>\n",
              "      <td>LCV</td>\n",
              "      <td>9</td>\n",
              "      <td>2</td>\n",
              "      <td>10</td>\n",
              "      <td>3</td>\n",
              "      <td>7</td>\n",
              "      <td>5</td>\n",
              "      <td>6</td>\n",
              "      <td>9</td>\n",
              "      <td>8</td>\n",
              "      <td>10</td>\n",
              "      <td>4</td>\n",
              "    </tr>\n",
              "    <tr>\n",
              "      <th>1</th>\n",
              "      <td>2</td>\n",
              "      <td>0</td>\n",
              "      <td>NaN</td>\n",
              "      <td>NaN</td>\n",
              "      <td>model_2</td>\n",
              "      <td>Small/Medium</td>\n",
              "      <td>6</td>\n",
              "      <td>10</td>\n",
              "      <td>3</td>\n",
              "      <td>10</td>\n",
              "      <td>4</td>\n",
              "      <td>9</td>\n",
              "      <td>10</td>\n",
              "      <td>6</td>\n",
              "      <td>10</td>\n",
              "      <td>7</td>\n",
              "      <td>10</td>\n",
              "    </tr>\n",
              "    <tr>\n",
              "      <th>2</th>\n",
              "      <td>3</td>\n",
              "      <td>0</td>\n",
              "      <td>NaN</td>\n",
              "      <td>Male</td>\n",
              "      <td>model_3</td>\n",
              "      <td>Large/SUV</td>\n",
              "      <td>9</td>\n",
              "      <td>10</td>\n",
              "      <td>9</td>\n",
              "      <td>10</td>\n",
              "      <td>9</td>\n",
              "      <td>10</td>\n",
              "      <td>10</td>\n",
              "      <td>7</td>\n",
              "      <td>10</td>\n",
              "      <td>6</td>\n",
              "      <td>10</td>\n",
              "    </tr>\n",
              "    <tr>\n",
              "      <th>3</th>\n",
              "      <td>5</td>\n",
              "      <td>0</td>\n",
              "      <td>NaN</td>\n",
              "      <td>NaN</td>\n",
              "      <td>model_3</td>\n",
              "      <td>Large/SUV</td>\n",
              "      <td>5</td>\n",
              "      <td>8</td>\n",
              "      <td>5</td>\n",
              "      <td>8</td>\n",
              "      <td>4</td>\n",
              "      <td>5</td>\n",
              "      <td>6</td>\n",
              "      <td>4</td>\n",
              "      <td>10</td>\n",
              "      <td>9</td>\n",
              "      <td>7</td>\n",
              "    </tr>\n",
              "    <tr>\n",
              "      <th>4</th>\n",
              "      <td>6</td>\n",
              "      <td>0</td>\n",
              "      <td>NaN</td>\n",
              "      <td>Female</td>\n",
              "      <td>model_2</td>\n",
              "      <td>Small/Medium</td>\n",
              "      <td>8</td>\n",
              "      <td>9</td>\n",
              "      <td>4</td>\n",
              "      <td>10</td>\n",
              "      <td>7</td>\n",
              "      <td>9</td>\n",
              "      <td>8</td>\n",
              "      <td>5</td>\n",
              "      <td>4</td>\n",
              "      <td>4</td>\n",
              "      <td>9</td>\n",
              "    </tr>\n",
              "    <tr>\n",
              "      <th>5</th>\n",
              "      <td>7</td>\n",
              "      <td>0</td>\n",
              "      <td>NaN</td>\n",
              "      <td>Male</td>\n",
              "      <td>model_5</td>\n",
              "      <td>Large/SUV</td>\n",
              "      <td>7</td>\n",
              "      <td>4</td>\n",
              "      <td>10</td>\n",
              "      <td>5</td>\n",
              "      <td>7</td>\n",
              "      <td>6</td>\n",
              "      <td>8</td>\n",
              "      <td>8</td>\n",
              "      <td>5</td>\n",
              "      <td>10</td>\n",
              "      <td>4</td>\n",
              "    </tr>\n",
              "    <tr>\n",
              "      <th>6</th>\n",
              "      <td>8</td>\n",
              "      <td>0</td>\n",
              "      <td>1. &lt;25</td>\n",
              "      <td>Male</td>\n",
              "      <td>model_3</td>\n",
              "      <td>Large/SUV</td>\n",
              "      <td>8</td>\n",
              "      <td>2</td>\n",
              "      <td>8</td>\n",
              "      <td>2</td>\n",
              "      <td>9</td>\n",
              "      <td>9</td>\n",
              "      <td>4</td>\n",
              "      <td>7</td>\n",
              "      <td>6</td>\n",
              "      <td>10</td>\n",
              "      <td>4</td>\n",
              "    </tr>\n",
              "    <tr>\n",
              "      <th>7</th>\n",
              "      <td>9</td>\n",
              "      <td>0</td>\n",
              "      <td>NaN</td>\n",
              "      <td>Male</td>\n",
              "      <td>model_6</td>\n",
              "      <td>Small/Medium</td>\n",
              "      <td>7</td>\n",
              "      <td>4</td>\n",
              "      <td>9</td>\n",
              "      <td>6</td>\n",
              "      <td>9</td>\n",
              "      <td>8</td>\n",
              "      <td>6</td>\n",
              "      <td>9</td>\n",
              "      <td>5</td>\n",
              "      <td>5</td>\n",
              "      <td>8</td>\n",
              "    </tr>\n",
              "    <tr>\n",
              "      <th>8</th>\n",
              "      <td>10</td>\n",
              "      <td>0</td>\n",
              "      <td>NaN</td>\n",
              "      <td>NaN</td>\n",
              "      <td>model_4</td>\n",
              "      <td>Small/Medium</td>\n",
              "      <td>1</td>\n",
              "      <td>2</td>\n",
              "      <td>1</td>\n",
              "      <td>1</td>\n",
              "      <td>3</td>\n",
              "      <td>1</td>\n",
              "      <td>2</td>\n",
              "      <td>1</td>\n",
              "      <td>1</td>\n",
              "      <td>2</td>\n",
              "      <td>3</td>\n",
              "    </tr>\n",
              "    <tr>\n",
              "      <th>9</th>\n",
              "      <td>11</td>\n",
              "      <td>0</td>\n",
              "      <td>NaN</td>\n",
              "      <td>NaN</td>\n",
              "      <td>model_4</td>\n",
              "      <td>Small/Medium</td>\n",
              "      <td>3</td>\n",
              "      <td>1</td>\n",
              "      <td>1</td>\n",
              "      <td>2</td>\n",
              "      <td>1</td>\n",
              "      <td>2</td>\n",
              "      <td>1</td>\n",
              "      <td>1</td>\n",
              "      <td>1</td>\n",
              "      <td>1</td>\n",
              "      <td>1</td>\n",
              "    </tr>\n",
              "  </tbody>\n",
              "</table>\n",
              "</div>\n",
              "      <button class=\"colab-df-convert\" onclick=\"convertToInteractive('df-4d9dc37b-c024-4a11-9090-fa537067147d')\"\n",
              "              title=\"Convert this dataframe to an interactive table.\"\n",
              "              style=\"display:none;\">\n",
              "        \n",
              "  <svg xmlns=\"http://www.w3.org/2000/svg\" height=\"24px\"viewBox=\"0 0 24 24\"\n",
              "       width=\"24px\">\n",
              "    <path d=\"M0 0h24v24H0V0z\" fill=\"none\"/>\n",
              "    <path d=\"M18.56 5.44l.94 2.06.94-2.06 2.06-.94-2.06-.94-.94-2.06-.94 2.06-2.06.94zm-11 1L8.5 8.5l.94-2.06 2.06-.94-2.06-.94L8.5 2.5l-.94 2.06-2.06.94zm10 10l.94 2.06.94-2.06 2.06-.94-2.06-.94-.94-2.06-.94 2.06-2.06.94z\"/><path d=\"M17.41 7.96l-1.37-1.37c-.4-.4-.92-.59-1.43-.59-.52 0-1.04.2-1.43.59L10.3 9.45l-7.72 7.72c-.78.78-.78 2.05 0 2.83L4 21.41c.39.39.9.59 1.41.59.51 0 1.02-.2 1.41-.59l7.78-7.78 2.81-2.81c.8-.78.8-2.07 0-2.86zM5.41 20L4 18.59l7.72-7.72 1.47 1.35L5.41 20z\"/>\n",
              "  </svg>\n",
              "      </button>\n",
              "      \n",
              "  <style>\n",
              "    .colab-df-container {\n",
              "      display:flex;\n",
              "      flex-wrap:wrap;\n",
              "      gap: 12px;\n",
              "    }\n",
              "\n",
              "    .colab-df-convert {\n",
              "      background-color: #E8F0FE;\n",
              "      border: none;\n",
              "      border-radius: 50%;\n",
              "      cursor: pointer;\n",
              "      display: none;\n",
              "      fill: #1967D2;\n",
              "      height: 32px;\n",
              "      padding: 0 0 0 0;\n",
              "      width: 32px;\n",
              "    }\n",
              "\n",
              "    .colab-df-convert:hover {\n",
              "      background-color: #E2EBFA;\n",
              "      box-shadow: 0px 1px 2px rgba(60, 64, 67, 0.3), 0px 1px 3px 1px rgba(60, 64, 67, 0.15);\n",
              "      fill: #174EA6;\n",
              "    }\n",
              "\n",
              "    [theme=dark] .colab-df-convert {\n",
              "      background-color: #3B4455;\n",
              "      fill: #D2E3FC;\n",
              "    }\n",
              "\n",
              "    [theme=dark] .colab-df-convert:hover {\n",
              "      background-color: #434B5C;\n",
              "      box-shadow: 0px 1px 3px 1px rgba(0, 0, 0, 0.15);\n",
              "      filter: drop-shadow(0px 1px 2px rgba(0, 0, 0, 0.3));\n",
              "      fill: #FFFFFF;\n",
              "    }\n",
              "  </style>\n",
              "\n",
              "      <script>\n",
              "        const buttonEl =\n",
              "          document.querySelector('#df-4d9dc37b-c024-4a11-9090-fa537067147d button.colab-df-convert');\n",
              "        buttonEl.style.display =\n",
              "          google.colab.kernel.accessAllowed ? 'block' : 'none';\n",
              "\n",
              "        async function convertToInteractive(key) {\n",
              "          const element = document.querySelector('#df-4d9dc37b-c024-4a11-9090-fa537067147d');\n",
              "          const dataTable =\n",
              "            await google.colab.kernel.invokeFunction('convertToInteractive',\n",
              "                                                     [key], {});\n",
              "          if (!dataTable) return;\n",
              "\n",
              "          const docLinkHtml = 'Like what you see? Visit the ' +\n",
              "            '<a target=\"_blank\" href=https://colab.research.google.com/notebooks/data_table.ipynb>data table notebook</a>'\n",
              "            + ' to learn more about interactive tables.';\n",
              "          element.innerHTML = '';\n",
              "          dataTable['output_type'] = 'display_data';\n",
              "          await google.colab.output.renderOutput(dataTable, element);\n",
              "          const docLink = document.createElement('div');\n",
              "          docLink.innerHTML = docLinkHtml;\n",
              "          element.appendChild(docLink);\n",
              "        }\n",
              "      </script>\n",
              "    </div>\n",
              "  </div>\n",
              "  "
            ]
          },
          "metadata": {},
          "execution_count": 3
        }
      ],
      "source": [
        "df.head(10)"
      ]
    },
    {
      "cell_type": "markdown",
      "source": [
        "**2.2 Showing information about dataset**"
      ],
      "metadata": {
        "id": "ggfYCtq7ecD2"
      }
    },
    {
      "cell_type": "code",
      "execution_count": null,
      "metadata": {
        "id": "ZP4nF0C7Ijh4",
        "colab": {
          "base_uri": "https://localhost:8080/"
        },
        "outputId": "dd59711d-6fb6-4c49-bfc6-445bef005de0"
      },
      "outputs": [
        {
          "output_type": "stream",
          "name": "stdout",
          "text": [
            "<class 'pandas.core.frame.DataFrame'>\n",
            "RangeIndex: 131337 entries, 0 to 131336\n",
            "Data columns (total 17 columns):\n",
            " #   Column                     Non-Null Count   Dtype \n",
            "---  ------                     --------------   ----- \n",
            " 0   ID                         131337 non-null  int64 \n",
            " 1   Target                     131337 non-null  int64 \n",
            " 2   age_band                   18962 non-null   object\n",
            " 3   gender                     62029 non-null   object\n",
            " 4   car_model                  131337 non-null  object\n",
            " 5   car_segment                131337 non-null  object\n",
            " 6   age_of_vehicle_years       131337 non-null  int64 \n",
            " 7   sched_serv_warr            131337 non-null  int64 \n",
            " 8   non_sched_serv_warr        131337 non-null  int64 \n",
            " 9   sched_serv_paid            131337 non-null  int64 \n",
            " 10  non_sched_serv_paid        131337 non-null  int64 \n",
            " 11  total_paid_services        131337 non-null  int64 \n",
            " 12  total_services             131337 non-null  int64 \n",
            " 13  mth_since_last_serv        131337 non-null  int64 \n",
            " 14  annualised_mileage         131337 non-null  int64 \n",
            " 15  num_dealers_visited        131337 non-null  int64 \n",
            " 16  num_serv_dealer_purchased  131337 non-null  int64 \n",
            "dtypes: int64(13), object(4)\n",
            "memory usage: 17.0+ MB\n"
          ]
        }
      ],
      "source": [
        "df.info()"
      ]
    },
    {
      "cell_type": "markdown",
      "source": [
        "Looks like 'age_band' and 'gender' columns have missing values"
      ],
      "metadata": {
        "id": "couhB0TOek3M"
      }
    },
    {
      "cell_type": "markdown",
      "source": [
        "**2.3 Number of rows and columns in the dataset**"
      ],
      "metadata": {
        "id": "HDpFF21UerMD"
      }
    },
    {
      "cell_type": "code",
      "execution_count": null,
      "metadata": {
        "id": "plZvQlyIL8D-",
        "colab": {
          "base_uri": "https://localhost:8080/"
        },
        "outputId": "be36d36a-3531-4a14-b5ec-68b0746dc5a4"
      },
      "outputs": [
        {
          "output_type": "execute_result",
          "data": {
            "text/plain": [
              "(131337, 17)"
            ]
          },
          "metadata": {},
          "execution_count": 5
        }
      ],
      "source": [
        "df.shape"
      ]
    },
    {
      "cell_type": "markdown",
      "source": [
        "**2.4 Statistical information of the dataset**"
      ],
      "metadata": {
        "id": "MPZVc7z_e-sB"
      }
    },
    {
      "cell_type": "code",
      "execution_count": null,
      "metadata": {
        "id": "A_5y5j16MGSt",
        "colab": {
          "base_uri": "https://localhost:8080/"
        },
        "outputId": "cb95d289-f4e1-4c37-d459-b771f2e33790"
      },
      "outputs": [
        {
          "output_type": "execute_result",
          "data": {
            "text/plain": [
              "                  ID         Target  age_of_vehicle_years  sched_serv_warr  \\\n",
              "count  131337.000000  131337.000000         131337.000000    131337.000000   \n",
              "mean    77097.384180       0.026809              5.493022         5.452500   \n",
              "std     44501.636704       0.161525              2.843299         2.884328   \n",
              "min         1.000000       0.000000              1.000000         1.000000   \n",
              "25%     38563.000000       0.000000              3.000000         3.000000   \n",
              "50%     77132.000000       0.000000              5.000000         5.000000   \n",
              "75%    115668.000000       0.000000              8.000000         8.000000   \n",
              "max    154139.000000       1.000000             10.000000        10.000000   \n",
              "\n",
              "       non_sched_serv_warr  sched_serv_paid  non_sched_serv_paid  \\\n",
              "count        131337.000000    131337.000000        131337.000000   \n",
              "mean              5.472517         5.452287             5.497050   \n",
              "std               2.870665         2.886528             2.878699   \n",
              "min               1.000000         1.000000             1.000000   \n",
              "25%               3.000000         3.000000             3.000000   \n",
              "50%               5.000000         5.000000             5.000000   \n",
              "75%               8.000000         8.000000             8.000000   \n",
              "max              10.000000        10.000000            10.000000   \n",
              "\n",
              "       total_paid_services  total_services  mth_since_last_serv  \\\n",
              "count        131337.000000   131337.000000        131337.000000   \n",
              "mean              5.481692        5.454967             5.469807   \n",
              "std               2.880408        2.875961             2.859756   \n",
              "min               1.000000        1.000000             1.000000   \n",
              "25%               3.000000        3.000000             3.000000   \n",
              "50%               5.000000        5.000000             5.000000   \n",
              "75%               8.000000        8.000000             8.000000   \n",
              "max              10.000000       10.000000            10.000000   \n",
              "\n",
              "       annualised_mileage  num_dealers_visited  num_serv_dealer_purchased  \n",
              "count       131337.000000        131337.000000              131337.000000  \n",
              "mean             5.502836             5.485438                   5.480778  \n",
              "std              2.854896             2.876772                   2.867524  \n",
              "min              1.000000             1.000000                   1.000000  \n",
              "25%              3.000000             3.000000                   3.000000  \n",
              "50%              5.000000             5.000000                   5.000000  \n",
              "75%              8.000000             8.000000                   8.000000  \n",
              "max             10.000000            10.000000                  10.000000  "
            ],
            "text/html": [
              "\n",
              "  <div id=\"df-b3f9d4fb-8f0c-4af3-8086-c00ed7d7f99b\">\n",
              "    <div class=\"colab-df-container\">\n",
              "      <div>\n",
              "<style scoped>\n",
              "    .dataframe tbody tr th:only-of-type {\n",
              "        vertical-align: middle;\n",
              "    }\n",
              "\n",
              "    .dataframe tbody tr th {\n",
              "        vertical-align: top;\n",
              "    }\n",
              "\n",
              "    .dataframe thead th {\n",
              "        text-align: right;\n",
              "    }\n",
              "</style>\n",
              "<table border=\"1\" class=\"dataframe\">\n",
              "  <thead>\n",
              "    <tr style=\"text-align: right;\">\n",
              "      <th></th>\n",
              "      <th>ID</th>\n",
              "      <th>Target</th>\n",
              "      <th>age_of_vehicle_years</th>\n",
              "      <th>sched_serv_warr</th>\n",
              "      <th>non_sched_serv_warr</th>\n",
              "      <th>sched_serv_paid</th>\n",
              "      <th>non_sched_serv_paid</th>\n",
              "      <th>total_paid_services</th>\n",
              "      <th>total_services</th>\n",
              "      <th>mth_since_last_serv</th>\n",
              "      <th>annualised_mileage</th>\n",
              "      <th>num_dealers_visited</th>\n",
              "      <th>num_serv_dealer_purchased</th>\n",
              "    </tr>\n",
              "  </thead>\n",
              "  <tbody>\n",
              "    <tr>\n",
              "      <th>count</th>\n",
              "      <td>131337.000000</td>\n",
              "      <td>131337.000000</td>\n",
              "      <td>131337.000000</td>\n",
              "      <td>131337.000000</td>\n",
              "      <td>131337.000000</td>\n",
              "      <td>131337.000000</td>\n",
              "      <td>131337.000000</td>\n",
              "      <td>131337.000000</td>\n",
              "      <td>131337.000000</td>\n",
              "      <td>131337.000000</td>\n",
              "      <td>131337.000000</td>\n",
              "      <td>131337.000000</td>\n",
              "      <td>131337.000000</td>\n",
              "    </tr>\n",
              "    <tr>\n",
              "      <th>mean</th>\n",
              "      <td>77097.384180</td>\n",
              "      <td>0.026809</td>\n",
              "      <td>5.493022</td>\n",
              "      <td>5.452500</td>\n",
              "      <td>5.472517</td>\n",
              "      <td>5.452287</td>\n",
              "      <td>5.497050</td>\n",
              "      <td>5.481692</td>\n",
              "      <td>5.454967</td>\n",
              "      <td>5.469807</td>\n",
              "      <td>5.502836</td>\n",
              "      <td>5.485438</td>\n",
              "      <td>5.480778</td>\n",
              "    </tr>\n",
              "    <tr>\n",
              "      <th>std</th>\n",
              "      <td>44501.636704</td>\n",
              "      <td>0.161525</td>\n",
              "      <td>2.843299</td>\n",
              "      <td>2.884328</td>\n",
              "      <td>2.870665</td>\n",
              "      <td>2.886528</td>\n",
              "      <td>2.878699</td>\n",
              "      <td>2.880408</td>\n",
              "      <td>2.875961</td>\n",
              "      <td>2.859756</td>\n",
              "      <td>2.854896</td>\n",
              "      <td>2.876772</td>\n",
              "      <td>2.867524</td>\n",
              "    </tr>\n",
              "    <tr>\n",
              "      <th>min</th>\n",
              "      <td>1.000000</td>\n",
              "      <td>0.000000</td>\n",
              "      <td>1.000000</td>\n",
              "      <td>1.000000</td>\n",
              "      <td>1.000000</td>\n",
              "      <td>1.000000</td>\n",
              "      <td>1.000000</td>\n",
              "      <td>1.000000</td>\n",
              "      <td>1.000000</td>\n",
              "      <td>1.000000</td>\n",
              "      <td>1.000000</td>\n",
              "      <td>1.000000</td>\n",
              "      <td>1.000000</td>\n",
              "    </tr>\n",
              "    <tr>\n",
              "      <th>25%</th>\n",
              "      <td>38563.000000</td>\n",
              "      <td>0.000000</td>\n",
              "      <td>3.000000</td>\n",
              "      <td>3.000000</td>\n",
              "      <td>3.000000</td>\n",
              "      <td>3.000000</td>\n",
              "      <td>3.000000</td>\n",
              "      <td>3.000000</td>\n",
              "      <td>3.000000</td>\n",
              "      <td>3.000000</td>\n",
              "      <td>3.000000</td>\n",
              "      <td>3.000000</td>\n",
              "      <td>3.000000</td>\n",
              "    </tr>\n",
              "    <tr>\n",
              "      <th>50%</th>\n",
              "      <td>77132.000000</td>\n",
              "      <td>0.000000</td>\n",
              "      <td>5.000000</td>\n",
              "      <td>5.000000</td>\n",
              "      <td>5.000000</td>\n",
              "      <td>5.000000</td>\n",
              "      <td>5.000000</td>\n",
              "      <td>5.000000</td>\n",
              "      <td>5.000000</td>\n",
              "      <td>5.000000</td>\n",
              "      <td>5.000000</td>\n",
              "      <td>5.000000</td>\n",
              "      <td>5.000000</td>\n",
              "    </tr>\n",
              "    <tr>\n",
              "      <th>75%</th>\n",
              "      <td>115668.000000</td>\n",
              "      <td>0.000000</td>\n",
              "      <td>8.000000</td>\n",
              "      <td>8.000000</td>\n",
              "      <td>8.000000</td>\n",
              "      <td>8.000000</td>\n",
              "      <td>8.000000</td>\n",
              "      <td>8.000000</td>\n",
              "      <td>8.000000</td>\n",
              "      <td>8.000000</td>\n",
              "      <td>8.000000</td>\n",
              "      <td>8.000000</td>\n",
              "      <td>8.000000</td>\n",
              "    </tr>\n",
              "    <tr>\n",
              "      <th>max</th>\n",
              "      <td>154139.000000</td>\n",
              "      <td>1.000000</td>\n",
              "      <td>10.000000</td>\n",
              "      <td>10.000000</td>\n",
              "      <td>10.000000</td>\n",
              "      <td>10.000000</td>\n",
              "      <td>10.000000</td>\n",
              "      <td>10.000000</td>\n",
              "      <td>10.000000</td>\n",
              "      <td>10.000000</td>\n",
              "      <td>10.000000</td>\n",
              "      <td>10.000000</td>\n",
              "      <td>10.000000</td>\n",
              "    </tr>\n",
              "  </tbody>\n",
              "</table>\n",
              "</div>\n",
              "      <button class=\"colab-df-convert\" onclick=\"convertToInteractive('df-b3f9d4fb-8f0c-4af3-8086-c00ed7d7f99b')\"\n",
              "              title=\"Convert this dataframe to an interactive table.\"\n",
              "              style=\"display:none;\">\n",
              "        \n",
              "  <svg xmlns=\"http://www.w3.org/2000/svg\" height=\"24px\"viewBox=\"0 0 24 24\"\n",
              "       width=\"24px\">\n",
              "    <path d=\"M0 0h24v24H0V0z\" fill=\"none\"/>\n",
              "    <path d=\"M18.56 5.44l.94 2.06.94-2.06 2.06-.94-2.06-.94-.94-2.06-.94 2.06-2.06.94zm-11 1L8.5 8.5l.94-2.06 2.06-.94-2.06-.94L8.5 2.5l-.94 2.06-2.06.94zm10 10l.94 2.06.94-2.06 2.06-.94-2.06-.94-.94-2.06-.94 2.06-2.06.94z\"/><path d=\"M17.41 7.96l-1.37-1.37c-.4-.4-.92-.59-1.43-.59-.52 0-1.04.2-1.43.59L10.3 9.45l-7.72 7.72c-.78.78-.78 2.05 0 2.83L4 21.41c.39.39.9.59 1.41.59.51 0 1.02-.2 1.41-.59l7.78-7.78 2.81-2.81c.8-.78.8-2.07 0-2.86zM5.41 20L4 18.59l7.72-7.72 1.47 1.35L5.41 20z\"/>\n",
              "  </svg>\n",
              "      </button>\n",
              "      \n",
              "  <style>\n",
              "    .colab-df-container {\n",
              "      display:flex;\n",
              "      flex-wrap:wrap;\n",
              "      gap: 12px;\n",
              "    }\n",
              "\n",
              "    .colab-df-convert {\n",
              "      background-color: #E8F0FE;\n",
              "      border: none;\n",
              "      border-radius: 50%;\n",
              "      cursor: pointer;\n",
              "      display: none;\n",
              "      fill: #1967D2;\n",
              "      height: 32px;\n",
              "      padding: 0 0 0 0;\n",
              "      width: 32px;\n",
              "    }\n",
              "\n",
              "    .colab-df-convert:hover {\n",
              "      background-color: #E2EBFA;\n",
              "      box-shadow: 0px 1px 2px rgba(60, 64, 67, 0.3), 0px 1px 3px 1px rgba(60, 64, 67, 0.15);\n",
              "      fill: #174EA6;\n",
              "    }\n",
              "\n",
              "    [theme=dark] .colab-df-convert {\n",
              "      background-color: #3B4455;\n",
              "      fill: #D2E3FC;\n",
              "    }\n",
              "\n",
              "    [theme=dark] .colab-df-convert:hover {\n",
              "      background-color: #434B5C;\n",
              "      box-shadow: 0px 1px 3px 1px rgba(0, 0, 0, 0.15);\n",
              "      filter: drop-shadow(0px 1px 2px rgba(0, 0, 0, 0.3));\n",
              "      fill: #FFFFFF;\n",
              "    }\n",
              "  </style>\n",
              "\n",
              "      <script>\n",
              "        const buttonEl =\n",
              "          document.querySelector('#df-b3f9d4fb-8f0c-4af3-8086-c00ed7d7f99b button.colab-df-convert');\n",
              "        buttonEl.style.display =\n",
              "          google.colab.kernel.accessAllowed ? 'block' : 'none';\n",
              "\n",
              "        async function convertToInteractive(key) {\n",
              "          const element = document.querySelector('#df-b3f9d4fb-8f0c-4af3-8086-c00ed7d7f99b');\n",
              "          const dataTable =\n",
              "            await google.colab.kernel.invokeFunction('convertToInteractive',\n",
              "                                                     [key], {});\n",
              "          if (!dataTable) return;\n",
              "\n",
              "          const docLinkHtml = 'Like what you see? Visit the ' +\n",
              "            '<a target=\"_blank\" href=https://colab.research.google.com/notebooks/data_table.ipynb>data table notebook</a>'\n",
              "            + ' to learn more about interactive tables.';\n",
              "          element.innerHTML = '';\n",
              "          dataTable['output_type'] = 'display_data';\n",
              "          await google.colab.output.renderOutput(dataTable, element);\n",
              "          const docLink = document.createElement('div');\n",
              "          docLink.innerHTML = docLinkHtml;\n",
              "          element.appendChild(docLink);\n",
              "        }\n",
              "      </script>\n",
              "    </div>\n",
              "  </div>\n",
              "  "
            ]
          },
          "metadata": {},
          "execution_count": 6
        }
      ],
      "source": [
        "df.describe()"
      ]
    },
    {
      "cell_type": "markdown",
      "source": [
        "**2.5 Showing unique values of every columns**"
      ],
      "metadata": {
        "id": "UrjAUfZ6fEMR"
      }
    },
    {
      "cell_type": "code",
      "execution_count": null,
      "metadata": {
        "id": "vXtBhGl4Q0KI",
        "colab": {
          "base_uri": "https://localhost:8080/"
        },
        "outputId": "3a1677ff-0f99-422c-8fb8-212892ad972d"
      },
      "outputs": [
        {
          "output_type": "stream",
          "name": "stdout",
          "text": [
            "ID\n",
            "[     1      2      3 ... 154137 154138 154139]\n",
            "Target\n",
            "[0 1]\n",
            "age_band\n",
            "['3. 35 to 44' nan '1. <25' '4. 45 to 54' '2. 25 to 34' '7. 75+'\n",
            " '5. 55 to 64' '6. 65 to 74']\n",
            "gender\n",
            "['Male' nan 'Female']\n",
            "car_model\n",
            "['model_1' 'model_2' 'model_3' 'model_5' 'model_6' 'model_4' 'model_7'\n",
            " 'model_8' 'model_9' 'model_10' 'model_11' 'model_13' 'model_12'\n",
            " 'model_14' 'model_15' 'model_16' 'model_17' 'model_18' 'model_19']\n",
            "car_segment\n",
            "['LCV' 'Small/Medium' 'Large/SUV' 'Other']\n",
            "age_of_vehicle_years\n",
            "[ 9  6  5  8  7  1  3  4 10  2]\n",
            "sched_serv_warr\n",
            "[ 2 10  8  9  4  1  3  7  5  6]\n",
            "non_sched_serv_warr\n",
            "[10  3  9  5  4  8  1  6  2  7]\n",
            "sched_serv_paid\n",
            "[ 3 10  8  5  2  6  1  4  9  7]\n",
            "non_sched_serv_paid\n",
            "[ 7  4  9  3  1  2  6  5 10  8]\n",
            "total_paid_services\n",
            "[ 5  9 10  6  8  1  2  7  3  4]\n",
            "total_services\n",
            "[ 6 10  8  4  2  1  3  5  9  7]\n",
            "mth_since_last_serv\n",
            "[ 9  6  7  4  5  8  1  3 10  2]\n",
            "annualised_mileage\n",
            "[ 8 10  4  5  6  1  7  3  9  2]\n",
            "num_dealers_visited\n",
            "[10  7  6  9  4  5  2  1  3  8]\n",
            "num_serv_dealer_purchased\n",
            "[ 4 10  7  9  8  3  1  6  2  5]\n"
          ]
        }
      ],
      "source": [
        "for col in df.columns:\n",
        "  print(col)\n",
        "  print(df[col].unique())"
      ]
    },
    {
      "cell_type": "markdown",
      "metadata": {
        "id": "hDssPGOINOJS"
      },
      "source": [
        "## **3. Data cleaning**"
      ]
    },
    {
      "cell_type": "markdown",
      "source": [
        "**3.1 Creating a copy of the dataset**"
      ],
      "metadata": {
        "id": "nPACVePYfTJF"
      }
    },
    {
      "cell_type": "code",
      "execution_count": null,
      "metadata": {
        "id": "_Ug3EznRMI_w"
      },
      "outputs": [],
      "source": [
        "df_cleaned = df.copy()"
      ]
    },
    {
      "cell_type": "markdown",
      "source": [
        "**3.2 Dropping 'age_band' and 'gender' (too many null values) and 'ID' (irrelevant to target variable)**"
      ],
      "metadata": {
        "id": "yuWuHbw8f-9c"
      }
    },
    {
      "cell_type": "code",
      "execution_count": null,
      "metadata": {
        "id": "5QnQieyENUBs"
      },
      "outputs": [],
      "source": [
        "df_cleaned.drop(columns=['age_band', 'gender', 'ID'], axis=1, inplace=True)"
      ]
    },
    {
      "cell_type": "markdown",
      "source": [
        "**3.3 Number of remaining columns**"
      ],
      "metadata": {
        "id": "53T7w3aWgaze"
      }
    },
    {
      "cell_type": "code",
      "execution_count": null,
      "metadata": {
        "id": "1D0zZjyVOtJr",
        "colab": {
          "base_uri": "https://localhost:8080/"
        },
        "outputId": "72072ea4-d468-44b4-8359-6e50d12fc990"
      },
      "outputs": [
        {
          "output_type": "execute_result",
          "data": {
            "text/plain": [
              "(131337, 14)"
            ]
          },
          "metadata": {},
          "execution_count": 10
        }
      ],
      "source": [
        "df_cleaned.shape"
      ]
    },
    {
      "cell_type": "markdown",
      "source": [
        "**3.4 Checking for null values**"
      ],
      "metadata": {
        "id": "HeexnQn3ls2G"
      }
    },
    {
      "cell_type": "code",
      "execution_count": null,
      "metadata": {
        "id": "ANbG2PKnPbGm",
        "colab": {
          "base_uri": "https://localhost:8080/"
        },
        "outputId": "947ae180-462c-4e56-8f73-8bdf31b5bc29"
      },
      "outputs": [
        {
          "output_type": "execute_result",
          "data": {
            "text/plain": [
              "Target                       0\n",
              "car_model                    0\n",
              "car_segment                  0\n",
              "age_of_vehicle_years         0\n",
              "sched_serv_warr              0\n",
              "non_sched_serv_warr          0\n",
              "sched_serv_paid              0\n",
              "non_sched_serv_paid          0\n",
              "total_paid_services          0\n",
              "total_services               0\n",
              "mth_since_last_serv          0\n",
              "annualised_mileage           0\n",
              "num_dealers_visited          0\n",
              "num_serv_dealer_purchased    0\n",
              "dtype: int64"
            ]
          },
          "metadata": {},
          "execution_count": 11
        }
      ],
      "source": [
        "df_cleaned.isna().sum()"
      ]
    },
    {
      "cell_type": "markdown",
      "metadata": {
        "id": "Zcynox2yRtJF"
      },
      "source": [
        "## **4. Preparing dataset**"
      ]
    },
    {
      "cell_type": "markdown",
      "source": [
        "**4.1 Showing unique values in 'car_model'**"
      ],
      "metadata": {
        "id": "PY_q8260l9yw"
      }
    },
    {
      "cell_type": "code",
      "execution_count": null,
      "metadata": {
        "id": "16phXljhU92o",
        "colab": {
          "base_uri": "https://localhost:8080/"
        },
        "outputId": "5fcfe305-6a67-49d4-9c23-c8c489c9c7ef"
      },
      "outputs": [
        {
          "output_type": "execute_result",
          "data": {
            "text/plain": [
              "array(['model_1', 'model_2', 'model_3', 'model_5', 'model_6', 'model_4',\n",
              "       'model_7', 'model_8', 'model_9', 'model_10', 'model_11',\n",
              "       'model_13', 'model_12', 'model_14', 'model_15', 'model_16',\n",
              "       'model_17', 'model_18', 'model_19'], dtype=object)"
            ]
          },
          "metadata": {},
          "execution_count": 12
        }
      ],
      "source": [
        "df_cleaned.car_model.unique()"
      ]
    },
    {
      "cell_type": "markdown",
      "metadata": {
        "id": "ehQ6zwlCThgG"
      },
      "source": [
        "**4.2 Importing OrdinalEncoder from sklearn.preprocessing**"
      ]
    },
    {
      "cell_type": "code",
      "execution_count": null,
      "metadata": {
        "id": "2pwJekPnRYdE"
      },
      "outputs": [],
      "source": [
        "from sklearn.preprocessing import OrdinalEncoder"
      ]
    },
    {
      "cell_type": "markdown",
      "source": [
        "**4.3 Creating dictionary containing the values**"
      ],
      "metadata": {
        "id": "C-snyZV6tt01"
      }
    },
    {
      "cell_type": "code",
      "execution_count": null,
      "metadata": {
        "id": "mLYNdMouR3kh"
      },
      "outputs": [],
      "source": [
        "car_model_categories = [['model_1', 'model_2', 'model_3', 'model_5', 'model_6', 'model_4',\n",
        "       'model_7', 'model_8', 'model_9', 'model_10', 'model_11',\n",
        "       'model_13', 'model_12', 'model_14', 'model_15', 'model_16',\n",
        "       'model_17', 'model_18', 'model_19']]"
      ]
    },
    {
      "cell_type": "markdown",
      "source": [
        "**4.4 Instantiating OrdinalEncoder class and saving it to a variable**"
      ],
      "metadata": {
        "id": "xvVH44UivtYM"
      }
    },
    {
      "cell_type": "code",
      "execution_count": null,
      "metadata": {
        "id": "4f1c9CGuSBI-"
      },
      "outputs": [],
      "source": [
        "car_model_encoded = OrdinalEncoder(categories = car_model_categories)"
      ]
    },
    {
      "cell_type": "markdown",
      "source": [
        "**4.5 Using the encoder to transform the columm**"
      ],
      "metadata": {
        "id": "SZSdngiNwRpI"
      }
    },
    {
      "cell_type": "code",
      "execution_count": null,
      "metadata": {
        "id": "mYN9Vzi-SNFx"
      },
      "outputs": [],
      "source": [
        "df_cleaned['car_model_categories'] = car_model_encoded.fit_transform(df_cleaned[['car_model']])"
      ]
    },
    {
      "cell_type": "markdown",
      "source": [
        "**4.6 Removing the previous column**"
      ],
      "metadata": {
        "id": "hmAJRi5PxFzU"
      }
    },
    {
      "cell_type": "code",
      "execution_count": null,
      "metadata": {
        "id": "oa7kr-HYSxhV",
        "colab": {
          "base_uri": "https://localhost:8080/"
        },
        "outputId": "9dbb8753-ef73-4c44-d945-9e70f205c704"
      },
      "outputs": [
        {
          "output_type": "execute_result",
          "data": {
            "text/plain": [
              "array([ 0.,  1.,  2.,  3.,  4.,  5.,  6.,  7.,  8.,  9., 10., 11., 12.,\n",
              "       13., 14., 15., 16., 17., 18.])"
            ]
          },
          "metadata": {},
          "execution_count": 17
        }
      ],
      "source": [
        "df_cleaned['car_model'] = df_cleaned['car_model_categories']\n",
        "df_cleaned.drop('car_model_categories', axis=1, inplace=True)\n",
        "\n",
        "df_cleaned['car_model'].unique()"
      ]
    },
    {
      "cell_type": "markdown",
      "source": [
        "**4.7 Creating dictionary containing 'car_segment' values**"
      ],
      "metadata": {
        "id": "zfNFPHFHz5Sj"
      }
    },
    {
      "cell_type": "code",
      "execution_count": null,
      "metadata": {
        "id": "Q_qTwZjiVMUS",
        "colab": {
          "base_uri": "https://localhost:8080/"
        },
        "outputId": "9f7f3eed-6c02-41da-c5bb-b2ebc42cf2e0"
      },
      "outputs": [
        {
          "output_type": "execute_result",
          "data": {
            "text/plain": [
              "array(['LCV', 'Small/Medium', 'Large/SUV', 'Other'], dtype=object)"
            ]
          },
          "metadata": {},
          "execution_count": 18
        }
      ],
      "source": [
        "df_cleaned['car_segment'].unique()"
      ]
    },
    {
      "cell_type": "code",
      "execution_count": null,
      "metadata": {
        "id": "IN1LfQGrWOBx"
      },
      "outputs": [],
      "source": [
        "df_cleaned.car_segment = df_cleaned.car_segment.map({'LCV':0, 'Small/Medium':1, 'Large/SUV':2, 'Other':3})"
      ]
    },
    {
      "cell_type": "markdown",
      "source": [
        "**4.8 Assigning target variable to a variable**"
      ],
      "metadata": {
        "id": "xruFy8sl0DCg"
      }
    },
    {
      "cell_type": "code",
      "execution_count": null,
      "metadata": {
        "id": "PRbbA00kPpcw"
      },
      "outputs": [],
      "source": [
        "y = df_cleaned.pop('Target')"
      ]
    },
    {
      "cell_type": "markdown",
      "source": [
        "**4.9 Assigning features to a variable**"
      ],
      "metadata": {
        "id": "ph0lGUcN0L4U"
      }
    },
    {
      "cell_type": "code",
      "execution_count": null,
      "metadata": {
        "id": "5qDE-uPVSQGb"
      },
      "outputs": [],
      "source": [
        "X = df_cleaned"
      ]
    },
    {
      "cell_type": "markdown",
      "source": [
        "**4.10 Importing train_test_split from sklearn**"
      ],
      "metadata": {
        "id": "NpIZbl0z0ZqK"
      }
    },
    {
      "cell_type": "code",
      "execution_count": null,
      "metadata": {
        "id": "vp44G7ooSTkq"
      },
      "outputs": [],
      "source": [
        "from sklearn.model_selection import train_test_split"
      ]
    },
    {
      "cell_type": "markdown",
      "source": [
        "**4.11 Splitting target variable and features into training and testing datasets**"
      ],
      "metadata": {
        "id": "A5EMdjRL1qrw"
      }
    },
    {
      "cell_type": "code",
      "execution_count": null,
      "metadata": {
        "id": "sOcIv6xZSYz4"
      },
      "outputs": [],
      "source": [
        "X_data, X_test, y_data, y_test = train_test_split(X, y, test_size=0.2, random_state=3, stratify=y)"
      ]
    },
    {
      "cell_type": "markdown",
      "source": [
        "**4.12 Splitting target variable and features into training and validation datasets**"
      ],
      "metadata": {
        "id": "bKEDvmel1zIE"
      }
    },
    {
      "cell_type": "code",
      "execution_count": null,
      "metadata": {
        "id": "BoecXhTdSjUU"
      },
      "outputs": [],
      "source": [
        "X_train, X_val, y_train, y_val = train_test_split(X_data, y_data, test_size=0.2, random_state=3, stratify=y_data)"
      ]
    },
    {
      "cell_type": "markdown",
      "source": [
        "**4.13 Showing the distribution of target variable after splitting datasets**"
      ],
      "metadata": {
        "id": "RyLX3zRr13jD"
      }
    },
    {
      "cell_type": "code",
      "execution_count": null,
      "metadata": {
        "id": "8PH1_ZwZzI9Q",
        "colab": {
          "base_uri": "https://localhost:8080/"
        },
        "outputId": "b1b24860-e508-46ab-9b84-3a8fde6ffc1f"
      },
      "outputs": [
        {
          "output_type": "stream",
          "name": "stdout",
          "text": [
            "0    0.973184\n",
            "1    0.026816\n",
            "Name: Target, dtype: float64\n",
            "0    0.973208\n",
            "1    0.026792\n",
            "Name: Target, dtype: float64\n",
            "0    0.973199\n",
            "1    0.026801\n",
            "Name: Target, dtype: float64\n"
          ]
        }
      ],
      "source": [
        "print(y_train.value_counts(normalize=True))\n",
        "print(y_val.value_counts(normalize=True))\n",
        "print(y_test.value_counts(normalize=True))"
      ]
    },
    {
      "cell_type": "markdown",
      "metadata": {
        "id": "QjNe6VzcS3si"
      },
      "source": [
        "## **5. Assessing baseline**"
      ]
    },
    {
      "cell_type": "markdown",
      "source": [
        "**5.1 Finding the mode of target variable**"
      ],
      "metadata": {
        "id": "gkWBRFSc2S2i"
      }
    },
    {
      "cell_type": "code",
      "execution_count": null,
      "metadata": {
        "id": "Y1IGEJVhS7Ng"
      },
      "outputs": [],
      "source": [
        "y_mode = y.mode()"
      ]
    },
    {
      "cell_type": "markdown",
      "source": [
        "**5.2 Creating a numpy array and assigning the value to a variable**"
      ],
      "metadata": {
        "id": "-6KXvr1s2clV"
      }
    },
    {
      "cell_type": "code",
      "execution_count": null,
      "metadata": {
        "id": "C2w0nVVkS8-k"
      },
      "outputs": [],
      "source": [
        "y_base = np.full(y_train.shape, y_mode)"
      ]
    },
    {
      "cell_type": "markdown",
      "source": [
        "**5.3 Importing accuracy, precision, recall and f1 scores from sklearn**"
      ],
      "metadata": {
        "id": "7kNoWJMvRkSv"
      }
    },
    {
      "cell_type": "code",
      "execution_count": null,
      "metadata": {
        "id": "2mtHvlhiTBtr"
      },
      "outputs": [],
      "source": [
        "from sklearn.metrics import accuracy_score, precision_score, recall_score, f1_score"
      ]
    },
    {
      "cell_type": "markdown",
      "source": [
        "**5.4 Calculating accuracy and f1 score**"
      ],
      "metadata": {
        "id": "4tSjk7FxRseo"
      }
    },
    {
      "cell_type": "code",
      "execution_count": null,
      "metadata": {
        "id": "ILr6jwzzTF_N",
        "colab": {
          "base_uri": "https://localhost:8080/"
        },
        "outputId": "e5c31ae6-dc03-45c5-d2ea-f44ae9935b4d"
      },
      "outputs": [
        {
          "output_type": "stream",
          "name": "stdout",
          "text": [
            "0.9731842246148356\n",
            "0.9599585514870511\n"
          ]
        }
      ],
      "source": [
        "print(accuracy_score(y_train, y_base))\n",
        "print(f1_score(y_train, y_base, average='weighted'))"
      ]
    },
    {
      "cell_type": "markdown",
      "source": [
        "## **6. Training RandomForest with n_estimators**"
      ],
      "metadata": {
        "id": "qQ3i0ljuwESf"
      }
    },
    {
      "cell_type": "markdown",
      "source": [
        "Importing RandomForest from sklearn"
      ],
      "metadata": {
        "id": "r82_uo08x_bG"
      }
    },
    {
      "cell_type": "code",
      "source": [
        "from sklearn.ensemble import RandomForestClassifier"
      ],
      "metadata": {
        "id": "lCWlfKtDBb_Y"
      },
      "execution_count": null,
      "outputs": []
    },
    {
      "cell_type": "markdown",
      "source": [
        "**6.1 Training RandomForest with n_estimators = 10**"
      ],
      "metadata": {
        "id": "J7tINaiMky-k"
      }
    },
    {
      "cell_type": "markdown",
      "source": [
        "Training the model using training set"
      ],
      "metadata": {
        "id": "OPsDddUvlBO9"
      }
    },
    {
      "cell_type": "code",
      "source": [
        "rf1 = RandomForestClassifier(random_state=3, n_estimators=10).fit(X_train, y_train)"
      ],
      "metadata": {
        "id": "BkjJSZL5wRyN"
      },
      "execution_count": null,
      "outputs": []
    },
    {
      "cell_type": "markdown",
      "source": [
        "Predicting and calculating precision, recall and f1 scores"
      ],
      "metadata": {
        "id": "Otp6fsr4q7pv"
      }
    },
    {
      "cell_type": "code",
      "source": [
        "y_train_preds1 = rf1.predict(X_train)\n",
        "y_val_preds1 = rf1.predict(X_val)\n",
        "y_test_preds1 = rf1.predict(X_test)\n",
        "\n",
        "print('Accuracy:')\n",
        "print(f\"Training set: {round(accuracy_score(y_train, y_train_preds1), 5)}\")\n",
        "print(f\"Validation set: {round(accuracy_score(y_val, y_val_preds1), 5)}\")\n",
        "print(f\"Testing set: {round(accuracy_score(y_test, y_test_preds1), 5)}\")\n",
        "\n",
        "print('')\n",
        "\n",
        "print('Precision:')\n",
        "print(f\"Training set: {round(precision_score(y_train, y_train_preds1), 5)}\")\n",
        "print(f\"Validation set: {round(precision_score(y_val, y_val_preds1), 5)}\")\n",
        "print(f\"Testing set: {round(precision_score(y_test, y_test_preds1), 5)}\")\n",
        "\n",
        "print('')\n",
        "\n",
        "print('Recall:')\n",
        "print(f\"Training set: {round(recall_score(y_train, y_train_preds1), 5)}\")\n",
        "print(f\"Validation set: {round(recall_score(y_val, y_val_preds1), 5)}\")\n",
        "print(f\"Testing set: {round(recall_score(y_test, y_test_preds1), 5)}\")\n",
        "\n",
        "print('')\n",
        "\n",
        "print('F1 score:')\n",
        "print(f\"Training set: {round(f1_score(y_train, y_train_preds1), 5)}\")\n",
        "print(f\"Validation set: {round(f1_score(y_val, y_val_preds1), 5)}\")\n",
        "print(f\"Testing set: {round(f1_score(y_test, y_test_preds1), 5)}\")"
      ],
      "metadata": {
        "colab": {
          "base_uri": "https://localhost:8080/"
        },
        "id": "1EJwHU2hrZdc",
        "outputId": "c896ab03-d5ca-4646-bda5-faf546a962d0"
      },
      "execution_count": null,
      "outputs": [
        {
          "output_type": "stream",
          "name": "stdout",
          "text": [
            "Accuracy:\n",
            "Training set: 0.99907\n",
            "Validation set: 0.99124\n",
            "Testing set: 0.99204\n",
            "\n",
            "Precision:\n",
            "Training set: 0.99817\n",
            "Validation set: 0.93364\n",
            "Testing set: 0.93805\n",
            "\n",
            "Recall:\n",
            "Training set: 0.96717\n",
            "Validation set: 0.72469\n",
            "Testing set: 0.75284\n",
            "\n",
            "F1 score:\n",
            "Training set: 0.98242\n",
            "Validation set: 0.816\n",
            "Testing set: 0.8353\n"
          ]
        }
      ]
    },
    {
      "cell_type": "markdown",
      "source": [
        "Accuracy score can misleading due to unbalanced dataset, we will drop accuracy score from now on"
      ],
      "metadata": {
        "id": "EsFKSm2bq5ml"
      }
    },
    {
      "cell_type": "markdown",
      "source": [
        "**6.2 Training RandomForest with n_estimators = 50**"
      ],
      "metadata": {
        "id": "90srQvmIm7A2"
      }
    },
    {
      "cell_type": "markdown",
      "source": [
        "Training the model using training set"
      ],
      "metadata": {
        "id": "hACVRVMKwx8T"
      }
    },
    {
      "cell_type": "code",
      "source": [
        "rf2 = RandomForestClassifier(random_state=3, n_estimators=50).fit(X_train, y_train)"
      ],
      "metadata": {
        "id": "5861Iu9Mwnq0"
      },
      "execution_count": null,
      "outputs": []
    },
    {
      "cell_type": "markdown",
      "source": [
        "Predicting and calculating precision, recall and f1 scores"
      ],
      "metadata": {
        "id": "ej4Gb3ODnMhW"
      }
    },
    {
      "cell_type": "code",
      "source": [
        "y_train_preds2 = rf2.predict(X_train)\n",
        "y_val_preds2 = rf2.predict(X_val)\n",
        "y_test_preds2 = rf2.predict(X_test)\n",
        "\n",
        "print('Precision:')\n",
        "print(f\"Training set: {round(precision_score(y_train, y_train_preds2), 5)}\")\n",
        "print(f\"Validation set: {round(precision_score(y_val, y_val_preds2), 5)}\")\n",
        "print(f\"Testing set: {round(precision_score(y_test, y_test_preds2), 5)}\")\n",
        "\n",
        "print('')\n",
        "\n",
        "print('Recall:')\n",
        "print(f\"Training set: {round(recall_score(y_train, y_train_preds2), 5)}\")\n",
        "print(f\"Validation set: {round(recall_score(y_val, y_val_preds2), 5)}\")\n",
        "print(f\"Testing set: {round(recall_score(y_test, y_test_preds2), 5)}\")\n",
        "\n",
        "print('')\n",
        "\n",
        "print('F1 score:')\n",
        "print(f\"Training set: {round(f1_score(y_train, y_train_preds2), 5)}\")\n",
        "print(f\"Validation set: {round(f1_score(y_val, y_val_preds2), 5)}\")\n",
        "print(f\"Testing set: {round(f1_score(y_test, y_test_preds2), 5)}\")"
      ],
      "metadata": {
        "colab": {
          "base_uri": "https://localhost:8080/"
        },
        "id": "fMsA2oKfrwPB",
        "outputId": "15767750-8611-4d3f-9efb-bc5df5920d3c"
      },
      "execution_count": null,
      "outputs": [
        {
          "output_type": "stream",
          "name": "stdout",
          "text": [
            "Precision:\n",
            "Training set: 1.0\n",
            "Validation set: 0.93952\n",
            "Testing set: 0.94991\n",
            "\n",
            "Recall:\n",
            "Training set: 0.99823\n",
            "Validation set: 0.77265\n",
            "Testing set: 0.78125\n",
            "\n",
            "F1 score:\n",
            "Training set: 0.99911\n",
            "Validation set: 0.84795\n",
            "Testing set: 0.85737\n"
          ]
        }
      ]
    },
    {
      "cell_type": "markdown",
      "source": [
        "**6.3 Training RandomForest with n_estimators = 100**"
      ],
      "metadata": {
        "id": "5AjSWWNf1ha5"
      }
    },
    {
      "cell_type": "markdown",
      "source": [
        "Training the model using training set"
      ],
      "metadata": {
        "id": "T29SKeVm1mTo"
      }
    },
    {
      "cell_type": "code",
      "source": [
        "rf3 = RandomForestClassifier(random_state=3, n_estimators=100).fit(X_train, y_train)"
      ],
      "metadata": {
        "id": "XKrvAVbk1PoV"
      },
      "execution_count": null,
      "outputs": []
    },
    {
      "cell_type": "markdown",
      "source": [
        "Predicting and calculating precision, recall and f1 scores"
      ],
      "metadata": {
        "id": "NtlVcsx11ny1"
      }
    },
    {
      "cell_type": "code",
      "source": [
        "y_train_preds3 = rf3.predict(X_train)\n",
        "y_val_preds3 = rf3.predict(X_val)\n",
        "y_test_preds3 = rf3.predict(X_test)\n",
        "\n",
        "print('Precision:')\n",
        "print(f\"Training set: {round(precision_score(y_train, y_train_preds3), 5)}\")\n",
        "print(f\"Validation set: {round(precision_score(y_val, y_val_preds3), 5)}\")\n",
        "print(f\"Testing set: {round(precision_score(y_test, y_test_preds3), 5)}\")\n",
        "\n",
        "print('')\n",
        "\n",
        "print('Recall:')\n",
        "print(f\"Training set: {round(recall_score(y_train, y_train_preds3), 5)}\")\n",
        "print(f\"Validation set: {round(recall_score(y_val, y_val_preds3), 5)}\")\n",
        "print(f\"Testing set: {round(recall_score(y_test, y_test_preds3), 5)}\")\n",
        "\n",
        "print('')\n",
        "\n",
        "print('F1 score:')\n",
        "print(f\"Training set: {round(f1_score(y_train, y_train_preds3), 5)}\")\n",
        "print(f\"Validation set: {round(f1_score(y_val, y_val_preds3), 5)}\")\n",
        "print(f\"Testing set: {round(f1_score(y_test, y_test_preds3), 5)}\")"
      ],
      "metadata": {
        "colab": {
          "base_uri": "https://localhost:8080/"
        },
        "id": "XtZho9Dx1Sr2",
        "outputId": "4a720496-39fe-4e2b-913f-6b2aceab79f0"
      },
      "execution_count": null,
      "outputs": [
        {
          "output_type": "stream",
          "name": "stdout",
          "text": [
            "Precision:\n",
            "Training set: 1.0\n",
            "Validation set: 0.94027\n",
            "Testing set: 0.95462\n",
            "\n",
            "Recall:\n",
            "Training set: 0.99956\n",
            "Validation set: 0.75488\n",
            "Testing set: 0.77699\n",
            "\n",
            "F1 score:\n",
            "Training set: 0.99978\n",
            "Validation set: 0.83744\n",
            "Testing set: 0.8567\n"
          ]
        }
      ]
    },
    {
      "cell_type": "markdown",
      "source": [
        "**6.4 Training RandomForest with n_estimators = 200**"
      ],
      "metadata": {
        "id": "GvK12NlCoY7z"
      }
    },
    {
      "cell_type": "markdown",
      "source": [
        "Training the model using training set"
      ],
      "metadata": {
        "id": "Kvhq6uPjojxy"
      }
    },
    {
      "cell_type": "code",
      "source": [
        "rf4 = RandomForestClassifier(random_state=3, n_estimators=200).fit(X_train, y_train)"
      ],
      "metadata": {
        "id": "LaZuCgQ8w9cI"
      },
      "execution_count": null,
      "outputs": []
    },
    {
      "cell_type": "markdown",
      "source": [
        "Predicting and calculating precision, recall and f1 scores"
      ],
      "metadata": {
        "id": "oEXZyDRwokrt"
      }
    },
    {
      "cell_type": "code",
      "source": [
        "y_train_preds4 = rf4.predict(X_train)\n",
        "y_val_preds4 = rf4.predict(X_val)\n",
        "y_test_preds4 = rf4.predict(X_test)\n",
        "\n",
        "print('Precision:')\n",
        "print(f\"Training set: {round(precision_score(y_train, y_train_preds4), 5)}\")\n",
        "print(f\"Validation set: {round(precision_score(y_val, y_val_preds4), 5)}\")\n",
        "print(f\"Testing set: {round(precision_score(y_test, y_test_preds4), 5)}\")\n",
        "\n",
        "print('')\n",
        "\n",
        "print('Recall:')\n",
        "print(f\"Training set: {round(recall_score(y_train, y_train_preds4), 5)}\")\n",
        "print(f\"Validation set: {round(recall_score(y_val, y_val_preds4), 5)}\")\n",
        "print(f\"Testing set: {round(recall_score(y_test, y_test_preds4), 5)}\")\n",
        "\n",
        "print('')\n",
        "\n",
        "print('F1 score:')\n",
        "print(f\"Training set: {round(f1_score(y_train, y_train_preds4), 5)}\")\n",
        "print(f\"Validation set: {round(f1_score(y_val, y_val_preds4), 5)}\")\n",
        "print(f\"Testing set: {round(f1_score(y_test, y_test_preds4), 5)}\")"
      ],
      "metadata": {
        "colab": {
          "base_uri": "https://localhost:8080/"
        },
        "id": "Smz7xOsaol3b",
        "outputId": "14fa26fa-32ba-4b96-cf24-488d85a58171"
      },
      "execution_count": null,
      "outputs": [
        {
          "output_type": "stream",
          "name": "stdout",
          "text": [
            "Precision:\n",
            "Training set: 1.0\n",
            "Validation set: 0.93506\n",
            "Testing set: 0.94948\n",
            "\n",
            "Recall:\n",
            "Training set: 0.99956\n",
            "Validation set: 0.76732\n",
            "Testing set: 0.77415\n",
            "\n",
            "F1 score:\n",
            "Training set: 0.99978\n",
            "Validation set: 0.84293\n",
            "Testing set: 0.8529\n"
          ]
        }
      ]
    },
    {
      "cell_type": "markdown",
      "source": [
        "## **7. Training RandomForest with n_estimators, max_depth**"
      ],
      "metadata": {
        "id": "THnUgWhsTSlF"
      }
    },
    {
      "cell_type": "markdown",
      "source": [
        "**7.1 Training RandomForest with n_estimators = 50, max_depth = 10**"
      ],
      "metadata": {
        "id": "BGGuQStxoxhx"
      }
    },
    {
      "cell_type": "code",
      "source": [
        "np.mean([estimator.tree_.max_depth for estimator in rf2.estimators_])"
      ],
      "metadata": {
        "colab": {
          "base_uri": "https://localhost:8080/"
        },
        "id": "0YwnEqYpxWEy",
        "outputId": "1f26fe3a-cd1a-46eb-8a90-afd68556c239"
      },
      "execution_count": null,
      "outputs": [
        {
          "output_type": "execute_result",
          "data": {
            "text/plain": [
              "25.58"
            ]
          },
          "metadata": {},
          "execution_count": 39
        }
      ]
    },
    {
      "cell_type": "markdown",
      "source": [
        "Training the model using training set"
      ],
      "metadata": {
        "id": "i6tEqQ_gxBHm"
      }
    },
    {
      "cell_type": "code",
      "source": [
        "rf5 = RandomForestClassifier(random_state=3, n_estimators=50, max_depth=10).fit(X_train, y_train)"
      ],
      "metadata": {
        "id": "C95pVbFfzJ82"
      },
      "execution_count": null,
      "outputs": []
    },
    {
      "cell_type": "markdown",
      "source": [
        "Predicting and calculating precision, recall and f1 scores"
      ],
      "metadata": {
        "id": "tGqmSTy24sDT"
      }
    },
    {
      "cell_type": "code",
      "source": [
        "y_train_preds5 = rf5.predict(X_train)\n",
        "y_val_preds5 = rf5.predict(X_val)\n",
        "y_test_preds5 = rf5.predict(X_test)\n",
        "\n",
        "print('Precision:')\n",
        "print(f\"Training set: {round(precision_score(y_train, y_train_preds5), 5)}\")\n",
        "print(f\"Validation set: {round(precision_score(y_val, y_val_preds5), 5)}\")\n",
        "print(f\"Testing set: {round(precision_score(y_test, y_test_preds5), 5)}\")\n",
        "\n",
        "print('')\n",
        "\n",
        "print('Recall:')\n",
        "print(f\"Training set: {round(recall_score(y_train, y_train_preds5), 5)}\")\n",
        "print(f\"Validation set: {round(recall_score(y_val, y_val_preds5), 5)}\")\n",
        "print(f\"Testing set: {round(recall_score(y_test, y_test_preds5), 5)}\")\n",
        "\n",
        "print('')\n",
        "\n",
        "print('F1 score:')\n",
        "print(f\"Training set: {round(f1_score(y_train, y_train_preds5), 5)}\")\n",
        "print(f\"Validation set: {round(f1_score(y_val, y_val_preds5), 5)}\")\n",
        "print(f\"Testing set: {round(f1_score(y_test, y_test_preds5), 5)}\")"
      ],
      "metadata": {
        "colab": {
          "base_uri": "https://localhost:8080/"
        },
        "id": "0T-qXYWD4uE4",
        "outputId": "c39ea972-6c31-4312-b33f-4590cbe37969"
      },
      "execution_count": null,
      "outputs": [
        {
          "output_type": "stream",
          "name": "stdout",
          "text": [
            "Precision:\n",
            "Training set: 0.99332\n",
            "Validation set: 0.94947\n",
            "Testing set: 0.96488\n",
            "\n",
            "Recall:\n",
            "Training set: 0.72538\n",
            "Validation set: 0.6341\n",
            "Testing set: 0.66335\n",
            "\n",
            "F1 score:\n",
            "Training set: 0.83846\n",
            "Validation set: 0.76038\n",
            "Testing set: 0.7862\n"
          ]
        }
      ]
    },
    {
      "cell_type": "markdown",
      "source": [
        "**7.2 Training RandomForest with n_estimators = 50, max_depth = 15**"
      ],
      "metadata": {
        "id": "5Kexo0Qi46g1"
      }
    },
    {
      "cell_type": "markdown",
      "source": [
        "Training the model using training set"
      ],
      "metadata": {
        "id": "gkVPBX4P4_Gh"
      }
    },
    {
      "cell_type": "code",
      "source": [
        "rf6 = RandomForestClassifier(random_state=3, n_estimators=50, max_depth=15).fit(X_train, y_train)"
      ],
      "metadata": {
        "id": "pZW-BWh9zg-K"
      },
      "execution_count": null,
      "outputs": []
    },
    {
      "cell_type": "markdown",
      "source": [
        "Predicting and calculating precision, recall and f1 scores"
      ],
      "metadata": {
        "id": "TsCu2N9v5Bc6"
      }
    },
    {
      "cell_type": "code",
      "source": [
        "y_train_preds6 = rf6.predict(X_train)\n",
        "y_val_preds6 = rf6.predict(X_val)\n",
        "y_test_preds6 = rf6.predict(X_test)\n",
        "\n",
        "print('Precision:')\n",
        "print(f\"Training set: {round(precision_score(y_train, y_train_preds6), 5)}\")\n",
        "print(f\"Validation set: {round(precision_score(y_val, y_val_preds6), 5)}\")\n",
        "print(f\"Testing set: {round(precision_score(y_test, y_test_preds6), 5)}\")\n",
        "\n",
        "print('')\n",
        "\n",
        "print('Recall:')\n",
        "print(f\"Training set: {round(recall_score(y_train, y_train_preds6), 5)}\")\n",
        "print(f\"Validation set: {round(recall_score(y_val, y_val_preds6), 5)}\")\n",
        "print(f\"Testing set: {round(recall_score(y_test, y_test_preds6), 5)}\")\n",
        "\n",
        "print('')\n",
        "\n",
        "print('F1 score:')\n",
        "print(f\"Training set: {round(f1_score(y_train, y_train_preds6), 5)}\")\n",
        "print(f\"Validation set: {round(f1_score(y_val, y_val_preds6), 5)}\")\n",
        "print(f\"Testing set: {round(f1_score(y_test, y_test_preds6), 5)}\")"
      ],
      "metadata": {
        "colab": {
          "base_uri": "https://localhost:8080/"
        },
        "id": "eak5S1dE29jp",
        "outputId": "144894a8-5961-471d-e71e-fc192636837f"
      },
      "execution_count": null,
      "outputs": [
        {
          "output_type": "stream",
          "name": "stdout",
          "text": [
            "Precision:\n",
            "Training set: 0.99952\n",
            "Validation set: 0.94582\n",
            "Testing set: 0.95187\n",
            "\n",
            "Recall:\n",
            "Training set: 0.92103\n",
            "Validation set: 0.74423\n",
            "Testing set: 0.75852\n",
            "\n",
            "F1 score:\n",
            "Training set: 0.95867\n",
            "Validation set: 0.833\n",
            "Testing set: 0.84427\n"
          ]
        }
      ]
    },
    {
      "cell_type": "markdown",
      "source": [
        "**7.3  Training RandomForest with n_estimators = 50, max_depth = 20**"
      ],
      "metadata": {
        "id": "aC9G0y885XRE"
      }
    },
    {
      "cell_type": "markdown",
      "source": [
        "Training the model using training set"
      ],
      "metadata": {
        "id": "1SPREVMY5bDl"
      }
    },
    {
      "cell_type": "code",
      "source": [
        "rf7 = RandomForestClassifier(random_state=3, n_estimators=50, max_depth=20).fit(X_train, y_train)"
      ],
      "metadata": {
        "id": "08x_qqI10XQh"
      },
      "execution_count": null,
      "outputs": []
    },
    {
      "cell_type": "markdown",
      "source": [
        "Predicting and calculating precision, recall and f1 scores"
      ],
      "metadata": {
        "id": "w4ptbv8a5dxN"
      }
    },
    {
      "cell_type": "code",
      "source": [
        "y_train_preds7 = rf7.predict(X_train)\n",
        "y_val_preds7 = rf7.predict(X_val)\n",
        "y_test_preds7 = rf7.predict(X_test)\n",
        "\n",
        "print('Precision:')\n",
        "print(f\"Training set: {round(precision_score(y_train, y_train_preds7), 5)}\")\n",
        "print(f\"Validation set: {round(precision_score(y_val, y_val_preds7), 5)}\")\n",
        "print(f\"Testing set: {round(precision_score(y_test, y_test_preds7), 5)}\")\n",
        "\n",
        "print('')\n",
        "\n",
        "print('Recall:')\n",
        "print(f\"Training set: {round(recall_score(y_train, y_train_preds7), 5)}\")\n",
        "print(f\"Validation set: {round(recall_score(y_val, y_val_preds7), 5)}\")\n",
        "print(f\"Testing set: {round(recall_score(y_test, y_test_preds7), 5)}\")\n",
        "\n",
        "print('')\n",
        "\n",
        "print('F1 score:')\n",
        "print(f\"Training set: {round(f1_score(y_train, y_train_preds7), 5)}\")\n",
        "print(f\"Validation set: {round(f1_score(y_val, y_val_preds7), 5)}\")\n",
        "print(f\"Testing set: {round(f1_score(y_test, y_test_preds7), 5)}\")"
      ],
      "metadata": {
        "colab": {
          "base_uri": "https://localhost:8080/"
        },
        "id": "2ouGy9xP5gqm",
        "outputId": "d565dc8c-0471-41e4-a15a-d453a0c9bfd9"
      },
      "execution_count": null,
      "outputs": [
        {
          "output_type": "stream",
          "name": "stdout",
          "text": [
            "Precision:\n",
            "Training set: 1.0\n",
            "Validation set: 0.94066\n",
            "Testing set: 0.95423\n",
            "\n",
            "Recall:\n",
            "Training set: 0.98492\n",
            "Validation set: 0.76021\n",
            "Testing set: 0.76989\n",
            "\n",
            "F1 score:\n",
            "Training set: 0.9924\n",
            "Validation set: 0.84086\n",
            "Testing set: 0.8522\n"
          ]
        }
      ]
    },
    {
      "cell_type": "markdown",
      "source": [
        "## **8. Training RandomForest with n_estimators, max_depth, min_samples_leaf**"
      ],
      "metadata": {
        "id": "sxlnG32TTbV4"
      }
    },
    {
      "cell_type": "markdown",
      "source": [
        "**8.1 Training RandomForest with n_estimators = 50, max_depth = 15, min_samples_leaf = 2**"
      ],
      "metadata": {
        "id": "Ll-IdprT02tD"
      }
    },
    {
      "cell_type": "markdown",
      "source": [
        "Training the model using training set"
      ],
      "metadata": {
        "id": "dWrEr5uL6ARl"
      }
    },
    {
      "cell_type": "code",
      "source": [
        "rf8 = RandomForestClassifier(random_state=3, n_estimators=50, max_depth=15, min_samples_leaf=2).fit(X_train, y_train)"
      ],
      "metadata": {
        "id": "z3HeGVp70oxW"
      },
      "execution_count": null,
      "outputs": []
    },
    {
      "cell_type": "markdown",
      "source": [
        "Predicting and calculating precision, recall and f1 scores"
      ],
      "metadata": {
        "id": "G_923V466Drp"
      }
    },
    {
      "cell_type": "code",
      "source": [
        "y_train_preds8 = rf8.predict(X_train)\n",
        "y_val_preds8 = rf8.predict(X_val)\n",
        "y_test_preds8 = rf8.predict(X_test)\n",
        "\n",
        "print('Precision:')\n",
        "print(f\"Training set: {round(precision_score(y_train, y_train_preds8), 5)}\")\n",
        "print(f\"Validation set: {round(precision_score(y_val, y_val_preds8), 5)}\")\n",
        "print(f\"Testing set: {round(precision_score(y_test, y_test_preds8), 5)}\")\n",
        "\n",
        "print('')\n",
        "\n",
        "print('Recall:')\n",
        "print(f\"Training set: {round(recall_score(y_train, y_train_preds8), 5)}\")\n",
        "print(f\"Validation set: {round(recall_score(y_val, y_val_preds8), 5)}\")\n",
        "print(f\"Testing set: {round(recall_score(y_test, y_test_preds8), 5)}\")\n",
        "\n",
        "print('')\n",
        "\n",
        "print('F1 score:')\n",
        "print(f\"Training set: {round(f1_score(y_train, y_train_preds8), 5)}\")\n",
        "print(f\"Validation set: {round(f1_score(y_val, y_val_preds8), 5)}\")\n",
        "print(f\"Testing set: {round(f1_score(y_test, y_test_preds8), 5)}\")"
      ],
      "metadata": {
        "colab": {
          "base_uri": "https://localhost:8080/"
        },
        "id": "CbTGUpV56Gbd",
        "outputId": "142d8dee-e3b4-48ff-8696-a93fb72ed4e7"
      },
      "execution_count": null,
      "outputs": [
        {
          "output_type": "stream",
          "name": "stdout",
          "text": [
            "Precision:\n",
            "Training set: 0.99493\n",
            "Validation set: 0.93694\n",
            "Testing set: 0.95324\n",
            "\n",
            "Recall:\n",
            "Training set: 0.87001\n",
            "Validation set: 0.7389\n",
            "Testing set: 0.75284\n",
            "\n",
            "F1 score:\n",
            "Training set: 0.92828\n",
            "Validation set: 0.82622\n",
            "Testing set: 0.84127\n"
          ]
        }
      ]
    },
    {
      "cell_type": "markdown",
      "source": [
        "**8.2 Training RandomForest with n_estimators = 50, max_depth = 15, min_samples_leaf = 5**"
      ],
      "metadata": {
        "id": "S6rfRSz66QjO"
      }
    },
    {
      "cell_type": "markdown",
      "source": [
        "Training the model using training set"
      ],
      "metadata": {
        "id": "SYHz7X5k6W3B"
      }
    },
    {
      "cell_type": "code",
      "source": [
        "rf9 = RandomForestClassifier(random_state=3, n_estimators=50, max_depth=15, min_samples_leaf=5).fit(X_train, y_train)"
      ],
      "metadata": {
        "id": "Jk0KkykF1a4s"
      },
      "execution_count": null,
      "outputs": []
    },
    {
      "cell_type": "markdown",
      "source": [
        "Predicting and calculating precision, recall and f1 scores"
      ],
      "metadata": {
        "id": "YkWyC9qF6ZAN"
      }
    },
    {
      "cell_type": "code",
      "source": [
        "y_train_preds9 = rf9.predict(X_train)\n",
        "y_val_preds9 = rf9.predict(X_val)\n",
        "y_test_preds9 = rf9.predict(X_test)\n",
        "\n",
        "print('Precision:')\n",
        "print(f\"Training set: {round(precision_score(y_train, y_train_preds9), 5)}\")\n",
        "print(f\"Validation set: {round(precision_score(y_val, y_val_preds9), 5)}\")\n",
        "print(f\"Testing set: {round(precision_score(y_test, y_test_preds9), 5)}\")\n",
        "\n",
        "print('')\n",
        "\n",
        "print('Recall:')\n",
        "print(f\"Training set: {round(recall_score(y_train, y_train_preds9), 5)}\")\n",
        "print(f\"Validation set: {round(recall_score(y_val, y_val_preds9), 5)}\")\n",
        "print(f\"Testing set: {round(recall_score(y_test, y_test_preds9), 5)}\")\n",
        "\n",
        "print('')\n",
        "\n",
        "print('F1 score:')\n",
        "print(f\"Training set: {round(f1_score(y_train, y_train_preds9), 5)}\")\n",
        "print(f\"Validation set: {round(f1_score(y_val, y_val_preds9), 5)}\")\n",
        "print(f\"Testing set: {round(f1_score(y_test, y_test_preds9), 5)}\")"
      ],
      "metadata": {
        "colab": {
          "base_uri": "https://localhost:8080/"
        },
        "id": "y6j5rqUf6a3P",
        "outputId": "068955ba-6050-443f-84a2-0daba4485cb1"
      },
      "execution_count": null,
      "outputs": [
        {
          "output_type": "stream",
          "name": "stdout",
          "text": [
            "Precision:\n",
            "Training set: 0.97772\n",
            "Validation set: 0.93587\n",
            "Testing set: 0.95265\n",
            "\n",
            "Recall:\n",
            "Training set: 0.79814\n",
            "Validation set: 0.69982\n",
            "Testing set: 0.71449\n",
            "\n",
            "F1 score:\n",
            "Training set: 0.87885\n",
            "Validation set: 0.80081\n",
            "Testing set: 0.81656\n"
          ]
        }
      ]
    },
    {
      "cell_type": "markdown",
      "source": [
        "**8.3 Training RandomForest with n_estimators = 50, max_depth = 15, min_samples_leaf = 10**"
      ],
      "metadata": {
        "id": "eqiw3N0F6mye"
      }
    },
    {
      "cell_type": "markdown",
      "source": [
        "Training the model using training set"
      ],
      "metadata": {
        "id": "D1r82bOR6rQH"
      }
    },
    {
      "cell_type": "code",
      "source": [
        "rf10 = RandomForestClassifier(random_state=3, n_estimators=50, max_depth=15, min_samples_leaf=10).fit(X_train, y_train)"
      ],
      "metadata": {
        "id": "3DvTyOc41vJ4"
      },
      "execution_count": null,
      "outputs": []
    },
    {
      "cell_type": "markdown",
      "source": [
        "Predicting and calculating precision, recall and f1 scores"
      ],
      "metadata": {
        "id": "DtHCPY2-6t8h"
      }
    },
    {
      "cell_type": "code",
      "source": [
        "y_train_preds10 = rf10.predict(X_train)\n",
        "y_val_preds10 = rf10.predict(X_val)\n",
        "y_test_preds10 = rf10.predict(X_test)\n",
        "\n",
        "print('Precision:')\n",
        "print(f\"Training set: {round(precision_score(y_train, y_train_preds10), 5)}\")\n",
        "print(f\"Validation set: {round(precision_score(y_val, y_val_preds10), 5)}\")\n",
        "print(f\"Testing set: {round(precision_score(y_test, y_test_preds10), 5)}\")\n",
        "\n",
        "print('')\n",
        "\n",
        "print('Recall:')\n",
        "print(f\"Training set: {round(recall_score(y_train, y_train_preds10), 5)}\")\n",
        "print(f\"Validation set: {round(recall_score(y_val, y_val_preds10), 5)}\")\n",
        "print(f\"Testing set: {round(recall_score(y_test, y_test_preds10), 5)}\")\n",
        "\n",
        "print('')\n",
        "\n",
        "print('F1 score:')\n",
        "print(f\"Training set: {round(f1_score(y_train, y_train_preds10), 5)}\")\n",
        "print(f\"Validation set: {round(f1_score(y_val, y_val_preds10), 5)}\")\n",
        "print(f\"Testing set: {round(f1_score(y_test, y_test_preds10), 5)}\")"
      ],
      "metadata": {
        "colab": {
          "base_uri": "https://localhost:8080/"
        },
        "id": "KYyzJuIj6vYQ",
        "outputId": "8572ff21-4bff-4366-bd09-24c8240d19a3"
      },
      "execution_count": null,
      "outputs": [
        {
          "output_type": "stream",
          "name": "stdout",
          "text": [
            "Precision:\n",
            "Training set: 0.96657\n",
            "Validation set: 0.93622\n",
            "Testing set: 0.956\n",
            "\n",
            "Recall:\n",
            "Training set: 0.73114\n",
            "Validation set: 0.65187\n",
            "Testing set: 0.67898\n",
            "\n",
            "F1 score:\n",
            "Training set: 0.83253\n",
            "Validation set: 0.76859\n",
            "Testing set: 0.79402\n"
          ]
        }
      ]
    },
    {
      "cell_type": "markdown",
      "source": [
        "**8.4 Training RandomForest with n_estimators = 50, max_depth = 15, min_samples_leaf = 15**"
      ],
      "metadata": {
        "id": "UUHYbqCxthTP"
      }
    },
    {
      "cell_type": "markdown",
      "source": [
        "Training the model using training set"
      ],
      "metadata": {
        "id": "kHfWwBe9tjty"
      }
    },
    {
      "cell_type": "code",
      "source": [
        "rf11 = RandomForestClassifier(random_state=3, n_estimators=50, max_depth=15, min_samples_leaf=15).fit(X_train, y_train)"
      ],
      "metadata": {
        "id": "louyl1XftQpx"
      },
      "execution_count": null,
      "outputs": []
    },
    {
      "cell_type": "markdown",
      "source": [
        "Predicting and calculating precision, recall and f1 scores"
      ],
      "metadata": {
        "id": "9ckQ79Yatln3"
      }
    },
    {
      "cell_type": "code",
      "source": [
        "y_train_preds11 = rf11.predict(X_train)\n",
        "y_val_preds11 = rf11.predict(X_val)\n",
        "y_test_preds11 = rf11.predict(X_test)\n",
        "\n",
        "print('Precision:')\n",
        "print(f\"Training set: {round(precision_score(y_train, y_train_preds11), 5)}\")\n",
        "print(f\"Validation set: {round(precision_score(y_val, y_val_preds11), 5)}\")\n",
        "print(f\"Testing set: {round(precision_score(y_test, y_test_preds11), 5)}\")\n",
        "\n",
        "print('')\n",
        "\n",
        "print('Recall:')\n",
        "print(f\"Training set: {round(recall_score(y_train, y_train_preds11), 5)}\")\n",
        "print(f\"Validation set: {round(recall_score(y_val, y_val_preds11), 5)}\")\n",
        "print(f\"Testing set: {round(recall_score(y_test, y_test_preds11), 5)}\")\n",
        "\n",
        "print('')\n",
        "\n",
        "print('F1 score:')\n",
        "print(f\"Training set: {round(f1_score(y_train, y_train_preds11), 5)}\")\n",
        "print(f\"Validation set: {round(f1_score(y_val, y_val_preds11), 5)}\")\n",
        "print(f\"Testing set: {round(f1_score(y_test, y_test_preds11), 5)}\")"
      ],
      "metadata": {
        "colab": {
          "base_uri": "https://localhost:8080/"
        },
        "id": "fRjP0AfztTJW",
        "outputId": "f388d706-b352-4001-e69c-487a530bca67"
      },
      "execution_count": null,
      "outputs": [
        {
          "output_type": "stream",
          "name": "stdout",
          "text": [
            "Precision:\n",
            "Training set: 0.96495\n",
            "Validation set: 0.93611\n",
            "Testing set: 0.96026\n",
            "\n",
            "Recall:\n",
            "Training set: 0.67169\n",
            "Validation set: 0.59858\n",
            "Testing set: 0.6179\n",
            "\n",
            "F1 score:\n",
            "Training set: 0.79205\n",
            "Validation set: 0.73023\n",
            "Testing set: 0.75194\n"
          ]
        }
      ]
    },
    {
      "cell_type": "markdown",
      "source": [
        "## **9. Training RandomForest with n_estimators, max_depth, min_samples_leaf, max_features**"
      ],
      "metadata": {
        "id": "7DMNem6OTpm0"
      }
    },
    {
      "cell_type": "markdown",
      "source": [
        "**9.1 Training RandomForest with n_estimators = 50, max_depth = 15, min_samples_leaf = 5, max_features = 2**"
      ],
      "metadata": {
        "id": "cxSDeH8t2D6f"
      }
    },
    {
      "cell_type": "markdown",
      "source": [
        "Training the model using training set"
      ],
      "metadata": {
        "id": "F8LZK8F97JdO"
      }
    },
    {
      "cell_type": "code",
      "source": [
        "rf12 = RandomForestClassifier(random_state=3, n_estimators=50, max_depth=15, min_samples_leaf=5, max_features=2).fit(X_train, y_train)"
      ],
      "metadata": {
        "id": "U7PgARVX2AUh"
      },
      "execution_count": null,
      "outputs": []
    },
    {
      "cell_type": "markdown",
      "source": [
        "Predicting and calculating precision, recall and f1 scores"
      ],
      "metadata": {
        "id": "vxXg1bks7L5W"
      }
    },
    {
      "cell_type": "code",
      "source": [
        "y_train_preds12 = rf12.predict(X_train)\n",
        "y_val_preds12 = rf12.predict(X_val)\n",
        "y_test_preds12 = rf12.predict(X_test)\n",
        "\n",
        "print('Precision:')\n",
        "print(f\"Training set: {round(precision_score(y_train, y_train_preds12), 5)}\")\n",
        "print(f\"Validation set: {round(precision_score(y_val, y_val_preds12), 5)}\")\n",
        "print(f\"Testing set: {round(precision_score(y_test, y_test_preds12), 5)}\")\n",
        "\n",
        "print('')\n",
        "\n",
        "print('Recall:')\n",
        "print(f\"Training set: {round(recall_score(y_train, y_train_preds12), 5)}\")\n",
        "print(f\"Validation set: {round(recall_score(y_val, y_val_preds12), 5)}\")\n",
        "print(f\"Testing set: {round(recall_score(y_test, y_test_preds12), 5)}\")\n",
        "\n",
        "print('')\n",
        "\n",
        "print('F1 score:')\n",
        "print(f\"Training set: {round(f1_score(y_train, y_train_preds12), 5)}\")\n",
        "print(f\"Validation set: {round(f1_score(y_val, y_val_preds12), 5)}\")\n",
        "print(f\"Testing set: {round(f1_score(y_test, y_test_preds12), 5)}\")"
      ],
      "metadata": {
        "colab": {
          "base_uri": "https://localhost:8080/"
        },
        "id": "5VX7FVeX7R1x",
        "outputId": "bc2bc084-14d5-44cf-e66c-077be91cf8c4"
      },
      "execution_count": null,
      "outputs": [
        {
          "output_type": "stream",
          "name": "stdout",
          "text": [
            "Precision:\n",
            "Training set: 0.98196\n",
            "Validation set: 0.94149\n",
            "Testing set: 0.9625\n",
            "\n",
            "Recall:\n",
            "Training set: 0.74845\n",
            "Validation set: 0.62877\n",
            "Testing set: 0.65625\n",
            "\n",
            "F1 score:\n",
            "Training set: 0.84945\n",
            "Validation set: 0.75399\n",
            "Testing set: 0.78041\n"
          ]
        }
      ]
    },
    {
      "cell_type": "markdown",
      "source": [
        "**9.2 Training RandomForest with n_estimators = 50, max_depth = 15, min_samples_leaf = 5, max_features = 5**"
      ],
      "metadata": {
        "id": "tSf1bCtI7YgS"
      }
    },
    {
      "cell_type": "markdown",
      "source": [
        "Training the model using training set"
      ],
      "metadata": {
        "id": "5WRRocwa7d4c"
      }
    },
    {
      "cell_type": "code",
      "source": [
        "rf13 = RandomForestClassifier(random_state=3, n_estimators=50, max_depth=15, min_samples_leaf=5, max_features=5).fit(X_train, y_train)"
      ],
      "metadata": {
        "id": "b0-O_YBi2k_c"
      },
      "execution_count": null,
      "outputs": []
    },
    {
      "cell_type": "markdown",
      "source": [
        "Predicting and calculating precision, recall and f1 scores"
      ],
      "metadata": {
        "id": "GpTq-sPj7gPK"
      }
    },
    {
      "cell_type": "code",
      "source": [
        "y_train_preds13 = rf13.predict(X_train)\n",
        "y_val_preds13 = rf13.predict(X_val)\n",
        "y_test_preds13 = rf13.predict(X_test)\n",
        "\n",
        "print('Precision:')\n",
        "print(f\"Training set: {round(precision_score(y_train, y_train_preds13), 5)}\")\n",
        "print(f\"Validation set: {round(precision_score(y_val, y_val_preds13), 5)}\")\n",
        "print(f\"Testing set: {round(precision_score(y_test, y_test_preds13), 5)}\")\n",
        "\n",
        "print('')\n",
        "\n",
        "print('Recall:')\n",
        "print(f\"Training set: {round(recall_score(y_train, y_train_preds13), 5)}\")\n",
        "print(f\"Validation set: {round(recall_score(y_val, y_val_preds13), 5)}\")\n",
        "print(f\"Testing set: {round(recall_score(y_test, y_test_preds13), 5)}\")\n",
        "\n",
        "print('')\n",
        "\n",
        "print('F1 score:')\n",
        "print(f\"Training set: {round(f1_score(y_train, y_train_preds13), 5)}\")\n",
        "print(f\"Validation set: {round(f1_score(y_val, y_val_preds13), 5)}\")\n",
        "print(f\"Testing set: {round(f1_score(y_test, y_test_preds13), 5)}\")"
      ],
      "metadata": {
        "colab": {
          "base_uri": "https://localhost:8080/"
        },
        "id": "xf9r5Rxy7iwt",
        "outputId": "efde6e85-02ba-456d-cf5c-67a32603475c"
      },
      "execution_count": null,
      "outputs": [
        {
          "output_type": "stream",
          "name": "stdout",
          "text": [
            "Precision:\n",
            "Training set: 0.97548\n",
            "Validation set: 0.92308\n",
            "Testing set: 0.94406\n",
            "\n",
            "Recall:\n",
            "Training set: 0.82964\n",
            "Validation set: 0.746\n",
            "Testing set: 0.76705\n",
            "\n",
            "F1 score:\n",
            "Training set: 0.89667\n",
            "Validation set: 0.82515\n",
            "Testing set: 0.84639\n"
          ]
        }
      ]
    },
    {
      "cell_type": "markdown",
      "source": [
        "**9.3 Training RandomForest with n_estimators = 50, max_depth = 15, min_samples_leaf = 5, max_features = 10**"
      ],
      "metadata": {
        "id": "_BWlIGtv724h"
      }
    },
    {
      "cell_type": "markdown",
      "source": [
        "Training the model using training set"
      ],
      "metadata": {
        "id": "wwF9xF9-79-8"
      }
    },
    {
      "cell_type": "code",
      "source": [
        "rf14 = RandomForestClassifier(random_state=3, n_estimators=50, max_depth=15, min_samples_leaf=5, max_features=10).fit(X_train, y_train)"
      ],
      "metadata": {
        "id": "J5_rMdNr21LZ"
      },
      "execution_count": null,
      "outputs": []
    },
    {
      "cell_type": "markdown",
      "source": [
        "Predicting and calculating precision, recall and f1 scores"
      ],
      "metadata": {
        "id": "FpvM6X-S7-y7"
      }
    },
    {
      "cell_type": "code",
      "source": [
        "y_train_preds14 = rf14.predict(X_train)\n",
        "y_val_preds14 = rf14.predict(X_val)\n",
        "y_test_preds14 = rf14.predict(X_test)\n",
        "\n",
        "print('Precision:')\n",
        "print(f\"Training set: {round(precision_score(y_train, y_train_preds14), 5)}\")\n",
        "print(f\"Validation set: {round(precision_score(y_val, y_val_preds14), 5)}\")\n",
        "print(f\"Testing set: {round(precision_score(y_test, y_test_preds14), 5)}\")\n",
        "\n",
        "print('')\n",
        "\n",
        "print('Recall:')\n",
        "print(f\"Training set: {round(recall_score(y_train, y_train_preds14), 5)}\")\n",
        "print(f\"Validation set: {round(recall_score(y_val, y_val_preds14), 5)}\")\n",
        "print(f\"Testing set: {round(recall_score(y_test, y_test_preds14), 5)}\")\n",
        "\n",
        "print('')\n",
        "\n",
        "print('F1 score:')\n",
        "print(f\"Training set: {round(f1_score(y_train, y_train_preds14), 5)}\")\n",
        "print(f\"Validation set: {round(f1_score(y_val, y_val_preds14), 5)}\")\n",
        "print(f\"Testing set: {round(f1_score(y_test, y_test_preds14), 5)}\")"
      ],
      "metadata": {
        "colab": {
          "base_uri": "https://localhost:8080/"
        },
        "id": "fnB1IYct8Abx",
        "outputId": "5fbe682b-00a6-47c9-a980-37424314dbc7"
      },
      "execution_count": null,
      "outputs": [
        {
          "output_type": "stream",
          "name": "stdout",
          "text": [
            "Precision:\n",
            "Training set: 0.96452\n",
            "Validation set: 0.90132\n",
            "Testing set: 0.91724\n",
            "\n",
            "Recall:\n",
            "Training set: 0.84428\n",
            "Validation set: 0.73002\n",
            "Testing set: 0.75568\n",
            "\n",
            "F1 score:\n",
            "Training set: 0.9004\n",
            "Validation set: 0.80667\n",
            "Testing set: 0.82866\n"
          ]
        }
      ]
    },
    {
      "cell_type": "markdown",
      "source": [
        "**9.4 Training RandomForest with n_estimators = 50, max_depth = 15, min_samples_leaf = 5, max_features = None**"
      ],
      "metadata": {
        "id": "ptHARYb5-HOM"
      }
    },
    {
      "cell_type": "markdown",
      "source": [
        "Training the model using training set"
      ],
      "metadata": {
        "id": "3bTgQ4Om-Mra"
      }
    },
    {
      "cell_type": "code",
      "source": [
        "rf15 = RandomForestClassifier(random_state=3, n_estimators=50, max_depth=15, min_samples_leaf=5, max_features=None).fit(X_train, y_train)"
      ],
      "metadata": {
        "id": "wSwhpuHo03X4"
      },
      "execution_count": null,
      "outputs": []
    },
    {
      "cell_type": "markdown",
      "source": [
        "Predicting and calculating precision, recall and f1 scores"
      ],
      "metadata": {
        "id": "NS5FKWxu-ONT"
      }
    },
    {
      "cell_type": "code",
      "source": [
        "y_train_preds15 = rf15.predict(X_train)\n",
        "y_val_preds15 = rf15.predict(X_val)\n",
        "y_test_preds15 = rf15.predict(X_test)\n",
        "\n",
        "print('Precision:')\n",
        "print(f\"Training set: {round(precision_score(y_train, y_train_preds15), 5)}\")\n",
        "print(f\"Validation set: {round(precision_score(y_val, y_val_preds15), 5)}\")\n",
        "print(f\"Testing set: {round(precision_score(y_test, y_test_preds15), 5)}\")\n",
        "\n",
        "print('')\n",
        "\n",
        "print('Recall:')\n",
        "print(f\"Training set: {round(recall_score(y_train, y_train_preds15), 5)}\")\n",
        "print(f\"Validation set: {round(recall_score(y_val, y_val_preds15), 5)}\")\n",
        "print(f\"Testing set: {round(recall_score(y_test, y_test_preds15), 5)}\")\n",
        "\n",
        "print('')\n",
        "\n",
        "print('F1 score:')\n",
        "print(f\"Training set: {round(f1_score(y_train, y_train_preds15), 5)}\")\n",
        "print(f\"Validation set: {round(f1_score(y_val, y_val_preds15), 5)}\")\n",
        "print(f\"Testing set: {round(f1_score(y_test, y_test_preds15), 5)}\")"
      ],
      "metadata": {
        "colab": {
          "base_uri": "https://localhost:8080/"
        },
        "id": "IxMAwm5G05pn",
        "outputId": "991d60fb-e4d3-4404-ddde-aacb5f1d4d42"
      },
      "execution_count": null,
      "outputs": [
        {
          "output_type": "stream",
          "name": "stdout",
          "text": [
            "Precision:\n",
            "Training set: 0.96255\n",
            "Validation set: 0.90625\n",
            "Testing set: 0.91724\n",
            "\n",
            "Recall:\n",
            "Training set: 0.84383\n",
            "Validation set: 0.72114\n",
            "Testing set: 0.75568\n",
            "\n",
            "F1 score:\n",
            "Training set: 0.89929\n",
            "Validation set: 0.80317\n",
            "Testing set: 0.82866\n"
          ]
        }
      ]
    },
    {
      "cell_type": "markdown",
      "source": [
        "## **10. RandomForest with automated hyperparameter tuning (Random Search)**"
      ],
      "metadata": {
        "id": "BQgYQSirBVXw"
      }
    },
    {
      "cell_type": "markdown",
      "source": [
        "**10.1 Importing RandomizedSearchCV, StratifiedKFold and randint from scipy**"
      ],
      "metadata": {
        "id": "WT0-syynEXS3"
      }
    },
    {
      "cell_type": "code",
      "source": [
        "from sklearn.model_selection import RandomizedSearchCV, StratifiedKFold\n",
        "from scipy.stats import randint"
      ],
      "metadata": {
        "id": "uEX7ghATBThw"
      },
      "execution_count": null,
      "outputs": []
    },
    {
      "cell_type": "markdown",
      "source": [
        "**10.2 Setting up random hyperparameters values**"
      ],
      "metadata": {
        "id": "sKa99vMZEbeN"
      }
    },
    {
      "cell_type": "code",
      "source": [
        "hyperparams_dist = {\n",
        "    'n_estimators': randint(10,100),\n",
        "    'max_depth': randint(10, 25),\n",
        "    'min_samples_leaf': randint(2, 15),\n",
        "    'max_features': randint(2, 10)\n",
        "}"
      ],
      "metadata": {
        "id": "lRzyITdKChWs"
      },
      "execution_count": null,
      "outputs": []
    },
    {
      "cell_type": "markdown",
      "source": [
        "**10.3 Instantiating RandomForest**"
      ],
      "metadata": {
        "id": "sr0n95tS3d8v"
      }
    },
    {
      "cell_type": "code",
      "source": [
        "rf = RandomForestClassifier(random_state=3)"
      ],
      "metadata": {
        "id": "nF3gp6Nj3hvY"
      },
      "execution_count": null,
      "outputs": []
    },
    {
      "cell_type": "markdown",
      "source": [
        "**10.4 Training the model using training set**"
      ],
      "metadata": {
        "id": "s0LgIIjDF5Ij"
      }
    },
    {
      "cell_type": "code",
      "source": [
        "skf = StratifiedKFold(n_splits=5)\n",
        "random_search_rf = RandomizedSearchCV(rf, hyperparams_dist, random_state=3, cv=skf, verbose=1)\n",
        "random_search_rf.fit(X_train, y_train)"
      ],
      "metadata": {
        "id": "88E0skwlCzrQ",
        "colab": {
          "base_uri": "https://localhost:8080/",
          "height": 135
        },
        "outputId": "849a7831-58df-48a6-fe56-5589f20370ee"
      },
      "execution_count": null,
      "outputs": [
        {
          "output_type": "stream",
          "name": "stdout",
          "text": [
            "Fitting 5 folds for each of 10 candidates, totalling 50 fits\n"
          ]
        },
        {
          "output_type": "execute_result",
          "data": {
            "text/plain": [
              "RandomizedSearchCV(cv=StratifiedKFold(n_splits=5, random_state=None, shuffle=False),\n",
              "                   estimator=RandomForestClassifier(random_state=3),\n",
              "                   param_distributions={'max_depth': <scipy.stats._distn_infrastructure.rv_discrete_frozen object at 0x7fb505244040>,\n",
              "                                        'max_features': <scipy.stats._distn_infrastructure.rv_discrete_frozen object at 0x7fb505244100>,\n",
              "                                        'min_samples_leaf': <scipy.stats._distn_infrastructure.rv_discrete_frozen object at 0x7fb505246b60>,\n",
              "                                        'n_estimators': <scipy.stats._distn_infrastructure.rv_discrete_frozen object at 0x7fb505244df0>},\n",
              "                   random_state=3, verbose=1)"
            ],
            "text/html": [
              "<style>#sk-container-id-1 {color: black;background-color: white;}#sk-container-id-1 pre{padding: 0;}#sk-container-id-1 div.sk-toggleable {background-color: white;}#sk-container-id-1 label.sk-toggleable__label {cursor: pointer;display: block;width: 100%;margin-bottom: 0;padding: 0.3em;box-sizing: border-box;text-align: center;}#sk-container-id-1 label.sk-toggleable__label-arrow:before {content: \"▸\";float: left;margin-right: 0.25em;color: #696969;}#sk-container-id-1 label.sk-toggleable__label-arrow:hover:before {color: black;}#sk-container-id-1 div.sk-estimator:hover label.sk-toggleable__label-arrow:before {color: black;}#sk-container-id-1 div.sk-toggleable__content {max-height: 0;max-width: 0;overflow: hidden;text-align: left;background-color: #f0f8ff;}#sk-container-id-1 div.sk-toggleable__content pre {margin: 0.2em;color: black;border-radius: 0.25em;background-color: #f0f8ff;}#sk-container-id-1 input.sk-toggleable__control:checked~div.sk-toggleable__content {max-height: 200px;max-width: 100%;overflow: auto;}#sk-container-id-1 input.sk-toggleable__control:checked~label.sk-toggleable__label-arrow:before {content: \"▾\";}#sk-container-id-1 div.sk-estimator input.sk-toggleable__control:checked~label.sk-toggleable__label {background-color: #d4ebff;}#sk-container-id-1 div.sk-label input.sk-toggleable__control:checked~label.sk-toggleable__label {background-color: #d4ebff;}#sk-container-id-1 input.sk-hidden--visually {border: 0;clip: rect(1px 1px 1px 1px);clip: rect(1px, 1px, 1px, 1px);height: 1px;margin: -1px;overflow: hidden;padding: 0;position: absolute;width: 1px;}#sk-container-id-1 div.sk-estimator {font-family: monospace;background-color: #f0f8ff;border: 1px dotted black;border-radius: 0.25em;box-sizing: border-box;margin-bottom: 0.5em;}#sk-container-id-1 div.sk-estimator:hover {background-color: #d4ebff;}#sk-container-id-1 div.sk-parallel-item::after {content: \"\";width: 100%;border-bottom: 1px solid gray;flex-grow: 1;}#sk-container-id-1 div.sk-label:hover label.sk-toggleable__label {background-color: #d4ebff;}#sk-container-id-1 div.sk-serial::before {content: \"\";position: absolute;border-left: 1px solid gray;box-sizing: border-box;top: 0;bottom: 0;left: 50%;z-index: 0;}#sk-container-id-1 div.sk-serial {display: flex;flex-direction: column;align-items: center;background-color: white;padding-right: 0.2em;padding-left: 0.2em;position: relative;}#sk-container-id-1 div.sk-item {position: relative;z-index: 1;}#sk-container-id-1 div.sk-parallel {display: flex;align-items: stretch;justify-content: center;background-color: white;position: relative;}#sk-container-id-1 div.sk-item::before, #sk-container-id-1 div.sk-parallel-item::before {content: \"\";position: absolute;border-left: 1px solid gray;box-sizing: border-box;top: 0;bottom: 0;left: 50%;z-index: -1;}#sk-container-id-1 div.sk-parallel-item {display: flex;flex-direction: column;z-index: 1;position: relative;background-color: white;}#sk-container-id-1 div.sk-parallel-item:first-child::after {align-self: flex-end;width: 50%;}#sk-container-id-1 div.sk-parallel-item:last-child::after {align-self: flex-start;width: 50%;}#sk-container-id-1 div.sk-parallel-item:only-child::after {width: 0;}#sk-container-id-1 div.sk-dashed-wrapped {border: 1px dashed gray;margin: 0 0.4em 0.5em 0.4em;box-sizing: border-box;padding-bottom: 0.4em;background-color: white;}#sk-container-id-1 div.sk-label label {font-family: monospace;font-weight: bold;display: inline-block;line-height: 1.2em;}#sk-container-id-1 div.sk-label-container {text-align: center;}#sk-container-id-1 div.sk-container {/* jupyter's `normalize.less` sets `[hidden] { display: none; }` but bootstrap.min.css set `[hidden] { display: none !important; }` so we also need the `!important` here to be able to override the default hidden behavior on the sphinx rendered scikit-learn.org. See: https://github.com/scikit-learn/scikit-learn/issues/21755 */display: inline-block !important;position: relative;}#sk-container-id-1 div.sk-text-repr-fallback {display: none;}</style><div id=\"sk-container-id-1\" class=\"sk-top-container\"><div class=\"sk-text-repr-fallback\"><pre>RandomizedSearchCV(cv=StratifiedKFold(n_splits=5, random_state=None, shuffle=False),\n",
              "                   estimator=RandomForestClassifier(random_state=3),\n",
              "                   param_distributions={&#x27;max_depth&#x27;: &lt;scipy.stats._distn_infrastructure.rv_discrete_frozen object at 0x7fb505244040&gt;,\n",
              "                                        &#x27;max_features&#x27;: &lt;scipy.stats._distn_infrastructure.rv_discrete_frozen object at 0x7fb505244100&gt;,\n",
              "                                        &#x27;min_samples_leaf&#x27;: &lt;scipy.stats._distn_infrastructure.rv_discrete_frozen object at 0x7fb505246b60&gt;,\n",
              "                                        &#x27;n_estimators&#x27;: &lt;scipy.stats._distn_infrastructure.rv_discrete_frozen object at 0x7fb505244df0&gt;},\n",
              "                   random_state=3, verbose=1)</pre><b>In a Jupyter environment, please rerun this cell to show the HTML representation or trust the notebook. <br />On GitHub, the HTML representation is unable to render, please try loading this page with nbviewer.org.</b></div><div class=\"sk-container\" hidden><div class=\"sk-item sk-dashed-wrapped\"><div class=\"sk-label-container\"><div class=\"sk-label sk-toggleable\"><input class=\"sk-toggleable__control sk-hidden--visually\" id=\"sk-estimator-id-1\" type=\"checkbox\" ><label for=\"sk-estimator-id-1\" class=\"sk-toggleable__label sk-toggleable__label-arrow\">RandomizedSearchCV</label><div class=\"sk-toggleable__content\"><pre>RandomizedSearchCV(cv=StratifiedKFold(n_splits=5, random_state=None, shuffle=False),\n",
              "                   estimator=RandomForestClassifier(random_state=3),\n",
              "                   param_distributions={&#x27;max_depth&#x27;: &lt;scipy.stats._distn_infrastructure.rv_discrete_frozen object at 0x7fb505244040&gt;,\n",
              "                                        &#x27;max_features&#x27;: &lt;scipy.stats._distn_infrastructure.rv_discrete_frozen object at 0x7fb505244100&gt;,\n",
              "                                        &#x27;min_samples_leaf&#x27;: &lt;scipy.stats._distn_infrastructure.rv_discrete_frozen object at 0x7fb505246b60&gt;,\n",
              "                                        &#x27;n_estimators&#x27;: &lt;scipy.stats._distn_infrastructure.rv_discrete_frozen object at 0x7fb505244df0&gt;},\n",
              "                   random_state=3, verbose=1)</pre></div></div></div><div class=\"sk-parallel\"><div class=\"sk-parallel-item\"><div class=\"sk-item\"><div class=\"sk-label-container\"><div class=\"sk-label sk-toggleable\"><input class=\"sk-toggleable__control sk-hidden--visually\" id=\"sk-estimator-id-2\" type=\"checkbox\" ><label for=\"sk-estimator-id-2\" class=\"sk-toggleable__label sk-toggleable__label-arrow\">estimator: RandomForestClassifier</label><div class=\"sk-toggleable__content\"><pre>RandomForestClassifier(random_state=3)</pre></div></div></div><div class=\"sk-serial\"><div class=\"sk-item\"><div class=\"sk-estimator sk-toggleable\"><input class=\"sk-toggleable__control sk-hidden--visually\" id=\"sk-estimator-id-3\" type=\"checkbox\" ><label for=\"sk-estimator-id-3\" class=\"sk-toggleable__label sk-toggleable__label-arrow\">RandomForestClassifier</label><div class=\"sk-toggleable__content\"><pre>RandomForestClassifier(random_state=3)</pre></div></div></div></div></div></div></div></div></div></div>"
            ]
          },
          "metadata": {},
          "execution_count": 65
        }
      ]
    },
    {
      "cell_type": "markdown",
      "source": [
        "**10.5 Showing the best hyperparameters**"
      ],
      "metadata": {
        "id": "jj_SAYWNGETg"
      }
    },
    {
      "cell_type": "code",
      "source": [
        "random_search_rf.best_params_"
      ],
      "metadata": {
        "colab": {
          "base_uri": "https://localhost:8080/"
        },
        "id": "HbrNRXvKDJHM",
        "outputId": "26a2eb32-a184-458a-aefc-f005f6943314"
      },
      "execution_count": null,
      "outputs": [
        {
          "output_type": "execute_result",
          "data": {
            "text/plain": [
              "{'max_depth': 18, 'max_features': 8, 'min_samples_leaf': 3, 'n_estimators': 39}"
            ]
          },
          "metadata": {},
          "execution_count": 66
        }
      ]
    },
    {
      "cell_type": "markdown",
      "source": [
        "**10.6 Predicting and calculating precision, recall and f1 scores**"
      ],
      "metadata": {
        "id": "FnlZlDu8GsWM"
      }
    },
    {
      "cell_type": "code",
      "source": [
        "y_train_preds = random_search_rf.predict(X_train)\n",
        "y_val_preds = random_search_rf.predict(X_val)\n",
        "y_test_preds = random_search_rf.predict(X_test)\n",
        "\n",
        "print('Precision:')\n",
        "print(f\"Training set: {round(precision_score(y_train, y_train_preds), 5)}\")\n",
        "print(f\"Validation set: {round(precision_score(y_val, y_val_preds), 5)}\")\n",
        "print(f\"Testing set: {round(precision_score(y_test, y_test_preds), 5)}\")\n",
        "\n",
        "print('')\n",
        "\n",
        "print('Recall:')\n",
        "print(f\"Training set: {round(recall_score(y_train, y_train_preds), 5)}\")\n",
        "print(f\"Validation set: {round(recall_score(y_val, y_val_preds), 5)}\")\n",
        "print(f\"Testing set: {round(recall_score(y_test, y_test_preds), 5)}\")\n",
        "\n",
        "print('')\n",
        "\n",
        "print('F1 score:')\n",
        "print(f\"Training set: {round(f1_score(y_train, y_train_preds), 5)}\")\n",
        "print(f\"Validation set: {round(f1_score(y_val, y_val_preds), 5)}\")\n",
        "print(f\"Testing set: {round(f1_score(y_test, y_test_preds), 5)}\")"
      ],
      "metadata": {
        "colab": {
          "base_uri": "https://localhost:8080/"
        },
        "id": "zFfkYcCKG3TX",
        "outputId": "54da7df0-ee06-4b69-9fcb-6372c658962c"
      },
      "execution_count": null,
      "outputs": [
        {
          "output_type": "stream",
          "name": "stdout",
          "text": [
            "Precision:\n",
            "Training set: 0.98674\n",
            "Validation set: 0.90171\n",
            "Testing set: 0.92662\n",
            "\n",
            "Recall:\n",
            "Training set: 0.8913\n",
            "Validation set: 0.74956\n",
            "Testing set: 0.77131\n",
            "\n",
            "F1 score:\n",
            "Training set: 0.9366\n",
            "Validation set: 0.81862\n",
            "Testing set: 0.84186\n"
          ]
        }
      ]
    },
    {
      "cell_type": "markdown",
      "source": [
        "**10.7 Confusion Matrix**"
      ],
      "metadata": {
        "id": "WQSXCArMIxAC"
      }
    },
    {
      "cell_type": "code",
      "source": [
        "from sklearn.metrics import confusion_matrix, ConfusionMatrixDisplay\n",
        "import matplotlib.pyplot as plt\n",
        "\n",
        "ConfusionMatrixDisplay.from_estimator(random_search_rf, X_train, y_train, normalize='true')\n",
        "ConfusionMatrixDisplay.from_estimator(random_search_rf, X_val, y_val, normalize='true')\n",
        "ConfusionMatrixDisplay.from_estimator(random_search_rf, X_test, y_test, normalize='true')"
      ],
      "metadata": {
        "colab": {
          "base_uri": "https://localhost:8080/",
          "height": 1000
        },
        "id": "sPiYnxrfDcwg",
        "outputId": "28a8890f-c9be-417b-9dc0-4764c8aa79f5"
      },
      "execution_count": null,
      "outputs": [
        {
          "output_type": "execute_result",
          "data": {
            "text/plain": [
              "<sklearn.metrics._plot.confusion_matrix.ConfusionMatrixDisplay at 0x7fb539ccfa00>"
            ]
          },
          "metadata": {},
          "execution_count": 68
        },
        {
          "output_type": "display_data",
          "data": {
            "text/plain": [
              "<Figure size 640x480 with 2 Axes>"
            ],
            "image/png": "[encoded data removed]"
          },
          "metadata": {}
        },
        {
          "output_type": "display_data",
          "data": {
            "text/plain": [
              "<Figure size 640x480 with 2 Axes>"
            ],
            "image/png": "[encoded data removed]"
          },
          "metadata": {}
        },
        {
          "output_type": "display_data",
          "data": {
            "text/plain": [
              "<Figure size 640x480 with 2 Axes>"
            ],
            "image/png": "[encoded data removed]"
          },
          "metadata": {}
        }
      ]
    },
    {
      "cell_type": "markdown",
      "source": [
        "## **11. Features Importance**"
      ],
      "metadata": {
        "id": "-2Ww7zbl41Eh"
      }
    },
    {
      "cell_type": "markdown",
      "source": [
        "**11.1 Assigning RandomForest with the best hyperparameters to a variable**"
      ],
      "metadata": {
        "id": "ioWISWy2Htim"
      }
    },
    {
      "cell_type": "code",
      "source": [
        "rf16 = RandomForestClassifier(random_state=3, n_estimators=39, max_depth=18, min_samples_leaf=3, max_features=8)"
      ],
      "metadata": {
        "id": "0-84RgfwH0Ad"
      },
      "execution_count": null,
      "outputs": []
    },
    {
      "cell_type": "markdown",
      "source": [
        "**11.2 Training the model using training set**"
      ],
      "metadata": {
        "id": "As0OyNYiH-PY"
      }
    },
    {
      "cell_type": "code",
      "source": [
        "rf16.fit(X_train, y_train)"
      ],
      "metadata": {
        "colab": {
          "base_uri": "https://localhost:8080/",
          "height": 92
        },
        "id": "uGgZbqXiH8VV",
        "outputId": "75019f92-230e-45b3-c862-cb3a2ebaadc2"
      },
      "execution_count": null,
      "outputs": [
        {
          "output_type": "execute_result",
          "data": {
            "text/plain": [
              "RandomForestClassifier(max_depth=18, max_features=8, min_samples_leaf=3,\n",
              "                       n_estimators=39, random_state=3)"
            ],
            "text/html": [
              "<style>#sk-container-id-2 {color: black;background-color: white;}#sk-container-id-2 pre{padding: 0;}#sk-container-id-2 div.sk-toggleable {background-color: white;}#sk-container-id-2 label.sk-toggleable__label {cursor: pointer;display: block;width: 100%;margin-bottom: 0;padding: 0.3em;box-sizing: border-box;text-align: center;}#sk-container-id-2 label.sk-toggleable__label-arrow:before {content: \"▸\";float: left;margin-right: 0.25em;color: #696969;}#sk-container-id-2 label.sk-toggleable__label-arrow:hover:before {color: black;}#sk-container-id-2 div.sk-estimator:hover label.sk-toggleable__label-arrow:before {color: black;}#sk-container-id-2 div.sk-toggleable__content {max-height: 0;max-width: 0;overflow: hidden;text-align: left;background-color: #f0f8ff;}#sk-container-id-2 div.sk-toggleable__content pre {margin: 0.2em;color: black;border-radius: 0.25em;background-color: #f0f8ff;}#sk-container-id-2 input.sk-toggleable__control:checked~div.sk-toggleable__content {max-height: 200px;max-width: 100%;overflow: auto;}#sk-container-id-2 input.sk-toggleable__control:checked~label.sk-toggleable__label-arrow:before {content: \"▾\";}#sk-container-id-2 div.sk-estimator input.sk-toggleable__control:checked~label.sk-toggleable__label {background-color: #d4ebff;}#sk-container-id-2 div.sk-label input.sk-toggleable__control:checked~label.sk-toggleable__label {background-color: #d4ebff;}#sk-container-id-2 input.sk-hidden--visually {border: 0;clip: rect(1px 1px 1px 1px);clip: rect(1px, 1px, 1px, 1px);height: 1px;margin: -1px;overflow: hidden;padding: 0;position: absolute;width: 1px;}#sk-container-id-2 div.sk-estimator {font-family: monospace;background-color: #f0f8ff;border: 1px dotted black;border-radius: 0.25em;box-sizing: border-box;margin-bottom: 0.5em;}#sk-container-id-2 div.sk-estimator:hover {background-color: #d4ebff;}#sk-container-id-2 div.sk-parallel-item::after {content: \"\";width: 100%;border-bottom: 1px solid gray;flex-grow: 1;}#sk-container-id-2 div.sk-label:hover label.sk-toggleable__label {background-color: #d4ebff;}#sk-container-id-2 div.sk-serial::before {content: \"\";position: absolute;border-left: 1px solid gray;box-sizing: border-box;top: 0;bottom: 0;left: 50%;z-index: 0;}#sk-container-id-2 div.sk-serial {display: flex;flex-direction: column;align-items: center;background-color: white;padding-right: 0.2em;padding-left: 0.2em;position: relative;}#sk-container-id-2 div.sk-item {position: relative;z-index: 1;}#sk-container-id-2 div.sk-parallel {display: flex;align-items: stretch;justify-content: center;background-color: white;position: relative;}#sk-container-id-2 div.sk-item::before, #sk-container-id-2 div.sk-parallel-item::before {content: \"\";position: absolute;border-left: 1px solid gray;box-sizing: border-box;top: 0;bottom: 0;left: 50%;z-index: -1;}#sk-container-id-2 div.sk-parallel-item {display: flex;flex-direction: column;z-index: 1;position: relative;background-color: white;}#sk-container-id-2 div.sk-parallel-item:first-child::after {align-self: flex-end;width: 50%;}#sk-container-id-2 div.sk-parallel-item:last-child::after {align-self: flex-start;width: 50%;}#sk-container-id-2 div.sk-parallel-item:only-child::after {width: 0;}#sk-container-id-2 div.sk-dashed-wrapped {border: 1px dashed gray;margin: 0 0.4em 0.5em 0.4em;box-sizing: border-box;padding-bottom: 0.4em;background-color: white;}#sk-container-id-2 div.sk-label label {font-family: monospace;font-weight: bold;display: inline-block;line-height: 1.2em;}#sk-container-id-2 div.sk-label-container {text-align: center;}#sk-container-id-2 div.sk-container {/* jupyter's `normalize.less` sets `[hidden] { display: none; }` but bootstrap.min.css set `[hidden] { display: none !important; }` so we also need the `!important` here to be able to override the default hidden behavior on the sphinx rendered scikit-learn.org. See: https://github.com/scikit-learn/scikit-learn/issues/21755 */display: inline-block !important;position: relative;}#sk-container-id-2 div.sk-text-repr-fallback {display: none;}</style><div id=\"sk-container-id-2\" class=\"sk-top-container\"><div class=\"sk-text-repr-fallback\"><pre>RandomForestClassifier(max_depth=18, max_features=8, min_samples_leaf=3,\n",
              "                       n_estimators=39, random_state=3)</pre><b>In a Jupyter environment, please rerun this cell to show the HTML representation or trust the notebook. <br />On GitHub, the HTML representation is unable to render, please try loading this page with nbviewer.org.</b></div><div class=\"sk-container\" hidden><div class=\"sk-item\"><div class=\"sk-estimator sk-toggleable\"><input class=\"sk-toggleable__control sk-hidden--visually\" id=\"sk-estimator-id-4\" type=\"checkbox\" checked><label for=\"sk-estimator-id-4\" class=\"sk-toggleable__label sk-toggleable__label-arrow\">RandomForestClassifier</label><div class=\"sk-toggleable__content\"><pre>RandomForestClassifier(max_depth=18, max_features=8, min_samples_leaf=3,\n",
              "                       n_estimators=39, random_state=3)</pre></div></div></div></div></div>"
            ]
          },
          "metadata": {},
          "execution_count": 70
        }
      ]
    },
    {
      "cell_type": "markdown",
      "source": [
        "**11.3 Creating a pandas dataframe containing every feature's importance**"
      ],
      "metadata": {
        "id": "zp1aUh0CITPc"
      }
    },
    {
      "cell_type": "code",
      "source": [
        "feat_imp_rf = pd.DataFrame({'feature': X_train.columns,\n",
        "    'feature_importance':rf16.feature_importances_\n",
        "})"
      ],
      "metadata": {
        "id": "uW89Dp5P4q0Z"
      },
      "execution_count": null,
      "outputs": []
    },
    {
      "cell_type": "markdown",
      "source": [
        "**11.4 Sorting the importance values**"
      ],
      "metadata": {
        "id": "538L3g_NIfnC"
      }
    },
    {
      "cell_type": "code",
      "source": [
        "feat_imp_rf = feat_imp_rf.sort_values('feature_importance', ascending=False).reset_index(drop=True)"
      ],
      "metadata": {
        "id": "nuDSHYIA5-yJ"
      },
      "execution_count": null,
      "outputs": []
    },
    {
      "cell_type": "markdown",
      "source": [
        "**11.5 Plotting the importance values in a bar graph**"
      ],
      "metadata": {
        "id": "abKjCDP_IlPu"
      }
    },
    {
      "cell_type": "code",
      "source": [
        "import altair as alt\n",
        "\n",
        "alt.Chart(feat_imp_rf).mark_bar().encode(\n",
        "    x='feature_importance',\n",
        "    y=alt.Y('feature', sort='-x'),\n",
        "    tooltip=['feature','feature_importance']\n",
        ").configure_mark(\n",
        "    color='darkgreen'\n",
        ")"
      ],
      "metadata": {
        "colab": {
          "base_uri": "https://localhost:8080/",
          "height": 323
        },
        "id": "q55c0EXs6Nov",
        "outputId": "57cf36d1-fc94-4667-9de8-f05705babc11"
      },
      "execution_count": null,
      "outputs": [
        {
          "output_type": "execute_result",
          "data": {
            "text/html": [
              "\n",
              "<div id=\"altair-viz-a7e2557658d2444a87a06da06f80dc82\"></div>\n",
              "<script type=\"text/javascript\">\n",
              "  var VEGA_DEBUG = (typeof VEGA_DEBUG == \"undefined\") ? {} : VEGA_DEBUG;\n",
              "  (function(spec, embedOpt){\n",
              "    let outputDiv = document.currentScript.previousElementSibling;\n",
              "    if (outputDiv.id !== \"altair-viz-a7e2557658d2444a87a06da06f80dc82\") {\n",
              "      outputDiv = document.getElementById(\"altair-viz-a7e2557658d2444a87a06da06f80dc82\");\n",
              "    }\n",
              "    const paths = {\n",
              "      \"vega\": \"https://cdn.jsdelivr.net/npm//vega@5?noext\",\n",
              "      \"vega-lib\": \"https://cdn.jsdelivr.net/npm//vega-lib?noext\",\n",
              "      \"vega-lite\": \"https://cdn.jsdelivr.net/npm//vega-lite@4.17.0?noext\",\n",
              "      \"vega-embed\": \"https://cdn.jsdelivr.net/npm//vega-embed@6?noext\",\n",
              "    };\n",
              "\n",
              "    function maybeLoadScript(lib, version) {\n",
              "      var key = `${lib.replace(\"-\", \"\")}_version`;\n",
              "      return (VEGA_DEBUG[key] == version) ?\n",
              "        Promise.resolve(paths[lib]) :\n",
              "        new Promise(function(resolve, reject) {\n",
              "          var s = document.createElement('script');\n",
              "          document.getElementsByTagName(\"head\")[0].appendChild(s);\n",
              "          s.async = true;\n",
              "          s.onload = () => {\n",
              "            VEGA_DEBUG[key] = version;\n",
              "            return resolve(paths[lib]);\n",
              "          };\n",
              "          s.onerror = () => reject(`Error loading script: ${paths[lib]}`);\n",
              "          s.src = paths[lib];\n",
              "        });\n",
              "    }\n",
              "\n",
              "    function showError(err) {\n",
              "      outputDiv.innerHTML = `<div class=\"error\" style=\"color:red;\">${err}</div>`;\n",
              "      throw err;\n",
              "    }\n",
              "\n",
              "    function displayChart(vegaEmbed) {\n",
              "      vegaEmbed(outputDiv, spec, embedOpt)\n",
              "        .catch(err => showError(`Javascript Error: ${err.message}<br>This usually means there's a typo in your chart specification. See the javascript console for the full traceback.`));\n",
              "    }\n",
              "\n",
              "    if(typeof define === \"function\" && define.amd) {\n",
              "      requirejs.config({paths});\n",
              "      require([\"vega-embed\"], displayChart, err => showError(`Error loading script: ${err.message}`));\n",
              "    } else {\n",
              "      maybeLoadScript(\"vega\", \"5\")\n",
              "        .then(() => maybeLoadScript(\"vega-lite\", \"4.17.0\"))\n",
              "        .then(() => maybeLoadScript(\"vega-embed\", \"6\"))\n",
              "        .catch(showError)\n",
              "        .then(() => displayChart(vegaEmbed));\n",
              "    }\n",
              "  })({\"config\": {\"view\": {\"continuousWidth\": 400, \"continuousHeight\": 300}, \"mark\": {\"color\": \"darkgreen\"}}, \"data\": {\"name\": \"data-41e6cebe6fb2f18e0175b6c8b4f24fa6\"}, \"mark\": \"bar\", \"encoding\": {\"tooltip\": [{\"field\": \"feature\", \"type\": \"nominal\"}, {\"field\": \"feature_importance\", \"type\": \"quantitative\"}], \"x\": {\"field\": \"feature_importance\", \"type\": \"quantitative\"}, \"y\": {\"field\": \"feature\", \"sort\": \"-x\", \"type\": \"nominal\"}}, \"$schema\": \"https://vega.github.io/schema/vega-lite/v4.17.0.json\", \"datasets\": {\"data-41e6cebe6fb2f18e0175b6c8b4f24fa6\": [{\"feature\": \"mth_since_last_serv\", \"feature_importance\": 0.22271594091482735}, {\"feature\": \"total_services\", \"feature_importance\": 0.15170029241392513}, {\"feature\": \"annualised_mileage\", \"feature_importance\": 0.11329770325372256}, {\"feature\": \"num_serv_dealer_purchased\", \"feature_importance\": 0.10691647359829069}, {\"feature\": \"age_of_vehicle_years\", \"feature_importance\": 0.08744986160857954}, {\"feature\": \"total_paid_services\", \"feature_importance\": 0.06376913235998699}, {\"feature\": \"num_dealers_visited\", \"feature_importance\": 0.05636479733744543}, {\"feature\": \"sched_serv_warr\", \"feature_importance\": 0.05613866016631798}, {\"feature\": \"non_sched_serv_warr\", \"feature_importance\": 0.05504080773786028}, {\"feature\": \"sched_serv_paid\", \"feature_importance\": 0.03751530010222467}, {\"feature\": \"non_sched_serv_paid\", \"feature_importance\": 0.024045772246491903}, {\"feature\": \"car_model\", \"feature_importance\": 0.018196658835129515}, {\"feature\": \"car_segment\", \"feature_importance\": 0.0068485994251977975}]}}, {\"mode\": \"vega-lite\"});\n",
              "</script>"
            ],
            "text/plain": [
              "alt.Chart(...)"
            ]
          },
          "metadata": {},
          "execution_count": 79
        }
      ]
    },
    {
      "cell_type": "code",
      "source": [],
      "metadata": {
        "id": "pMKlohD0qU5J"
      },
      "execution_count": null,
      "outputs": []
    }
  ],
  "metadata": {
    "colab": {
      "provenance": [],
      "collapsed_sections": [
        "2A7M20qZM8U2",
        "QqT323ndNIX_",
        "hDssPGOINOJS",
        "Zcynox2yRtJF",
        "TwxxrFVFUinQ",
        "Ew6rjA4hdA0Q"
      ]
    },
    "gpuClass": "standard",
    "kernelspec": {
      "display_name": "Python 3",
      "name": "python3"
    },
    "language_info": {
      "name": "python"
    }
  },
  "nbformat": 4,
  "nbformat_minor": 0
}