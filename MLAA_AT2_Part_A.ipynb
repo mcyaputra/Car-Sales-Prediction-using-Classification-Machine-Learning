{
  "cells": [
    {
      "cell_type": "markdown",
      "metadata": {
        "id": "2A7M20qZM8U2"
      },
      "source": [
        "## **1. Loading dataset**"
      ]
    },
    {
      "cell_type": "markdown",
      "metadata": {
        "id": "DhqA0m4lPZvA"
      },
      "source": [
        "**1.1 Importing pandas and numpy packages**"
      ]
    },
    {
      "cell_type": "code",
      "execution_count": null,
      "metadata": {
        "id": "yvDXaQM7GSpe"
      },
      "outputs": [],
      "source": [
        "import pandas as pd\n",
        "import numpy as np"
      ]
    },
    {
      "cell_type": "markdown",
      "source": [
        "**1.2 Reading csv file**"
      ],
      "metadata": {
        "id": "eORfKXHRdmIj"
      }
    },
    {
      "cell_type": "code",
      "execution_count": null,
      "metadata": {
        "id": "afh6wkA1Gg8t"
      },
      "outputs": [],
      "source": [
        "df = pd.read_csv('https://raw.githubusercontent.com/mcyaputra/Files/main/repurchase_training.csv')"
      ]
    },
    {
      "cell_type": "markdown",
      "metadata": {
        "id": "QqT323ndNIX_"
      },
      "source": [
        "## **2. Exploring dataset**"
      ]
    },
    {
      "cell_type": "markdown",
      "source": [
        "**2.1 First 10 rows of the dataset**"
      ],
      "metadata": {
        "id": "vH25glDjdqsu"
      }
    },
    {
      "cell_type": "code",
      "execution_count": null,
      "metadata": {
        "id": "lSXURbbbIW5e",
        "colab": {
          "base_uri": "https://localhost:8080/",
          "height": 427
        },
        "outputId": "39dec4cf-4c88-45a2-92ea-fb9930e8d3ee"
      },
      "outputs": [
        {
          "output_type": "execute_result",
          "data": {
            "text/plain": [
              "   ID  Target     age_band  gender car_model   car_segment  \\\n",
              "0   1       0  3. 35 to 44    Male   model_1           LCV   \n",
              "1   2       0          NaN     NaN   model_2  Small/Medium   \n",
              "2   3       0          NaN    Male   model_3     Large/SUV   \n",
              "3   5       0          NaN     NaN   model_3     Large/SUV   \n",
              "4   6       0          NaN  Female   model_2  Small/Medium   \n",
              "5   7       0          NaN    Male   model_5     Large/SUV   \n",
              "6   8       0       1. <25    Male   model_3     Large/SUV   \n",
              "7   9       0          NaN    Male   model_6  Small/Medium   \n",
              "8  10       0          NaN     NaN   model_4  Small/Medium   \n",
              "9  11       0          NaN     NaN   model_4  Small/Medium   \n",
              "\n",
              "   age_of_vehicle_years  sched_serv_warr  non_sched_serv_warr  \\\n",
              "0                     9                2                   10   \n",
              "1                     6               10                    3   \n",
              "2                     9               10                    9   \n",
              "3                     5                8                    5   \n",
              "4                     8                9                    4   \n",
              "5                     7                4                   10   \n",
              "6                     8                2                    8   \n",
              "7                     7                4                    9   \n",
              "8                     1                2                    1   \n",
              "9                     3                1                    1   \n",
              "\n",
              "   sched_serv_paid  non_sched_serv_paid  total_paid_services  total_services  \\\n",
              "0                3                    7                    5               6   \n",
              "1               10                    4                    9              10   \n",
              "2               10                    9                   10              10   \n",
              "3                8                    4                    5               6   \n",
              "4               10                    7                    9               8   \n",
              "5                5                    7                    6               8   \n",
              "6                2                    9                    9               4   \n",
              "7                6                    9                    8               6   \n",
              "8                1                    3                    1               2   \n",
              "9                2                    1                    2               1   \n",
              "\n",
              "   mth_since_last_serv  annualised_mileage  num_dealers_visited  \\\n",
              "0                    9                   8                   10   \n",
              "1                    6                  10                    7   \n",
              "2                    7                  10                    6   \n",
              "3                    4                  10                    9   \n",
              "4                    5                   4                    4   \n",
              "5                    8                   5                   10   \n",
              "6                    7                   6                   10   \n",
              "7                    9                   5                    5   \n",
              "8                    1                   1                    2   \n",
              "9                    1                   1                    1   \n",
              "\n",
              "   num_serv_dealer_purchased  \n",
              "0                          4  \n",
              "1                         10  \n",
              "2                         10  \n",
              "3                          7  \n",
              "4                          9  \n",
              "5                          4  \n",
              "6                          4  \n",
              "7                          8  \n",
              "8                          3  \n",
              "9                          1  "
            ],
            "text/html": [
              "\n",
              "  <div id=\"df-4adf1799-760d-4fcb-acf1-a2b613fed161\">\n",
              "    <div class=\"colab-df-container\">\n",
              "      <div>\n",
              "<style scoped>\n",
              "    .dataframe tbody tr th:only-of-type {\n",
              "        vertical-align: middle;\n",
              "    }\n",
              "\n",
              "    .dataframe tbody tr th {\n",
              "        vertical-align: top;\n",
              "    }\n",
              "\n",
              "    .dataframe thead th {\n",
              "        text-align: right;\n",
              "    }\n",
              "</style>\n",
              "<table border=\"1\" class=\"dataframe\">\n",
              "  <thead>\n",
              "    <tr style=\"text-align: right;\">\n",
              "      <th></th>\n",
              "      <th>ID</th>\n",
              "      <th>Target</th>\n",
              "      <th>age_band</th>\n",
              "      <th>gender</th>\n",
              "      <th>car_model</th>\n",
              "      <th>car_segment</th>\n",
              "      <th>age_of_vehicle_years</th>\n",
              "      <th>sched_serv_warr</th>\n",
              "      <th>non_sched_serv_warr</th>\n",
              "      <th>sched_serv_paid</th>\n",
              "      <th>non_sched_serv_paid</th>\n",
              "      <th>total_paid_services</th>\n",
              "      <th>total_services</th>\n",
              "      <th>mth_since_last_serv</th>\n",
              "      <th>annualised_mileage</th>\n",
              "      <th>num_dealers_visited</th>\n",
              "      <th>num_serv_dealer_purchased</th>\n",
              "    </tr>\n",
              "  </thead>\n",
              "  <tbody>\n",
              "    <tr>\n",
              "      <th>0</th>\n",
              "      <td>1</td>\n",
              "      <td>0</td>\n",
              "      <td>3. 35 to 44</td>\n",
              "      <td>Male</td>\n",
              "      <td>model_1</td>\n",
              "      <td>LCV</td>\n",
              "      <td>9</td>\n",
              "      <td>2</td>\n",
              "      <td>10</td>\n",
              "      <td>3</td>\n",
              "      <td>7</td>\n",
              "      <td>5</td>\n",
              "      <td>6</td>\n",
              "      <td>9</td>\n",
              "      <td>8</td>\n",
              "      <td>10</td>\n",
              "      <td>4</td>\n",
              "    </tr>\n",
              "    <tr>\n",
              "      <th>1</th>\n",
              "      <td>2</td>\n",
              "      <td>0</td>\n",
              "      <td>NaN</td>\n",
              "      <td>NaN</td>\n",
              "      <td>model_2</td>\n",
              "      <td>Small/Medium</td>\n",
              "      <td>6</td>\n",
              "      <td>10</td>\n",
              "      <td>3</td>\n",
              "      <td>10</td>\n",
              "      <td>4</td>\n",
              "      <td>9</td>\n",
              "      <td>10</td>\n",
              "      <td>6</td>\n",
              "      <td>10</td>\n",
              "      <td>7</td>\n",
              "      <td>10</td>\n",
              "    </tr>\n",
              "    <tr>\n",
              "      <th>2</th>\n",
              "      <td>3</td>\n",
              "      <td>0</td>\n",
              "      <td>NaN</td>\n",
              "      <td>Male</td>\n",
              "      <td>model_3</td>\n",
              "      <td>Large/SUV</td>\n",
              "      <td>9</td>\n",
              "      <td>10</td>\n",
              "      <td>9</td>\n",
              "      <td>10</td>\n",
              "      <td>9</td>\n",
              "      <td>10</td>\n",
              "      <td>10</td>\n",
              "      <td>7</td>\n",
              "      <td>10</td>\n",
              "      <td>6</td>\n",
              "      <td>10</td>\n",
              "    </tr>\n",
              "    <tr>\n",
              "      <th>3</th>\n",
              "      <td>5</td>\n",
              "      <td>0</td>\n",
              "      <td>NaN</td>\n",
              "      <td>NaN</td>\n",
              "      <td>model_3</td>\n",
              "      <td>Large/SUV</td>\n",
              "      <td>5</td>\n",
              "      <td>8</td>\n",
              "      <td>5</td>\n",
              "      <td>8</td>\n",
              "      <td>4</td>\n",
              "      <td>5</td>\n",
              "      <td>6</td>\n",
              "      <td>4</td>\n",
              "      <td>10</td>\n",
              "      <td>9</td>\n",
              "      <td>7</td>\n",
              "    </tr>\n",
              "    <tr>\n",
              "      <th>4</th>\n",
              "      <td>6</td>\n",
              "      <td>0</td>\n",
              "      <td>NaN</td>\n",
              "      <td>Female</td>\n",
              "      <td>model_2</td>\n",
              "      <td>Small/Medium</td>\n",
              "      <td>8</td>\n",
              "      <td>9</td>\n",
              "      <td>4</td>\n",
              "      <td>10</td>\n",
              "      <td>7</td>\n",
              "      <td>9</td>\n",
              "      <td>8</td>\n",
              "      <td>5</td>\n",
              "      <td>4</td>\n",
              "      <td>4</td>\n",
              "      <td>9</td>\n",
              "    </tr>\n",
              "    <tr>\n",
              "      <th>5</th>\n",
              "      <td>7</td>\n",
              "      <td>0</td>\n",
              "      <td>NaN</td>\n",
              "      <td>Male</td>\n",
              "      <td>model_5</td>\n",
              "      <td>Large/SUV</td>\n",
              "      <td>7</td>\n",
              "      <td>4</td>\n",
              "      <td>10</td>\n",
              "      <td>5</td>\n",
              "      <td>7</td>\n",
              "      <td>6</td>\n",
              "      <td>8</td>\n",
              "      <td>8</td>\n",
              "      <td>5</td>\n",
              "      <td>10</td>\n",
              "      <td>4</td>\n",
              "    </tr>\n",
              "    <tr>\n",
              "      <th>6</th>\n",
              "      <td>8</td>\n",
              "      <td>0</td>\n",
              "      <td>1. &lt;25</td>\n",
              "      <td>Male</td>\n",
              "      <td>model_3</td>\n",
              "      <td>Large/SUV</td>\n",
              "      <td>8</td>\n",
              "      <td>2</td>\n",
              "      <td>8</td>\n",
              "      <td>2</td>\n",
              "      <td>9</td>\n",
              "      <td>9</td>\n",
              "      <td>4</td>\n",
              "      <td>7</td>\n",
              "      <td>6</td>\n",
              "      <td>10</td>\n",
              "      <td>4</td>\n",
              "    </tr>\n",
              "    <tr>\n",
              "      <th>7</th>\n",
              "      <td>9</td>\n",
              "      <td>0</td>\n",
              "      <td>NaN</td>\n",
              "      <td>Male</td>\n",
              "      <td>model_6</td>\n",
              "      <td>Small/Medium</td>\n",
              "      <td>7</td>\n",
              "      <td>4</td>\n",
              "      <td>9</td>\n",
              "      <td>6</td>\n",
              "      <td>9</td>\n",
              "      <td>8</td>\n",
              "      <td>6</td>\n",
              "      <td>9</td>\n",
              "      <td>5</td>\n",
              "      <td>5</td>\n",
              "      <td>8</td>\n",
              "    </tr>\n",
              "    <tr>\n",
              "      <th>8</th>\n",
              "      <td>10</td>\n",
              "      <td>0</td>\n",
              "      <td>NaN</td>\n",
              "      <td>NaN</td>\n",
              "      <td>model_4</td>\n",
              "      <td>Small/Medium</td>\n",
              "      <td>1</td>\n",
              "      <td>2</td>\n",
              "      <td>1</td>\n",
              "      <td>1</td>\n",
              "      <td>3</td>\n",
              "      <td>1</td>\n",
              "      <td>2</td>\n",
              "      <td>1</td>\n",
              "      <td>1</td>\n",
              "      <td>2</td>\n",
              "      <td>3</td>\n",
              "    </tr>\n",
              "    <tr>\n",
              "      <th>9</th>\n",
              "      <td>11</td>\n",
              "      <td>0</td>\n",
              "      <td>NaN</td>\n",
              "      <td>NaN</td>\n",
              "      <td>model_4</td>\n",
              "      <td>Small/Medium</td>\n",
              "      <td>3</td>\n",
              "      <td>1</td>\n",
              "      <td>1</td>\n",
              "      <td>2</td>\n",
              "      <td>1</td>\n",
              "      <td>2</td>\n",
              "      <td>1</td>\n",
              "      <td>1</td>\n",
              "      <td>1</td>\n",
              "      <td>1</td>\n",
              "      <td>1</td>\n",
              "    </tr>\n",
              "  </tbody>\n",
              "</table>\n",
              "</div>\n",
              "      <button class=\"colab-df-convert\" onclick=\"convertToInteractive('df-4adf1799-760d-4fcb-acf1-a2b613fed161')\"\n",
              "              title=\"Convert this dataframe to an interactive table.\"\n",
              "              style=\"display:none;\">\n",
              "        \n",
              "  <svg xmlns=\"http://www.w3.org/2000/svg\" height=\"24px\"viewBox=\"0 0 24 24\"\n",
              "       width=\"24px\">\n",
              "    <path d=\"M0 0h24v24H0V0z\" fill=\"none\"/>\n",
              "    <path d=\"M18.56 5.44l.94 2.06.94-2.06 2.06-.94-2.06-.94-.94-2.06-.94 2.06-2.06.94zm-11 1L8.5 8.5l.94-2.06 2.06-.94-2.06-.94L8.5 2.5l-.94 2.06-2.06.94zm10 10l.94 2.06.94-2.06 2.06-.94-2.06-.94-.94-2.06-.94 2.06-2.06.94z\"/><path d=\"M17.41 7.96l-1.37-1.37c-.4-.4-.92-.59-1.43-.59-.52 0-1.04.2-1.43.59L10.3 9.45l-7.72 7.72c-.78.78-.78 2.05 0 2.83L4 21.41c.39.39.9.59 1.41.59.51 0 1.02-.2 1.41-.59l7.78-7.78 2.81-2.81c.8-.78.8-2.07 0-2.86zM5.41 20L4 18.59l7.72-7.72 1.47 1.35L5.41 20z\"/>\n",
              "  </svg>\n",
              "      </button>\n",
              "      \n",
              "  <style>\n",
              "    .colab-df-container {\n",
              "      display:flex;\n",
              "      flex-wrap:wrap;\n",
              "      gap: 12px;\n",
              "    }\n",
              "\n",
              "    .colab-df-convert {\n",
              "      background-color: #E8F0FE;\n",
              "      border: none;\n",
              "      border-radius: 50%;\n",
              "      cursor: pointer;\n",
              "      display: none;\n",
              "      fill: #1967D2;\n",
              "      height: 32px;\n",
              "      padding: 0 0 0 0;\n",
              "      width: 32px;\n",
              "    }\n",
              "\n",
              "    .colab-df-convert:hover {\n",
              "      background-color: #E2EBFA;\n",
              "      box-shadow: 0px 1px 2px rgba(60, 64, 67, 0.3), 0px 1px 3px 1px rgba(60, 64, 67, 0.15);\n",
              "      fill: #174EA6;\n",
              "    }\n",
              "\n",
              "    [theme=dark] .colab-df-convert {\n",
              "      background-color: #3B4455;\n",
              "      fill: #D2E3FC;\n",
              "    }\n",
              "\n",
              "    [theme=dark] .colab-df-convert:hover {\n",
              "      background-color: #434B5C;\n",
              "      box-shadow: 0px 1px 3px 1px rgba(0, 0, 0, 0.15);\n",
              "      filter: drop-shadow(0px 1px 2px rgba(0, 0, 0, 0.3));\n",
              "      fill: #FFFFFF;\n",
              "    }\n",
              "  </style>\n",
              "\n",
              "      <script>\n",
              "        const buttonEl =\n",
              "          document.querySelector('#df-4adf1799-760d-4fcb-acf1-a2b613fed161 button.colab-df-convert');\n",
              "        buttonEl.style.display =\n",
              "          google.colab.kernel.accessAllowed ? 'block' : 'none';\n",
              "\n",
              "        async function convertToInteractive(key) {\n",
              "          const element = document.querySelector('#df-4adf1799-760d-4fcb-acf1-a2b613fed161');\n",
              "          const dataTable =\n",
              "            await google.colab.kernel.invokeFunction('convertToInteractive',\n",
              "                                                     [key], {});\n",
              "          if (!dataTable) return;\n",
              "\n",
              "          const docLinkHtml = 'Like what you see? Visit the ' +\n",
              "            '<a target=\"_blank\" href=https://colab.research.google.com/notebooks/data_table.ipynb>data table notebook</a>'\n",
              "            + ' to learn more about interactive tables.';\n",
              "          element.innerHTML = '';\n",
              "          dataTable['output_type'] = 'display_data';\n",
              "          await google.colab.output.renderOutput(dataTable, element);\n",
              "          const docLink = document.createElement('div');\n",
              "          docLink.innerHTML = docLinkHtml;\n",
              "          element.appendChild(docLink);\n",
              "        }\n",
              "      </script>\n",
              "    </div>\n",
              "  </div>\n",
              "  "
            ]
          },
          "metadata": {},
          "execution_count": 3
        }
      ],
      "source": [
        "df.head(10)"
      ]
    },
    {
      "cell_type": "markdown",
      "source": [
        "**2.2 Showing information about dataset**"
      ],
      "metadata": {
        "id": "ggfYCtq7ecD2"
      }
    },
    {
      "cell_type": "code",
      "execution_count": null,
      "metadata": {
        "id": "ZP4nF0C7Ijh4",
        "colab": {
          "base_uri": "https://localhost:8080/"
        },
        "outputId": "c765ba8f-0641-489b-cd7a-956b75bc0a9b"
      },
      "outputs": [
        {
          "output_type": "stream",
          "name": "stdout",
          "text": [
            "<class 'pandas.core.frame.DataFrame'>\n",
            "RangeIndex: 131337 entries, 0 to 131336\n",
            "Data columns (total 17 columns):\n",
            " #   Column                     Non-Null Count   Dtype \n",
            "---  ------                     --------------   ----- \n",
            " 0   ID                         131337 non-null  int64 \n",
            " 1   Target                     131337 non-null  int64 \n",
            " 2   age_band                   18962 non-null   object\n",
            " 3   gender                     62029 non-null   object\n",
            " 4   car_model                  131337 non-null  object\n",
            " 5   car_segment                131337 non-null  object\n",
            " 6   age_of_vehicle_years       131337 non-null  int64 \n",
            " 7   sched_serv_warr            131337 non-null  int64 \n",
            " 8   non_sched_serv_warr        131337 non-null  int64 \n",
            " 9   sched_serv_paid            131337 non-null  int64 \n",
            " 10  non_sched_serv_paid        131337 non-null  int64 \n",
            " 11  total_paid_services        131337 non-null  int64 \n",
            " 12  total_services             131337 non-null  int64 \n",
            " 13  mth_since_last_serv        131337 non-null  int64 \n",
            " 14  annualised_mileage         131337 non-null  int64 \n",
            " 15  num_dealers_visited        131337 non-null  int64 \n",
            " 16  num_serv_dealer_purchased  131337 non-null  int64 \n",
            "dtypes: int64(13), object(4)\n",
            "memory usage: 17.0+ MB\n"
          ]
        }
      ],
      "source": [
        "df.info()"
      ]
    },
    {
      "cell_type": "markdown",
      "source": [
        "Looks like 'age_band' and 'gender' columns have missing values"
      ],
      "metadata": {
        "id": "couhB0TOek3M"
      }
    },
    {
      "cell_type": "markdown",
      "source": [
        "**2.3 Number of rows and columns in the dataset**"
      ],
      "metadata": {
        "id": "HDpFF21UerMD"
      }
    },
    {
      "cell_type": "code",
      "execution_count": null,
      "metadata": {
        "id": "plZvQlyIL8D-",
        "colab": {
          "base_uri": "https://localhost:8080/"
        },
        "outputId": "bdb4d7f6-25b9-4571-bb43-8eae34323c9d"
      },
      "outputs": [
        {
          "output_type": "execute_result",
          "data": {
            "text/plain": [
              "(131337, 17)"
            ]
          },
          "metadata": {},
          "execution_count": 5
        }
      ],
      "source": [
        "df.shape"
      ]
    },
    {
      "cell_type": "markdown",
      "source": [
        "**2.4 Statistical information of the dataset**"
      ],
      "metadata": {
        "id": "MPZVc7z_e-sB"
      }
    },
    {
      "cell_type": "code",
      "execution_count": null,
      "metadata": {
        "id": "A_5y5j16MGSt",
        "colab": {
          "base_uri": "https://localhost:8080/",
          "height": 364
        },
        "outputId": "1c269141-71c6-42ee-c89a-1d6fa843d090"
      },
      "outputs": [
        {
          "output_type": "execute_result",
          "data": {
            "text/plain": [
              "                  ID         Target  age_of_vehicle_years  sched_serv_warr  \\\n",
              "count  131337.000000  131337.000000         131337.000000    131337.000000   \n",
              "mean    77097.384180       0.026809              5.493022         5.452500   \n",
              "std     44501.636704       0.161525              2.843299         2.884328   \n",
              "min         1.000000       0.000000              1.000000         1.000000   \n",
              "25%     38563.000000       0.000000              3.000000         3.000000   \n",
              "50%     77132.000000       0.000000              5.000000         5.000000   \n",
              "75%    115668.000000       0.000000              8.000000         8.000000   \n",
              "max    154139.000000       1.000000             10.000000        10.000000   \n",
              "\n",
              "       non_sched_serv_warr  sched_serv_paid  non_sched_serv_paid  \\\n",
              "count        131337.000000    131337.000000        131337.000000   \n",
              "mean              5.472517         5.452287             5.497050   \n",
              "std               2.870665         2.886528             2.878699   \n",
              "min               1.000000         1.000000             1.000000   \n",
              "25%               3.000000         3.000000             3.000000   \n",
              "50%               5.000000         5.000000             5.000000   \n",
              "75%               8.000000         8.000000             8.000000   \n",
              "max              10.000000        10.000000            10.000000   \n",
              "\n",
              "       total_paid_services  total_services  mth_since_last_serv  \\\n",
              "count        131337.000000   131337.000000        131337.000000   \n",
              "mean              5.481692        5.454967             5.469807   \n",
              "std               2.880408        2.875961             2.859756   \n",
              "min               1.000000        1.000000             1.000000   \n",
              "25%               3.000000        3.000000             3.000000   \n",
              "50%               5.000000        5.000000             5.000000   \n",
              "75%               8.000000        8.000000             8.000000   \n",
              "max              10.000000       10.000000            10.000000   \n",
              "\n",
              "       annualised_mileage  num_dealers_visited  num_serv_dealer_purchased  \n",
              "count       131337.000000        131337.000000              131337.000000  \n",
              "mean             5.502836             5.485438                   5.480778  \n",
              "std              2.854896             2.876772                   2.867524  \n",
              "min              1.000000             1.000000                   1.000000  \n",
              "25%              3.000000             3.000000                   3.000000  \n",
              "50%              5.000000             5.000000                   5.000000  \n",
              "75%              8.000000             8.000000                   8.000000  \n",
              "max             10.000000            10.000000                  10.000000  "
            ],
            "text/html": [
              "\n",
              "  <div id=\"df-74e3d813-45a5-4ab0-83bd-7832b830057b\">\n",
              "    <div class=\"colab-df-container\">\n",
              "      <div>\n",
              "<style scoped>\n",
              "    .dataframe tbody tr th:only-of-type {\n",
              "        vertical-align: middle;\n",
              "    }\n",
              "\n",
              "    .dataframe tbody tr th {\n",
              "        vertical-align: top;\n",
              "    }\n",
              "\n",
              "    .dataframe thead th {\n",
              "        text-align: right;\n",
              "    }\n",
              "</style>\n",
              "<table border=\"1\" class=\"dataframe\">\n",
              "  <thead>\n",
              "    <tr style=\"text-align: right;\">\n",
              "      <th></th>\n",
              "      <th>ID</th>\n",
              "      <th>Target</th>\n",
              "      <th>age_of_vehicle_years</th>\n",
              "      <th>sched_serv_warr</th>\n",
              "      <th>non_sched_serv_warr</th>\n",
              "      <th>sched_serv_paid</th>\n",
              "      <th>non_sched_serv_paid</th>\n",
              "      <th>total_paid_services</th>\n",
              "      <th>total_services</th>\n",
              "      <th>mth_since_last_serv</th>\n",
              "      <th>annualised_mileage</th>\n",
              "      <th>num_dealers_visited</th>\n",
              "      <th>num_serv_dealer_purchased</th>\n",
              "    </tr>\n",
              "  </thead>\n",
              "  <tbody>\n",
              "    <tr>\n",
              "      <th>count</th>\n",
              "      <td>131337.000000</td>\n",
              "      <td>131337.000000</td>\n",
              "      <td>131337.000000</td>\n",
              "      <td>131337.000000</td>\n",
              "      <td>131337.000000</td>\n",
              "      <td>131337.000000</td>\n",
              "      <td>131337.000000</td>\n",
              "      <td>131337.000000</td>\n",
              "      <td>131337.000000</td>\n",
              "      <td>131337.000000</td>\n",
              "      <td>131337.000000</td>\n",
              "      <td>131337.000000</td>\n",
              "      <td>131337.000000</td>\n",
              "    </tr>\n",
              "    <tr>\n",
              "      <th>mean</th>\n",
              "      <td>77097.384180</td>\n",
              "      <td>0.026809</td>\n",
              "      <td>5.493022</td>\n",
              "      <td>5.452500</td>\n",
              "      <td>5.472517</td>\n",
              "      <td>5.452287</td>\n",
              "      <td>5.497050</td>\n",
              "      <td>5.481692</td>\n",
              "      <td>5.454967</td>\n",
              "      <td>5.469807</td>\n",
              "      <td>5.502836</td>\n",
              "      <td>5.485438</td>\n",
              "      <td>5.480778</td>\n",
              "    </tr>\n",
              "    <tr>\n",
              "      <th>std</th>\n",
              "      <td>44501.636704</td>\n",
              "      <td>0.161525</td>\n",
              "      <td>2.843299</td>\n",
              "      <td>2.884328</td>\n",
              "      <td>2.870665</td>\n",
              "      <td>2.886528</td>\n",
              "      <td>2.878699</td>\n",
              "      <td>2.880408</td>\n",
              "      <td>2.875961</td>\n",
              "      <td>2.859756</td>\n",
              "      <td>2.854896</td>\n",
              "      <td>2.876772</td>\n",
              "      <td>2.867524</td>\n",
              "    </tr>\n",
              "    <tr>\n",
              "      <th>min</th>\n",
              "      <td>1.000000</td>\n",
              "      <td>0.000000</td>\n",
              "      <td>1.000000</td>\n",
              "      <td>1.000000</td>\n",
              "      <td>1.000000</td>\n",
              "      <td>1.000000</td>\n",
              "      <td>1.000000</td>\n",
              "      <td>1.000000</td>\n",
              "      <td>1.000000</td>\n",
              "      <td>1.000000</td>\n",
              "      <td>1.000000</td>\n",
              "      <td>1.000000</td>\n",
              "      <td>1.000000</td>\n",
              "    </tr>\n",
              "    <tr>\n",
              "      <th>25%</th>\n",
              "      <td>38563.000000</td>\n",
              "      <td>0.000000</td>\n",
              "      <td>3.000000</td>\n",
              "      <td>3.000000</td>\n",
              "      <td>3.000000</td>\n",
              "      <td>3.000000</td>\n",
              "      <td>3.000000</td>\n",
              "      <td>3.000000</td>\n",
              "      <td>3.000000</td>\n",
              "      <td>3.000000</td>\n",
              "      <td>3.000000</td>\n",
              "      <td>3.000000</td>\n",
              "      <td>3.000000</td>\n",
              "    </tr>\n",
              "    <tr>\n",
              "      <th>50%</th>\n",
              "      <td>77132.000000</td>\n",
              "      <td>0.000000</td>\n",
              "      <td>5.000000</td>\n",
              "      <td>5.000000</td>\n",
              "      <td>5.000000</td>\n",
              "      <td>5.000000</td>\n",
              "      <td>5.000000</td>\n",
              "      <td>5.000000</td>\n",
              "      <td>5.000000</td>\n",
              "      <td>5.000000</td>\n",
              "      <td>5.000000</td>\n",
              "      <td>5.000000</td>\n",
              "      <td>5.000000</td>\n",
              "    </tr>\n",
              "    <tr>\n",
              "      <th>75%</th>\n",
              "      <td>115668.000000</td>\n",
              "      <td>0.000000</td>\n",
              "      <td>8.000000</td>\n",
              "      <td>8.000000</td>\n",
              "      <td>8.000000</td>\n",
              "      <td>8.000000</td>\n",
              "      <td>8.000000</td>\n",
              "      <td>8.000000</td>\n",
              "      <td>8.000000</td>\n",
              "      <td>8.000000</td>\n",
              "      <td>8.000000</td>\n",
              "      <td>8.000000</td>\n",
              "      <td>8.000000</td>\n",
              "    </tr>\n",
              "    <tr>\n",
              "      <th>max</th>\n",
              "      <td>154139.000000</td>\n",
              "      <td>1.000000</td>\n",
              "      <td>10.000000</td>\n",
              "      <td>10.000000</td>\n",
              "      <td>10.000000</td>\n",
              "      <td>10.000000</td>\n",
              "      <td>10.000000</td>\n",
              "      <td>10.000000</td>\n",
              "      <td>10.000000</td>\n",
              "      <td>10.000000</td>\n",
              "      <td>10.000000</td>\n",
              "      <td>10.000000</td>\n",
              "      <td>10.000000</td>\n",
              "    </tr>\n",
              "  </tbody>\n",
              "</table>\n",
              "</div>\n",
              "      <button class=\"colab-df-convert\" onclick=\"convertToInteractive('df-74e3d813-45a5-4ab0-83bd-7832b830057b')\"\n",
              "              title=\"Convert this dataframe to an interactive table.\"\n",
              "              style=\"display:none;\">\n",
              "        \n",
              "  <svg xmlns=\"http://www.w3.org/2000/svg\" height=\"24px\"viewBox=\"0 0 24 24\"\n",
              "       width=\"24px\">\n",
              "    <path d=\"M0 0h24v24H0V0z\" fill=\"none\"/>\n",
              "    <path d=\"M18.56 5.44l.94 2.06.94-2.06 2.06-.94-2.06-.94-.94-2.06-.94 2.06-2.06.94zm-11 1L8.5 8.5l.94-2.06 2.06-.94-2.06-.94L8.5 2.5l-.94 2.06-2.06.94zm10 10l.94 2.06.94-2.06 2.06-.94-2.06-.94-.94-2.06-.94 2.06-2.06.94z\"/><path d=\"M17.41 7.96l-1.37-1.37c-.4-.4-.92-.59-1.43-.59-.52 0-1.04.2-1.43.59L10.3 9.45l-7.72 7.72c-.78.78-.78 2.05 0 2.83L4 21.41c.39.39.9.59 1.41.59.51 0 1.02-.2 1.41-.59l7.78-7.78 2.81-2.81c.8-.78.8-2.07 0-2.86zM5.41 20L4 18.59l7.72-7.72 1.47 1.35L5.41 20z\"/>\n",
              "  </svg>\n",
              "      </button>\n",
              "      \n",
              "  <style>\n",
              "    .colab-df-container {\n",
              "      display:flex;\n",
              "      flex-wrap:wrap;\n",
              "      gap: 12px;\n",
              "    }\n",
              "\n",
              "    .colab-df-convert {\n",
              "      background-color: #E8F0FE;\n",
              "      border: none;\n",
              "      border-radius: 50%;\n",
              "      cursor: pointer;\n",
              "      display: none;\n",
              "      fill: #1967D2;\n",
              "      height: 32px;\n",
              "      padding: 0 0 0 0;\n",
              "      width: 32px;\n",
              "    }\n",
              "\n",
              "    .colab-df-convert:hover {\n",
              "      background-color: #E2EBFA;\n",
              "      box-shadow: 0px 1px 2px rgba(60, 64, 67, 0.3), 0px 1px 3px 1px rgba(60, 64, 67, 0.15);\n",
              "      fill: #174EA6;\n",
              "    }\n",
              "\n",
              "    [theme=dark] .colab-df-convert {\n",
              "      background-color: #3B4455;\n",
              "      fill: #D2E3FC;\n",
              "    }\n",
              "\n",
              "    [theme=dark] .colab-df-convert:hover {\n",
              "      background-color: #434B5C;\n",
              "      box-shadow: 0px 1px 3px 1px rgba(0, 0, 0, 0.15);\n",
              "      filter: drop-shadow(0px 1px 2px rgba(0, 0, 0, 0.3));\n",
              "      fill: #FFFFFF;\n",
              "    }\n",
              "  </style>\n",
              "\n",
              "      <script>\n",
              "        const buttonEl =\n",
              "          document.querySelector('#df-74e3d813-45a5-4ab0-83bd-7832b830057b button.colab-df-convert');\n",
              "        buttonEl.style.display =\n",
              "          google.colab.kernel.accessAllowed ? 'block' : 'none';\n",
              "\n",
              "        async function convertToInteractive(key) {\n",
              "          const element = document.querySelector('#df-74e3d813-45a5-4ab0-83bd-7832b830057b');\n",
              "          const dataTable =\n",
              "            await google.colab.kernel.invokeFunction('convertToInteractive',\n",
              "                                                     [key], {});\n",
              "          if (!dataTable) return;\n",
              "\n",
              "          const docLinkHtml = 'Like what you see? Visit the ' +\n",
              "            '<a target=\"_blank\" href=https://colab.research.google.com/notebooks/data_table.ipynb>data table notebook</a>'\n",
              "            + ' to learn more about interactive tables.';\n",
              "          element.innerHTML = '';\n",
              "          dataTable['output_type'] = 'display_data';\n",
              "          await google.colab.output.renderOutput(dataTable, element);\n",
              "          const docLink = document.createElement('div');\n",
              "          docLink.innerHTML = docLinkHtml;\n",
              "          element.appendChild(docLink);\n",
              "        }\n",
              "      </script>\n",
              "    </div>\n",
              "  </div>\n",
              "  "
            ]
          },
          "metadata": {},
          "execution_count": 6
        }
      ],
      "source": [
        "df.describe()"
      ]
    },
    {
      "cell_type": "markdown",
      "source": [
        "**2.5 Showing unique values of every columns**"
      ],
      "metadata": {
        "id": "UrjAUfZ6fEMR"
      }
    },
    {
      "cell_type": "code",
      "execution_count": null,
      "metadata": {
        "id": "vXtBhGl4Q0KI",
        "colab": {
          "base_uri": "https://localhost:8080/"
        },
        "outputId": "18ea6b22-c7d6-4db9-f702-4a04e35830e7"
      },
      "outputs": [
        {
          "output_type": "stream",
          "name": "stdout",
          "text": [
            "ID\n",
            "[     1      2      3 ... 154137 154138 154139]\n",
            "Target\n",
            "[0 1]\n",
            "age_band\n",
            "['3. 35 to 44' nan '1. <25' '4. 45 to 54' '2. 25 to 34' '7. 75+'\n",
            " '5. 55 to 64' '6. 65 to 74']\n",
            "gender\n",
            "['Male' nan 'Female']\n",
            "car_model\n",
            "['model_1' 'model_2' 'model_3' 'model_5' 'model_6' 'model_4' 'model_7'\n",
            " 'model_8' 'model_9' 'model_10' 'model_11' 'model_13' 'model_12'\n",
            " 'model_14' 'model_15' 'model_16' 'model_17' 'model_18' 'model_19']\n",
            "car_segment\n",
            "['LCV' 'Small/Medium' 'Large/SUV' 'Other']\n",
            "age_of_vehicle_years\n",
            "[ 9  6  5  8  7  1  3  4 10  2]\n",
            "sched_serv_warr\n",
            "[ 2 10  8  9  4  1  3  7  5  6]\n",
            "non_sched_serv_warr\n",
            "[10  3  9  5  4  8  1  6  2  7]\n",
            "sched_serv_paid\n",
            "[ 3 10  8  5  2  6  1  4  9  7]\n",
            "non_sched_serv_paid\n",
            "[ 7  4  9  3  1  2  6  5 10  8]\n",
            "total_paid_services\n",
            "[ 5  9 10  6  8  1  2  7  3  4]\n",
            "total_services\n",
            "[ 6 10  8  4  2  1  3  5  9  7]\n",
            "mth_since_last_serv\n",
            "[ 9  6  7  4  5  8  1  3 10  2]\n",
            "annualised_mileage\n",
            "[ 8 10  4  5  6  1  7  3  9  2]\n",
            "num_dealers_visited\n",
            "[10  7  6  9  4  5  2  1  3  8]\n",
            "num_serv_dealer_purchased\n",
            "[ 4 10  7  9  8  3  1  6  2  5]\n"
          ]
        }
      ],
      "source": [
        "for col in df.columns:\n",
        "  print(col)\n",
        "  print(df[col].unique())"
      ]
    },
    {
      "cell_type": "markdown",
      "metadata": {
        "id": "hDssPGOINOJS"
      },
      "source": [
        "## **3. Cleaning dataset**"
      ]
    },
    {
      "cell_type": "markdown",
      "source": [
        "**3.1 Creating a copy of the dataset**"
      ],
      "metadata": {
        "id": "nPACVePYfTJF"
      }
    },
    {
      "cell_type": "code",
      "execution_count": null,
      "metadata": {
        "id": "_Ug3EznRMI_w"
      },
      "outputs": [],
      "source": [
        "df_cleaned = df.copy()"
      ]
    },
    {
      "cell_type": "markdown",
      "source": [
        "**3.2 Dropping 'age_band' and 'gender' (too many null values) and 'ID' (irrelevant to target variable)**"
      ],
      "metadata": {
        "id": "yuWuHbw8f-9c"
      }
    },
    {
      "cell_type": "code",
      "execution_count": null,
      "metadata": {
        "id": "5QnQieyENUBs"
      },
      "outputs": [],
      "source": [
        "df_cleaned.drop(columns=['age_band', 'gender', 'ID'], axis=1, inplace=True)"
      ]
    },
    {
      "cell_type": "markdown",
      "source": [
        "**3.3 Number of remaining columns**"
      ],
      "metadata": {
        "id": "53T7w3aWgaze"
      }
    },
    {
      "cell_type": "code",
      "execution_count": null,
      "metadata": {
        "id": "1D0zZjyVOtJr",
        "colab": {
          "base_uri": "https://localhost:8080/"
        },
        "outputId": "c36856b0-7326-444f-f685-02a77f74a9f9"
      },
      "outputs": [
        {
          "output_type": "execute_result",
          "data": {
            "text/plain": [
              "(131337, 14)"
            ]
          },
          "metadata": {},
          "execution_count": 10
        }
      ],
      "source": [
        "df_cleaned.shape"
      ]
    },
    {
      "cell_type": "markdown",
      "source": [
        "**3.4 Checking for null values**"
      ],
      "metadata": {
        "id": "HeexnQn3ls2G"
      }
    },
    {
      "cell_type": "code",
      "execution_count": null,
      "metadata": {
        "id": "ANbG2PKnPbGm",
        "colab": {
          "base_uri": "https://localhost:8080/"
        },
        "outputId": "465ff406-5c06-4ae9-fdeb-c0bde03089cf"
      },
      "outputs": [
        {
          "output_type": "execute_result",
          "data": {
            "text/plain": [
              "Target                       0\n",
              "car_model                    0\n",
              "car_segment                  0\n",
              "age_of_vehicle_years         0\n",
              "sched_serv_warr              0\n",
              "non_sched_serv_warr          0\n",
              "sched_serv_paid              0\n",
              "non_sched_serv_paid          0\n",
              "total_paid_services          0\n",
              "total_services               0\n",
              "mth_since_last_serv          0\n",
              "annualised_mileage           0\n",
              "num_dealers_visited          0\n",
              "num_serv_dealer_purchased    0\n",
              "dtype: int64"
            ]
          },
          "metadata": {},
          "execution_count": 11
        }
      ],
      "source": [
        "df_cleaned.isna().sum()"
      ]
    },
    {
      "cell_type": "markdown",
      "metadata": {
        "id": "Zcynox2yRtJF"
      },
      "source": [
        "## **4. Preparing dataset**"
      ]
    },
    {
      "cell_type": "markdown",
      "source": [
        "**4.1 Showing unique values in 'car_model'**"
      ],
      "metadata": {
        "id": "PY_q8260l9yw"
      }
    },
    {
      "cell_type": "code",
      "execution_count": null,
      "metadata": {
        "id": "16phXljhU92o",
        "colab": {
          "base_uri": "https://localhost:8080/"
        },
        "outputId": "aaa2bb97-d39e-4031-f397-3a8e197e1335"
      },
      "outputs": [
        {
          "output_type": "execute_result",
          "data": {
            "text/plain": [
              "array(['model_1', 'model_2', 'model_3', 'model_5', 'model_6', 'model_4',\n",
              "       'model_7', 'model_8', 'model_9', 'model_10', 'model_11',\n",
              "       'model_13', 'model_12', 'model_14', 'model_15', 'model_16',\n",
              "       'model_17', 'model_18', 'model_19'], dtype=object)"
            ]
          },
          "metadata": {},
          "execution_count": 12
        }
      ],
      "source": [
        "df_cleaned.car_model.unique()"
      ]
    },
    {
      "cell_type": "markdown",
      "metadata": {
        "id": "ehQ6zwlCThgG"
      },
      "source": [
        "**4.2 Importing OrdinalEncoder from sklearn.preprocessing**"
      ]
    },
    {
      "cell_type": "code",
      "execution_count": null,
      "metadata": {
        "id": "2pwJekPnRYdE"
      },
      "outputs": [],
      "source": [
        "from sklearn.preprocessing import OrdinalEncoder"
      ]
    },
    {
      "cell_type": "markdown",
      "source": [
        "**4.3 Creating dictionary containing the values**"
      ],
      "metadata": {
        "id": "C-snyZV6tt01"
      }
    },
    {
      "cell_type": "code",
      "execution_count": null,
      "metadata": {
        "id": "mLYNdMouR3kh"
      },
      "outputs": [],
      "source": [
        "car_model_categories = [['model_1', 'model_2', 'model_3', 'model_5', 'model_6', 'model_4',\n",
        "       'model_7', 'model_8', 'model_9', 'model_10', 'model_11',\n",
        "       'model_13', 'model_12', 'model_14', 'model_15', 'model_16',\n",
        "       'model_17', 'model_18', 'model_19']]"
      ]
    },
    {
      "cell_type": "markdown",
      "source": [
        "**4.4 Instantiating OrdinalEncoder class and saving it to a variable**"
      ],
      "metadata": {
        "id": "xvVH44UivtYM"
      }
    },
    {
      "cell_type": "code",
      "execution_count": null,
      "metadata": {
        "id": "4f1c9CGuSBI-"
      },
      "outputs": [],
      "source": [
        "car_model_encoded = OrdinalEncoder(categories = car_model_categories)"
      ]
    },
    {
      "cell_type": "markdown",
      "source": [
        "**4.5 Using the encoder to transform the columm**"
      ],
      "metadata": {
        "id": "SZSdngiNwRpI"
      }
    },
    {
      "cell_type": "code",
      "execution_count": null,
      "metadata": {
        "id": "mYN9Vzi-SNFx"
      },
      "outputs": [],
      "source": [
        "df_cleaned['car_model_categories'] = car_model_encoded.fit_transform(df_cleaned[['car_model']])"
      ]
    },
    {
      "cell_type": "markdown",
      "source": [
        "**4.6 Removing the previous column**"
      ],
      "metadata": {
        "id": "hmAJRi5PxFzU"
      }
    },
    {
      "cell_type": "code",
      "execution_count": null,
      "metadata": {
        "id": "oa7kr-HYSxhV",
        "colab": {
          "base_uri": "https://localhost:8080/"
        },
        "outputId": "a42fe0f9-b54d-43e8-e384-3a3d953cbe26"
      },
      "outputs": [
        {
          "output_type": "execute_result",
          "data": {
            "text/plain": [
              "array([ 0.,  1.,  2.,  3.,  4.,  5.,  6.,  7.,  8.,  9., 10., 11., 12.,\n",
              "       13., 14., 15., 16., 17., 18.])"
            ]
          },
          "metadata": {},
          "execution_count": 17
        }
      ],
      "source": [
        "df_cleaned['car_model'] = df_cleaned['car_model_categories']\n",
        "df_cleaned.drop('car_model_categories', axis=1, inplace=True)\n",
        "\n",
        "df_cleaned['car_model'].unique()"
      ]
    },
    {
      "cell_type": "markdown",
      "source": [
        "**4.7 Creating dictionary containing 'car_segment' values**"
      ],
      "metadata": {
        "id": "zfNFPHFHz5Sj"
      }
    },
    {
      "cell_type": "code",
      "execution_count": null,
      "metadata": {
        "id": "Q_qTwZjiVMUS",
        "colab": {
          "base_uri": "https://localhost:8080/"
        },
        "outputId": "7586291c-7213-4ba0-a3dc-7e80dfae0d24"
      },
      "outputs": [
        {
          "output_type": "execute_result",
          "data": {
            "text/plain": [
              "array(['LCV', 'Small/Medium', 'Large/SUV', 'Other'], dtype=object)"
            ]
          },
          "metadata": {},
          "execution_count": 18
        }
      ],
      "source": [
        "df_cleaned['car_segment'].unique()"
      ]
    },
    {
      "cell_type": "code",
      "execution_count": null,
      "metadata": {
        "id": "IN1LfQGrWOBx"
      },
      "outputs": [],
      "source": [
        "df_cleaned.car_segment = df_cleaned.car_segment.map({'LCV':0, 'Small/Medium':1, 'Large/SUV':2, 'Other':3})"
      ]
    },
    {
      "cell_type": "markdown",
      "source": [
        "**4.8 Assigning target variable to a variable**"
      ],
      "metadata": {
        "id": "xruFy8sl0DCg"
      }
    },
    {
      "cell_type": "code",
      "source": [
        "df_cleaned.head()"
      ],
      "metadata": {
        "colab": {
          "base_uri": "https://localhost:8080/",
          "height": 270
        },
        "id": "8aA2TQ6VX44T",
        "outputId": "3389d100-fb29-4d80-d24d-da9bf3d5749f"
      },
      "execution_count": null,
      "outputs": [
        {
          "output_type": "execute_result",
          "data": {
            "text/plain": [
              "   Target  car_model  car_segment  age_of_vehicle_years  sched_serv_warr  \\\n",
              "0       0        0.0            0                     9                2   \n",
              "1       0        1.0            1                     6               10   \n",
              "2       0        2.0            2                     9               10   \n",
              "3       0        2.0            2                     5                8   \n",
              "4       0        1.0            1                     8                9   \n",
              "\n",
              "   non_sched_serv_warr  sched_serv_paid  non_sched_serv_paid  \\\n",
              "0                   10                3                    7   \n",
              "1                    3               10                    4   \n",
              "2                    9               10                    9   \n",
              "3                    5                8                    4   \n",
              "4                    4               10                    7   \n",
              "\n",
              "   total_paid_services  total_services  mth_since_last_serv  \\\n",
              "0                    5               6                    9   \n",
              "1                    9              10                    6   \n",
              "2                   10              10                    7   \n",
              "3                    5               6                    4   \n",
              "4                    9               8                    5   \n",
              "\n",
              "   annualised_mileage  num_dealers_visited  num_serv_dealer_purchased  \n",
              "0                   8                   10                          4  \n",
              "1                  10                    7                         10  \n",
              "2                  10                    6                         10  \n",
              "3                  10                    9                          7  \n",
              "4                   4                    4                          9  "
            ],
            "text/html": [
              "\n",
              "  <div id=\"df-c39861a1-b197-4ebe-8e6d-463608aa9e59\">\n",
              "    <div class=\"colab-df-container\">\n",
              "      <div>\n",
              "<style scoped>\n",
              "    .dataframe tbody tr th:only-of-type {\n",
              "        vertical-align: middle;\n",
              "    }\n",
              "\n",
              "    .dataframe tbody tr th {\n",
              "        vertical-align: top;\n",
              "    }\n",
              "\n",
              "    .dataframe thead th {\n",
              "        text-align: right;\n",
              "    }\n",
              "</style>\n",
              "<table border=\"1\" class=\"dataframe\">\n",
              "  <thead>\n",
              "    <tr style=\"text-align: right;\">\n",
              "      <th></th>\n",
              "      <th>Target</th>\n",
              "      <th>car_model</th>\n",
              "      <th>car_segment</th>\n",
              "      <th>age_of_vehicle_years</th>\n",
              "      <th>sched_serv_warr</th>\n",
              "      <th>non_sched_serv_warr</th>\n",
              "      <th>sched_serv_paid</th>\n",
              "      <th>non_sched_serv_paid</th>\n",
              "      <th>total_paid_services</th>\n",
              "      <th>total_services</th>\n",
              "      <th>mth_since_last_serv</th>\n",
              "      <th>annualised_mileage</th>\n",
              "      <th>num_dealers_visited</th>\n",
              "      <th>num_serv_dealer_purchased</th>\n",
              "    </tr>\n",
              "  </thead>\n",
              "  <tbody>\n",
              "    <tr>\n",
              "      <th>0</th>\n",
              "      <td>0</td>\n",
              "      <td>0.0</td>\n",
              "      <td>0</td>\n",
              "      <td>9</td>\n",
              "      <td>2</td>\n",
              "      <td>10</td>\n",
              "      <td>3</td>\n",
              "      <td>7</td>\n",
              "      <td>5</td>\n",
              "      <td>6</td>\n",
              "      <td>9</td>\n",
              "      <td>8</td>\n",
              "      <td>10</td>\n",
              "      <td>4</td>\n",
              "    </tr>\n",
              "    <tr>\n",
              "      <th>1</th>\n",
              "      <td>0</td>\n",
              "      <td>1.0</td>\n",
              "      <td>1</td>\n",
              "      <td>6</td>\n",
              "      <td>10</td>\n",
              "      <td>3</td>\n",
              "      <td>10</td>\n",
              "      <td>4</td>\n",
              "      <td>9</td>\n",
              "      <td>10</td>\n",
              "      <td>6</td>\n",
              "      <td>10</td>\n",
              "      <td>7</td>\n",
              "      <td>10</td>\n",
              "    </tr>\n",
              "    <tr>\n",
              "      <th>2</th>\n",
              "      <td>0</td>\n",
              "      <td>2.0</td>\n",
              "      <td>2</td>\n",
              "      <td>9</td>\n",
              "      <td>10</td>\n",
              "      <td>9</td>\n",
              "      <td>10</td>\n",
              "      <td>9</td>\n",
              "      <td>10</td>\n",
              "      <td>10</td>\n",
              "      <td>7</td>\n",
              "      <td>10</td>\n",
              "      <td>6</td>\n",
              "      <td>10</td>\n",
              "    </tr>\n",
              "    <tr>\n",
              "      <th>3</th>\n",
              "      <td>0</td>\n",
              "      <td>2.0</td>\n",
              "      <td>2</td>\n",
              "      <td>5</td>\n",
              "      <td>8</td>\n",
              "      <td>5</td>\n",
              "      <td>8</td>\n",
              "      <td>4</td>\n",
              "      <td>5</td>\n",
              "      <td>6</td>\n",
              "      <td>4</td>\n",
              "      <td>10</td>\n",
              "      <td>9</td>\n",
              "      <td>7</td>\n",
              "    </tr>\n",
              "    <tr>\n",
              "      <th>4</th>\n",
              "      <td>0</td>\n",
              "      <td>1.0</td>\n",
              "      <td>1</td>\n",
              "      <td>8</td>\n",
              "      <td>9</td>\n",
              "      <td>4</td>\n",
              "      <td>10</td>\n",
              "      <td>7</td>\n",
              "      <td>9</td>\n",
              "      <td>8</td>\n",
              "      <td>5</td>\n",
              "      <td>4</td>\n",
              "      <td>4</td>\n",
              "      <td>9</td>\n",
              "    </tr>\n",
              "  </tbody>\n",
              "</table>\n",
              "</div>\n",
              "      <button class=\"colab-df-convert\" onclick=\"convertToInteractive('df-c39861a1-b197-4ebe-8e6d-463608aa9e59')\"\n",
              "              title=\"Convert this dataframe to an interactive table.\"\n",
              "              style=\"display:none;\">\n",
              "        \n",
              "  <svg xmlns=\"http://www.w3.org/2000/svg\" height=\"24px\"viewBox=\"0 0 24 24\"\n",
              "       width=\"24px\">\n",
              "    <path d=\"M0 0h24v24H0V0z\" fill=\"none\"/>\n",
              "    <path d=\"M18.56 5.44l.94 2.06.94-2.06 2.06-.94-2.06-.94-.94-2.06-.94 2.06-2.06.94zm-11 1L8.5 8.5l.94-2.06 2.06-.94-2.06-.94L8.5 2.5l-.94 2.06-2.06.94zm10 10l.94 2.06.94-2.06 2.06-.94-2.06-.94-.94-2.06-.94 2.06-2.06.94z\"/><path d=\"M17.41 7.96l-1.37-1.37c-.4-.4-.92-.59-1.43-.59-.52 0-1.04.2-1.43.59L10.3 9.45l-7.72 7.72c-.78.78-.78 2.05 0 2.83L4 21.41c.39.39.9.59 1.41.59.51 0 1.02-.2 1.41-.59l7.78-7.78 2.81-2.81c.8-.78.8-2.07 0-2.86zM5.41 20L4 18.59l7.72-7.72 1.47 1.35L5.41 20z\"/>\n",
              "  </svg>\n",
              "      </button>\n",
              "      \n",
              "  <style>\n",
              "    .colab-df-container {\n",
              "      display:flex;\n",
              "      flex-wrap:wrap;\n",
              "      gap: 12px;\n",
              "    }\n",
              "\n",
              "    .colab-df-convert {\n",
              "      background-color: #E8F0FE;\n",
              "      border: none;\n",
              "      border-radius: 50%;\n",
              "      cursor: pointer;\n",
              "      display: none;\n",
              "      fill: #1967D2;\n",
              "      height: 32px;\n",
              "      padding: 0 0 0 0;\n",
              "      width: 32px;\n",
              "    }\n",
              "\n",
              "    .colab-df-convert:hover {\n",
              "      background-color: #E2EBFA;\n",
              "      box-shadow: 0px 1px 2px rgba(60, 64, 67, 0.3), 0px 1px 3px 1px rgba(60, 64, 67, 0.15);\n",
              "      fill: #174EA6;\n",
              "    }\n",
              "\n",
              "    [theme=dark] .colab-df-convert {\n",
              "      background-color: #3B4455;\n",
              "      fill: #D2E3FC;\n",
              "    }\n",
              "\n",
              "    [theme=dark] .colab-df-convert:hover {\n",
              "      background-color: #434B5C;\n",
              "      box-shadow: 0px 1px 3px 1px rgba(0, 0, 0, 0.15);\n",
              "      filter: drop-shadow(0px 1px 2px rgba(0, 0, 0, 0.3));\n",
              "      fill: #FFFFFF;\n",
              "    }\n",
              "  </style>\n",
              "\n",
              "      <script>\n",
              "        const buttonEl =\n",
              "          document.querySelector('#df-c39861a1-b197-4ebe-8e6d-463608aa9e59 button.colab-df-convert');\n",
              "        buttonEl.style.display =\n",
              "          google.colab.kernel.accessAllowed ? 'block' : 'none';\n",
              "\n",
              "        async function convertToInteractive(key) {\n",
              "          const element = document.querySelector('#df-c39861a1-b197-4ebe-8e6d-463608aa9e59');\n",
              "          const dataTable =\n",
              "            await google.colab.kernel.invokeFunction('convertToInteractive',\n",
              "                                                     [key], {});\n",
              "          if (!dataTable) return;\n",
              "\n",
              "          const docLinkHtml = 'Like what you see? Visit the ' +\n",
              "            '<a target=\"_blank\" href=https://colab.research.google.com/notebooks/data_table.ipynb>data table notebook</a>'\n",
              "            + ' to learn more about interactive tables.';\n",
              "          element.innerHTML = '';\n",
              "          dataTable['output_type'] = 'display_data';\n",
              "          await google.colab.output.renderOutput(dataTable, element);\n",
              "          const docLink = document.createElement('div');\n",
              "          docLink.innerHTML = docLinkHtml;\n",
              "          element.appendChild(docLink);\n",
              "        }\n",
              "      </script>\n",
              "    </div>\n",
              "  </div>\n",
              "  "
            ]
          },
          "metadata": {},
          "execution_count": 20
        }
      ]
    },
    {
      "cell_type": "code",
      "execution_count": null,
      "metadata": {
        "id": "PRbbA00kPpcw"
      },
      "outputs": [],
      "source": [
        "y = df_cleaned.pop('Target')"
      ]
    },
    {
      "cell_type": "markdown",
      "source": [
        "**4.9 Assigning features to a variable**"
      ],
      "metadata": {
        "id": "ph0lGUcN0L4U"
      }
    },
    {
      "cell_type": "code",
      "execution_count": null,
      "metadata": {
        "id": "5qDE-uPVSQGb"
      },
      "outputs": [],
      "source": [
        "X = df_cleaned"
      ]
    },
    {
      "cell_type": "markdown",
      "source": [
        "**4.10 Importing train_test_split from sklearn**"
      ],
      "metadata": {
        "id": "NpIZbl0z0ZqK"
      }
    },
    {
      "cell_type": "code",
      "execution_count": null,
      "metadata": {
        "id": "vp44G7ooSTkq"
      },
      "outputs": [],
      "source": [
        "from sklearn.model_selection import train_test_split"
      ]
    },
    {
      "cell_type": "markdown",
      "source": [
        "**4.11 Splitting target variable and features into training and testing datasets**"
      ],
      "metadata": {
        "id": "A5EMdjRL1qrw"
      }
    },
    {
      "cell_type": "code",
      "execution_count": null,
      "metadata": {
        "id": "sOcIv6xZSYz4"
      },
      "outputs": [],
      "source": [
        "X_data, X_test, y_data, y_test = train_test_split(X, y, test_size=0.2, random_state=3, stratify=y)"
      ]
    },
    {
      "cell_type": "markdown",
      "source": [
        "**4.12 Splitting target variable and features into training and validation datasets**"
      ],
      "metadata": {
        "id": "bKEDvmel1zIE"
      }
    },
    {
      "cell_type": "code",
      "execution_count": null,
      "metadata": {
        "id": "BoecXhTdSjUU"
      },
      "outputs": [],
      "source": [
        "X_train, X_val, y_train, y_val = train_test_split(X_data, y_data, test_size=0.2, random_state=3, stratify=y_data)"
      ]
    },
    {
      "cell_type": "markdown",
      "source": [
        "**4.13 Showing the distribution of target variable after splitting datasets**"
      ],
      "metadata": {
        "id": "RyLX3zRr13jD"
      }
    },
    {
      "cell_type": "code",
      "execution_count": null,
      "metadata": {
        "id": "8PH1_ZwZzI9Q",
        "colab": {
          "base_uri": "https://localhost:8080/"
        },
        "outputId": "62e430ff-eac7-4876-9670-a63fc73eac5f"
      },
      "outputs": [
        {
          "output_type": "stream",
          "name": "stdout",
          "text": [
            "0    0.973184\n",
            "1    0.026816\n",
            "Name: Target, dtype: float64\n",
            "0    0.973208\n",
            "1    0.026792\n",
            "Name: Target, dtype: float64\n",
            "0    0.973199\n",
            "1    0.026801\n",
            "Name: Target, dtype: float64\n"
          ]
        }
      ],
      "source": [
        "print(y_train.value_counts(normalize=True))\n",
        "print(y_val.value_counts(normalize=True))\n",
        "print(y_test.value_counts(normalize=True))"
      ]
    },
    {
      "cell_type": "markdown",
      "metadata": {
        "id": "QjNe6VzcS3si"
      },
      "source": [
        "## **5. Assessing baseline**"
      ]
    },
    {
      "cell_type": "markdown",
      "source": [
        "**5.1 Finding the mode of target variable**"
      ],
      "metadata": {
        "id": "gkWBRFSc2S2i"
      }
    },
    {
      "cell_type": "code",
      "execution_count": null,
      "metadata": {
        "id": "Y1IGEJVhS7Ng"
      },
      "outputs": [],
      "source": [
        "y_mode = y.mode()"
      ]
    },
    {
      "cell_type": "markdown",
      "source": [
        "**5.2 Creating a numpy array and assigning the value to a variable**"
      ],
      "metadata": {
        "id": "-6KXvr1s2clV"
      }
    },
    {
      "cell_type": "code",
      "execution_count": null,
      "metadata": {
        "id": "C2w0nVVkS8-k"
      },
      "outputs": [],
      "source": [
        "y_base = np.full(y_train.shape, y_mode)"
      ]
    },
    {
      "cell_type": "markdown",
      "source": [
        "**5.3 Importing accuracy and f1 scores from sklearn**"
      ],
      "metadata": {
        "id": "7kNoWJMvRkSv"
      }
    },
    {
      "cell_type": "code",
      "execution_count": null,
      "metadata": {
        "id": "2mtHvlhiTBtr"
      },
      "outputs": [],
      "source": [
        "from sklearn.metrics import accuracy_score, f1_score"
      ]
    },
    {
      "cell_type": "markdown",
      "source": [
        "**5.4 Calculating accuracy and f1 score**"
      ],
      "metadata": {
        "id": "4tSjk7FxRseo"
      }
    },
    {
      "cell_type": "code",
      "execution_count": null,
      "metadata": {
        "id": "ILr6jwzzTF_N",
        "colab": {
          "base_uri": "https://localhost:8080/"
        },
        "outputId": "4d3d5760-cb63-4237-f5ed-fe87e727673b"
      },
      "outputs": [
        {
          "output_type": "stream",
          "name": "stdout",
          "text": [
            "0.9731842246148356\n",
            "0.4932049488713101\n"
          ]
        }
      ],
      "source": [
        "print(accuracy_score(y_train, y_base))\n",
        "print(f1_score(y_train, y_base, average='macro'))"
      ]
    },
    {
      "cell_type": "markdown",
      "metadata": {
        "id": "TwxxrFVFUinQ"
      },
      "source": [
        "## **6. Training Logistic Regression Classifier**"
      ]
    },
    {
      "cell_type": "markdown",
      "source": [
        "**6.1 Importing LogisticRegression from sklearn**"
      ],
      "metadata": {
        "id": "k0GxXZXER_jo"
      }
    },
    {
      "cell_type": "code",
      "execution_count": null,
      "metadata": {
        "id": "_SYb8d3tUmd7"
      },
      "outputs": [],
      "source": [
        "from sklearn.linear_model import LogisticRegression"
      ]
    },
    {
      "cell_type": "markdown",
      "source": [
        "**6.2 Training the model**"
      ],
      "metadata": {
        "id": "EPnW17svSJR9"
      }
    },
    {
      "cell_type": "code",
      "execution_count": null,
      "metadata": {
        "id": "FY-8yLP1UpR5",
        "colab": {
          "base_uri": "https://localhost:8080/",
          "height": 75
        },
        "outputId": "89fc5c12-cdf4-4887-9e6c-14de9246c97a"
      },
      "outputs": [
        {
          "output_type": "execute_result",
          "data": {
            "text/plain": [
              "LogisticRegression()"
            ],
            "text/html": [
              "<style>#sk-container-id-1 {color: black;background-color: white;}#sk-container-id-1 pre{padding: 0;}#sk-container-id-1 div.sk-toggleable {background-color: white;}#sk-container-id-1 label.sk-toggleable__label {cursor: pointer;display: block;width: 100%;margin-bottom: 0;padding: 0.3em;box-sizing: border-box;text-align: center;}#sk-container-id-1 label.sk-toggleable__label-arrow:before {content: \"▸\";float: left;margin-right: 0.25em;color: #696969;}#sk-container-id-1 label.sk-toggleable__label-arrow:hover:before {color: black;}#sk-container-id-1 div.sk-estimator:hover label.sk-toggleable__label-arrow:before {color: black;}#sk-container-id-1 div.sk-toggleable__content {max-height: 0;max-width: 0;overflow: hidden;text-align: left;background-color: #f0f8ff;}#sk-container-id-1 div.sk-toggleable__content pre {margin: 0.2em;color: black;border-radius: 0.25em;background-color: #f0f8ff;}#sk-container-id-1 input.sk-toggleable__control:checked~div.sk-toggleable__content {max-height: 200px;max-width: 100%;overflow: auto;}#sk-container-id-1 input.sk-toggleable__control:checked~label.sk-toggleable__label-arrow:before {content: \"▾\";}#sk-container-id-1 div.sk-estimator input.sk-toggleable__control:checked~label.sk-toggleable__label {background-color: #d4ebff;}#sk-container-id-1 div.sk-label input.sk-toggleable__control:checked~label.sk-toggleable__label {background-color: #d4ebff;}#sk-container-id-1 input.sk-hidden--visually {border: 0;clip: rect(1px 1px 1px 1px);clip: rect(1px, 1px, 1px, 1px);height: 1px;margin: -1px;overflow: hidden;padding: 0;position: absolute;width: 1px;}#sk-container-id-1 div.sk-estimator {font-family: monospace;background-color: #f0f8ff;border: 1px dotted black;border-radius: 0.25em;box-sizing: border-box;margin-bottom: 0.5em;}#sk-container-id-1 div.sk-estimator:hover {background-color: #d4ebff;}#sk-container-id-1 div.sk-parallel-item::after {content: \"\";width: 100%;border-bottom: 1px solid gray;flex-grow: 1;}#sk-container-id-1 div.sk-label:hover label.sk-toggleable__label {background-color: #d4ebff;}#sk-container-id-1 div.sk-serial::before {content: \"\";position: absolute;border-left: 1px solid gray;box-sizing: border-box;top: 0;bottom: 0;left: 50%;z-index: 0;}#sk-container-id-1 div.sk-serial {display: flex;flex-direction: column;align-items: center;background-color: white;padding-right: 0.2em;padding-left: 0.2em;position: relative;}#sk-container-id-1 div.sk-item {position: relative;z-index: 1;}#sk-container-id-1 div.sk-parallel {display: flex;align-items: stretch;justify-content: center;background-color: white;position: relative;}#sk-container-id-1 div.sk-item::before, #sk-container-id-1 div.sk-parallel-item::before {content: \"\";position: absolute;border-left: 1px solid gray;box-sizing: border-box;top: 0;bottom: 0;left: 50%;z-index: -1;}#sk-container-id-1 div.sk-parallel-item {display: flex;flex-direction: column;z-index: 1;position: relative;background-color: white;}#sk-container-id-1 div.sk-parallel-item:first-child::after {align-self: flex-end;width: 50%;}#sk-container-id-1 div.sk-parallel-item:last-child::after {align-self: flex-start;width: 50%;}#sk-container-id-1 div.sk-parallel-item:only-child::after {width: 0;}#sk-container-id-1 div.sk-dashed-wrapped {border: 1px dashed gray;margin: 0 0.4em 0.5em 0.4em;box-sizing: border-box;padding-bottom: 0.4em;background-color: white;}#sk-container-id-1 div.sk-label label {font-family: monospace;font-weight: bold;display: inline-block;line-height: 1.2em;}#sk-container-id-1 div.sk-label-container {text-align: center;}#sk-container-id-1 div.sk-container {/* jupyter's `normalize.less` sets `[hidden] { display: none; }` but bootstrap.min.css set `[hidden] { display: none !important; }` so we also need the `!important` here to be able to override the default hidden behavior on the sphinx rendered scikit-learn.org. See: https://github.com/scikit-learn/scikit-learn/issues/21755 */display: inline-block !important;position: relative;}#sk-container-id-1 div.sk-text-repr-fallback {display: none;}</style><div id=\"sk-container-id-1\" class=\"sk-top-container\"><div class=\"sk-text-repr-fallback\"><pre>LogisticRegression()</pre><b>In a Jupyter environment, please rerun this cell to show the HTML representation or trust the notebook. <br />On GitHub, the HTML representation is unable to render, please try loading this page with nbviewer.org.</b></div><div class=\"sk-container\" hidden><div class=\"sk-item\"><div class=\"sk-estimator sk-toggleable\"><input class=\"sk-toggleable__control sk-hidden--visually\" id=\"sk-estimator-id-1\" type=\"checkbox\" checked><label for=\"sk-estimator-id-1\" class=\"sk-toggleable__label sk-toggleable__label-arrow\">LogisticRegression</label><div class=\"sk-toggleable__content\"><pre>LogisticRegression()</pre></div></div></div></div></div>"
            ]
          },
          "metadata": {},
          "execution_count": 35
        }
      ],
      "source": [
        "log_reg = LogisticRegression()\n",
        "log_reg.fit(X_train, y_train)"
      ]
    },
    {
      "cell_type": "markdown",
      "source": [
        "**6.3 Predicting the outcome of X_train**"
      ],
      "metadata": {
        "id": "qZuEF0P6STn4"
      }
    },
    {
      "cell_type": "code",
      "execution_count": null,
      "metadata": {
        "id": "nlwFtxwJXXEW"
      },
      "outputs": [],
      "source": [
        "y_train_preds = log_reg.predict(X_train)"
      ]
    },
    {
      "cell_type": "markdown",
      "source": [
        "**6.4 Calculating accuracy and f1 scores**"
      ],
      "metadata": {
        "id": "WNoben8TVTUj"
      }
    },
    {
      "cell_type": "code",
      "execution_count": null,
      "metadata": {
        "id": "mbnbXD3UUwYD",
        "colab": {
          "base_uri": "https://localhost:8080/"
        },
        "outputId": "7346d943-e6e1-4a21-e5cd-a1ffdeeea462"
      },
      "outputs": [
        {
          "output_type": "stream",
          "name": "stdout",
          "text": [
            "0.9776931770864316\n",
            "0.6631727041580627\n"
          ]
        }
      ],
      "source": [
        "print(accuracy_score(y_train, y_train_preds))\n",
        "print(f1_score(y_train, y_train_preds, average='macro'))"
      ]
    },
    {
      "cell_type": "markdown",
      "source": [
        "**6.5 Predicting the outcome of X_val**"
      ],
      "metadata": {
        "id": "tm3g7a7sV4EZ"
      }
    },
    {
      "cell_type": "code",
      "execution_count": null,
      "metadata": {
        "id": "bNx9OgZ6Xdsp"
      },
      "outputs": [],
      "source": [
        "y_val_preds = log_reg.predict(X_val)"
      ]
    },
    {
      "cell_type": "markdown",
      "source": [
        "**6.6 Calculating accuracy and f1 scores**"
      ],
      "metadata": {
        "id": "4RWIwB0mV9j-"
      }
    },
    {
      "cell_type": "code",
      "execution_count": null,
      "metadata": {
        "id": "rg1lnwkSXnfB",
        "colab": {
          "base_uri": "https://localhost:8080/"
        },
        "outputId": "0db9b5b6-e8c3-4142-ae56-66d2ca440319"
      },
      "outputs": [
        {
          "output_type": "stream",
          "name": "stdout",
          "text": [
            "0.977348434377082\n",
            "0.6542411924119241\n"
          ]
        }
      ],
      "source": [
        "print(accuracy_score(y_val, y_val_preds))\n",
        "print(f1_score(y_val, y_val_preds, average='macro'))"
      ]
    },
    {
      "cell_type": "markdown",
      "source": [
        "**6.7 Predicting the outcome of X_test**"
      ],
      "metadata": {
        "id": "H8ftNfh8WHBQ"
      }
    },
    {
      "cell_type": "code",
      "execution_count": null,
      "metadata": {
        "id": "ju0SBSn5Xw1s"
      },
      "outputs": [],
      "source": [
        "y_test_preds = log_reg.predict(X_test)"
      ]
    },
    {
      "cell_type": "markdown",
      "source": [
        "**6.8 Calculating accuracy and f1 scores**"
      ],
      "metadata": {
        "id": "vZsVCUkZWKed"
      }
    },
    {
      "cell_type": "code",
      "execution_count": null,
      "metadata": {
        "id": "SIUZ4izCX1x0",
        "colab": {
          "base_uri": "https://localhost:8080/"
        },
        "outputId": "9bcb1e0f-f81b-4ca1-da3d-a0d3500f85bd"
      },
      "outputs": [
        {
          "output_type": "stream",
          "name": "stdout",
          "text": [
            "0.9774630729404599\n",
            "0.6563706850375743\n"
          ]
        }
      ],
      "source": [
        "print(accuracy_score(y_test, y_test_preds))\n",
        "print(f1_score(y_test, y_test_preds, average='macro'))"
      ]
    },
    {
      "cell_type": "markdown",
      "metadata": {
        "id": "k_6O9w66aWT1"
      },
      "source": [
        "## **7. Training Logistic Regression Classifier with L1 and L2 Regularisation**"
      ]
    },
    {
      "cell_type": "markdown",
      "source": [
        "**7.1 Training the model with L1 and L2 regularisation**"
      ],
      "metadata": {
        "id": "MyiGB75tWVyw"
      }
    },
    {
      "cell_type": "code",
      "execution_count": null,
      "metadata": {
        "id": "ZmgMfYqXadq_",
        "colab": {
          "base_uri": "https://localhost:8080/",
          "height": 75
        },
        "outputId": "25c67042-c789-44ea-d531-d6adc1e3a66a"
      },
      "outputs": [
        {
          "output_type": "execute_result",
          "data": {
            "text/plain": [
              "LogisticRegression(l1_ratio=0.5, penalty='elasticnet', solver='saga')"
            ],
            "text/html": [
              "<style>#sk-container-id-2 {color: black;background-color: white;}#sk-container-id-2 pre{padding: 0;}#sk-container-id-2 div.sk-toggleable {background-color: white;}#sk-container-id-2 label.sk-toggleable__label {cursor: pointer;display: block;width: 100%;margin-bottom: 0;padding: 0.3em;box-sizing: border-box;text-align: center;}#sk-container-id-2 label.sk-toggleable__label-arrow:before {content: \"▸\";float: left;margin-right: 0.25em;color: #696969;}#sk-container-id-2 label.sk-toggleable__label-arrow:hover:before {color: black;}#sk-container-id-2 div.sk-estimator:hover label.sk-toggleable__label-arrow:before {color: black;}#sk-container-id-2 div.sk-toggleable__content {max-height: 0;max-width: 0;overflow: hidden;text-align: left;background-color: #f0f8ff;}#sk-container-id-2 div.sk-toggleable__content pre {margin: 0.2em;color: black;border-radius: 0.25em;background-color: #f0f8ff;}#sk-container-id-2 input.sk-toggleable__control:checked~div.sk-toggleable__content {max-height: 200px;max-width: 100%;overflow: auto;}#sk-container-id-2 input.sk-toggleable__control:checked~label.sk-toggleable__label-arrow:before {content: \"▾\";}#sk-container-id-2 div.sk-estimator input.sk-toggleable__control:checked~label.sk-toggleable__label {background-color: #d4ebff;}#sk-container-id-2 div.sk-label input.sk-toggleable__control:checked~label.sk-toggleable__label {background-color: #d4ebff;}#sk-container-id-2 input.sk-hidden--visually {border: 0;clip: rect(1px 1px 1px 1px);clip: rect(1px, 1px, 1px, 1px);height: 1px;margin: -1px;overflow: hidden;padding: 0;position: absolute;width: 1px;}#sk-container-id-2 div.sk-estimator {font-family: monospace;background-color: #f0f8ff;border: 1px dotted black;border-radius: 0.25em;box-sizing: border-box;margin-bottom: 0.5em;}#sk-container-id-2 div.sk-estimator:hover {background-color: #d4ebff;}#sk-container-id-2 div.sk-parallel-item::after {content: \"\";width: 100%;border-bottom: 1px solid gray;flex-grow: 1;}#sk-container-id-2 div.sk-label:hover label.sk-toggleable__label {background-color: #d4ebff;}#sk-container-id-2 div.sk-serial::before {content: \"\";position: absolute;border-left: 1px solid gray;box-sizing: border-box;top: 0;bottom: 0;left: 50%;z-index: 0;}#sk-container-id-2 div.sk-serial {display: flex;flex-direction: column;align-items: center;background-color: white;padding-right: 0.2em;padding-left: 0.2em;position: relative;}#sk-container-id-2 div.sk-item {position: relative;z-index: 1;}#sk-container-id-2 div.sk-parallel {display: flex;align-items: stretch;justify-content: center;background-color: white;position: relative;}#sk-container-id-2 div.sk-item::before, #sk-container-id-2 div.sk-parallel-item::before {content: \"\";position: absolute;border-left: 1px solid gray;box-sizing: border-box;top: 0;bottom: 0;left: 50%;z-index: -1;}#sk-container-id-2 div.sk-parallel-item {display: flex;flex-direction: column;z-index: 1;position: relative;background-color: white;}#sk-container-id-2 div.sk-parallel-item:first-child::after {align-self: flex-end;width: 50%;}#sk-container-id-2 div.sk-parallel-item:last-child::after {align-self: flex-start;width: 50%;}#sk-container-id-2 div.sk-parallel-item:only-child::after {width: 0;}#sk-container-id-2 div.sk-dashed-wrapped {border: 1px dashed gray;margin: 0 0.4em 0.5em 0.4em;box-sizing: border-box;padding-bottom: 0.4em;background-color: white;}#sk-container-id-2 div.sk-label label {font-family: monospace;font-weight: bold;display: inline-block;line-height: 1.2em;}#sk-container-id-2 div.sk-label-container {text-align: center;}#sk-container-id-2 div.sk-container {/* jupyter's `normalize.less` sets `[hidden] { display: none; }` but bootstrap.min.css set `[hidden] { display: none !important; }` so we also need the `!important` here to be able to override the default hidden behavior on the sphinx rendered scikit-learn.org. See: https://github.com/scikit-learn/scikit-learn/issues/21755 */display: inline-block !important;position: relative;}#sk-container-id-2 div.sk-text-repr-fallback {display: none;}</style><div id=\"sk-container-id-2\" class=\"sk-top-container\"><div class=\"sk-text-repr-fallback\"><pre>LogisticRegression(l1_ratio=0.5, penalty=&#x27;elasticnet&#x27;, solver=&#x27;saga&#x27;)</pre><b>In a Jupyter environment, please rerun this cell to show the HTML representation or trust the notebook. <br />On GitHub, the HTML representation is unable to render, please try loading this page with nbviewer.org.</b></div><div class=\"sk-container\" hidden><div class=\"sk-item\"><div class=\"sk-estimator sk-toggleable\"><input class=\"sk-toggleable__control sk-hidden--visually\" id=\"sk-estimator-id-2\" type=\"checkbox\" checked><label for=\"sk-estimator-id-2\" class=\"sk-toggleable__label sk-toggleable__label-arrow\">LogisticRegression</label><div class=\"sk-toggleable__content\"><pre>LogisticRegression(l1_ratio=0.5, penalty=&#x27;elasticnet&#x27;, solver=&#x27;saga&#x27;)</pre></div></div></div></div></div>"
            ]
          },
          "metadata": {},
          "execution_count": 43
        }
      ],
      "source": [
        "log_elastic_reg = LogisticRegression(penalty='elasticnet', l1_ratio=0.5, solver='saga')\n",
        "log_elastic_reg.fit(X_train, y_train)"
      ]
    },
    {
      "cell_type": "markdown",
      "source": [
        "**7.2 Predicting and calculating accuracy and f1 scores on training set**"
      ],
      "metadata": {
        "id": "pLsvK6JqX2eF"
      }
    },
    {
      "cell_type": "code",
      "execution_count": null,
      "metadata": {
        "id": "RpaqSGZGbfbY",
        "colab": {
          "base_uri": "https://localhost:8080/"
        },
        "outputId": "8ee7ba90-7d81-4a4e-a4e2-92e284e02a45"
      },
      "outputs": [
        {
          "output_type": "stream",
          "name": "stdout",
          "text": [
            "0.9776931770864316\n",
            "0.3376898622394914\n"
          ]
        }
      ],
      "source": [
        "y_train_elastic_preds = log_elastic_reg.predict(X_train)\n",
        "\n",
        "print(accuracy_score(y_train, y_train_elastic_preds))\n",
        "print(f1_score(y_train, y_train_elastic_preds))"
      ]
    },
    {
      "cell_type": "markdown",
      "source": [
        "**7.3 Predicting and calculating accuracy and f1 scores on validation set**"
      ],
      "metadata": {
        "id": "3xiL1_ZYYPOr"
      }
    },
    {
      "cell_type": "code",
      "execution_count": null,
      "metadata": {
        "id": "HNq4uqwVcGlf",
        "colab": {
          "base_uri": "https://localhost:8080/"
        },
        "outputId": "6a68747c-034d-41b3-ea33-45c85f9c2071"
      },
      "outputs": [
        {
          "output_type": "stream",
          "name": "stdout",
          "text": [
            "0.977348434377082\n",
            "0.6542411924119241\n"
          ]
        }
      ],
      "source": [
        "y_val_elastic_preds = log_elastic_reg.predict(X_val)\n",
        "\n",
        "print(accuracy_score(y_val, y_val_elastic_preds))\n",
        "print(f1_score(y_val, y_val_elastic_preds, average='macro'))"
      ]
    },
    {
      "cell_type": "markdown",
      "source": [
        "**7.4 Predicting and calculating accuracy and f1 scores on test set**"
      ],
      "metadata": {
        "id": "2PVjHqnEY5SN"
      }
    },
    {
      "cell_type": "code",
      "execution_count": null,
      "metadata": {
        "id": "EAy9jBfvcYO8",
        "colab": {
          "base_uri": "https://localhost:8080/"
        },
        "outputId": "b7594f2a-4bcf-4336-b32c-0475ec6f5256"
      },
      "outputs": [
        {
          "output_type": "stream",
          "name": "stdout",
          "text": [
            "0.9774630729404599\n",
            "0.32420091324200906\n"
          ]
        }
      ],
      "source": [
        "y_test_elastic_preds = log_elastic_reg.predict(X_test)\n",
        "\n",
        "print(accuracy_score(y_test, y_test_elastic_preds))\n",
        "print(f1_score(y_test, y_test_elastic_preds))"
      ]
    },
    {
      "cell_type": "code",
      "source": [
        "print(f1_score(y_test, y_test_elastic_preds))"
      ],
      "metadata": {
        "colab": {
          "base_uri": "https://localhost:8080/"
        },
        "id": "G2DVNlcXSO8J",
        "outputId": "1b272752-21ea-4972-cd44-e1c5a307cd3a"
      },
      "execution_count": null,
      "outputs": [
        {
          "output_type": "stream",
          "name": "stdout",
          "text": [
            "0.32420091324200906\n"
          ]
        }
      ]
    },
    {
      "cell_type": "code",
      "source": [
        "from sklearn.metrics import ConfusionMatrixDisplay\n",
        "ConfusionMatrixDisplay.from_estimator(log_elastic_reg, X_train, y_train, normalize='true')"
      ],
      "metadata": {
        "colab": {
          "base_uri": "https://localhost:8080/",
          "height": 467
        },
        "id": "8Y-DCi52LX3m",
        "outputId": "b9b4bfd5-4cff-4826-a676-bc3a13374ee7"
      },
      "execution_count": null,
      "outputs": [
        {
          "output_type": "execute_result",
          "data": {
            "text/plain": [
              "<sklearn.metrics._plot.confusion_matrix.ConfusionMatrixDisplay at 0x7faf90270a30>"
            ]
          },
          "metadata": {},
          "execution_count": 57
        },
        {
          "output_type": "display_data",
          "data": {
            "text/plain": [
              "<Figure size 640x480 with 2 Axes>"
            ],
            "image/png": "[encoded data removed]"
          },
          "metadata": {}
        }
      ]
    },
    {
      "cell_type": "code",
      "source": [
        "from sklearn.model_selection import cross_val_score"
      ],
      "metadata": {
        "id": "5h7MDf_5QAoJ"
      },
      "execution_count": null,
      "outputs": []
    },
    {
      "cell_type": "code",
      "source": [
        "cross_val_score(log_elastic_reg, X_train, y_train, cv=5, scoring='f1')"
      ],
      "metadata": {
        "colab": {
          "base_uri": "https://localhost:8080/"
        },
        "id": "pc9EdT70QFC9",
        "outputId": "a77d1e7a-bbe5-456f-fb3b-3c8e903e599c"
      },
      "execution_count": null,
      "outputs": [
        {
          "output_type": "execute_result",
          "data": {
            "text/plain": [
              "array([0.32920354, 0.34205934, 0.34224599, 0.3339254 , 0.34385965])"
            ]
          },
          "metadata": {},
          "execution_count": 48
        }
      ]
    }
  ],
  "metadata": {
    "colab": {
      "provenance": [],
      "collapsed_sections": [
        "2A7M20qZM8U2",
        "QqT323ndNIX_",
        "hDssPGOINOJS",
        "Zcynox2yRtJF",
        "TwxxrFVFUinQ",
        "k_6O9w66aWT1",
        "Ew6rjA4hdA0Q",
        "x-YG_C4be-lr",
        "59QdavoSztOa",
        "hpsK2rur1K9r",
        "Ye35ZlKFMKDe",
        "IVfm6NBHpjOd"
      ]
    },
    "gpuClass": "standard",
    "kernelspec": {
      "display_name": "Python 3",
      "name": "python3"
    },
    "language_info": {
      "name": "python"
    }
  },
  "nbformat": 4,
  "nbformat_minor": 0
}